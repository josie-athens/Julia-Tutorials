{
 "cells": [
  {
   "cell_type": "markdown",
   "metadata": {},
   "source": [
    "# Classification"
   ]
  },
  {
   "cell_type": "code",
   "execution_count": 1,
   "metadata": {},
   "outputs": [],
   "source": [
    "using MLJ, StableRNGs\n",
    "import DecisionTree as DT\n",
    "\n",
    "include(\"pubh.jl\");"
   ]
  },
  {
   "cell_type": "code",
   "execution_count": 2,
   "metadata": {},
   "outputs": [],
   "source": [
    "using AlgebraOfGraphics, CairoMakie, MakieThemes\n",
    "CairoMakie.activate!(type = \"svg\")\n",
    "AoG = AlgebraOfGraphics; data = AoG.data\n",
    "set_theme!(ggthemr(:light))"
   ]
  },
  {
   "cell_type": "code",
   "execution_count": 3,
   "metadata": {},
   "outputs": [],
   "source": [
    "@rlibrary readr\n",
    "@rlibrary epitools\n",
    "@rimport pubh"
   ]
  },
  {
   "cell_type": "markdown",
   "metadata": {},
   "source": [
    "## Data\n",
    "\n",
    "::: callout-tip\n",
    "## Example\n",
    "\n",
    "Fisher’s iris dataset on measurements for three species of iris.\n",
    ":::"
   ]
  },
  {
   "cell_type": "code",
   "execution_count": 4,
   "metadata": {},
   "outputs": [
    {
     "data": {
      "text/plain": [
       "┌──────────────┬───────────────┬──────────────────────────────────┐\n",
       "│\u001b[22m names        \u001b[0m│\u001b[22m scitypes      \u001b[0m│\u001b[22m types                            \u001b[0m│\n",
       "├──────────────┼───────────────┼──────────────────────────────────┤\n",
       "│ Sepal_Length │ Continuous    │ Float64                          │\n",
       "│ Sepal_Width  │ Continuous    │ Float64                          │\n",
       "│ Petal_Length │ Continuous    │ Float64                          │\n",
       "│ Petal_Width  │ Continuous    │ Float64                          │\n",
       "│ Species      │ Multiclass{3} │ CategoricalValue{String, UInt32} │\n",
       "└──────────────┴───────────────┴──────────────────────────────────┘\n"
      ]
     },
     "metadata": {},
     "output_type": "display_data"
    }
   ],
   "source": [
    "iris = rcopy(R\"datasets::iris\")\n",
    "iris |> schema"
   ]
  },
  {
   "cell_type": "markdown",
   "metadata": {},
   "source": [
    "We `unpack` the data to define *response* and *explanatory* variables:"
   ]
  },
  {
   "cell_type": "code",
   "execution_count": 5,
   "metadata": {},
   "outputs": [],
   "source": [
    "y, X = unpack(iris, ==(:Species)); "
   ]
  },
  {
   "cell_type": "code",
   "execution_count": 6,
   "metadata": {},
   "outputs": [
    {
     "data": {
      "text/html": [
       "<div><div style = \"float: left;\"><span>5×4 DataFrame</span></div><div style = \"clear: both;\"></div></div><div class = \"data-frame\" style = \"overflow-x: scroll;\"><table class = \"data-frame\" style = \"margin-bottom: 6px;\"><thead><tr class = \"header\"><th class = \"rowNumber\" style = \"font-weight: bold; text-align: right;\">Row</th><th style = \"text-align: left;\">Sepal_Length</th><th style = \"text-align: left;\">Sepal_Width</th><th style = \"text-align: left;\">Petal_Length</th><th style = \"text-align: left;\">Petal_Width</th></tr><tr class = \"subheader headerLastRow\"><th class = \"rowNumber\" style = \"font-weight: bold; text-align: right;\"></th><th title = \"Float64\" style = \"text-align: left;\">Float64</th><th title = \"Float64\" style = \"text-align: left;\">Float64</th><th title = \"Float64\" style = \"text-align: left;\">Float64</th><th title = \"Float64\" style = \"text-align: left;\">Float64</th></tr></thead><tbody><tr><td class = \"rowNumber\" style = \"font-weight: bold; text-align: right;\">1</td><td style = \"text-align: right;\">5.1</td><td style = \"text-align: right;\">3.5</td><td style = \"text-align: right;\">1.4</td><td style = \"text-align: right;\">0.2</td></tr><tr><td class = \"rowNumber\" style = \"font-weight: bold; text-align: right;\">2</td><td style = \"text-align: right;\">4.9</td><td style = \"text-align: right;\">3.0</td><td style = \"text-align: right;\">1.4</td><td style = \"text-align: right;\">0.2</td></tr><tr><td class = \"rowNumber\" style = \"font-weight: bold; text-align: right;\">3</td><td style = \"text-align: right;\">4.7</td><td style = \"text-align: right;\">3.2</td><td style = \"text-align: right;\">1.3</td><td style = \"text-align: right;\">0.2</td></tr><tr><td class = \"rowNumber\" style = \"font-weight: bold; text-align: right;\">4</td><td style = \"text-align: right;\">4.6</td><td style = \"text-align: right;\">3.1</td><td style = \"text-align: right;\">1.5</td><td style = \"text-align: right;\">0.2</td></tr><tr><td class = \"rowNumber\" style = \"font-weight: bold; text-align: right;\">5</td><td style = \"text-align: right;\">5.0</td><td style = \"text-align: right;\">3.6</td><td style = \"text-align: right;\">1.4</td><td style = \"text-align: right;\">0.2</td></tr></tbody></table></div>"
      ],
      "text/latex": [
       "\\begin{tabular}{r|cccc}\n",
       "\t& Sepal\\_Length & Sepal\\_Width & Petal\\_Length & Petal\\_Width\\\\\n",
       "\t\\hline\n",
       "\t& Float64 & Float64 & Float64 & Float64\\\\\n",
       "\t\\hline\n",
       "\t1 & 5.1 & 3.5 & 1.4 & 0.2 \\\\\n",
       "\t2 & 4.9 & 3.0 & 1.4 & 0.2 \\\\\n",
       "\t3 & 4.7 & 3.2 & 1.3 & 0.2 \\\\\n",
       "\t4 & 4.6 & 3.1 & 1.5 & 0.2 \\\\\n",
       "\t5 & 5.0 & 3.6 & 1.4 & 0.2 \\\\\n",
       "\\end{tabular}\n"
      ],
      "text/plain": [
       "\u001b[1m5×4 DataFrame\u001b[0m\n",
       "\u001b[1m Row \u001b[0m│\u001b[1m Sepal_Length \u001b[0m\u001b[1m Sepal_Width \u001b[0m\u001b[1m Petal_Length \u001b[0m\u001b[1m Petal_Width \u001b[0m\n",
       "     │\u001b[90m Float64      \u001b[0m\u001b[90m Float64     \u001b[0m\u001b[90m Float64      \u001b[0m\u001b[90m Float64     \u001b[0m\n",
       "─────┼──────────────────────────────────────────────────────\n",
       "   1 │          5.1          3.5           1.4          0.2\n",
       "   2 │          4.9          3.0           1.4          0.2\n",
       "   3 │          4.7          3.2           1.3          0.2\n",
       "   4 │          4.6          3.1           1.5          0.2\n",
       "   5 │          5.0          3.6           1.4          0.2"
      ]
     },
     "metadata": {},
     "output_type": "display_data"
    }
   ],
   "source": [
    "X |> head"
   ]
  },
  {
   "cell_type": "markdown",
   "metadata": {},
   "source": [
    "### Data sppliting"
   ]
  },
  {
   "cell_type": "code",
   "execution_count": 7,
   "metadata": {},
   "outputs": [],
   "source": [
    "rng = StableRNG(566)\n",
    "train, test = partition(eachindex(y), 0.7, shuffle=true, rng=rng);"
   ]
  },
  {
   "cell_type": "markdown",
   "metadata": {},
   "source": [
    "## Pruned Trees\n",
    "\n",
    "### Model"
   ]
  },
  {
   "cell_type": "code",
   "execution_count": 8,
   "metadata": {},
   "outputs": [],
   "source": [
    "using MLJDecisionTreeInterface"
   ]
  },
  {
   "cell_type": "code",
   "execution_count": 9,
   "metadata": {},
   "outputs": [
    {
     "data": {
      "text/plain": [
       "untrained Machine; caches model-specific representations of data\n",
       "  model: DecisionTreeClassifier(max_depth = 2, …)\n",
       "  args: \n",
       "    1:\tSource @712 ⏎ Table{AbstractVector{Continuous}}\n",
       "    2:\tSource @055 ⏎ AbstractVector{Multiclass{3}}\n"
      ]
     },
     "metadata": {},
     "output_type": "display_data"
    }
   ],
   "source": [
    "\n",
    "dtc = @load DecisionTreeClassifier pkg=DecisionTree verbosity=0\n",
    "pruned_model = dtc(max_depth=2)\n",
    "pruned_mach = machine(pruned_model, X, y)"
   ]
  },
  {
   "cell_type": "code",
   "execution_count": 10,
   "metadata": {},
   "outputs": [
    {
     "name": "stderr",
     "output_type": "stream",
     "text": [
      "┌ Info: Training machine(DecisionTreeClassifier(max_depth = 2, …), …).\n",
      "└ @ MLJBase /Users/josie/.julia/packages/MLJBase/fEiP2/src/machines.jl:492\n"
     ]
    }
   ],
   "source": [
    "fit!(pruned_mach, rows=train);"
   ]
  },
  {
   "cell_type": "markdown",
   "metadata": {},
   "source": [
    "### Visualisation"
   ]
  },
  {
   "cell_type": "code",
   "execution_count": 11,
   "metadata": {},
   "outputs": [
    {
     "data": {
      "text/plain": [
       "Petal_Width < 0.75\n",
       "├─ setosa (38/38)\n",
       "└─ Petal_Width < 1.7\n",
       "   ├─ versicolor (33/35)\n",
       "   └─ virginica (32/32)\n"
      ]
     },
     "metadata": {},
     "output_type": "display_data"
    }
   ],
   "source": [
    "fitted_params(pruned_mach).tree"
   ]
  },
  {
   "cell_type": "code",
   "execution_count": 12,
   "metadata": {},
   "outputs": [
    {
     "data": {
      "text/plain": [
       "4-element Vector{Pair{Symbol, Float64}}:\n",
       "  :Petal_Width => 1.0\n",
       " :Sepal_Length => 0.0\n",
       "  :Sepal_Width => 0.0\n",
       " :Petal_Length => 0.0"
      ]
     },
     "metadata": {},
     "output_type": "display_data"
    }
   ],
   "source": [
    "pruned_mach |> feature_importances"
   ]
  },
  {
   "cell_type": "markdown",
   "metadata": {},
   "source": [
    "### Performance"
   ]
  },
  {
   "cell_type": "code",
   "execution_count": 13,
   "metadata": {},
   "outputs": [],
   "source": [
    "pruned_ŷ = MLJ.predict(pruned_mach, rows=test)\n",
    "pruned_ȳ = predict_mode(pruned_mach, rows=test);"
   ]
  },
  {
   "cell_type": "code",
   "execution_count": 14,
   "metadata": {},
   "outputs": [
    {
     "data": {
      "text/plain": [
       "1.013"
      ]
     },
     "metadata": {},
     "output_type": "display_data"
    }
   ],
   "source": [
    "cross_entropy(pruned_ŷ, y[test]) |> mean |> r3"
   ]
  },
  {
   "cell_type": "code",
   "execution_count": 15,
   "metadata": {},
   "outputs": [
    {
     "data": {
      "text/plain": [
       "0.089"
      ]
     },
     "metadata": {},
     "output_type": "display_data"
    }
   ],
   "source": [
    "misclassification_rate(\n",
    "\tstring.(pruned_ȳ), \n",
    "\tstring.(y[test])\n",
    ") |> r3"
   ]
  },
  {
   "cell_type": "code",
   "execution_count": 16,
   "metadata": {},
   "outputs": [
    {
     "data": {
      "text/plain": [
       "0.911"
      ]
     },
     "metadata": {},
     "output_type": "display_data"
    }
   ],
   "source": [
    "accuracy(\n",
    "\tstring.(pruned_ȳ), \n",
    "\tstring.(y[test])\n",
    ") |> r3"
   ]
  },
  {
   "cell_type": "code",
   "execution_count": 17,
   "metadata": {},
   "outputs": [
    {
     "data": {
      "text/plain": [
       "3×3 Matrix{Int64}:\n",
       " 12   0   0\n",
       "  0  16   3\n",
       "  0   1  13"
      ]
     },
     "metadata": {},
     "output_type": "display_data"
    },
    {
     "data": {
      "text/plain": [
       "Classes:  [\"setosa\", \"versicolor\", \"virginica\"]\n",
       "Matrix:   \n",
       "Accuracy: 0.9111111111111111\n",
       "Kappa:    0.8650674662668664"
      ]
     },
     "metadata": {},
     "output_type": "display_data"
    }
   ],
   "source": [
    "DT.confusion_matrix(\n",
    "  string.(pruned_ȳ), \n",
    "  string.(y[test])\n",
    ")"
   ]
  },
  {
   "cell_type": "markdown",
   "metadata": {},
   "source": [
    "::: callout-note\n",
    "We can also look at the confussion matrix with `epitable`.\n",
    ":::"
   ]
  },
  {
   "cell_type": "code",
   "execution_count": 18,
   "metadata": {},
   "outputs": [
    {
     "data": {
      "text/plain": [
       "RObject{IntSxp}\n",
       "            Outcome\n",
       "Predictor    setosa versicolor virginica\n",
       "  setosa         12          0         0\n",
       "  versicolor      0         16         3\n",
       "  virginica       0          1        13\n"
      ]
     },
     "metadata": {},
     "output_type": "display_data"
    }
   ],
   "source": [
    "epitable(\n",
    "  string.(pruned_ȳ), \n",
    "  string.(y[test])\n",
    ")"
   ]
  },
  {
   "cell_type": "markdown",
   "metadata": {},
   "source": [
    "We use the frequencies from the confussion matrix to calculate specificity and sensitivity for correctly classifying observations as *setosa*."
   ]
  },
  {
   "cell_type": "code",
   "execution_count": 19,
   "metadata": {},
   "outputs": [
    {
     "name": "stdout",
     "output_type": "stream",
     "text": [
      "\n",
      "          Outcome +    Outcome -      Total\n",
      "Test +           12            0         12\n",
      "Test -            0           33         33\n",
      "Total            12           33         45\n",
      "\n",
      "Point estimates and 95% CIs:\n",
      "--------------------------------------------------------------\n",
      "Apparent prevalence *                  0.27 (0.15, 0.42)\n",
      "True prevalence *                      0.27 (0.15, 0.42)\n",
      "Sensitivity *                          1.00 (0.74, 1.00)"
     ]
    },
    {
     "name": "stdout",
     "output_type": "stream",
     "text": [
      "\n",
      "Specificity *                          1.00 (0.89, 1.00)\n",
      "Positive predictive value *            1.00 (0.74, 1.00)\n",
      "Negative predictive value *            1.00 (0.89, 1.00)\n",
      "Positive likelihood ratio              Inf (NaN, Inf)\n",
      "Negative likelihood ratio              0.00 (0.00, NaN)\n",
      "False T+ proportion for true D- *      0.00 (0.00, 0.11)\n",
      "False T- proportion for true D+ *      0.00 (0.00, 0.26)\n",
      "False T+ proportion for T+ *           0.00 (0.00, 0.26)\n",
      "False T- proportion for T- *           0.00 (0.00, 0.11)\n",
      "Correctly classified proportion *      1.00 (0.92, 1.00)\n",
      "--------------------------------------------------------------\n",
      "* Exact CIs\n",
      "\n"
     ]
    }
   ],
   "source": [
    "pubh.diag_test2(12, 0, 0, 16+3+1+13) |> rcopy"
   ]
  },
  {
   "cell_type": "markdown",
   "metadata": {},
   "source": [
    "When we have many categories, it is easy to construct the data frame, and from that data frame, create binary variables and then construct the corresponding confussion matrix."
   ]
  },
  {
   "cell_type": "code",
   "execution_count": 20,
   "metadata": {},
   "outputs": [],
   "source": [
    "prune_df = DataFrame(\n",
    "  hcat(\n",
    "    string.(pruned_ȳ),\n",
    "    string.(y[test])\n",
    "  ),\n",
    "  [:pred, :obs]\n",
    ");"
   ]
  },
  {
   "cell_type": "code",
   "execution_count": 21,
   "metadata": {},
   "outputs": [],
   "source": [
    "prune_df.pred_bin = prune_df.pred .== \"setosa\"\n",
    "prune_df.obs_bin = prune_df.obs .== \"setosa\";"
   ]
  },
  {
   "cell_type": "code",
   "execution_count": 22,
   "metadata": {},
   "outputs": [
    {
     "data": {
      "text/plain": [
       "RObject{IntSxp}\n",
       "         Outcome\n",
       "Predictor TRUE FALSE\n",
       "    TRUE    12     0\n",
       "    FALSE    0    33\n"
      ]
     },
     "metadata": {},
     "output_type": "display_data"
    }
   ],
   "source": [
    "epitable(prune_df.pred_bin, prune_df.obs_bin, rev=\"both\")"
   ]
  },
  {
   "cell_type": "code",
   "execution_count": 23,
   "metadata": {},
   "outputs": [
    {
     "name": "stdout",
     "output_type": "stream",
     "text": [
      "\n",
      "          Outcome +    Outcome -      Total\n",
      "Test +           12            0         12\n",
      "Test -            0           33         33\n",
      "Total            12           33         45\n",
      "\n",
      "Point estimates and 95% CIs:\n",
      "--------------------------------------------------------------\n",
      "Apparent prevalence *                  0.27 (0.15, 0.42)\n",
      "True prevalence *                      0.27 (0.15, 0.42)\n",
      "Sensitivity *                          1.00 (0.74, 1.00)\n",
      "Specificity *                          1.00 (0.89, 1.00)\n",
      "Positive predictive value *            1.00 (0.74, 1.00)\n",
      "Negative predictive value *            1.00 (0.89, 1.00)\n",
      "Positive likelihood ratio              Inf (NaN, Inf)\n",
      "Negative likelihood ratio              0.00 (0.00, NaN)\n",
      "False T+ proportion for true D- *      0.00 (0.00, 0.11)\n",
      "False T- proportion for true D+ *      0.00 (0.00, 0.26)\n",
      "False T+ proportion for T+ *           0.00 (0.00, 0.26)\n",
      "False T- proportion for T- *           0.00 (0.00, 0.11)\n",
      "Correctly classified proportion *      1.00 (0.92, 1.00)\n",
      "--------------------------------------------------------------\n",
      "* Exact CIs\n",
      "\n"
     ]
    }
   ],
   "source": [
    "pubh.diag_test2(12, 0, 0, 33) |> rcopy"
   ]
  },
  {
   "cell_type": "code",
   "execution_count": 24,
   "metadata": {},
   "outputs": [
    {
     "data": {
      "text/plain": [
       "RObject{IntSxp}\n",
       "            Outcome\n",
       "Predictor    setosa versicolor virginica\n",
       "  setosa         12          0         0\n",
       "  versicolor      0         16         3\n",
       "  virginica       0          1        13\n"
      ]
     },
     "metadata": {},
     "output_type": "display_data"
    }
   ],
   "source": [
    "epitable(\n",
    "  string.(pruned_ȳ), \n",
    "  string.(y[test])\n",
    ")"
   ]
  },
  {
   "cell_type": "markdown",
   "metadata": {},
   "source": [
    "## Decision Trees\n",
    "\n",
    "### Model"
   ]
  },
  {
   "cell_type": "code",
   "execution_count": 25,
   "metadata": {},
   "outputs": [
    {
     "data": {
      "text/plain": [
       "untrained Machine; caches model-specific representations of data\n",
       "  model: DecisionTreeClassifier(max_depth = -1, …)\n",
       "  args: \n",
       "    1:\tSource @395 ⏎ Table{AbstractVector{Continuous}}\n",
       "    2:\tSource @147 ⏎ AbstractVector{Multiclass{3}}\n"
      ]
     },
     "metadata": {},
     "output_type": "display_data"
    }
   ],
   "source": [
    "dt_model = dtc(merge_purity_threshold=0.9)\n",
    "dt_mach = machine(dt_model, X, y)"
   ]
  },
  {
   "cell_type": "code",
   "execution_count": 26,
   "metadata": {},
   "outputs": [
    {
     "name": "stderr",
     "output_type": "stream",
     "text": [
      "┌ Info: Training machine(DecisionTreeClassifier(max_depth = -1, …), …).\n",
      "└ @ MLJBase /Users/josie/.julia/packages/MLJBase/fEiP2/src/machines.jl:492\n"
     ]
    }
   ],
   "source": [
    "fit!(dt_mach, rows=train);"
   ]
  },
  {
   "cell_type": "markdown",
   "metadata": {},
   "source": [
    "### Visualisation"
   ]
  },
  {
   "cell_type": "code",
   "execution_count": 27,
   "metadata": {},
   "outputs": [
    {
     "data": {
      "text/plain": [
       "Petal_Width < 0.75\n",
       "├─ setosa (38/38)\n",
       "└─ Petal_Width < 1.7\n",
       "   ├─ Petal_Length < 4.95\n",
       "   │  ├─ versicolor (32/32)\n",
       "   │  └─ Petal_Width < 1.55\n",
       "   │     ├─ virginica (2/2)\n",
       "   │     └─ versicolor (1/1)\n",
       "   └─ virginica (32/32)\n"
      ]
     },
     "metadata": {},
     "output_type": "display_data"
    }
   ],
   "source": [
    "fitted_params(dt_mach).tree"
   ]
  },
  {
   "cell_type": "code",
   "execution_count": 28,
   "metadata": {},
   "outputs": [
    {
     "data": {
      "text/plain": [
       "4-element Vector{Pair{Symbol, Float64}}:\n",
       "  :Petal_Width => 0.9500106985559343\n",
       " :Petal_Length => 0.049989301444065756\n",
       " :Sepal_Length => 0.0\n",
       "  :Sepal_Width => 0.0"
      ]
     },
     "metadata": {},
     "output_type": "display_data"
    }
   ],
   "source": [
    "dt_mach |> feature_importances"
   ]
  },
  {
   "cell_type": "markdown",
   "metadata": {},
   "source": [
    "### Performance"
   ]
  },
  {
   "cell_type": "code",
   "execution_count": 29,
   "metadata": {},
   "outputs": [],
   "source": [
    "dt_ŷ = MLJ.predict(dt_mach, rows=test)\n",
    "dt_ȳ = predict_mode(dt_mach, rows=test);"
   ]
  },
  {
   "cell_type": "code",
   "execution_count": 30,
   "metadata": {},
   "outputs": [
    {
     "data": {
      "text/plain": [
       "2.403"
      ]
     },
     "metadata": {},
     "output_type": "display_data"
    }
   ],
   "source": [
    "cross_entropy(dt_ŷ, y[test]) |> mean |> r3"
   ]
  },
  {
   "cell_type": "code",
   "execution_count": 31,
   "metadata": {},
   "outputs": [
    {
     "data": {
      "text/plain": [
       "0.067"
      ]
     },
     "metadata": {},
     "output_type": "display_data"
    }
   ],
   "source": [
    "misclassification_rate(\n",
    "\tstring.(dt_ȳ), \n",
    "\tstring.(y[test])\n",
    ") |> r3"
   ]
  },
  {
   "cell_type": "code",
   "execution_count": 32,
   "metadata": {},
   "outputs": [
    {
     "data": {
      "text/plain": [
       "0.933"
      ]
     },
     "metadata": {},
     "output_type": "display_data"
    }
   ],
   "source": [
    "accuracy(\n",
    "\tstring.(dt_ȳ), \n",
    "\tstring.(y[test])\n",
    ") |> r3"
   ]
  },
  {
   "cell_type": "code",
   "execution_count": 33,
   "metadata": {},
   "outputs": [
    {
     "data": {
      "text/plain": [
       "3×3 Matrix{Int64}:\n",
       " 12   0   0\n",
       "  0  16   2\n",
       "  0   1  14"
      ]
     },
     "metadata": {},
     "output_type": "display_data"
    },
    {
     "data": {
      "text/plain": [
       "Classes:  [\"setosa\", \"versicolor\", \"virginica\"]\n",
       "Matrix:   \n",
       "Accuracy: 0.9333333333333333\n",
       "Kappa:    0.898876404494382"
      ]
     },
     "metadata": {},
     "output_type": "display_data"
    }
   ],
   "source": [
    "DT.confusion_matrix(\n",
    "\tstring.(dt_ȳ), \n",
    "\tstring.(y[test])\n",
    ")"
   ]
  },
  {
   "cell_type": "code",
   "execution_count": 34,
   "metadata": {},
   "outputs": [
    {
     "data": {
      "text/plain": [
       "RObject{IntSxp}\n",
       "            Outcome\n",
       "Predictor    setosa versicolor virginica\n",
       "  setosa         12          0         0\n",
       "  versicolor      0         16         2\n",
       "  virginica       0          1        14\n"
      ]
     },
     "metadata": {},
     "output_type": "display_data"
    }
   ],
   "source": [
    "epitable(\n",
    "\tstring.(dt_ȳ), \n",
    "\tstring.(y[test])\n",
    ")"
   ]
  },
  {
   "cell_type": "code",
   "execution_count": 35,
   "metadata": {},
   "outputs": [
    {
     "name": "stdout",
     "output_type": "stream",
     "text": [
      "\n",
      "          Outcome +    Outcome -      Total\n",
      "Test +           12            0         12\n",
      "Test -            0           33         33\n",
      "Total            12           33         45\n",
      "\n",
      "Point estimates and 95% CIs:\n",
      "--------------------------------------------------------------\n",
      "Apparent prevalence *                  0.27 (0.15, 0.42)\n",
      "True prevalence *                      0.27 (0.15, 0.42)\n",
      "Sensitivity *                          1.00 (0.74, 1.00)\n",
      "Specificity *                          1.00 (0.89, 1.00)\n",
      "Positive predictive value *            1.00 (0.74, 1.00)\n",
      "Negative predictive value *            1.00 (0.89, 1.00)\n",
      "Positive likelihood ratio              Inf (NaN, Inf)\n",
      "Negative likelihood ratio              0.00 (0.00, NaN)\n",
      "False T+ proportion for true D- *      0.00 (0.00, 0.11)\n",
      "False T- proportion for true D+ *      0.00 (0.00, 0.26)\n",
      "False T+ proportion for T+ *           0.00 (0.00, 0.26)\n",
      "False T- proportion for T- *           0.00 (0.00, 0.11)\n",
      "Correctly classified proportion *      1.00 (0.92, 1.00)\n",
      "--------------------------------------------------------------\n",
      "* Exact CIs\n",
      "\n"
     ]
    },
    {
     "data": {
      "text/plain": [
       "RObject{NilSxp}\n",
       "NULL\n"
      ]
     },
     "metadata": {},
     "output_type": "display_data"
    }
   ],
   "source": [
    "pubh.diag_test2(12, 0, 0, 16+2+1+14)"
   ]
  },
  {
   "cell_type": "markdown",
   "metadata": {},
   "source": [
    "## Random Forests\n",
    "\n",
    "### Model"
   ]
  },
  {
   "cell_type": "code",
   "execution_count": 36,
   "metadata": {},
   "outputs": [
    {
     "data": {
      "text/plain": [
       "untrained Machine; caches model-specific representations of data\n",
       "  model: RandomForestClassifier(max_depth = 6, …)\n",
       "  args: \n",
       "    1:\tSource @427 ⏎ Table{AbstractVector{Continuous}}\n",
       "    2:\tSource @001 ⏎ AbstractVector{Multiclass{3}}\n"
      ]
     },
     "metadata": {},
     "output_type": "display_data"
    }
   ],
   "source": [
    "rfc = @load RandomForestClassifier pkg=DecisionTree verbosity=0\n",
    "forest = rfc(\n",
    "  \tn_subfeatures = 2,\n",
    "  \tn_trees = 10,\n",
    "  \tsampling_fraction = 0.5,\n",
    "  \tmax_depth = 6\n",
    ")\n",
    "forest_mach = machine(forest, X, y)"
   ]
  },
  {
   "cell_type": "code",
   "execution_count": 37,
   "metadata": {},
   "outputs": [
    {
     "name": "stderr",
     "output_type": "stream",
     "text": [
      "┌ Info: Training machine(RandomForestClassifier(max_depth = 6, …), …).\n",
      "└ @ MLJBase /Users/josie/.julia/packages/MLJBase/fEiP2/src/machines.jl:492\n"
     ]
    }
   ],
   "source": [
    "fit!(forest_mach, rows=train);"
   ]
  },
  {
   "cell_type": "code",
   "execution_count": 38,
   "metadata": {},
   "outputs": [
    {
     "data": {
      "text/plain": [
       "(forest = Ensemble of Decision Trees\n",
       "Trees:      10\n",
       "Avg Leaves: 5.4\n",
       "Avg Depth:  4.1,)"
      ]
     },
     "metadata": {},
     "output_type": "display_data"
    }
   ],
   "source": [
    "fitted_params(forest_mach)"
   ]
  },
  {
   "cell_type": "code",
   "execution_count": 39,
   "metadata": {},
   "outputs": [
    {
     "data": {
      "text/plain": [
       "4-element Vector{Pair{Symbol, Float64}}:\n",
       " :Petal_Length => 0.496363114309921\n",
       "  :Petal_Width => 0.39513958627422147\n",
       " :Sepal_Length => 0.09423840931488503\n",
       "  :Sepal_Width => 0.014258890100972482"
      ]
     },
     "metadata": {},
     "output_type": "display_data"
    }
   ],
   "source": [
    "forest_mach |> feature_importances"
   ]
  },
  {
   "cell_type": "markdown",
   "metadata": {},
   "source": [
    "### Performance"
   ]
  },
  {
   "cell_type": "code",
   "execution_count": 40,
   "metadata": {},
   "outputs": [],
   "source": [
    "forest_ŷ = MLJ.predict(forest_mach, rows=test)\n",
    "forest_ȳ = predict_mode(forest_mach, rows=test);"
   ]
  },
  {
   "cell_type": "code",
   "execution_count": 41,
   "metadata": {},
   "outputs": [
    {
     "data": {
      "text/plain": [
       "0.151"
      ]
     },
     "metadata": {},
     "output_type": "display_data"
    }
   ],
   "source": [
    "cross_entropy(forest_ŷ, y[test]) |> mean |> r3"
   ]
  },
  {
   "cell_type": "code",
   "execution_count": 42,
   "metadata": {},
   "outputs": [
    {
     "data": {
      "text/plain": [
       "0.067"
      ]
     },
     "metadata": {},
     "output_type": "display_data"
    }
   ],
   "source": [
    "misclassification_rate(\n",
    "\tstring.(forest_ȳ), \n",
    "\tstring.(y[test])\n",
    ") |> r3"
   ]
  },
  {
   "cell_type": "code",
   "execution_count": 43,
   "metadata": {},
   "outputs": [
    {
     "data": {
      "text/plain": [
       "0.933"
      ]
     },
     "metadata": {},
     "output_type": "display_data"
    }
   ],
   "source": [
    "accuracy(\n",
    "\tstring.(forest_ȳ), \n",
    "\tstring.(y[test])\n",
    ") |> r3"
   ]
  },
  {
   "cell_type": "code",
   "execution_count": 44,
   "metadata": {},
   "outputs": [
    {
     "data": {
      "text/plain": [
       "3×3 Matrix{Int64}:\n",
       " 12   0   0\n",
       "  0  15   1\n",
       "  0   2  15"
      ]
     },
     "metadata": {},
     "output_type": "display_data"
    },
    {
     "data": {
      "text/plain": [
       "Classes:  [\"setosa\", \"versicolor\", \"virginica\"]\n",
       "Matrix:   \n",
       "Accuracy: 0.9333333333333333\n",
       "Kappa:    0.8990276738967838"
      ]
     },
     "metadata": {},
     "output_type": "display_data"
    }
   ],
   "source": [
    "DT.confusion_matrix(\n",
    "\tstring.(forest_ȳ), \n",
    "\tstring.(y[test])\n",
    ")"
   ]
  },
  {
   "cell_type": "markdown",
   "metadata": {},
   "source": [
    "## Linear Discriminant Analysis\n",
    "\n",
    "### Model"
   ]
  },
  {
   "cell_type": "code",
   "execution_count": 45,
   "metadata": {},
   "outputs": [],
   "source": [
    "using MLJMultivariateStatsInterface"
   ]
  },
  {
   "cell_type": "code",
   "execution_count": 46,
   "metadata": {},
   "outputs": [
    {
     "data": {
      "text/plain": [
       "untrained Machine; caches model-specific representations of data\n",
       "  model: LDA(method = gevd, …)\n",
       "  args: \n",
       "    1:\tSource @835 ⏎ Table{AbstractVector{Continuous}}\n",
       "    2:\tSource @151 ⏎ AbstractVector{Multiclass{3}}\n"
      ]
     },
     "metadata": {},
     "output_type": "display_data"
    }
   ],
   "source": [
    "LDA = @load LDA pkg=MultivariateStats verbosity=0\n",
    "lda_model = LDA()\n",
    "lda_mach = machine(lda_model, X, y)"
   ]
  },
  {
   "cell_type": "code",
   "execution_count": 47,
   "metadata": {},
   "outputs": [
    {
     "name": "stderr",
     "output_type": "stream",
     "text": [
      "┌ Info: Training machine(LDA(method = gevd, …), …).\n",
      "└ @ MLJBase /Users/josie/.julia/packages/MLJBase/fEiP2/src/machines.jl:492\n"
     ]
    }
   ],
   "source": [
    "fit!(lda_mach, rows=train);"
   ]
  },
  {
   "cell_type": "code",
   "execution_count": 48,
   "metadata": {},
   "outputs": [
    {
     "data": {
      "text/plain": [
       "(classes = [\"virginica\", \"versicolor\", \"setosa\"],\n",
       " projection_matrix = [-0.06645469050942428 -0.04922272823956614; -0.1504951632177605 -0.14534646469948417; 0.2210436659376197 0.17510302165014127; 0.32784746705091267 -0.4039765375288937],)"
      ]
     },
     "metadata": {},
     "output_type": "display_data"
    }
   ],
   "source": [
    "fitted_params(lda_mach)"
   ]
  },
  {
   "cell_type": "markdown",
   "metadata": {},
   "source": [
    "### Visualisation"
   ]
  },
  {
   "cell_type": "code",
   "execution_count": 49,
   "metadata": {},
   "outputs": [
    {
     "data": {
      "text/plain": [
       "(150, 2)"
      ]
     },
     "metadata": {},
     "output_type": "display_data"
    }
   ],
   "source": [
    "lda_x = MLJ.transform(lda_mach)\n",
    "lda_x |> size"
   ]
  },
  {
   "cell_type": "code",
   "execution_count": 50,
   "metadata": {},
   "outputs": [
    {
     "data": {
      "text/html": [
       "<div><div style = \"float: left;\"><span>5×2 DataFrame</span></div><div style = \"clear: both;\"></div></div><div class = \"data-frame\" style = \"overflow-x: scroll;\"><table class = \"data-frame\" style = \"margin-bottom: 6px;\"><thead><tr class = \"header\"><th class = \"rowNumber\" style = \"font-weight: bold; text-align: right;\">Row</th><th style = \"text-align: left;\">x1</th><th style = \"text-align: left;\">x2</th></tr><tr class = \"subheader headerLastRow\"><th class = \"rowNumber\" style = \"font-weight: bold; text-align: right;\"></th><th title = \"Float64\" style = \"text-align: left;\">Float64</th><th title = \"Float64\" style = \"text-align: left;\">Float64</th></tr></thead><tbody><tr><td class = \"rowNumber\" style = \"font-weight: bold; text-align: right;\">1</td><td style = \"text-align: right;\">-0.490621</td><td style = \"text-align: right;\">-0.5954</td></tr><tr><td class = \"rowNumber\" style = \"font-weight: bold; text-align: right;\">2</td><td style = \"text-align: right;\">-0.402083</td><td style = \"text-align: right;\">-0.512882</td></tr><tr><td class = \"rowNumber\" style = \"font-weight: bold; text-align: right;\">3</td><td style = \"text-align: right;\">-0.440995</td><td style = \"text-align: right;\">-0.549617</td></tr><tr><td class = \"rowNumber\" style = \"font-weight: bold; text-align: right;\">4</td><td style = \"text-align: right;\">-0.375092</td><td style = \"text-align: right;\">-0.495139</td></tr><tr><td class = \"rowNumber\" style = \"font-weight: bold; text-align: right;\">5</td><td style = \"text-align: right;\">-0.499025</td><td style = \"text-align: right;\">-0.605012</td></tr></tbody></table></div>"
      ],
      "text/latex": [
       "\\begin{tabular}{r|cc}\n",
       "\t& x1 & x2\\\\\n",
       "\t\\hline\n",
       "\t& Float64 & Float64\\\\\n",
       "\t\\hline\n",
       "\t1 & -0.490621 & -0.5954 \\\\\n",
       "\t2 & -0.402083 & -0.512882 \\\\\n",
       "\t3 & -0.440995 & -0.549617 \\\\\n",
       "\t4 & -0.375092 & -0.495139 \\\\\n",
       "\t5 & -0.499025 & -0.605012 \\\\\n",
       "\\end{tabular}\n"
      ],
      "text/plain": [
       "\u001b[1m5×2 DataFrame\u001b[0m\n",
       "\u001b[1m Row \u001b[0m│\u001b[1m x1        \u001b[0m\u001b[1m x2        \u001b[0m\n",
       "     │\u001b[90m Float64   \u001b[0m\u001b[90m Float64   \u001b[0m\n",
       "─────┼──────────────────────\n",
       "   1 │ -0.490621  -0.5954\n",
       "   2 │ -0.402083  -0.512882\n",
       "   3 │ -0.440995  -0.549617\n",
       "   4 │ -0.375092  -0.495139\n",
       "   5 │ -0.499025  -0.605012"
      ]
     },
     "metadata": {},
     "output_type": "display_data"
    }
   ],
   "source": [
    "lda_x |> head"
   ]
  },
  {
   "cell_type": "code",
   "execution_count": 51,
   "metadata": {},
   "outputs": [
    {
     "data": {
      "text/html": [
       "<div><div style = \"float: left;\"><span>5×3 DataFrame</span></div><div style = \"clear: both;\"></div></div><div class = \"data-frame\" style = \"overflow-x: scroll;\"><table class = \"data-frame\" style = \"margin-bottom: 6px;\"><thead><tr class = \"header\"><th class = \"rowNumber\" style = \"font-weight: bold; text-align: right;\">Row</th><th style = \"text-align: left;\">PC1</th><th style = \"text-align: left;\">PC2</th><th style = \"text-align: left;\">Species</th></tr><tr class = \"subheader headerLastRow\"><th class = \"rowNumber\" style = \"font-weight: bold; text-align: right;\"></th><th title = \"Float64\" style = \"text-align: left;\">Float64</th><th title = \"Float64\" style = \"text-align: left;\">Float64</th><th title = \"String\" style = \"text-align: left;\">String</th></tr></thead><tbody><tr><td class = \"rowNumber\" style = \"font-weight: bold; text-align: right;\">1</td><td style = \"text-align: right;\">-0.490621</td><td style = \"text-align: right;\">-0.5954</td><td style = \"text-align: left;\">setosa</td></tr><tr><td class = \"rowNumber\" style = \"font-weight: bold; text-align: right;\">2</td><td style = \"text-align: right;\">-0.402083</td><td style = \"text-align: right;\">-0.512882</td><td style = \"text-align: left;\">setosa</td></tr><tr><td class = \"rowNumber\" style = \"font-weight: bold; text-align: right;\">3</td><td style = \"text-align: right;\">-0.440995</td><td style = \"text-align: right;\">-0.549617</td><td style = \"text-align: left;\">setosa</td></tr><tr><td class = \"rowNumber\" style = \"font-weight: bold; text-align: right;\">4</td><td style = \"text-align: right;\">-0.375092</td><td style = \"text-align: right;\">-0.495139</td><td style = \"text-align: left;\">setosa</td></tr><tr><td class = \"rowNumber\" style = \"font-weight: bold; text-align: right;\">5</td><td style = \"text-align: right;\">-0.499025</td><td style = \"text-align: right;\">-0.605012</td><td style = \"text-align: left;\">setosa</td></tr></tbody></table></div>"
      ],
      "text/latex": [
       "\\begin{tabular}{r|ccc}\n",
       "\t& PC1 & PC2 & Species\\\\\n",
       "\t\\hline\n",
       "\t& Float64 & Float64 & String\\\\\n",
       "\t\\hline\n",
       "\t1 & -0.490621 & -0.5954 & setosa \\\\\n",
       "\t2 & -0.402083 & -0.512882 & setosa \\\\\n",
       "\t3 & -0.440995 & -0.549617 & setosa \\\\\n",
       "\t4 & -0.375092 & -0.495139 & setosa \\\\\n",
       "\t5 & -0.499025 & -0.605012 & setosa \\\\\n",
       "\\end{tabular}\n"
      ],
      "text/plain": [
       "\u001b[1m5×3 DataFrame\u001b[0m\n",
       "\u001b[1m Row \u001b[0m│\u001b[1m PC1       \u001b[0m\u001b[1m PC2       \u001b[0m\u001b[1m Species \u001b[0m\n",
       "     │\u001b[90m Float64   \u001b[0m\u001b[90m Float64   \u001b[0m\u001b[90m String  \u001b[0m\n",
       "─────┼───────────────────────────────\n",
       "   1 │ -0.490621  -0.5954    setosa\n",
       "   2 │ -0.402083  -0.512882  setosa\n",
       "   3 │ -0.440995  -0.549617  setosa\n",
       "   4 │ -0.375092  -0.495139  setosa\n",
       "   5 │ -0.499025  -0.605012  setosa"
      ]
     },
     "metadata": {},
     "output_type": "display_data"
    }
   ],
   "source": [
    "lda_df = DataFrame(\n",
    "\tPC1 = lda_x.x1,\n",
    "\tPC2 = lda_x.x2,\n",
    "\tSpecies = string.(y)\n",
    ")\n",
    "\n",
    "lda_df |> head"
   ]
  },
  {
   "cell_type": "code",
   "execution_count": 52,
   "metadata": {},
   "outputs": [
    {
     "name": "stderr",
     "output_type": "stream",
     "text": [
      "┌ Warning: Keyword argument `bgcolor` is deprecated, use `backgroundcolor` instead.\n",
      "└ @ Makie /Users/josie/.julia/packages/Makie/RgxaV/src/makielayout/blocks/legend.jl:23\n"
     ]
    },
    {
     "data": {
      "image/png": "[encoded data removed]",
      "image/svg+xml": [
       "<?xml version=\"1.0\" encoding=\"UTF-8\"?>\n",
       "<svg xmlns=\"http://www.w3.org/2000/svg\" xmlns:xlink=\"http://www.w3.org/1999/xlink\" width=\"600pt\" height=\"450pt\" viewBox=\"0 0 600 450\" version=\"1.1\">\n",
       "<defs>\n",
       "<g>\n",
       "<symbol overflow=\"visible\" id=\"glyph0-0-TW3cdq+G\">\n",
       "<path style=\"stroke:none;\" d=\"M 1.125 -8.5625 L 6.0625 -8.5625 L 6.0625 0 L 1.125 0 Z M 1.734375 -0.609375 L 5.453125 -0.609375 L 5.453125 -7.953125 L 1.734375 -7.953125 Z M 1.734375 -0.609375 \"/>\n",
       "</symbol>\n",
       "<symbol overflow=\"visible\" id=\"glyph0-1-TW3cdq+G\">\n",
       "<path style=\"stroke:none;\" d=\"M 6.65625 -6.046875 C 6.65625 -5.171875 6.351562 -4.5 5.75 -4.03125 C 5.15625 -3.5625 4.316406 -3.328125 3.234375 -3.328125 L 2.25 -3.328125 L 2.25 0 L 1.171875 0 L 1.171875 -8.5625 L 3.4375 -8.5625 C 5.582031 -8.5625 6.65625 -7.722656 6.65625 -6.046875 Z M 2.25 -4.265625 L 3.109375 -4.265625 C 3.960938 -4.265625 4.578125 -4.398438 4.953125 -4.671875 C 5.335938 -4.953125 5.53125 -5.394531 5.53125 -6 C 5.53125 -6.550781 5.351562 -6.960938 5 -7.234375 C 4.644531 -7.503906 4.085938 -7.640625 3.328125 -7.640625 L 2.25 -7.640625 Z M 2.25 -4.265625 \"/>\n",
       "</symbol>\n",
       "<symbol overflow=\"visible\" id=\"glyph0-2-TW3cdq+G\">\n",
       "<path style=\"stroke:none;\" d=\"M 6.28125 -4.296875 C 6.28125 -2.804688 6.039062 -1.695312 5.5625 -0.96875 C 5.09375 -0.238281 4.378906 0.125 3.421875 0.125 C 2.492188 0.125 1.789062 -0.25 1.3125 -1 C 0.832031 -1.75 0.59375 -2.847656 0.59375 -4.296875 C 0.59375 -5.785156 0.820312 -6.890625 1.28125 -7.609375 C 1.738281 -8.335938 2.453125 -8.703125 3.421875 -8.703125 C 4.347656 -8.703125 5.054688 -8.328125 5.546875 -7.578125 C 6.035156 -6.828125 6.28125 -5.734375 6.28125 -4.296875 Z M 1.640625 -4.296875 C 1.640625 -3.054688 1.78125 -2.160156 2.0625 -1.609375 C 2.351562 -1.054688 2.804688 -0.78125 3.421875 -0.78125 C 4.046875 -0.78125 4.5 -1.0625 4.78125 -1.625 C 5.0625 -2.1875 5.203125 -3.078125 5.203125 -4.296875 C 5.203125 -5.492188 5.0625 -6.375 4.78125 -6.9375 C 4.5 -7.507812 4.046875 -7.796875 3.421875 -7.796875 C 2.796875 -7.796875 2.34375 -7.519531 2.0625 -6.96875 C 1.78125 -6.414062 1.640625 -5.523438 1.640625 -4.296875 Z M 1.640625 -4.296875 \"/>\n",
       "</symbol>\n",
       "<symbol overflow=\"visible\" id=\"glyph0-3-TW3cdq+G\">\n",
       "<path style=\"stroke:none;\" d=\"M 0.859375 -0.65625 C 0.859375 -0.90625 0.921875 -1.097656 1.046875 -1.234375 C 1.179688 -1.378906 1.363281 -1.453125 1.59375 -1.453125 C 1.832031 -1.453125 2.015625 -1.378906 2.140625 -1.234375 C 2.273438 -1.097656 2.34375 -0.90625 2.34375 -0.65625 C 2.34375 -0.394531 2.273438 -0.191406 2.140625 -0.046875 C 2.015625 0.0976562 1.832031 0.171875 1.59375 0.171875 C 1.363281 0.171875 1.179688 0.0976562 1.046875 -0.046875 C 0.921875 -0.191406 0.859375 -0.394531 0.859375 -0.65625 Z M 0.859375 -0.65625 \"/>\n",
       "</symbol>\n",
       "<symbol overflow=\"visible\" id=\"glyph0-4-TW3cdq+G\">\n",
       "<path style=\"stroke:none;\" d=\"M 4.265625 0 L 3.234375 0 L 3.234375 -5.984375 C 3.234375 -6.515625 3.25 -7.007812 3.28125 -7.46875 C 3.164062 -7.351562 3.046875 -7.242188 2.921875 -7.140625 C 2.523438 -6.804688 2.09375 -6.445312 1.625 -6.0625 L 1.0625 -6.765625 L 3.390625 -8.5625 L 4.265625 -8.5625 Z M 4.265625 0 \"/>\n",
       "</symbol>\n",
       "<symbol overflow=\"visible\" id=\"glyph0-5-TW3cdq+G\">\n",
       "<path style=\"stroke:none;\" d=\"M 3.75 0.125 C 2.789062 0.125 2.035156 -0.164062 1.484375 -0.75 C 0.929688 -1.34375 0.65625 -2.148438 0.65625 -3.171875 C 0.65625 -4.203125 0.910156 -5.019531 1.421875 -5.625 C 1.941406 -6.238281 2.632812 -6.546875 3.5 -6.546875 C 4.3125 -6.546875 4.957031 -6.285156 5.4375 -5.765625 C 5.914062 -5.242188 6.15625 -4.539062 6.15625 -3.65625 L 6.15625 -3.015625 L 1.75 -3.015625 C 1.769531 -2.285156 1.957031 -1.726562 2.3125 -1.34375 C 2.664062 -0.96875 3.160156 -0.78125 3.796875 -0.78125 C 4.140625 -0.78125 4.46875 -0.8125 4.78125 -0.875 C 5.09375 -0.9375 5.453125 -1.050781 5.859375 -1.21875 L 5.859375 -0.296875 C 5.503906 -0.148438 5.171875 -0.046875 4.859375 0.015625 C 4.546875 0.0859375 4.175781 0.125 3.75 0.125 Z M 3.5 -5.6875 C 2.988281 -5.6875 2.585938 -5.523438 2.296875 -5.203125 C 2.003906 -4.878906 1.832031 -4.425781 1.78125 -3.84375 L 5.046875 -3.84375 C 5.046875 -4.445312 4.910156 -4.90625 4.640625 -5.21875 C 4.367188 -5.53125 3.988281 -5.6875 3.5 -5.6875 Z M 3.5 -5.6875 \"/>\n",
       "</symbol>\n",
       "<symbol overflow=\"visible\" id=\"glyph0-6-TW3cdq+G\">\n",
       "<path style=\"stroke:none;\" d=\"M 3.171875 -0.75 C 3.304688 -0.75 3.460938 -0.757812 3.640625 -0.78125 C 3.828125 -0.8125 3.96875 -0.84375 4.0625 -0.875 L 4.0625 -0.078125 C 3.96875 -0.0234375 3.816406 0.0195312 3.609375 0.0625 C 3.410156 0.101562 3.203125 0.125 2.984375 0.125 C 1.734375 0.125 1.109375 -0.539062 1.109375 -1.875 L 1.109375 -5.609375 L 0.1875 -5.609375 L 0.1875 -6.125 L 1.109375 -6.546875 L 1.53125 -7.90625 L 2.15625 -7.90625 L 2.15625 -6.4375 L 4.015625 -6.4375 L 4.015625 -5.609375 L 2.15625 -5.609375 L 2.15625 -1.90625 C 2.15625 -1.53125 2.242188 -1.242188 2.421875 -1.046875 C 2.609375 -0.847656 2.859375 -0.75 3.171875 -0.75 Z M 3.171875 -0.75 \"/>\n",
       "</symbol>\n",
       "<symbol overflow=\"visible\" id=\"glyph0-7-TW3cdq+G\">\n",
       "<path style=\"stroke:none;\" d=\"M 5.203125 -1.78125 C 5.203125 -1.175781 4.976562 -0.707031 4.53125 -0.375 C 4.082031 -0.0390625 3.453125 0.125 2.640625 0.125 C 1.796875 0.125 1.125 -0.0078125 0.625 -0.28125 L 0.625 -1.25 C 1.332031 -0.90625 2.015625 -0.734375 2.671875 -0.734375 C 3.203125 -0.734375 3.585938 -0.816406 3.828125 -0.984375 C 4.066406 -1.160156 4.1875 -1.394531 4.1875 -1.6875 C 4.1875 -1.9375 4.070312 -2.148438 3.84375 -2.328125 C 3.613281 -2.503906 3.203125 -2.707031 2.609375 -2.9375 C 1.992188 -3.164062 1.5625 -3.363281 1.3125 -3.53125 C 1.070312 -3.695312 0.894531 -3.882812 0.78125 -4.09375 C 0.664062 -4.300781 0.609375 -4.550781 0.609375 -4.84375 C 0.609375 -5.375 0.820312 -5.789062 1.25 -6.09375 C 1.6875 -6.394531 2.28125 -6.546875 3.03125 -6.546875 C 3.757812 -6.546875 4.441406 -6.40625 5.078125 -6.125 L 4.71875 -5.28125 C 4.0625 -5.550781 3.472656 -5.6875 2.953125 -5.6875 C 2.515625 -5.6875 2.179688 -5.617188 1.953125 -5.484375 C 1.734375 -5.347656 1.625 -5.15625 1.625 -4.90625 C 1.625 -4.675781 1.71875 -4.484375 1.90625 -4.328125 C 2.101562 -4.171875 2.5625 -3.957031 3.28125 -3.6875 C 3.8125 -3.488281 4.203125 -3.300781 4.453125 -3.125 C 4.710938 -2.957031 4.898438 -2.765625 5.015625 -2.546875 C 5.140625 -2.335938 5.203125 -2.082031 5.203125 -1.78125 Z M 5.203125 -1.78125 \"/>\n",
       "</symbol>\n",
       "<symbol overflow=\"visible\" id=\"glyph0-8-TW3cdq+G\">\n",
       "<path style=\"stroke:none;\" d=\"M 5 0 L 4.78125 -0.921875 L 4.734375 -0.921875 C 4.421875 -0.515625 4.101562 -0.238281 3.78125 -0.09375 C 3.46875 0.0507812 3.066406 0.125 2.578125 0.125 C 1.941406 0.125 1.441406 -0.0390625 1.078125 -0.375 C 0.722656 -0.707031 0.546875 -1.175781 0.546875 -1.78125 C 0.546875 -3.09375 1.578125 -3.78125 3.640625 -3.84375 L 4.734375 -3.875 L 4.734375 -4.265625 C 4.734375 -4.753906 4.625 -5.113281 4.40625 -5.34375 C 4.195312 -5.570312 3.863281 -5.6875 3.40625 -5.6875 C 3.0625 -5.6875 2.738281 -5.632812 2.4375 -5.53125 C 2.132812 -5.4375 1.847656 -5.328125 1.578125 -5.203125 L 1.265625 -5.984375 C 1.585938 -6.160156 1.9375 -6.296875 2.3125 -6.390625 C 2.695312 -6.492188 3.078125 -6.546875 3.453125 -6.546875 C 4.234375 -6.546875 4.8125 -6.375 5.1875 -6.03125 C 5.570312 -5.6875 5.765625 -5.140625 5.765625 -4.390625 L 5.765625 0 Z M 2.8125 -0.734375 C 3.40625 -0.734375 3.867188 -0.890625 4.203125 -1.203125 C 4.546875 -1.523438 4.71875 -1.976562 4.71875 -2.5625 L 4.71875 -3.140625 L 3.765625 -3.109375 C 3.023438 -3.078125 2.484375 -2.957031 2.140625 -2.75 C 1.804688 -2.539062 1.640625 -2.21875 1.640625 -1.78125 C 1.640625 -1.4375 1.742188 -1.175781 1.953125 -1 C 2.160156 -0.820312 2.445312 -0.734375 2.8125 -0.734375 Z M 2.8125 -0.734375 \"/>\n",
       "</symbol>\n",
       "<symbol overflow=\"visible\" id=\"glyph0-9-TW3cdq+G\">\n",
       "<path style=\"stroke:none;\" d=\"M 4.015625 -6.546875 C 4.304688 -6.546875 4.5625 -6.523438 4.78125 -6.484375 L 4.640625 -5.515625 C 4.410156 -5.566406 4.179688 -5.59375 3.953125 -5.59375 C 3.609375 -5.59375 3.289062 -5.5 3 -5.3125 C 2.707031 -5.125 2.476562 -4.863281 2.3125 -4.53125 C 2.15625 -4.195312 2.078125 -3.832031 2.078125 -3.4375 L 2.078125 0 L 1.015625 0 L 1.015625 -6.4375 L 1.890625 -6.4375 L 2 -5.25 L 2.046875 -5.25 C 2.296875 -5.675781 2.585938 -6 2.921875 -6.21875 C 3.253906 -6.4375 3.617188 -6.546875 4.015625 -6.546875 Z M 4.015625 -6.546875 \"/>\n",
       "</symbol>\n",
       "<symbol overflow=\"visible\" id=\"glyph0-1-TW3cdq+G0\">\n",
       "<path style=\"stroke:none;\" d=\"M 2.078125 0 L 1.015625 0 L 1.015625 -6.4375 L 2.078125 -6.4375 Z M 0.9375 -8.171875 C 0.9375 -8.410156 0.992188 -8.582031 1.109375 -8.6875 C 1.234375 -8.789062 1.382812 -8.84375 1.5625 -8.84375 C 1.726562 -8.84375 1.867188 -8.789062 1.984375 -8.6875 C 2.109375 -8.582031 2.171875 -8.410156 2.171875 -8.171875 C 2.171875 -7.941406 2.109375 -7.769531 1.984375 -7.65625 C 1.867188 -7.550781 1.726562 -7.5 1.5625 -7.5 C 1.382812 -7.5 1.234375 -7.550781 1.109375 -7.65625 C 0.992188 -7.769531 0.9375 -7.941406 0.9375 -8.171875 Z M 0.9375 -8.171875 \"/>\n",
       "</symbol>\n",
       "<symbol overflow=\"visible\" id=\"glyph0-1-TW3cdq+G1\">\n",
       "<path style=\"stroke:none;\" d=\"M 2.078125 0 L 1.015625 0 L 1.015625 -9.125 L 2.078125 -9.125 Z M 2.078125 0 \"/>\n",
       "</symbol>\n",
       "<symbol overflow=\"visible\" id=\"glyph0-1-TW3cdq+G2\">\n",
       "<path style=\"stroke:none;\" d=\"M 3.46875 -0.75 C 4.113281 -0.75 4.582031 -0.921875 4.875 -1.265625 C 5.175781 -1.617188 5.328125 -2.179688 5.328125 -2.953125 L 5.328125 -3.203125 C 5.328125 -4.066406 5.175781 -4.691406 4.875 -5.078125 C 4.582031 -5.472656 4.109375 -5.671875 3.453125 -5.671875 C 2.910156 -5.671875 2.488281 -5.457031 2.1875 -5.03125 C 1.894531 -4.601562 1.75 -3.988281 1.75 -3.1875 C 1.75 -2.394531 1.890625 -1.789062 2.171875 -1.375 C 2.460938 -0.957031 2.894531 -0.75 3.46875 -0.75 Z M 5.3125 -0.0625 L 5.34375 -0.84375 L 5.296875 -0.84375 C 4.867188 -0.195312 4.207031 0.125 3.3125 0.125 C 2.476562 0.125 1.828125 -0.164062 1.359375 -0.75 C 0.890625 -1.332031 0.65625 -2.148438 0.65625 -3.203125 C 0.65625 -4.242188 0.890625 -5.0625 1.359375 -5.65625 C 1.835938 -6.25 2.484375 -6.546875 3.296875 -6.546875 C 4.171875 -6.546875 4.84375 -6.222656 5.3125 -5.578125 L 5.375 -5.578125 L 5.515625 -6.4375 L 6.359375 -6.4375 L 6.359375 0.109375 C 6.359375 1.023438 6.125 1.71875 5.65625 2.1875 C 5.1875 2.65625 4.460938 2.890625 3.484375 2.890625 C 2.546875 2.890625 1.773438 2.75 1.171875 2.46875 L 1.171875 1.5 C 1.796875 1.832031 2.585938 2 3.546875 2 C 4.085938 2 4.515625 1.835938 4.828125 1.515625 C 5.148438 1.203125 5.3125 0.757812 5.3125 0.1875 Z M 5.3125 -0.0625 \"/>\n",
       "</symbol>\n",
       "<symbol overflow=\"visible\" id=\"glyph1-0-TW3cdq+G\">\n",
       "<path style=\"stroke:none;\" d=\"M 1.125 -8.5625 L 6.0625 -8.5625 L 6.0625 0 L 1.125 0 Z M 1.734375 -0.609375 L 5.453125 -0.609375 L 5.453125 -7.953125 L 1.734375 -7.953125 Z M 1.734375 -0.609375 \"/>\n",
       "</symbol>\n",
       "<symbol overflow=\"visible\" id=\"glyph1-1-TW3cdq+G\">\n",
       "<path style=\"stroke:none;\" d=\"M 4.828125 -7.734375 C 3.910156 -7.734375 3.1875 -7.425781 2.65625 -6.8125 C 2.132812 -6.195312 1.875 -5.351562 1.875 -4.28125 C 1.875 -3.175781 2.128906 -2.320312 2.640625 -1.71875 C 3.148438 -1.125 3.878906 -0.828125 4.828125 -0.828125 C 5.429688 -0.828125 6.113281 -0.941406 6.875 -1.171875 L 6.875 -0.234375 C 6.507812 -0.0976562 6.160156 -0.00390625 5.828125 0.046875 C 5.492188 0.0976562 5.109375 0.125 4.671875 0.125 C 3.410156 0.125 2.4375 -0.257812 1.75 -1.03125 C 1.070312 -1.800781 0.734375 -2.890625 0.734375 -4.296875 C 0.734375 -5.179688 0.894531 -5.953125 1.21875 -6.609375 C 1.550781 -7.273438 2.023438 -7.785156 2.640625 -8.140625 C 3.265625 -8.503906 4 -8.6875 4.84375 -8.6875 C 5.75 -8.6875 6.539062 -8.519531 7.21875 -8.1875 L 6.78125 -7.265625 C 6.09375 -7.578125 5.441406 -7.734375 4.828125 -7.734375 Z M 4.828125 -7.734375 \"/>\n",
       "</symbol>\n",
       "<symbol overflow=\"visible\" id=\"glyph1-2-TW3cdq+G\">\n",
       "<path style=\"stroke:none;\" d=\"M 4.265625 0 L 3.234375 0 L 3.234375 -5.984375 C 3.234375 -6.515625 3.25 -7.007812 3.28125 -7.46875 C 3.164062 -7.351562 3.046875 -7.242188 2.921875 -7.140625 C 2.523438 -6.804688 2.09375 -6.445312 1.625 -6.0625 L 1.0625 -6.765625 L 3.390625 -8.5625 L 4.265625 -8.5625 Z M 4.265625 0 \"/>\n",
       "</symbol>\n",
       "<symbol overflow=\"visible\" id=\"glyph1-3-TW3cdq+G\">\n",
       "<path style=\"stroke:none;\" d=\"M 6.28125 -4.296875 C 6.28125 -2.804688 6.039062 -1.695312 5.5625 -0.96875 C 5.09375 -0.238281 4.378906 0.125 3.421875 0.125 C 2.492188 0.125 1.789062 -0.25 1.3125 -1 C 0.832031 -1.75 0.59375 -2.847656 0.59375 -4.296875 C 0.59375 -5.785156 0.820312 -6.890625 1.28125 -7.609375 C 1.738281 -8.335938 2.453125 -8.703125 3.421875 -8.703125 C 4.347656 -8.703125 5.054688 -8.328125 5.546875 -7.578125 C 6.035156 -6.828125 6.28125 -5.734375 6.28125 -4.296875 Z M 1.640625 -4.296875 C 1.640625 -3.054688 1.78125 -2.160156 2.0625 -1.609375 C 2.351562 -1.054688 2.804688 -0.78125 3.421875 -0.78125 C 4.046875 -0.78125 4.5 -1.0625 4.78125 -1.625 C 5.0625 -2.1875 5.203125 -3.078125 5.203125 -4.296875 C 5.203125 -5.492188 5.0625 -6.375 4.78125 -6.9375 C 4.5 -7.507812 4.046875 -7.796875 3.421875 -7.796875 C 2.796875 -7.796875 2.34375 -7.519531 2.0625 -6.96875 C 1.78125 -6.414062 1.640625 -5.523438 1.640625 -4.296875 Z M 1.640625 -4.296875 \"/>\n",
       "</symbol>\n",
       "<symbol overflow=\"visible\" id=\"glyph1-4-TW3cdq+G\">\n",
       "<path style=\"stroke:none;\" d=\"M 3.296875 -5.25 C 4.191406 -5.25 4.894531 -5.023438 5.40625 -4.578125 C 5.925781 -4.128906 6.1875 -3.515625 6.1875 -2.734375 C 6.1875 -1.847656 5.898438 -1.148438 5.328125 -0.640625 C 4.765625 -0.128906 3.984375 0.125 2.984375 0.125 C 2.023438 0.125 1.28125 -0.03125 0.75 -0.34375 L 0.75 -1.34375 C 1.039062 -1.164062 1.390625 -1.023438 1.796875 -0.921875 C 2.203125 -0.828125 2.597656 -0.78125 2.984375 -0.78125 C 3.660156 -0.78125 4.179688 -0.9375 4.546875 -1.25 C 4.910156 -1.570312 5.09375 -2.03125 5.09375 -2.625 C 5.09375 -3.78125 4.378906 -4.359375 2.953125 -4.359375 C 2.492188 -4.359375 2.003906 -4.300781 1.484375 -4.1875 L 0.96875 -4.53125 L 1.28125 -8.5625 L 5.578125 -8.5625 L 5.578125 -7.609375 L 2.1875 -7.609375 L 1.984375 -5.125 C 2.429688 -5.207031 2.867188 -5.25 3.296875 -5.25 Z M 3.296875 -5.25 \"/>\n",
       "</symbol>\n",
       "<symbol overflow=\"visible\" id=\"glyph2-0-TW3cdq+G\">\n",
       "<path style=\"stroke:none;\" d=\"M 1.125 -8.5625 L 6.0625 -8.5625 L 6.0625 0 L 1.125 0 Z M 1.734375 -0.609375 L 5.453125 -0.609375 L 5.453125 -7.953125 L 1.734375 -7.953125 Z M 1.734375 -0.609375 \"/>\n",
       "</symbol>\n",
       "<symbol overflow=\"visible\" id=\"glyph2-1-TW3cdq+G\">\n",
       "<path style=\"stroke:none;\" d=\"M 0.484375 -2.75 L 0.484375 -3.6875 L 3.390625 -3.6875 L 3.390625 -2.75 Z M 0.484375 -2.75 \"/>\n",
       "</symbol>\n",
       "<symbol overflow=\"visible\" id=\"glyph2-2-TW3cdq+G\">\n",
       "<path style=\"stroke:none;\" d=\"M 0.859375 -0.65625 C 0.859375 -0.90625 0.921875 -1.097656 1.046875 -1.234375 C 1.179688 -1.378906 1.363281 -1.453125 1.59375 -1.453125 C 1.832031 -1.453125 2.015625 -1.378906 2.140625 -1.234375 C 2.273438 -1.097656 2.34375 -0.90625 2.34375 -0.65625 C 2.34375 -0.394531 2.273438 -0.191406 2.140625 -0.046875 C 2.015625 0.0976562 1.832031 0.171875 1.59375 0.171875 C 1.363281 0.171875 1.179688 0.0976562 1.046875 -0.046875 C 0.921875 -0.191406 0.859375 -0.394531 0.859375 -0.65625 Z M 0.859375 -0.65625 \"/>\n",
       "</symbol>\n",
       "<symbol overflow=\"visible\" id=\"glyph2-3-TW3cdq+G\">\n",
       "<path style=\"stroke:none;\" d=\"M 0.65625 -3.65625 C 0.65625 -7.007812 1.960938 -8.6875 4.578125 -8.6875 C 5.035156 -8.6875 5.390625 -8.648438 5.640625 -8.578125 L 5.640625 -7.6875 C 5.347656 -7.78125 5.003906 -7.828125 4.609375 -7.828125 C 3.691406 -7.828125 2.992188 -7.546875 2.515625 -6.984375 C 2.035156 -6.429688 1.769531 -5.554688 1.71875 -4.359375 L 1.78125 -4.359375 C 2.21875 -5.023438 2.894531 -5.359375 3.8125 -5.359375 C 4.582031 -5.359375 5.1875 -5.125 5.625 -4.65625 C 6.070312 -4.1875 6.296875 -3.554688 6.296875 -2.765625 C 6.296875 -1.878906 6.050781 -1.175781 5.5625 -0.65625 C 5.070312 -0.132812 4.410156 0.125 3.578125 0.125 C 2.992188 0.125 2.476562 -0.0234375 2.03125 -0.328125 C 1.59375 -0.628906 1.253906 -1.0625 1.015625 -1.625 C 0.773438 -2.195312 0.65625 -2.875 0.65625 -3.65625 Z M 3.5625 -0.765625 C 4.101562 -0.765625 4.519531 -0.9375 4.8125 -1.28125 C 5.101562 -1.632812 5.25 -2.128906 5.25 -2.765625 C 5.25 -3.328125 5.109375 -3.757812 4.828125 -4.0625 C 4.546875 -4.375 4.132812 -4.53125 3.59375 -4.53125 C 3.257812 -4.53125 2.945312 -4.457031 2.65625 -4.3125 C 2.375 -4.175781 2.148438 -3.984375 1.984375 -3.734375 C 1.816406 -3.484375 1.734375 -3.226562 1.734375 -2.96875 C 1.734375 -2.570312 1.8125 -2.203125 1.96875 -1.859375 C 2.125 -1.523438 2.335938 -1.257812 2.609375 -1.0625 C 2.890625 -0.863281 3.207031 -0.765625 3.5625 -0.765625 Z M 3.5625 -0.765625 \"/>\n",
       "</symbol>\n",
       "<symbol overflow=\"visible\" id=\"glyph3-0-TW3cdq+G\">\n",
       "<path style=\"stroke:none;\" d=\"M 1.125 -8.5625 L 6.0625 -8.5625 L 6.0625 0 L 1.125 0 Z M 1.734375 -0.609375 L 5.453125 -0.609375 L 5.453125 -7.953125 L 1.734375 -7.953125 Z M 1.734375 -0.609375 \"/>\n",
       "</symbol>\n",
       "<symbol overflow=\"visible\" id=\"glyph3-1-TW3cdq+G\">\n",
       "<path style=\"stroke:none;\" d=\"M 6.28125 -4.296875 C 6.28125 -2.804688 6.039062 -1.695312 5.5625 -0.96875 C 5.09375 -0.238281 4.378906 0.125 3.421875 0.125 C 2.492188 0.125 1.789062 -0.25 1.3125 -1 C 0.832031 -1.75 0.59375 -2.847656 0.59375 -4.296875 C 0.59375 -5.785156 0.820312 -6.890625 1.28125 -7.609375 C 1.738281 -8.335938 2.453125 -8.703125 3.421875 -8.703125 C 4.347656 -8.703125 5.054688 -8.328125 5.546875 -7.578125 C 6.035156 -6.828125 6.28125 -5.734375 6.28125 -4.296875 Z M 1.640625 -4.296875 C 1.640625 -3.054688 1.78125 -2.160156 2.0625 -1.609375 C 2.351562 -1.054688 2.804688 -0.78125 3.421875 -0.78125 C 4.046875 -0.78125 4.5 -1.0625 4.78125 -1.625 C 5.0625 -2.1875 5.203125 -3.078125 5.203125 -4.296875 C 5.203125 -5.492188 5.0625 -6.375 4.78125 -6.9375 C 4.5 -7.507812 4.046875 -7.796875 3.421875 -7.796875 C 2.796875 -7.796875 2.34375 -7.519531 2.0625 -6.96875 C 1.78125 -6.414062 1.640625 -5.523438 1.640625 -4.296875 Z M 1.640625 -4.296875 \"/>\n",
       "</symbol>\n",
       "<symbol overflow=\"visible\" id=\"glyph3-2-TW3cdq+G\">\n",
       "<path style=\"stroke:none;\" d=\"M 0.859375 -0.65625 C 0.859375 -0.90625 0.921875 -1.097656 1.046875 -1.234375 C 1.179688 -1.378906 1.363281 -1.453125 1.59375 -1.453125 C 1.832031 -1.453125 2.015625 -1.378906 2.140625 -1.234375 C 2.273438 -1.097656 2.34375 -0.90625 2.34375 -0.65625 C 2.34375 -0.394531 2.273438 -0.191406 2.140625 -0.046875 C 2.015625 0.0976562 1.832031 0.171875 1.59375 0.171875 C 1.363281 0.171875 1.179688 0.0976562 1.046875 -0.046875 C 0.921875 -0.191406 0.859375 -0.394531 0.859375 -0.65625 Z M 0.859375 -0.65625 \"/>\n",
       "</symbol>\n",
       "<symbol overflow=\"visible\" id=\"glyph3-3-TW3cdq+G\">\n",
       "<path style=\"stroke:none;\" d=\"M 3.296875 -5.25 C 4.191406 -5.25 4.894531 -5.023438 5.40625 -4.578125 C 5.925781 -4.128906 6.1875 -3.515625 6.1875 -2.734375 C 6.1875 -1.847656 5.898438 -1.148438 5.328125 -0.640625 C 4.765625 -0.128906 3.984375 0.125 2.984375 0.125 C 2.023438 0.125 1.28125 -0.03125 0.75 -0.34375 L 0.75 -1.34375 C 1.039062 -1.164062 1.390625 -1.023438 1.796875 -0.921875 C 2.203125 -0.828125 2.597656 -0.78125 2.984375 -0.78125 C 3.660156 -0.78125 4.179688 -0.9375 4.546875 -1.25 C 4.910156 -1.570312 5.09375 -2.03125 5.09375 -2.625 C 5.09375 -3.78125 4.378906 -4.359375 2.953125 -4.359375 C 2.492188 -4.359375 2.003906 -4.300781 1.484375 -4.1875 L 0.96875 -4.53125 L 1.28125 -8.5625 L 5.578125 -8.5625 L 5.578125 -7.609375 L 2.1875 -7.609375 L 1.984375 -5.125 C 2.429688 -5.207031 2.867188 -5.25 3.296875 -5.25 Z M 3.296875 -5.25 \"/>\n",
       "</symbol>\n",
       "<symbol overflow=\"visible\" id=\"glyph4-0-TW3cdq+G\">\n",
       "<path style=\"stroke:none;\" d=\"M 1.125 -8.5625 L 6.0625 -8.5625 L 6.0625 0 L 1.125 0 Z M 1.734375 -0.609375 L 5.453125 -0.609375 L 5.453125 -7.953125 L 1.734375 -7.953125 Z M 1.734375 -0.609375 \"/>\n",
       "</symbol>\n",
       "<symbol overflow=\"visible\" id=\"glyph4-1-TW3cdq+G\">\n",
       "<path style=\"stroke:none;\" d=\"M 0.859375 -0.65625 C 0.859375 -0.90625 0.921875 -1.097656 1.046875 -1.234375 C 1.179688 -1.378906 1.363281 -1.453125 1.59375 -1.453125 C 1.832031 -1.453125 2.015625 -1.378906 2.140625 -1.234375 C 2.273438 -1.097656 2.34375 -0.90625 2.34375 -0.65625 C 2.34375 -0.394531 2.273438 -0.191406 2.140625 -0.046875 C 2.015625 0.0976562 1.832031 0.171875 1.59375 0.171875 C 1.363281 0.171875 1.179688 0.0976562 1.046875 -0.046875 C 0.921875 -0.191406 0.859375 -0.394531 0.859375 -0.65625 Z M 0.859375 -0.65625 \"/>\n",
       "</symbol>\n",
       "<symbol overflow=\"visible\" id=\"glyph5-0-TW3cdq+G\">\n",
       "<path style=\"stroke:none;\" d=\"M -8.5625 -1.125 L -8.5625 -6.0625 L 0 -6.0625 L 0 -1.125 Z M -0.609375 -1.734375 L -0.609375 -5.453125 L -7.953125 -5.453125 L -7.953125 -1.734375 Z M -0.609375 -1.734375 \"/>\n",
       "</symbol>\n",
       "<symbol overflow=\"visible\" id=\"glyph5-1-TW3cdq+G\">\n",
       "<path style=\"stroke:none;\" d=\"M -6.046875 -6.65625 C -5.171875 -6.65625 -4.5 -6.351562 -4.03125 -5.75 C -3.5625 -5.15625 -3.328125 -4.316406 -3.328125 -3.234375 L -3.328125 -2.25 L 0 -2.25 L 0 -1.171875 L -8.5625 -1.171875 L -8.5625 -3.4375 C -8.5625 -5.582031 -7.722656 -6.65625 -6.046875 -6.65625 Z M -4.265625 -2.25 L -4.265625 -3.109375 C -4.265625 -3.960938 -4.398438 -4.578125 -4.671875 -4.953125 C -4.953125 -5.335938 -5.394531 -5.53125 -6 -5.53125 C -6.550781 -5.53125 -6.960938 -5.351562 -7.234375 -5 C -7.503906 -4.644531 -7.640625 -4.085938 -7.640625 -3.328125 L -7.640625 -2.25 Z M -4.265625 -2.25 \"/>\n",
       "</symbol>\n",
       "<symbol overflow=\"visible\" id=\"glyph5-2-TW3cdq+G\">\n",
       "<path style=\"stroke:none;\" d=\"M -7.734375 -4.828125 C -7.734375 -3.910156 -7.425781 -3.1875 -6.8125 -2.65625 C -6.195312 -2.132812 -5.351562 -1.875 -4.28125 -1.875 C -3.175781 -1.875 -2.320312 -2.128906 -1.71875 -2.640625 C -1.125 -3.148438 -0.828125 -3.878906 -0.828125 -4.828125 C -0.828125 -5.429688 -0.941406 -6.113281 -1.171875 -6.875 L -0.234375 -6.875 C -0.0976562 -6.507812 -0.00390625 -6.160156 0.046875 -5.828125 C 0.0976562 -5.492188 0.125 -5.109375 0.125 -4.671875 C 0.125 -3.410156 -0.257812 -2.4375 -1.03125 -1.75 C -1.800781 -1.070312 -2.890625 -0.734375 -4.296875 -0.734375 C -5.179688 -0.734375 -5.953125 -0.894531 -6.609375 -1.21875 C -7.273438 -1.550781 -7.785156 -2.023438 -8.140625 -2.640625 C -8.503906 -3.265625 -8.6875 -4 -8.6875 -4.84375 C -8.6875 -5.75 -8.519531 -6.539062 -8.1875 -7.21875 L -7.265625 -6.78125 C -7.578125 -6.09375 -7.734375 -5.441406 -7.734375 -4.828125 Z M -7.734375 -4.828125 \"/>\n",
       "</symbol>\n",
       "<symbol overflow=\"visible\" id=\"glyph6-0-TW3cdq+G\">\n",
       "<path style=\"stroke:none;\" d=\"M -8.5625 -1.125 L -8.5625 -6.0625 L 0 -6.0625 L 0 -1.125 Z M -0.609375 -1.734375 L -0.609375 -5.453125 L -7.953125 -5.453125 L -7.953125 -1.734375 Z M -0.609375 -1.734375 \"/>\n",
       "</symbol>\n",
       "<symbol overflow=\"visible\" id=\"glyph6-1-TW3cdq+G\">\n",
       "<path style=\"stroke:none;\" d=\"M 0 -6.234375 L 0 -0.578125 L -0.875 -0.578125 L -3.140625 -2.8125 C -3.828125 -3.488281 -4.316406 -3.9375 -4.609375 -4.15625 C -4.898438 -4.375 -5.179688 -4.535156 -5.453125 -4.640625 C -5.734375 -4.753906 -6.03125 -4.8125 -6.34375 -4.8125 C -6.800781 -4.8125 -7.15625 -4.675781 -7.40625 -4.40625 C -7.65625 -4.132812 -7.78125 -3.765625 -7.78125 -3.296875 C -7.78125 -2.941406 -7.722656 -2.609375 -7.609375 -2.296875 C -7.492188 -1.984375 -7.28125 -1.628906 -6.96875 -1.234375 L -7.6875 -0.671875 C -8.351562 -1.472656 -8.6875 -2.347656 -8.6875 -3.296875 C -8.6875 -4.097656 -8.484375 -4.726562 -8.078125 -5.1875 C -7.671875 -5.65625 -7.113281 -5.890625 -6.40625 -5.890625 C -6.03125 -5.890625 -5.664062 -5.820312 -5.3125 -5.6875 C -4.96875 -5.550781 -4.613281 -5.347656 -4.25 -5.078125 C -3.894531 -4.804688 -3.398438 -4.347656 -2.765625 -3.703125 L -1.015625 -1.90625 L -0.96875 -1.90625 L -0.96875 -6.234375 Z M 0 -6.234375 \"/>\n",
       "</symbol>\n",
       "<symbol overflow=\"visible\" id=\"glyph7-0-TW3cdq+G\">\n",
       "<path style=\"stroke:none;\" d=\"M 1.125 -8.5625 L 6.0625 -8.5625 L 6.0625 0 L 1.125 0 Z M 1.734375 -0.609375 L 5.453125 -0.609375 L 5.453125 -7.953125 L 1.734375 -7.953125 Z M 1.734375 -0.609375 \"/>\n",
       "</symbol>\n",
       "<symbol overflow=\"visible\" id=\"glyph7-1-TW3cdq+G\">\n",
       "<path style=\"stroke:none;\" d=\"M 0.484375 -2.75 L 0.484375 -3.6875 L 3.390625 -3.6875 L 3.390625 -2.75 Z M 0.484375 -2.75 \"/>\n",
       "</symbol>\n",
       "<symbol overflow=\"visible\" id=\"glyph7-2-TW3cdq+G\">\n",
       "<path style=\"stroke:none;\" d=\"M 6.28125 -4.296875 C 6.28125 -2.804688 6.039062 -1.695312 5.5625 -0.96875 C 5.09375 -0.238281 4.378906 0.125 3.421875 0.125 C 2.492188 0.125 1.789062 -0.25 1.3125 -1 C 0.832031 -1.75 0.59375 -2.847656 0.59375 -4.296875 C 0.59375 -5.785156 0.820312 -6.890625 1.28125 -7.609375 C 1.738281 -8.335938 2.453125 -8.703125 3.421875 -8.703125 C 4.347656 -8.703125 5.054688 -8.328125 5.546875 -7.578125 C 6.035156 -6.828125 6.28125 -5.734375 6.28125 -4.296875 Z M 1.640625 -4.296875 C 1.640625 -3.054688 1.78125 -2.160156 2.0625 -1.609375 C 2.351562 -1.054688 2.804688 -0.78125 3.421875 -0.78125 C 4.046875 -0.78125 4.5 -1.0625 4.78125 -1.625 C 5.0625 -2.1875 5.203125 -3.078125 5.203125 -4.296875 C 5.203125 -5.492188 5.0625 -6.375 4.78125 -6.9375 C 4.5 -7.507812 4.046875 -7.796875 3.421875 -7.796875 C 2.796875 -7.796875 2.34375 -7.519531 2.0625 -6.96875 C 1.78125 -6.414062 1.640625 -5.523438 1.640625 -4.296875 Z M 1.640625 -4.296875 \"/>\n",
       "</symbol>\n",
       "<symbol overflow=\"visible\" id=\"glyph8-0-TW3cdq+G\">\n",
       "<path style=\"stroke:none;\" d=\"M 1.125 -8.5625 L 6.0625 -8.5625 L 6.0625 0 L 1.125 0 Z M 1.734375 -0.609375 L 5.453125 -0.609375 L 5.453125 -7.953125 L 1.734375 -7.953125 Z M 1.734375 -0.609375 \"/>\n",
       "</symbol>\n",
       "<symbol overflow=\"visible\" id=\"glyph8-1-TW3cdq+G\">\n",
       "<path style=\"stroke:none;\" d=\"M 0.859375 -0.65625 C 0.859375 -0.90625 0.921875 -1.097656 1.046875 -1.234375 C 1.179688 -1.378906 1.363281 -1.453125 1.59375 -1.453125 C 1.832031 -1.453125 2.015625 -1.378906 2.140625 -1.234375 C 2.273438 -1.097656 2.34375 -0.90625 2.34375 -0.65625 C 2.34375 -0.394531 2.273438 -0.191406 2.140625 -0.046875 C 2.015625 0.0976562 1.832031 0.171875 1.59375 0.171875 C 1.363281 0.171875 1.179688 0.0976562 1.046875 -0.046875 C 0.921875 -0.191406 0.859375 -0.394531 0.859375 -0.65625 Z M 0.859375 -0.65625 \"/>\n",
       "</symbol>\n",
       "<symbol overflow=\"visible\" id=\"glyph8-2-TW3cdq+G\">\n",
       "<path style=\"stroke:none;\" d=\"M 3.421875 -8.6875 C 4.203125 -8.6875 4.820312 -8.503906 5.28125 -8.140625 C 5.75 -7.773438 5.984375 -7.273438 5.984375 -6.640625 C 5.984375 -6.210938 5.851562 -5.828125 5.59375 -5.484375 C 5.332031 -5.140625 4.921875 -4.820312 4.359375 -4.53125 C 5.046875 -4.195312 5.535156 -3.847656 5.828125 -3.484375 C 6.117188 -3.117188 6.265625 -2.695312 6.265625 -2.21875 C 6.265625 -1.507812 6.007812 -0.941406 5.5 -0.515625 C 5 -0.0859375 4.316406 0.125 3.453125 0.125 C 2.546875 0.125 1.84375 -0.0703125 1.34375 -0.46875 C 0.84375 -0.875 0.59375 -1.445312 0.59375 -2.1875 C 0.59375 -3.164062 1.179688 -3.929688 2.359375 -4.484375 C 1.828125 -4.785156 1.441406 -5.109375 1.203125 -5.453125 C 0.972656 -5.804688 0.859375 -6.207031 0.859375 -6.65625 C 0.859375 -7.269531 1.09375 -7.757812 1.5625 -8.125 C 2.03125 -8.5 2.648438 -8.6875 3.421875 -8.6875 Z M 1.625 -2.171875 C 1.625 -1.722656 1.78125 -1.367188 2.09375 -1.109375 C 2.414062 -0.847656 2.863281 -0.71875 3.4375 -0.71875 C 3.988281 -0.71875 4.425781 -0.847656 4.75 -1.109375 C 5.070312 -1.378906 5.234375 -1.742188 5.234375 -2.203125 C 5.234375 -2.578125 5.078125 -2.910156 4.765625 -3.203125 C 4.460938 -3.503906 3.953125 -3.785156 3.234375 -4.046875 C 2.671875 -3.804688 2.257812 -3.535156 2 -3.234375 C 1.75 -2.941406 1.625 -2.585938 1.625 -2.171875 Z M 3.40625 -7.828125 C 2.945312 -7.828125 2.582031 -7.71875 2.3125 -7.5 C 2.039062 -7.28125 1.90625 -6.976562 1.90625 -6.59375 C 1.90625 -6.351562 1.957031 -6.140625 2.0625 -5.953125 C 2.164062 -5.765625 2.316406 -5.59375 2.515625 -5.4375 C 2.710938 -5.289062 3.03125 -5.128906 3.46875 -4.953125 C 4 -5.171875 4.378906 -5.410156 4.609375 -5.671875 C 4.835938 -5.941406 4.953125 -6.25 4.953125 -6.59375 C 4.953125 -6.988281 4.8125 -7.289062 4.53125 -7.5 C 4.25 -7.71875 3.875 -7.828125 3.40625 -7.828125 Z M 3.40625 -7.828125 \"/>\n",
       "</symbol>\n",
       "<symbol overflow=\"visible\" id=\"glyph9-0-TW3cdq+G\">\n",
       "<path style=\"stroke:none;\" d=\"M 1.125 -8.5625 L 6.0625 -8.5625 L 6.0625 0 L 1.125 0 Z M 1.734375 -0.609375 L 5.453125 -0.609375 L 5.453125 -7.953125 L 1.734375 -7.953125 Z M 1.734375 -0.609375 \"/>\n",
       "</symbol>\n",
       "<symbol overflow=\"visible\" id=\"glyph9-1-TW3cdq+G\">\n",
       "<path style=\"stroke:none;\" d=\"M 0.484375 -2.75 L 0.484375 -3.6875 L 3.390625 -3.6875 L 3.390625 -2.75 Z M 0.484375 -2.75 \"/>\n",
       "</symbol>\n",
       "<symbol overflow=\"visible\" id=\"glyph9-2-TW3cdq+G\">\n",
       "<path style=\"stroke:none;\" d=\"M 6.28125 -4.296875 C 6.28125 -2.804688 6.039062 -1.695312 5.5625 -0.96875 C 5.09375 -0.238281 4.378906 0.125 3.421875 0.125 C 2.492188 0.125 1.789062 -0.25 1.3125 -1 C 0.832031 -1.75 0.59375 -2.847656 0.59375 -4.296875 C 0.59375 -5.785156 0.820312 -6.890625 1.28125 -7.609375 C 1.738281 -8.335938 2.453125 -8.703125 3.421875 -8.703125 C 4.347656 -8.703125 5.054688 -8.328125 5.546875 -7.578125 C 6.035156 -6.828125 6.28125 -5.734375 6.28125 -4.296875 Z M 1.640625 -4.296875 C 1.640625 -3.054688 1.78125 -2.160156 2.0625 -1.609375 C 2.351562 -1.054688 2.804688 -0.78125 3.421875 -0.78125 C 4.046875 -0.78125 4.5 -1.0625 4.78125 -1.625 C 5.0625 -2.1875 5.203125 -3.078125 5.203125 -4.296875 C 5.203125 -5.492188 5.0625 -6.375 4.78125 -6.9375 C 4.5 -7.507812 4.046875 -7.796875 3.421875 -7.796875 C 2.796875 -7.796875 2.34375 -7.519531 2.0625 -6.96875 C 1.78125 -6.414062 1.640625 -5.523438 1.640625 -4.296875 Z M 1.640625 -4.296875 \"/>\n",
       "</symbol>\n",
       "<symbol overflow=\"visible\" id=\"glyph10-0-TW3cdq+G\">\n",
       "<path style=\"stroke:none;\" d=\"M 1.125 -8.5625 L 6.0625 -8.5625 L 6.0625 0 L 1.125 0 Z M 1.734375 -0.609375 L 5.453125 -0.609375 L 5.453125 -7.953125 L 1.734375 -7.953125 Z M 1.734375 -0.609375 \"/>\n",
       "</symbol>\n",
       "<symbol overflow=\"visible\" id=\"glyph10-1-TW3cdq+G\">\n",
       "<path style=\"stroke:none;\" d=\"M 0.484375 -2.75 L 0.484375 -3.6875 L 3.390625 -3.6875 L 3.390625 -2.75 Z M 0.484375 -2.75 \"/>\n",
       "</symbol>\n",
       "<symbol overflow=\"visible\" id=\"glyph10-2-TW3cdq+G\">\n",
       "<path style=\"stroke:none;\" d=\"M 6.28125 -4.296875 C 6.28125 -2.804688 6.039062 -1.695312 5.5625 -0.96875 C 5.09375 -0.238281 4.378906 0.125 3.421875 0.125 C 2.492188 0.125 1.789062 -0.25 1.3125 -1 C 0.832031 -1.75 0.59375 -2.847656 0.59375 -4.296875 C 0.59375 -5.785156 0.820312 -6.890625 1.28125 -7.609375 C 1.738281 -8.335938 2.453125 -8.703125 3.421875 -8.703125 C 4.347656 -8.703125 5.054688 -8.328125 5.546875 -7.578125 C 6.035156 -6.828125 6.28125 -5.734375 6.28125 -4.296875 Z M 1.640625 -4.296875 C 1.640625 -3.054688 1.78125 -2.160156 2.0625 -1.609375 C 2.351562 -1.054688 2.804688 -0.78125 3.421875 -0.78125 C 4.046875 -0.78125 4.5 -1.0625 4.78125 -1.625 C 5.0625 -2.1875 5.203125 -3.078125 5.203125 -4.296875 C 5.203125 -5.492188 5.0625 -6.375 4.78125 -6.9375 C 4.5 -7.507812 4.046875 -7.796875 3.421875 -7.796875 C 2.796875 -7.796875 2.34375 -7.519531 2.0625 -6.96875 C 1.78125 -6.414062 1.640625 -5.523438 1.640625 -4.296875 Z M 1.640625 -4.296875 \"/>\n",
       "</symbol>\n",
       "<symbol overflow=\"visible\" id=\"glyph11-0-TW3cdq+G\">\n",
       "<path style=\"stroke:none;\" d=\"M 1.125 -8.5625 L 6.0625 -8.5625 L 6.0625 0 L 1.125 0 Z M 1.734375 -0.609375 L 5.453125 -0.609375 L 5.453125 -7.953125 L 1.734375 -7.953125 Z M 1.734375 -0.609375 \"/>\n",
       "</symbol>\n",
       "<symbol overflow=\"visible\" id=\"glyph11-1-TW3cdq+G\">\n",
       "<path style=\"stroke:none;\" d=\"M 0.859375 -0.65625 C 0.859375 -0.90625 0.921875 -1.097656 1.046875 -1.234375 C 1.179688 -1.378906 1.363281 -1.453125 1.59375 -1.453125 C 1.832031 -1.453125 2.015625 -1.378906 2.140625 -1.234375 C 2.273438 -1.097656 2.34375 -0.90625 2.34375 -0.65625 C 2.34375 -0.394531 2.273438 -0.191406 2.140625 -0.046875 C 2.015625 0.0976562 1.832031 0.171875 1.59375 0.171875 C 1.363281 0.171875 1.179688 0.0976562 1.046875 -0.046875 C 0.921875 -0.191406 0.859375 -0.394531 0.859375 -0.65625 Z M 0.859375 -0.65625 \"/>\n",
       "</symbol>\n",
       "<symbol overflow=\"visible\" id=\"glyph11-2-TW3cdq+G\">\n",
       "<path style=\"stroke:none;\" d=\"M 6.625 -1.953125 L 5.375 -1.953125 L 5.375 0 L 4.359375 0 L 4.359375 -1.953125 L 0.25 -1.953125 L 0.25 -2.84375 L 4.28125 -8.609375 L 5.375 -8.609375 L 5.375 -2.890625 L 6.625 -2.890625 Z M 4.359375 -2.890625 L 4.359375 -5.59375 C 4.359375 -6.125 4.378906 -6.753906 4.421875 -7.484375 L 4.359375 -7.484375 C 4.316406 -7.390625 4.242188 -7.238281 4.140625 -7.03125 C 4.035156 -6.832031 3.9375 -6.671875 3.84375 -6.546875 L 1.28125 -2.890625 Z M 4.359375 -2.890625 \"/>\n",
       "</symbol>\n",
       "<symbol overflow=\"visible\" id=\"glyph12-0-TW3cdq+G\">\n",
       "<path style=\"stroke:none;\" d=\"M 1.125 -8.5625 L 6.0625 -8.5625 L 6.0625 0 L 1.125 0 Z M 1.734375 -0.609375 L 5.453125 -0.609375 L 5.453125 -7.953125 L 1.734375 -7.953125 Z M 1.734375 -0.609375 \"/>\n",
       "</symbol>\n",
       "<symbol overflow=\"visible\" id=\"glyph12-1-TW3cdq+G\">\n",
       "<path style=\"stroke:none;\" d=\"M 6.140625 -2.375 C 6.140625 -1.601562 5.859375 -0.992188 5.296875 -0.546875 C 4.742188 -0.0976562 3.972656 0.125 2.984375 0.125 C 2.066406 0.125 1.253906 -0.0507812 0.546875 -0.40625 L 0.546875 -2.09375 C 1.128906 -1.832031 1.617188 -1.648438 2.015625 -1.546875 C 2.421875 -1.441406 2.789062 -1.390625 3.125 -1.390625 C 3.519531 -1.390625 3.820312 -1.460938 4.03125 -1.609375 C 4.25 -1.765625 4.359375 -1.992188 4.359375 -2.296875 C 4.359375 -2.460938 4.3125 -2.609375 4.21875 -2.734375 C 4.125 -2.867188 3.984375 -2.992188 3.796875 -3.109375 C 3.617188 -3.234375 3.25 -3.429688 2.6875 -3.703125 C 2.164062 -3.941406 1.773438 -4.175781 1.515625 -4.40625 C 1.253906 -4.632812 1.046875 -4.898438 0.890625 -5.203125 C 0.734375 -5.503906 0.65625 -5.851562 0.65625 -6.25 C 0.65625 -7.007812 0.910156 -7.601562 1.421875 -8.03125 C 1.929688 -8.46875 2.640625 -8.6875 3.546875 -8.6875 C 3.992188 -8.6875 4.421875 -8.632812 4.828125 -8.53125 C 5.234375 -8.425781 5.65625 -8.28125 6.09375 -8.09375 L 5.515625 -6.671875 C 5.054688 -6.859375 4.675781 -6.988281 4.375 -7.0625 C 4.070312 -7.132812 3.78125 -7.171875 3.5 -7.171875 C 3.15625 -7.171875 2.890625 -7.09375 2.703125 -6.9375 C 2.515625 -6.78125 2.421875 -6.570312 2.421875 -6.3125 C 2.421875 -6.15625 2.457031 -6.015625 2.53125 -5.890625 C 2.613281 -5.773438 2.734375 -5.660156 2.890625 -5.546875 C 3.054688 -5.429688 3.441406 -5.234375 4.046875 -4.953125 C 4.847656 -4.566406 5.394531 -4.179688 5.6875 -3.796875 C 5.988281 -3.410156 6.140625 -2.9375 6.140625 -2.375 Z M 6.140625 -2.375 \"/>\n",
       "</symbol>\n",
       "<symbol overflow=\"visible\" id=\"glyph12-2-TW3cdq+G\">\n",
       "<path style=\"stroke:none;\" d=\"M 0.859375 -8.25 C 0.859375 -8.832031 1.179688 -9.125 1.828125 -9.125 C 2.484375 -9.125 2.8125 -8.832031 2.8125 -8.25 C 2.8125 -7.96875 2.726562 -7.75 2.5625 -7.59375 C 2.40625 -7.4375 2.160156 -7.359375 1.828125 -7.359375 C 1.179688 -7.359375 0.859375 -7.65625 0.859375 -8.25 Z M 2.71875 0 L 0.9375 0 L 0.9375 -6.546875 L 2.71875 -6.546875 Z M 2.71875 0 \"/>\n",
       "</symbol>\n",
       "<symbol overflow=\"visible\" id=\"glyph12-3-TW3cdq+G\">\n",
       "<path style=\"stroke:none;\" d=\"M 3.65625 -5.40625 C 3.269531 -5.40625 2.96875 -5.285156 2.75 -5.046875 C 2.539062 -4.804688 2.421875 -4.460938 2.390625 -4.015625 L 4.90625 -4.015625 C 4.894531 -4.460938 4.773438 -4.804688 4.546875 -5.046875 C 4.328125 -5.285156 4.03125 -5.40625 3.65625 -5.40625 Z M 3.90625 0.125 C 2.851562 0.125 2.03125 -0.164062 1.4375 -0.75 C 0.84375 -1.332031 0.546875 -2.160156 0.546875 -3.234375 C 0.546875 -4.328125 0.816406 -5.171875 1.359375 -5.765625 C 1.910156 -6.367188 2.671875 -6.671875 3.640625 -6.671875 C 4.566406 -6.671875 5.285156 -6.40625 5.796875 -5.875 C 6.316406 -5.351562 6.578125 -4.628906 6.578125 -3.703125 L 6.578125 -2.828125 L 2.34375 -2.828125 C 2.363281 -2.316406 2.515625 -1.921875 2.796875 -1.640625 C 3.078125 -1.359375 3.472656 -1.21875 3.984375 -1.21875 C 4.378906 -1.21875 4.75 -1.253906 5.09375 -1.328125 C 5.445312 -1.410156 5.816406 -1.546875 6.203125 -1.734375 L 6.203125 -0.34375 C 5.890625 -0.1875 5.554688 -0.0703125 5.203125 0 C 4.847656 0.0820312 4.414062 0.125 3.90625 0.125 Z M 3.90625 0.125 \"/>\n",
       "</symbol>\n",
       "<symbol overflow=\"visible\" id=\"glyph13-0-TW3cdq+G\">\n",
       "<path style=\"stroke:none;\" d=\"M 1.125 -8.5625 L 6.0625 -8.5625 L 6.0625 0 L 1.125 0 Z M 1.734375 -0.609375 L 5.453125 -0.609375 L 5.453125 -7.953125 L 1.734375 -7.953125 Z M 1.734375 -0.609375 \"/>\n",
       "</symbol>\n",
       "<symbol overflow=\"visible\" id=\"glyph13-1-TW3cdq+G\">\n",
       "<path style=\"stroke:none;\" d=\"M 4.53125 0.125 C 3.757812 0.125 3.15625 -0.15625 2.71875 -0.71875 L 2.625 -0.71875 C 2.6875 -0.175781 2.71875 0.140625 2.71875 0.234375 L 2.71875 2.890625 L 0.9375 2.890625 L 0.9375 -6.546875 L 2.390625 -6.546875 L 2.640625 -5.703125 L 2.71875 -5.703125 C 3.144531 -6.347656 3.765625 -6.671875 4.578125 -6.671875 C 5.359375 -6.671875 5.96875 -6.367188 6.40625 -5.765625 C 6.84375 -5.171875 7.0625 -4.34375 7.0625 -3.28125 C 7.0625 -2.582031 6.957031 -1.972656 6.75 -1.453125 C 6.539062 -0.941406 6.242188 -0.550781 5.859375 -0.28125 C 5.484375 -0.0078125 5.039062 0.125 4.53125 0.125 Z M 4.015625 -5.25 C 3.566406 -5.25 3.238281 -5.113281 3.03125 -4.84375 C 2.832031 -4.570312 2.726562 -4.125 2.71875 -3.5 L 2.71875 -3.296875 C 2.71875 -2.597656 2.820312 -2.09375 3.03125 -1.78125 C 3.25 -1.476562 3.582031 -1.328125 4.03125 -1.328125 C 4.832031 -1.328125 5.234375 -1.988281 5.234375 -3.3125 C 5.234375 -3.957031 5.132812 -4.441406 4.9375 -4.765625 C 4.738281 -5.085938 4.429688 -5.25 4.015625 -5.25 Z M 4.015625 -5.25 \"/>\n",
       "</symbol>\n",
       "<symbol overflow=\"visible\" id=\"glyph13-2-TW3cdq+G\">\n",
       "<path style=\"stroke:none;\" d=\"M 3.59375 0.125 C 1.5625 0.125 0.546875 -0.992188 0.546875 -3.234375 C 0.546875 -4.347656 0.820312 -5.195312 1.375 -5.78125 C 1.925781 -6.375 2.71875 -6.671875 3.75 -6.671875 C 4.507812 -6.671875 5.191406 -6.523438 5.796875 -6.234375 L 5.265625 -4.84375 C 4.984375 -4.957031 4.722656 -5.050781 4.484375 -5.125 C 4.242188 -5.195312 4 -5.234375 3.75 -5.234375 C 2.820312 -5.234375 2.359375 -4.570312 2.359375 -3.25 C 2.359375 -1.96875 2.820312 -1.328125 3.75 -1.328125 C 4.09375 -1.328125 4.410156 -1.375 4.703125 -1.46875 C 5.003906 -1.5625 5.300781 -1.707031 5.59375 -1.90625 L 5.59375 -0.375 C 5.300781 -0.1875 5.003906 -0.0546875 4.703125 0.015625 C 4.410156 0.0859375 4.039062 0.125 3.59375 0.125 Z M 3.59375 0.125 \"/>\n",
       "</symbol>\n",
       "<symbol overflow=\"visible\" id=\"glyph13-3-TW3cdq+G\">\n",
       "<path style=\"stroke:none;\" d=\"M 5.515625 -1.953125 C 5.515625 -1.273438 5.28125 -0.757812 4.8125 -0.40625 C 4.34375 -0.0507812 3.644531 0.125 2.71875 0.125 C 2.238281 0.125 1.828125 0.0859375 1.484375 0.015625 C 1.148438 -0.046875 0.835938 -0.140625 0.546875 -0.265625 L 0.546875 -1.734375 C 0.878906 -1.578125 1.253906 -1.445312 1.671875 -1.34375 C 2.085938 -1.238281 2.453125 -1.1875 2.765625 -1.1875 C 3.421875 -1.1875 3.75 -1.375 3.75 -1.75 C 3.75 -1.894531 3.703125 -2.007812 3.609375 -2.09375 C 3.523438 -2.1875 3.378906 -2.285156 3.171875 -2.390625 C 2.960938 -2.503906 2.679688 -2.632812 2.328125 -2.78125 C 1.828125 -2.988281 1.457031 -3.179688 1.21875 -3.359375 C 0.976562 -3.546875 0.804688 -3.753906 0.703125 -3.984375 C 0.597656 -4.222656 0.546875 -4.507812 0.546875 -4.84375 C 0.546875 -5.425781 0.769531 -5.875 1.21875 -6.1875 C 1.664062 -6.507812 2.304688 -6.671875 3.140625 -6.671875 C 3.921875 -6.671875 4.6875 -6.5 5.4375 -6.15625 L 4.90625 -4.875 C 4.570312 -5.007812 4.257812 -5.117188 3.96875 -5.203125 C 3.6875 -5.296875 3.398438 -5.34375 3.109375 -5.34375 C 2.578125 -5.34375 2.3125 -5.203125 2.3125 -4.921875 C 2.3125 -4.765625 2.394531 -4.625 2.5625 -4.5 C 2.738281 -4.382812 3.113281 -4.210938 3.6875 -3.984375 C 4.195312 -3.773438 4.570312 -3.582031 4.8125 -3.40625 C 5.050781 -3.226562 5.226562 -3.019531 5.34375 -2.78125 C 5.457031 -2.550781 5.515625 -2.273438 5.515625 -1.953125 Z M 5.515625 -1.953125 \"/>\n",
       "</symbol>\n",
       "<symbol overflow=\"visible\" id=\"glyph14-0-TW3cdq+G\">\n",
       "<path style=\"stroke:none;\" d=\"M 1.125 -8.5625 L 6.0625 -8.5625 L 6.0625 0 L 1.125 0 Z M 1.734375 -0.609375 L 5.453125 -0.609375 L 5.453125 -7.953125 L 1.734375 -7.953125 Z M 1.734375 -0.609375 \"/>\n",
       "</symbol>\n",
       "<symbol overflow=\"visible\" id=\"glyph14-1-TW3cdq+G\">\n",
       "<path style=\"stroke:none;\" d=\"M 3.65625 -5.40625 C 3.269531 -5.40625 2.96875 -5.285156 2.75 -5.046875 C 2.539062 -4.804688 2.421875 -4.460938 2.390625 -4.015625 L 4.90625 -4.015625 C 4.894531 -4.460938 4.773438 -4.804688 4.546875 -5.046875 C 4.328125 -5.285156 4.03125 -5.40625 3.65625 -5.40625 Z M 3.90625 0.125 C 2.851562 0.125 2.03125 -0.164062 1.4375 -0.75 C 0.84375 -1.332031 0.546875 -2.160156 0.546875 -3.234375 C 0.546875 -4.328125 0.816406 -5.171875 1.359375 -5.765625 C 1.910156 -6.367188 2.671875 -6.671875 3.640625 -6.671875 C 4.566406 -6.671875 5.285156 -6.40625 5.796875 -5.875 C 6.316406 -5.351562 6.578125 -4.628906 6.578125 -3.703125 L 6.578125 -2.828125 L 2.34375 -2.828125 C 2.363281 -2.316406 2.515625 -1.921875 2.796875 -1.640625 C 3.078125 -1.359375 3.472656 -1.21875 3.984375 -1.21875 C 4.378906 -1.21875 4.75 -1.253906 5.09375 -1.328125 C 5.445312 -1.410156 5.816406 -1.546875 6.203125 -1.734375 L 6.203125 -0.34375 C 5.890625 -0.1875 5.554688 -0.0703125 5.203125 0 C 4.847656 0.0820312 4.414062 0.125 3.90625 0.125 Z M 3.90625 0.125 \"/>\n",
       "</symbol>\n",
       "<symbol overflow=\"visible\" id=\"glyph15-0-TW3cdq+G\">\n",
       "<path style=\"stroke:none;\" d=\"M 1.125 -8.5625 L 6.0625 -8.5625 L 6.0625 0 L 1.125 0 Z M 1.734375 -0.609375 L 5.453125 -0.609375 L 5.453125 -7.953125 L 1.734375 -7.953125 Z M 1.734375 -0.609375 \"/>\n",
       "</symbol>\n",
       "<symbol overflow=\"visible\" id=\"glyph15-1-TW3cdq+G\">\n",
       "<path style=\"stroke:none;\" d=\"M 5.203125 -1.78125 C 5.203125 -1.175781 4.976562 -0.707031 4.53125 -0.375 C 4.082031 -0.0390625 3.453125 0.125 2.640625 0.125 C 1.796875 0.125 1.125 -0.0078125 0.625 -0.28125 L 0.625 -1.25 C 1.332031 -0.90625 2.015625 -0.734375 2.671875 -0.734375 C 3.203125 -0.734375 3.585938 -0.816406 3.828125 -0.984375 C 4.066406 -1.160156 4.1875 -1.394531 4.1875 -1.6875 C 4.1875 -1.9375 4.070312 -2.148438 3.84375 -2.328125 C 3.613281 -2.503906 3.203125 -2.707031 2.609375 -2.9375 C 1.992188 -3.164062 1.5625 -3.363281 1.3125 -3.53125 C 1.070312 -3.695312 0.894531 -3.882812 0.78125 -4.09375 C 0.664062 -4.300781 0.609375 -4.550781 0.609375 -4.84375 C 0.609375 -5.375 0.820312 -5.789062 1.25 -6.09375 C 1.6875 -6.394531 2.28125 -6.546875 3.03125 -6.546875 C 3.757812 -6.546875 4.441406 -6.40625 5.078125 -6.125 L 4.71875 -5.28125 C 4.0625 -5.550781 3.472656 -5.6875 2.953125 -5.6875 C 2.515625 -5.6875 2.179688 -5.617188 1.953125 -5.484375 C 1.734375 -5.347656 1.625 -5.15625 1.625 -4.90625 C 1.625 -4.675781 1.71875 -4.484375 1.90625 -4.328125 C 2.101562 -4.171875 2.5625 -3.957031 3.28125 -3.6875 C 3.8125 -3.488281 4.203125 -3.300781 4.453125 -3.125 C 4.710938 -2.957031 4.898438 -2.765625 5.015625 -2.546875 C 5.140625 -2.335938 5.203125 -2.082031 5.203125 -1.78125 Z M 5.203125 -1.78125 \"/>\n",
       "</symbol>\n",
       "<symbol overflow=\"visible\" id=\"glyph15-2-TW3cdq+G\">\n",
       "<path style=\"stroke:none;\" d=\"M 6.609375 -3.234375 C 6.609375 -2.179688 6.34375 -1.359375 5.8125 -0.765625 C 5.28125 -0.171875 4.546875 0.125 3.609375 0.125 C 3.023438 0.125 2.507812 -0.0078125 2.0625 -0.28125 C 1.613281 -0.5625 1.265625 -0.953125 1.015625 -1.453125 C 0.773438 -1.960938 0.65625 -2.554688 0.65625 -3.234375 C 0.65625 -4.273438 0.914062 -5.085938 1.4375 -5.671875 C 1.96875 -6.253906 2.707031 -6.546875 3.65625 -6.546875 C 4.5625 -6.546875 5.28125 -6.25 5.8125 -5.65625 C 6.34375 -5.0625 6.609375 -4.253906 6.609375 -3.234375 Z M 1.75 -3.234375 C 1.75 -2.421875 1.90625 -1.800781 2.21875 -1.375 C 2.539062 -0.957031 3.015625 -0.75 3.640625 -0.75 C 4.253906 -0.75 4.71875 -0.957031 5.03125 -1.375 C 5.351562 -1.800781 5.515625 -2.421875 5.515625 -3.234375 C 5.515625 -4.035156 5.351562 -4.640625 5.03125 -5.046875 C 4.707031 -5.460938 4.238281 -5.671875 3.625 -5.671875 C 2.375 -5.671875 1.75 -4.859375 1.75 -3.234375 Z M 1.75 -3.234375 \"/>\n",
       "</symbol>\n",
       "<symbol overflow=\"visible\" id=\"glyph15-3-TW3cdq+G\">\n",
       "<path style=\"stroke:none;\" d=\"M 2.4375 0 L 0 -6.4375 L 1.125 -6.4375 L 2.5 -2.640625 C 2.769531 -1.878906 2.941406 -1.3125 3.015625 -0.9375 L 3.0625 -0.9375 C 3.070312 -0.988281 3.082031 -1.046875 3.09375 -1.109375 C 3.113281 -1.171875 3.132812 -1.238281 3.15625 -1.3125 C 3.1875 -1.394531 3.332031 -1.835938 3.59375 -2.640625 L 4.96875 -6.4375 L 6.09375 -6.4375 L 3.65625 0 Z M 2.4375 0 \"/>\n",
       "</symbol>\n",
       "<symbol overflow=\"visible\" id=\"glyph15-4-TW3cdq+G\">\n",
       "<path style=\"stroke:none;\" d=\"M 3.59375 0.125 C 2.664062 0.125 1.941406 -0.160156 1.421875 -0.734375 C 0.910156 -1.304688 0.65625 -2.125 0.65625 -3.1875 C 0.65625 -4.257812 0.914062 -5.085938 1.4375 -5.671875 C 1.96875 -6.253906 2.710938 -6.546875 3.671875 -6.546875 C 3.984375 -6.546875 4.289062 -6.515625 4.59375 -6.453125 C 4.90625 -6.390625 5.160156 -6.304688 5.359375 -6.203125 L 5.046875 -5.328125 C 4.492188 -5.523438 4.03125 -5.625 3.65625 -5.625 C 3 -5.625 2.515625 -5.421875 2.203125 -5.015625 C 1.898438 -4.609375 1.75 -4 1.75 -3.1875 C 1.75 -2.414062 1.898438 -1.820312 2.203125 -1.40625 C 2.515625 -1 2.976562 -0.796875 3.59375 -0.796875 C 4.15625 -0.796875 4.707031 -0.921875 5.25 -1.171875 L 5.25 -0.234375 C 4.8125 0.00390625 4.257812 0.125 3.59375 0.125 Z M 3.59375 0.125 \"/>\n",
       "</symbol>\n",
       "<symbol overflow=\"visible\" id=\"glyph16-0-TW3cdq+G\">\n",
       "<path style=\"stroke:none;\" d=\"M 1.125 -8.5625 L 6.0625 -8.5625 L 6.0625 0 L 1.125 0 Z M 1.734375 -0.609375 L 5.453125 -0.609375 L 5.453125 -7.953125 L 1.734375 -7.953125 Z M 1.734375 -0.609375 \"/>\n",
       "</symbol>\n",
       "<symbol overflow=\"visible\" id=\"glyph16-1-TW3cdq+G\">\n",
       "<path style=\"stroke:none;\" d=\"M 3.75 0.125 C 2.789062 0.125 2.035156 -0.164062 1.484375 -0.75 C 0.929688 -1.34375 0.65625 -2.148438 0.65625 -3.171875 C 0.65625 -4.203125 0.910156 -5.019531 1.421875 -5.625 C 1.941406 -6.238281 2.632812 -6.546875 3.5 -6.546875 C 4.3125 -6.546875 4.957031 -6.285156 5.4375 -5.765625 C 5.914062 -5.242188 6.15625 -4.539062 6.15625 -3.65625 L 6.15625 -3.015625 L 1.75 -3.015625 C 1.769531 -2.285156 1.957031 -1.726562 2.3125 -1.34375 C 2.664062 -0.96875 3.160156 -0.78125 3.796875 -0.78125 C 4.140625 -0.78125 4.46875 -0.8125 4.78125 -0.875 C 5.09375 -0.9375 5.453125 -1.050781 5.859375 -1.21875 L 5.859375 -0.296875 C 5.503906 -0.148438 5.171875 -0.046875 4.859375 0.015625 C 4.546875 0.0859375 4.175781 0.125 3.75 0.125 Z M 3.5 -5.6875 C 2.988281 -5.6875 2.585938 -5.523438 2.296875 -5.203125 C 2.003906 -4.878906 1.832031 -4.425781 1.78125 -3.84375 L 5.046875 -3.84375 C 5.046875 -4.445312 4.910156 -4.90625 4.640625 -5.21875 C 4.367188 -5.53125 3.988281 -5.6875 3.5 -5.6875 Z M 3.5 -5.6875 \"/>\n",
       "</symbol>\n",
       "<symbol overflow=\"visible\" id=\"glyph16-2-TW3cdq+G\">\n",
       "<path style=\"stroke:none;\" d=\"M 6.609375 -3.234375 C 6.609375 -2.179688 6.34375 -1.359375 5.8125 -0.765625 C 5.28125 -0.171875 4.546875 0.125 3.609375 0.125 C 3.023438 0.125 2.507812 -0.0078125 2.0625 -0.28125 C 1.613281 -0.5625 1.265625 -0.953125 1.015625 -1.453125 C 0.773438 -1.960938 0.65625 -2.554688 0.65625 -3.234375 C 0.65625 -4.273438 0.914062 -5.085938 1.4375 -5.671875 C 1.96875 -6.253906 2.707031 -6.546875 3.65625 -6.546875 C 4.5625 -6.546875 5.28125 -6.25 5.8125 -5.65625 C 6.34375 -5.0625 6.609375 -4.253906 6.609375 -3.234375 Z M 1.75 -3.234375 C 1.75 -2.421875 1.90625 -1.800781 2.21875 -1.375 C 2.539062 -0.957031 3.015625 -0.75 3.640625 -0.75 C 4.253906 -0.75 4.71875 -0.957031 5.03125 -1.375 C 5.351562 -1.800781 5.515625 -2.421875 5.515625 -3.234375 C 5.515625 -4.035156 5.351562 -4.640625 5.03125 -5.046875 C 4.707031 -5.460938 4.238281 -5.671875 3.625 -5.671875 C 2.375 -5.671875 1.75 -4.859375 1.75 -3.234375 Z M 1.75 -3.234375 \"/>\n",
       "</symbol>\n",
       "<symbol overflow=\"visible\" id=\"glyph16-3-TW3cdq+G\">\n",
       "<path style=\"stroke:none;\" d=\"M 2.078125 0 L 1.015625 0 L 1.015625 -6.4375 L 2.078125 -6.4375 Z M 0.9375 -8.171875 C 0.9375 -8.410156 0.992188 -8.582031 1.109375 -8.6875 C 1.234375 -8.789062 1.382812 -8.84375 1.5625 -8.84375 C 1.726562 -8.84375 1.867188 -8.789062 1.984375 -8.6875 C 2.109375 -8.582031 2.171875 -8.410156 2.171875 -8.171875 C 2.171875 -7.941406 2.109375 -7.769531 1.984375 -7.65625 C 1.867188 -7.550781 1.726562 -7.5 1.5625 -7.5 C 1.382812 -7.5 1.234375 -7.550781 1.109375 -7.65625 C 0.992188 -7.769531 0.9375 -7.941406 0.9375 -8.171875 Z M 0.9375 -8.171875 \"/>\n",
       "</symbol>\n",
       "<symbol overflow=\"visible\" id=\"glyph16-4-TW3cdq+G\">\n",
       "<path style=\"stroke:none;\" d=\"M 5.40625 0 L 5.40625 -4.109375 C 5.40625 -4.640625 5.285156 -5.03125 5.046875 -5.28125 C 4.816406 -5.539062 4.457031 -5.671875 3.96875 -5.671875 C 3.300781 -5.671875 2.816406 -5.488281 2.515625 -5.125 C 2.222656 -4.757812 2.078125 -4.160156 2.078125 -3.328125 L 2.078125 0 L 1.015625 0 L 1.015625 -6.4375 L 1.875 -6.4375 L 2.03125 -5.5625 L 2.09375 -5.5625 C 2.289062 -5.875 2.566406 -6.113281 2.921875 -6.28125 C 3.285156 -6.457031 3.679688 -6.546875 4.109375 -6.546875 C 4.898438 -6.546875 5.488281 -6.351562 5.875 -5.96875 C 6.257812 -5.59375 6.453125 -5 6.453125 -4.1875 L 6.453125 0 Z M 5.40625 0 \"/>\n",
       "</symbol>\n",
       "<symbol overflow=\"visible\" id=\"glyph16-5-TW3cdq+G\">\n",
       "<path style=\"stroke:none;\" d=\"M 3.59375 0.125 C 2.664062 0.125 1.941406 -0.160156 1.421875 -0.734375 C 0.910156 -1.304688 0.65625 -2.125 0.65625 -3.1875 C 0.65625 -4.257812 0.914062 -5.085938 1.4375 -5.671875 C 1.96875 -6.253906 2.710938 -6.546875 3.671875 -6.546875 C 3.984375 -6.546875 4.289062 -6.515625 4.59375 -6.453125 C 4.90625 -6.390625 5.160156 -6.304688 5.359375 -6.203125 L 5.046875 -5.328125 C 4.492188 -5.523438 4.03125 -5.625 3.65625 -5.625 C 3 -5.625 2.515625 -5.421875 2.203125 -5.015625 C 1.898438 -4.609375 1.75 -4 1.75 -3.1875 C 1.75 -2.414062 1.898438 -1.820312 2.203125 -1.40625 C 2.515625 -1 2.976562 -0.796875 3.59375 -0.796875 C 4.15625 -0.796875 4.707031 -0.921875 5.25 -1.171875 L 5.25 -0.234375 C 4.8125 0.00390625 4.257812 0.125 3.59375 0.125 Z M 3.59375 0.125 \"/>\n",
       "</symbol>\n",
       "</g>\n",
       "</defs>\n",
       "<g id=\"surface1-TW3cdq+G\">\n",
       "<rect x=\"0\" y=\"0\" width=\"600\" height=\"450\" style=\"fill:rgb(96.470588%,94.509804%,92.156863%);fill-opacity:1;stroke:none;\"/>\n",
       "<path style=\"fill:none;stroke-width:2;stroke-linecap:butt;stroke-linejoin:miter;stroke:rgb(85.490197%,85.490197%,85.490197%);stroke-opacity:1;stroke-dasharray:6,6;stroke-miterlimit:2;\" d=\"M 145.786458 529 L 145.786458 16 \" transform=\"matrix(0.75,0,0,0.75,0,0)\"/>\n",
       "<path style=\"fill:none;stroke-width:2;stroke-linecap:butt;stroke-linejoin:miter;stroke:rgb(85.490197%,85.490197%,85.490197%);stroke-opacity:1;stroke-dasharray:6,6;stroke-miterlimit:2;\" d=\"M 271.223958 529 L 271.223958 16 \" transform=\"matrix(0.75,0,0,0.75,0,0)\"/>\n",
       "<path style=\"fill:none;stroke-width:2;stroke-linecap:butt;stroke-linejoin:miter;stroke:rgb(85.490197%,85.490197%,85.490197%);stroke-opacity:1;stroke-dasharray:6,6;stroke-miterlimit:2;\" d=\"M 396.666667 529 L 396.666667 16 \" transform=\"matrix(0.75,0,0,0.75,0,0)\"/>\n",
       "<path style=\"fill:none;stroke-width:2;stroke-linecap:butt;stroke-linejoin:miter;stroke:rgb(85.490197%,85.490197%,85.490197%);stroke-opacity:1;stroke-dasharray:6,6;stroke-miterlimit:2;\" d=\"M 522.104167 529 L 522.104167 16 \" transform=\"matrix(0.75,0,0,0.75,0,0)\"/>\n",
       "<path style=\"fill:none;stroke-width:2;stroke-linecap:butt;stroke-linejoin:miter;stroke:rgb(85.490197%,85.490197%,85.490197%);stroke-opacity:1;stroke-dasharray:6,6;stroke-miterlimit:2;\" d=\"M 81 483.875 L 642 483.875 \" transform=\"matrix(0.75,0,0,0.75,0,0)\"/>\n",
       "<path style=\"fill:none;stroke-width:2;stroke-linecap:butt;stroke-linejoin:miter;stroke:rgb(85.490197%,85.490197%,85.490197%);stroke-opacity:1;stroke-dasharray:6,6;stroke-miterlimit:2;\" d=\"M 81 318.260417 L 642 318.260417 \" transform=\"matrix(0.75,0,0,0.75,0,0)\"/>\n",
       "<path style=\"fill:none;stroke-width:2;stroke-linecap:butt;stroke-linejoin:miter;stroke:rgb(85.490197%,85.490197%,85.490197%);stroke-opacity:1;stroke-dasharray:6,6;stroke-miterlimit:2;\" d=\"M 81 152.640625 L 642 152.640625 \" transform=\"matrix(0.75,0,0,0.75,0,0)\"/>\n",
       "<g style=\"fill:rgb(43.921569%,43.529412%,43.529412%);fill-opacity:1;\">\n",
       "  <use xlink:href=\"#glyph0-1-TW3cdq+G\" x=\"260.273438\" y=\"435.292969\"/>\n",
       "</g>\n",
       "<g style=\"fill:rgb(43.921569%,43.529412%,43.529412%);fill-opacity:1;\">\n",
       "  <use xlink:href=\"#glyph1-1-TW3cdq+G\" x=\"267.533203\" y=\"435.292969\"/>\n",
       "</g>\n",
       "<g style=\"fill:rgb(43.921569%,43.529412%,43.529412%);fill-opacity:1;\">\n",
       "  <use xlink:href=\"#glyph1-2-TW3cdq+G\" x=\"275.115234\" y=\"435.292969\"/>\n",
       "</g>\n",
       "<g style=\"fill:rgb(43.921569%,43.529412%,43.529412%);fill-opacity:1;\">\n",
       "  <use xlink:href=\"#glyph2-1-TW3cdq+G\" x=\"98.939507\" y=\"416.701172\"/>\n",
       "</g>\n",
       "<g style=\"fill:rgb(43.921569%,43.529412%,43.529412%);fill-opacity:1;\">\n",
       "  <use xlink:href=\"#glyph3-1-TW3cdq+G\" x=\"102.800823\" y=\"416.701172\"/>\n",
       "</g>\n",
       "<g style=\"fill:rgb(43.921569%,43.529412%,43.529412%);fill-opacity:1;\">\n",
       "  <use xlink:href=\"#glyph3-2-TW3cdq+G\" x=\"109.662151\" y=\"416.701172\"/>\n",
       "</g>\n",
       "<g style=\"fill:rgb(43.921569%,43.529412%,43.529412%);fill-opacity:1;\">\n",
       "  <use xlink:href=\"#glyph3-3-TW3cdq+G\" x=\"112.87896\" y=\"416.701172\"/>\n",
       "</g>\n",
       "<g style=\"fill:rgb(43.921569%,43.529412%,43.529412%);fill-opacity:1;\">\n",
       "  <use xlink:href=\"#glyph0-2-TW3cdq+G\" x=\"194.949554\" y=\"416.701172\"/>\n",
       "</g>\n",
       "<g style=\"fill:rgb(43.921569%,43.529412%,43.529412%);fill-opacity:1;\">\n",
       "  <use xlink:href=\"#glyph0-3-TW3cdq+G\" x=\"201.810883\" y=\"416.701172\"/>\n",
       "</g>\n",
       "<g style=\"fill:rgb(43.921569%,43.529412%,43.529412%);fill-opacity:1;\">\n",
       "  <use xlink:href=\"#glyph0-2-TW3cdq+G\" x=\"205.027679\" y=\"416.701172\"/>\n",
       "</g>\n",
       "<g style=\"fill:rgb(43.921569%,43.529412%,43.529412%);fill-opacity:1;\">\n",
       "  <use xlink:href=\"#glyph1-3-TW3cdq+G\" x=\"289.028915\" y=\"416.701172\"/>\n",
       "</g>\n",
       "<g style=\"fill:rgb(43.921569%,43.529412%,43.529412%);fill-opacity:1;\">\n",
       "  <use xlink:href=\"#glyph4-1-TW3cdq+G\" x=\"295.890221\" y=\"416.701172\"/>\n",
       "</g>\n",
       "<g style=\"fill:rgb(43.921569%,43.529412%,43.529412%);fill-opacity:1;\">\n",
       "  <use xlink:href=\"#glyph1-4-TW3cdq+G\" x=\"299.10704\" y=\"416.701172\"/>\n",
       "</g>\n",
       "<g style=\"fill:rgb(43.921569%,43.529412%,43.529412%);fill-opacity:1;\">\n",
       "  <use xlink:href=\"#glyph0-4-TW3cdq+G\" x=\"383.108276\" y=\"416.701172\"/>\n",
       "</g>\n",
       "<g style=\"fill:rgb(43.921569%,43.529412%,43.529412%);fill-opacity:1;\">\n",
       "  <use xlink:href=\"#glyph0-3-TW3cdq+G\" x=\"389.969604\" y=\"416.701172\"/>\n",
       "</g>\n",
       "<g style=\"fill:rgb(43.921569%,43.529412%,43.529412%);fill-opacity:1;\">\n",
       "  <use xlink:href=\"#glyph0-2-TW3cdq+G\" x=\"393.186401\" y=\"416.701172\"/>\n",
       "</g>\n",
       "<g style=\"fill:rgb(43.921569%,43.529412%,43.529412%);fill-opacity:1;\">\n",
       "  <use xlink:href=\"#glyph5-1-TW3cdq+G\" x=\"24.058594\" y=\"215.226562\"/>\n",
       "</g>\n",
       "<g style=\"fill:rgb(43.921569%,43.529412%,43.529412%);fill-opacity:1;\">\n",
       "  <use xlink:href=\"#glyph5-2-TW3cdq+G\" x=\"24.058594\" y=\"207.966797\"/>\n",
       "</g>\n",
       "<g style=\"fill:rgb(43.921569%,43.529412%,43.529412%);fill-opacity:1;\">\n",
       "  <use xlink:href=\"#glyph6-1-TW3cdq+G\" x=\"24.058594\" y=\"200.384743\"/>\n",
       "</g>\n",
       "<g style=\"fill:rgb(43.921569%,43.529412%,43.529412%);fill-opacity:1;\">\n",
       "  <use xlink:href=\"#glyph7-1-TW3cdq+G\" x=\"31.324213\" y=\"367.563057\"/>\n",
       "</g>\n",
       "<g style=\"fill:rgb(43.921569%,43.529412%,43.529412%);fill-opacity:1;\">\n",
       "  <use xlink:href=\"#glyph7-2-TW3cdq+G\" x=\"35.185541\" y=\"367.563057\"/>\n",
       "</g>\n",
       "<g style=\"fill:rgb(43.921569%,43.529412%,43.529412%);fill-opacity:1;\">\n",
       "  <use xlink:href=\"#glyph8-1-TW3cdq+G\" x=\"42.046881\" y=\"367.563057\"/>\n",
       "</g>\n",
       "<g style=\"fill:rgb(43.921569%,43.529412%,43.529412%);fill-opacity:1;\">\n",
       "  <use xlink:href=\"#glyph8-2-TW3cdq+G\" x=\"45.263672\" y=\"367.563057\"/>\n",
       "</g>\n",
       "<g style=\"fill:rgb(43.921569%,43.529412%,43.529412%);fill-opacity:1;\">\n",
       "  <use xlink:href=\"#glyph9-1-TW3cdq+G\" x=\"31.324213\" y=\"243.350006\"/>\n",
       "</g>\n",
       "<g style=\"fill:rgb(43.921569%,43.529412%,43.529412%);fill-opacity:1;\">\n",
       "  <use xlink:href=\"#glyph9-2-TW3cdq+G\" x=\"35.185541\" y=\"243.350006\"/>\n",
       "</g>\n",
       "<g style=\"fill:rgb(43.921569%,43.529412%,43.529412%);fill-opacity:1;\">\n",
       "  <use xlink:href=\"#glyph2-2-TW3cdq+G\" x=\"42.046881\" y=\"243.350006\"/>\n",
       "</g>\n",
       "<g style=\"fill:rgb(43.921569%,43.529412%,43.529412%);fill-opacity:1;\">\n",
       "  <use xlink:href=\"#glyph2-3-TW3cdq+G\" x=\"45.263672\" y=\"243.350006\"/>\n",
       "</g>\n",
       "<g style=\"fill:rgb(43.921569%,43.529412%,43.529412%);fill-opacity:1;\">\n",
       "  <use xlink:href=\"#glyph10-1-TW3cdq+G\" x=\"31.324213\" y=\"119.136887\"/>\n",
       "</g>\n",
       "<g style=\"fill:rgb(43.921569%,43.529412%,43.529412%);fill-opacity:1;\">\n",
       "  <use xlink:href=\"#glyph10-2-TW3cdq+G\" x=\"35.185541\" y=\"119.136887\"/>\n",
       "</g>\n",
       "<g style=\"fill:rgb(43.921569%,43.529412%,43.529412%);fill-opacity:1;\">\n",
       "  <use xlink:href=\"#glyph11-1-TW3cdq+G\" x=\"42.046881\" y=\"119.136887\"/>\n",
       "</g>\n",
       "<g style=\"fill:rgb(43.921569%,43.529412%,43.529412%);fill-opacity:1;\">\n",
       "  <use xlink:href=\"#glyph11-2-TW3cdq+G\" x=\"45.263672\" y=\"119.136887\"/>\n",
       "</g>\n",
       "<path style=\" stroke:none;fill-rule:nonzero;fill:rgb(38.431373%,73.333335%,64.705884%);fill-opacity:1;\" d=\"M 112.425781 235.835938 C 112.425781 234.074219 109.78125 234.074219 109.78125 235.835938 C 109.78125 237.601562 112.425781 237.601562 112.425781 235.835938 Z M 112.425781 235.835938 \"/>\n",
       "<path style=\" stroke:none;fill-rule:nonzero;fill:rgb(38.431373%,73.333335%,64.705884%);fill-opacity:1;\" d=\"M 129.085938 184.589844 C 129.085938 182.824219 126.441406 182.824219 126.441406 184.589844 C 126.441406 186.351562 129.085938 186.351562 129.085938 184.589844 Z M 129.085938 184.589844 \"/>\n",
       "<path style=\" stroke:none;fill-rule:nonzero;fill:rgb(38.431373%,73.333335%,64.705884%);fill-opacity:1;\" d=\"M 121.765625 207.402344 C 121.765625 205.640625 119.121094 205.640625 119.121094 207.402344 C 119.121094 209.167969 121.765625 209.167969 121.765625 207.402344 Z M 121.765625 207.402344 \"/>\n",
       "<path style=\" stroke:none;fill-rule:nonzero;fill:rgb(38.431373%,73.333335%,64.705884%);fill-opacity:1;\" d=\"M 134.164062 173.570312 C 134.164062 171.808594 131.519531 171.808594 131.519531 173.570312 C 131.519531 175.332031 134.164062 175.332031 134.164062 173.570312 Z M 134.164062 173.570312 \"/>\n",
       "<path style=\" stroke:none;fill-rule:nonzero;fill:rgb(38.431373%,73.333335%,64.705884%);fill-opacity:1;\" d=\"M 110.84375 241.808594 C 110.84375 240.046875 108.203125 240.046875 108.203125 241.808594 C 108.203125 243.570312 110.84375 243.570312 110.84375 241.808594 Z M 110.84375 241.808594 \"/>\n",
       "<path style=\" stroke:none;fill-rule:nonzero;fill:rgb(38.431373%,73.333335%,64.705884%);fill-opacity:1;\" d=\"M 122.164062 298.671875 C 122.164062 296.90625 119.519531 296.90625 119.519531 298.671875 C 119.519531 300.433594 122.164062 300.433594 122.164062 298.671875 Z M 122.164062 298.671875 \"/>\n",
       "<path style=\" stroke:none;fill-rule:nonzero;fill:rgb(38.431373%,73.333335%,64.705884%);fill-opacity:1;\" d=\"M 127.679688 236.613281 C 127.679688 234.851562 125.035156 234.851562 125.035156 236.613281 C 125.035156 238.378906 127.679688 238.378906 127.679688 236.613281 Z M 127.679688 236.613281 \"/>\n",
       "<path style=\" stroke:none;fill-rule:nonzero;fill:rgb(38.431373%,73.333335%,64.705884%);fill-opacity:1;\" d=\"M 120.667969 212.878906 C 120.667969 211.117188 118.023438 211.117188 118.023438 212.878906 C 118.023438 214.640625 120.667969 214.640625 120.667969 212.878906 Z M 120.667969 212.878906 \"/>\n",
       "<path style=\" stroke:none;fill-rule:nonzero;fill:rgb(38.431373%,73.333335%,64.705884%);fill-opacity:1;\" d=\"M 138.167969 160.277344 C 138.167969 158.515625 135.527344 158.515625 135.527344 160.277344 C 135.527344 162.039062 138.167969 162.039062 138.167969 160.277344 Z M 138.167969 160.277344 \"/>\n",
       "<path style=\" stroke:none;fill-rule:nonzero;fill:rgb(38.431373%,73.333335%,64.705884%);fill-opacity:1;\" d=\"M 124.246094 157.652344 C 124.246094 155.886719 121.601562 155.886719 121.601562 157.652344 C 121.601562 159.414062 124.246094 159.414062 124.246094 157.652344 Z M 124.246094 157.652344 \"/>\n",
       "<path style=\" stroke:none;fill-rule:nonzero;fill:rgb(38.431373%,73.333335%,64.705884%);fill-opacity:1;\" d=\"M 107.171875 252.1875 C 107.171875 250.425781 104.527344 250.425781 104.527344 252.1875 C 104.527344 253.949219 107.171875 253.949219 107.171875 252.1875 Z M 107.171875 252.1875 \"/>\n",
       "<path style=\" stroke:none;fill-rule:nonzero;fill:rgb(38.431373%,73.333335%,64.705884%);fill-opacity:1;\" d=\"M 127.328125 195.890625 C 127.328125 194.125 124.683594 194.125 124.683594 195.890625 C 124.683594 197.652344 127.328125 197.652344 127.328125 195.890625 Z M 127.328125 195.890625 \"/>\n",
       "<path style=\" stroke:none;fill-rule:nonzero;fill:rgb(38.431373%,73.333335%,64.705884%);fill-opacity:1;\" d=\"M 124.167969 156.441406 C 124.167969 154.679688 121.523438 154.679688 121.523438 156.441406 C 121.523438 158.203125 124.167969 158.203125 124.167969 156.441406 Z M 124.167969 156.441406 \"/>\n",
       "<path style=\" stroke:none;fill-rule:nonzero;fill:rgb(38.431373%,73.333335%,64.705884%);fill-opacity:1;\" d=\"M 117.941406 173.78125 C 117.941406 172.019531 115.296875 172.019531 115.296875 173.78125 C 115.296875 175.542969 117.941406 175.542969 117.941406 173.78125 Z M 117.941406 173.78125 \"/>\n",
       "<path style=\" stroke:none;fill-rule:nonzero;fill:rgb(38.431373%,73.333335%,64.705884%);fill-opacity:1;\" d=\"M 81.195312 324.121094 C 81.195312 322.359375 78.554688 322.359375 78.554688 324.121094 C 78.554688 325.882812 81.195312 325.882812 81.195312 324.121094 Z M 81.195312 324.121094 \"/>\n",
       "<path style=\" stroke:none;fill-rule:nonzero;fill:rgb(38.431373%,73.333335%,64.705884%);fill-opacity:1;\" d=\"M 95.933594 374.726562 C 95.933594 372.964844 93.292969 372.964844 93.292969 374.726562 C 93.292969 376.488281 95.933594 376.488281 95.933594 374.726562 Z M 95.933594 374.726562 \"/>\n",
       "<path style=\" stroke:none;fill-rule:nonzero;fill:rgb(38.431373%,73.333335%,64.705884%);fill-opacity:1;\" d=\"M 105.527344 342.171875 C 105.527344 340.410156 102.882812 340.410156 102.882812 342.171875 C 102.882812 343.933594 105.527344 343.933594 105.527344 342.171875 Z M 105.527344 342.171875 \"/>\n",
       "<path style=\" stroke:none;fill-rule:nonzero;fill:rgb(38.431373%,73.333335%,64.705884%);fill-opacity:1;\" d=\"M 118.59375 260.925781 C 118.59375 259.164062 115.953125 259.164062 115.953125 260.925781 C 115.953125 262.691406 118.59375 262.691406 118.59375 260.925781 Z M 118.59375 260.925781 \"/>\n",
       "<path style=\" stroke:none;fill-rule:nonzero;fill:rgb(38.431373%,73.333335%,64.705884%);fill-opacity:1;\" d=\"M 115.074219 273.726562 C 115.074219 271.960938 112.429688 271.960938 112.429688 273.726562 C 112.429688 275.488281 115.074219 275.488281 115.074219 273.726562 Z M 115.074219 273.726562 \"/>\n",
       "<path style=\" stroke:none;fill-rule:nonzero;fill:rgb(38.431373%,73.333335%,64.705884%);fill-opacity:1;\" d=\"M 114.257812 277.132812 C 114.257812 275.371094 111.617188 275.371094 111.617188 277.132812 C 111.617188 278.894531 114.257812 278.894531 114.257812 277.132812 Z M 114.257812 277.132812 \"/>\n",
       "<path style=\" stroke:none;fill-rule:nonzero;fill:rgb(38.431373%,73.333335%,64.705884%);fill-opacity:1;\" d=\"M 123.984375 203.355469 C 123.984375 201.59375 121.339844 201.59375 121.339844 203.355469 C 121.339844 205.121094 123.984375 205.121094 123.984375 203.355469 Z M 123.984375 203.355469 \"/>\n",
       "<path style=\" stroke:none;fill-rule:nonzero;fill:rgb(38.431373%,73.333335%,64.705884%);fill-opacity:1;\" d=\"M 123.257812 293.195312 C 123.257812 291.433594 120.617188 291.433594 120.617188 293.195312 C 120.617188 294.957031 123.257812 294.957031 123.257812 293.195312 Z M 123.257812 293.195312 \"/>\n",
       "<path style=\" stroke:none;fill-rule:nonzero;fill:rgb(38.431373%,73.333335%,64.705884%);fill-opacity:1;\" d=\"M 99.210938 273.078125 C 99.210938 271.316406 96.566406 271.316406 96.566406 273.078125 C 96.566406 274.84375 99.210938 274.84375 99.210938 273.078125 Z M 99.210938 273.078125 \"/>\n",
       "<path style=\" stroke:none;fill-rule:nonzero;fill:rgb(38.431373%,73.333335%,64.705884%);fill-opacity:1;\" d=\"M 149.074219 260.425781 C 149.074219 258.664062 146.429688 258.664062 146.429688 260.425781 C 146.429688 262.191406 149.074219 262.191406 149.074219 260.425781 Z M 149.074219 260.425781 \"/>\n",
       "<path style=\" stroke:none;fill-rule:nonzero;fill:rgb(38.431373%,73.333335%,64.705884%);fill-opacity:1;\" d=\"M 139.804688 163.265625 C 139.804688 161.5 137.160156 161.5 137.160156 163.265625 C 137.160156 165.027344 139.804688 165.027344 139.804688 163.265625 Z M 139.804688 163.265625 \"/>\n",
       "<path style=\" stroke:none;fill-rule:nonzero;fill:rgb(38.431373%,73.333335%,64.705884%);fill-opacity:1;\" d=\"M 136.152344 165.894531 C 136.152344 164.132812 133.511719 164.132812 133.511719 165.894531 C 133.511719 167.65625 136.152344 167.65625 136.152344 165.894531 Z M 136.152344 165.894531 \"/>\n",
       "<path style=\" stroke:none;fill-rule:nonzero;fill:rgb(38.431373%,73.333335%,64.705884%);fill-opacity:1;\" d=\"M 137.164062 252.183594 C 137.164062 250.421875 134.519531 250.421875 134.519531 252.183594 C 134.519531 253.945312 137.164062 253.945312 137.164062 252.183594 Z M 137.164062 252.183594 \"/>\n",
       "<path style=\" stroke:none;fill-rule:nonzero;fill:rgb(38.431373%,73.333335%,64.705884%);fill-opacity:1;\" d=\"M 115.335938 228.019531 C 115.335938 226.257812 112.691406 226.257812 112.691406 228.019531 C 112.691406 229.78125 115.335938 229.78125 115.335938 228.019531 Z M 115.335938 228.019531 \"/>\n",
       "<path style=\" stroke:none;fill-rule:nonzero;fill:rgb(38.431373%,73.333335%,64.705884%);fill-opacity:1;\" d=\"M 114.007812 229.867188 C 114.007812 228.105469 111.363281 228.105469 111.363281 229.867188 C 111.363281 231.628906 114.007812 231.628906 114.007812 229.867188 Z M 114.007812 229.867188 \"/>\n",
       "<path style=\" stroke:none;fill-rule:nonzero;fill:rgb(38.431373%,73.333335%,64.705884%);fill-opacity:1;\" d=\"M 134.242188 174.777344 C 134.242188 173.015625 131.597656 173.015625 131.597656 174.777344 C 131.597656 176.539062 134.242188 176.539062 134.242188 174.777344 Z M 134.242188 174.777344 \"/>\n",
       "<path style=\" stroke:none;fill-rule:nonzero;fill:rgb(38.431373%,73.333335%,64.705884%);fill-opacity:1;\" d=\"M 135.824219 168.808594 C 135.824219 167.046875 133.179688 167.046875 133.179688 168.808594 C 133.179688 170.570312 135.824219 170.570312 135.824219 168.808594 Z M 135.824219 168.808594 \"/>\n",
       "<path style=\" stroke:none;fill-rule:nonzero;fill:rgb(38.431373%,73.333335%,64.705884%);fill-opacity:1;\" d=\"M 128.003906 275.285156 C 128.003906 273.523438 125.359375 273.523438 125.359375 275.285156 C 125.359375 277.046875 128.003906 277.046875 128.003906 275.285156 Z M 128.003906 275.285156 \"/>\n",
       "<path style=\" stroke:none;fill-rule:nonzero;fill:rgb(38.431373%,73.333335%,64.705884%);fill-opacity:1;\" d=\"M 92.175781 257.09375 C 92.175781 255.328125 89.53125 255.328125 89.53125 257.09375 C 89.53125 258.855469 92.175781 258.855469 92.175781 257.09375 Z M 92.175781 257.09375 \"/>\n",
       "<path style=\" stroke:none;fill-rule:nonzero;fill:rgb(38.431373%,73.333335%,64.705884%);fill-opacity:1;\" d=\"M 87.601562 311.253906 C 87.601562 309.492188 84.960938 309.492188 84.960938 311.253906 C 84.960938 313.015625 87.601562 313.015625 87.601562 311.253906 Z M 87.601562 311.253906 \"/>\n",
       "<path style=\" stroke:none;fill-rule:nonzero;fill:rgb(38.431373%,73.333335%,64.705884%);fill-opacity:1;\" d=\"M 130.414062 182.742188 C 130.414062 180.976562 127.769531 180.976562 127.769531 182.742188 C 127.769531 184.503906 130.414062 184.503906 130.414062 182.742188 Z M 130.414062 182.742188 \"/>\n",
       "<path style=\" stroke:none;fill-rule:nonzero;fill:rgb(38.431373%,73.333335%,64.705884%);fill-opacity:1;\" d=\"M 113.855469 227.449219 C 113.855469 225.6875 111.210938 225.6875 111.210938 227.449219 C 111.210938 229.210938 113.855469 229.210938 113.855469 227.449219 Z M 113.855469 227.449219 \"/>\n",
       "<path style=\" stroke:none;fill-rule:nonzero;fill:rgb(38.431373%,73.333335%,64.705884%);fill-opacity:1;\" d=\"M 103.265625 258.941406 C 103.265625 257.179688 100.621094 257.179688 100.621094 258.941406 C 100.621094 260.703125 103.265625 260.703125 103.265625 258.941406 Z M 103.265625 258.941406 \"/>\n",
       "<path style=\" stroke:none;fill-rule:nonzero;fill:rgb(38.431373%,73.333335%,64.705884%);fill-opacity:1;\" d=\"M 105.925781 213.660156 C 105.925781 211.898438 103.28125 211.898438 103.28125 213.660156 C 103.28125 215.421875 105.925781 215.421875 105.925781 213.660156 Z M 105.925781 213.660156 \"/>\n",
       "<path style=\" stroke:none;fill-rule:nonzero;fill:rgb(38.431373%,73.333335%,64.705884%);fill-opacity:1;\" d=\"M 131.179688 180.179688 C 131.179688 178.414062 128.535156 178.414062 128.535156 180.179688 C 128.535156 181.941406 131.179688 181.941406 131.179688 180.179688 Z M 131.179688 180.179688 \"/>\n",
       "<path style=\" stroke:none;fill-rule:nonzero;fill:rgb(38.431373%,73.333335%,64.705884%);fill-opacity:1;\" d=\"M 119.417969 215.9375 C 119.417969 214.171875 116.773438 214.171875 116.773438 215.9375 C 116.773438 217.699219 119.417969 217.699219 119.417969 215.9375 Z M 119.417969 215.9375 \"/>\n",
       "<path style=\" stroke:none;fill-rule:nonzero;fill:rgb(38.431373%,73.333335%,64.705884%);fill-opacity:1;\" d=\"M 115.6875 268.746094 C 115.6875 266.984375 113.042969 266.984375 113.042969 268.746094 C 113.042969 270.507812 115.6875 270.507812 115.6875 268.746094 Z M 115.6875 268.746094 \"/>\n",
       "<path style=\" stroke:none;fill-rule:nonzero;fill:rgb(38.431373%,73.333335%,64.705884%);fill-opacity:1;\" d=\"M 155.917969 145.136719 C 155.917969 143.375 153.273438 143.375 153.273438 145.136719 C 153.273438 146.898438 155.917969 146.898438 155.917969 145.136719 Z M 155.917969 145.136719 \"/>\n",
       "<path style=\" stroke:none;fill-rule:nonzero;fill:rgb(38.431373%,73.333335%,64.705884%);fill-opacity:1;\" d=\"M 125.515625 198.230469 C 125.515625 196.46875 122.871094 196.46875 122.871094 198.230469 C 122.871094 199.996094 125.515625 199.996094 125.515625 198.230469 Z M 125.515625 198.230469 \"/>\n",
       "<path style=\" stroke:none;fill-rule:nonzero;fill:rgb(38.431373%,73.333335%,64.705884%);fill-opacity:1;\" d=\"M 146.671875 311.390625 C 146.671875 309.625 144.027344 309.625 144.027344 311.390625 C 144.027344 313.152344 146.671875 313.152344 146.671875 311.390625 Z M 146.671875 311.390625 \"/>\n",
       "<path style=\" stroke:none;fill-rule:nonzero;fill:rgb(38.431373%,73.333335%,64.705884%);fill-opacity:1;\" d=\"M 137.066406 258.722656 C 137.066406 256.960938 134.421875 256.960938 134.421875 258.722656 C 134.421875 260.484375 137.066406 260.484375 137.066406 258.722656 Z M 137.066406 258.722656 \"/>\n",
       "<path style=\" stroke:none;fill-rule:nonzero;fill:rgb(38.431373%,73.333335%,64.705884%);fill-opacity:1;\" d=\"M 136.503906 206.621094 C 136.503906 204.859375 133.859375 204.859375 133.859375 206.621094 C 133.859375 208.382812 136.503906 208.382812 136.503906 206.621094 Z M 136.503906 206.621094 \"/>\n",
       "<path style=\" stroke:none;fill-rule:nonzero;fill:rgb(38.431373%,73.333335%,64.705884%);fill-opacity:1;\" d=\"M 112.25 241.167969 C 112.25 239.40625 109.605469 239.40625 109.605469 241.167969 C 109.605469 242.929688 112.25 242.929688 112.25 241.167969 Z M 112.25 241.167969 \"/>\n",
       "<path style=\" stroke:none;fill-rule:nonzero;fill:rgb(38.431373%,73.333335%,64.705884%);fill-opacity:1;\" d=\"M 127.171875 193.472656 C 127.171875 191.707031 124.53125 191.707031 124.53125 193.472656 C 124.53125 195.234375 127.171875 195.234375 127.171875 193.472656 Z M 127.171875 193.472656 \"/>\n",
       "<path style=\" stroke:none;fill-rule:nonzero;fill:rgb(38.431373%,73.333335%,64.705884%);fill-opacity:1;\" d=\"M 108.421875 249.128906 C 108.421875 247.367188 105.777344 247.367188 105.777344 249.128906 C 105.777344 250.894531 108.421875 250.894531 108.421875 249.128906 Z M 108.421875 249.128906 \"/>\n",
       "<path style=\" stroke:none;fill-rule:nonzero;fill:rgb(38.431373%,73.333335%,64.705884%);fill-opacity:1;\" d=\"M 119.339844 214.726562 C 119.339844 212.964844 116.695312 212.964844 116.695312 214.726562 C 116.695312 216.488281 119.339844 216.488281 119.339844 214.726562 Z M 119.339844 214.726562 \"/>\n",
       "<path style=\" stroke:none;fill-rule:nonzero;fill:rgb(100%,72.156864%,30.19608%);fill-opacity:1;\" d=\"M 308.441406 209.039062 C 308.441406 207.277344 305.796875 207.277344 305.796875 209.039062 C 305.796875 210.800781 308.441406 210.800781 308.441406 209.039062 Z M 308.441406 209.039062 \"/>\n",
       "<path style=\" stroke:none;fill-rule:nonzero;fill:rgb(100%,72.156864%,30.19608%);fill-opacity:1;\" d=\"M 313.792969 237.535156 C 313.792969 235.773438 311.148438 235.773438 311.148438 237.535156 C 311.148438 239.300781 313.792969 239.300781 313.792969 237.535156 Z M 313.792969 237.535156 \"/>\n",
       "<path style=\" stroke:none;fill-rule:nonzero;fill:rgb(100%,72.156864%,30.19608%);fill-opacity:1;\" d=\"M 327.007812 200.292969 C 327.007812 198.53125 324.367188 198.53125 324.367188 200.292969 C 324.367188 202.058594 327.007812 202.058594 327.007812 200.292969 Z M 327.007812 200.292969 \"/>\n",
       "<path style=\" stroke:none;fill-rule:nonzero;fill:rgb(100%,72.156864%,30.19608%);fill-opacity:1;\" d=\"M 317.398438 132.976562 C 317.398438 131.214844 314.753906 131.214844 314.753906 132.976562 C 314.753906 134.738281 317.398438 134.738281 317.398438 132.976562 Z M 317.398438 132.976562 \"/>\n",
       "<path style=\" stroke:none;fill-rule:nonzero;fill:rgb(100%,72.156864%,30.19608%);fill-opacity:1;\" d=\"M 328.027344 193.609375 C 328.027344 191.847656 325.382812 191.847656 325.382812 193.609375 C 325.382812 195.375 328.027344 195.375 328.027344 193.609375 Z M 328.027344 193.609375 \"/>\n",
       "<path style=\" stroke:none;fill-rule:nonzero;fill:rgb(100%,72.156864%,30.19608%);fill-opacity:1;\" d=\"M 321.535156 129.851562 C 321.535156 128.085938 318.890625 128.085938 318.890625 129.851562 C 318.890625 131.613281 321.535156 131.613281 321.535156 129.851562 Z M 321.535156 129.851562 \"/>\n",
       "<path style=\" stroke:none;fill-rule:nonzero;fill:rgb(100%,72.156864%,30.19608%);fill-opacity:1;\" d=\"M 326.699219 246.847656 C 326.699219 245.082031 324.054688 245.082031 324.054688 246.847656 C 324.054688 248.609375 326.699219 248.609375 326.699219 246.847656 Z M 326.699219 246.847656 \"/>\n",
       "<path style=\" stroke:none;fill-rule:nonzero;fill:rgb(100%,72.156864%,30.19608%);fill-opacity:1;\" d=\"M 274.449219 124.519531 C 274.449219 122.753906 271.804688 122.753906 271.804688 124.519531 C 271.804688 126.28125 274.449219 126.28125 274.449219 124.519531 Z M 274.449219 124.519531 \"/>\n",
       "<path style=\" stroke:none;fill-rule:nonzero;fill:rgb(100%,72.156864%,30.19608%);fill-opacity:1;\" d=\"M 311.609375 155.515625 C 311.609375 153.753906 308.964844 153.753906 308.964844 155.515625 C 308.964844 157.277344 311.609375 157.277344 311.609375 155.515625 Z M 311.609375 155.515625 \"/>\n",
       "<path style=\" stroke:none;fill-rule:nonzero;fill:rgb(100%,72.156864%,30.19608%);fill-opacity:1;\" d=\"M 311.832031 195.878906 C 311.832031 194.117188 309.1875 194.117188 309.1875 195.878906 C 309.1875 197.640625 311.832031 197.640625 311.832031 195.878906 Z M 311.832031 195.878906 \"/>\n",
       "<path style=\" stroke:none;fill-rule:nonzero;fill:rgb(100%,72.156864%,30.19608%);fill-opacity:1;\" d=\"M 292.84375 69.71875 C 292.84375 67.953125 290.199219 67.953125 290.199219 69.71875 C 290.199219 71.480469 292.84375 71.480469 292.84375 69.71875 Z M 292.84375 69.71875 \"/>\n",
       "<path style=\" stroke:none;fill-rule:nonzero;fill:rgb(100%,72.156864%,30.19608%);fill-opacity:1;\" d=\"M 313.230469 236.824219 C 313.230469 235.058594 310.585938 235.058594 310.585938 236.824219 C 310.585938 238.585938 313.230469 238.585938 313.230469 236.824219 Z M 313.230469 236.824219 \"/>\n",
       "<path style=\" stroke:none;fill-rule:nonzero;fill:rgb(100%,72.156864%,30.19608%);fill-opacity:1;\" d=\"M 295.472656 63.964844 C 295.472656 62.203125 292.828125 62.203125 292.828125 63.964844 C 292.828125 65.730469 295.472656 65.730469 295.472656 63.964844 Z M 295.472656 63.964844 \"/>\n",
       "<path style=\" stroke:none;fill-rule:nonzero;fill:rgb(100%,72.156864%,30.19608%);fill-opacity:1;\" d=\"M 328.1875 154.445312 C 328.1875 152.683594 325.546875 152.683594 325.546875 154.445312 C 325.546875 156.207031 328.1875 156.207031 328.1875 154.445312 Z M 328.1875 154.445312 \"/>\n",
       "<path style=\" stroke:none;fill-rule:nonzero;fill:rgb(100%,72.156864%,30.19608%);fill-opacity:1;\" d=\"M 282.523438 233.695312 C 282.523438 231.933594 279.878906 231.933594 279.878906 233.695312 C 279.878906 235.457031 282.523438 235.457031 282.523438 233.695312 Z M 282.523438 233.695312 \"/>\n",
       "<path style=\" stroke:none;fill-rule:nonzero;fill:rgb(100%,72.156864%,30.19608%);fill-opacity:1;\" d=\"M 302.546875 223.464844 C 302.546875 221.703125 299.902344 221.703125 299.902344 223.464844 C 299.902344 225.230469 302.546875 225.230469 302.546875 223.464844 Z M 302.546875 223.464844 \"/>\n",
       "<path style=\" stroke:none;fill-rule:nonzero;fill:rgb(100%,72.156864%,30.19608%);fill-opacity:1;\" d=\"M 329.460938 195.027344 C 329.460938 193.265625 326.816406 193.265625 326.816406 195.027344 C 326.816406 196.789062 329.460938 196.789062 329.460938 195.027344 Z M 329.460938 195.027344 \"/>\n",
       "<path style=\" stroke:none;fill-rule:nonzero;fill:rgb(100%,72.156864%,30.19608%);fill-opacity:1;\" d=\"M 287.972656 92.113281 C 287.972656 90.347656 285.328125 90.347656 285.328125 92.113281 C 285.328125 93.875 287.972656 93.875 287.972656 92.113281 Z M 287.972656 92.113281 \"/>\n",
       "<path style=\" stroke:none;fill-rule:nonzero;fill:rgb(100%,72.156864%,30.19608%);fill-opacity:1;\" d=\"M 344.609375 141.152344 C 344.609375 139.390625 341.96875 139.390625 341.96875 141.152344 C 341.96875 142.914062 344.609375 142.914062 344.609375 141.152344 Z M 344.609375 141.152344 \"/>\n",
       "<path style=\" stroke:none;fill-rule:nonzero;fill:rgb(100%,72.156864%,30.19608%);fill-opacity:1;\" d=\"M 293.988281 114.785156 C 293.988281 113.019531 291.34375 113.019531 291.34375 114.785156 C 291.34375 116.546875 293.988281 116.546875 293.988281 114.785156 Z M 293.988281 114.785156 \"/>\n",
       "<path style=\" stroke:none;fill-rule:nonzero;fill:rgb(100%,72.156864%,30.19608%);fill-opacity:1;\" d=\"M 351.027344 264.894531 C 351.027344 263.132812 348.386719 263.132812 348.386719 264.894531 C 348.386719 266.65625 351.027344 266.65625 351.027344 264.894531 Z M 351.027344 264.894531 \"/>\n",
       "<path style=\" stroke:none;fill-rule:nonzero;fill:rgb(100%,72.156864%,30.19608%);fill-opacity:1;\" d=\"M 295.738281 196.453125 C 295.738281 194.691406 293.09375 194.691406 293.09375 196.453125 C 293.09375 198.214844 295.738281 198.214844 295.738281 196.453125 Z M 295.738281 196.453125 \"/>\n",
       "<path style=\" stroke:none;fill-rule:nonzero;fill:rgb(100%,72.156864%,30.19608%);fill-opacity:1;\" d=\"M 351.5 127.789062 C 351.5 126.027344 348.859375 126.027344 348.859375 127.789062 C 348.859375 129.554688 351.5 129.554688 351.5 127.789062 Z M 351.5 127.789062 \"/>\n",
       "<path style=\" stroke:none;fill-rule:nonzero;fill:rgb(100%,72.156864%,30.19608%);fill-opacity:1;\" d=\"M 318.683594 95.238281 C 318.683594 93.476562 316.039062 93.476562 316.039062 95.238281 C 316.039062 97 318.683594 97 318.683594 95.238281 Z M 318.683594 95.238281 \"/>\n",
       "<path style=\" stroke:none;fill-rule:nonzero;fill:rgb(100%,72.156864%,30.19608%);fill-opacity:1;\" d=\"M 301.632812 182.027344 C 301.632812 180.265625 298.988281 180.265625 298.988281 182.027344 C 298.988281 183.789062 301.632812 183.789062 301.632812 182.027344 Z M 301.632812 182.027344 \"/>\n",
       "<path style=\" stroke:none;fill-rule:nonzero;fill:rgb(100%,72.156864%,30.19608%);fill-opacity:1;\" d=\"M 306.628906 211.382812 C 306.628906 209.621094 303.984375 209.621094 303.984375 211.382812 C 303.984375 213.144531 306.628906 213.144531 306.628906 211.382812 Z M 306.628906 211.382812 \"/>\n",
       "<path style=\" stroke:none;fill-rule:nonzero;fill:rgb(100%,72.156864%,30.19608%);fill-opacity:1;\" d=\"M 326.425781 155.941406 C 326.425781 154.179688 323.78125 154.179688 323.78125 155.941406 C 323.78125 157.703125 326.425781 157.703125 326.425781 155.941406 Z M 326.425781 155.941406 \"/>\n",
       "<path style=\" stroke:none;fill-rule:nonzero;fill:rgb(100%,72.156864%,30.19608%);fill-opacity:1;\" d=\"M 348.839844 224.457031 C 348.839844 222.695312 346.195312 222.695312 346.195312 224.457031 C 346.195312 226.21875 348.839844 226.21875 348.839844 224.457031 Z M 348.839844 224.457031 \"/>\n",
       "<path style=\" stroke:none;fill-rule:nonzero;fill:rgb(100%,72.156864%,30.19608%);fill-opacity:1;\" d=\"M 327.289062 198.226562 C 327.289062 196.464844 324.644531 196.464844 324.644531 198.226562 C 324.644531 199.988281 327.289062 199.988281 327.289062 198.226562 Z M 327.289062 198.226562 \"/>\n",
       "<path style=\" stroke:none;fill-rule:nonzero;fill:rgb(100%,72.156864%,30.19608%);fill-opacity:1;\" d=\"M 267.101562 145.277344 C 267.101562 143.515625 264.457031 143.515625 264.457031 145.277344 C 264.457031 147.039062 267.101562 147.039062 267.101562 145.277344 Z M 267.101562 145.277344 \"/>\n",
       "<path style=\" stroke:none;fill-rule:nonzero;fill:rgb(100%,72.156864%,30.19608%);fill-opacity:1;\" d=\"M 293.910156 113.574219 C 293.910156 111.8125 291.265625 111.8125 291.265625 113.574219 C 291.265625 115.335938 293.910156 115.335938 293.910156 113.574219 Z M 293.910156 113.574219 \"/>\n",
       "<path style=\" stroke:none;fill-rule:nonzero;fill:rgb(100%,72.156864%,30.19608%);fill-opacity:1;\" d=\"M 283.582031 99.359375 C 283.582031 97.597656 280.941406 97.597656 280.941406 99.359375 C 280.941406 101.121094 283.582031 101.121094 283.582031 99.359375 Z M 283.582031 99.359375 \"/>\n",
       "<path style=\" stroke:none;fill-rule:nonzero;fill:rgb(100%,72.156864%,30.19608%);fill-opacity:1;\" d=\"M 291.992188 164.039062 C 291.992188 162.277344 289.347656 162.277344 289.347656 164.039062 C 289.347656 165.804688 291.992188 165.804688 291.992188 164.039062 Z M 291.992188 164.039062 \"/>\n",
       "<path style=\" stroke:none;fill-rule:nonzero;fill:rgb(100%,72.156864%,30.19608%);fill-opacity:1;\" d=\"M 364.078125 140.011719 C 364.078125 138.25 361.433594 138.25 361.433594 140.011719 C 361.433594 141.777344 364.078125 141.777344 364.078125 140.011719 Z M 364.078125 140.011719 \"/>\n",
       "<path style=\" stroke:none;fill-rule:nonzero;fill:rgb(100%,72.156864%,30.19608%);fill-opacity:1;\" d=\"M 331.960938 188.914062 C 331.960938 187.148438 329.316406 187.148438 329.316406 188.914062 C 329.316406 190.675781 331.960938 190.675781 331.960938 188.914062 Z M 331.960938 188.914062 \"/>\n",
       "<path style=\" stroke:none;fill-rule:nonzero;fill:rgb(100%,72.156864%,30.19608%);fill-opacity:1;\" d=\"M 319.300781 268.453125 C 319.300781 266.6875 316.65625 266.6875 316.65625 268.453125 C 316.65625 270.214844 319.300781 270.214844 319.300781 268.453125 Z M 319.300781 268.453125 \"/>\n",
       "<path style=\" stroke:none;fill-rule:nonzero;fill:rgb(100%,72.156864%,30.19608%);fill-opacity:1;\" d=\"M 321.191406 215.929688 C 321.191406 214.167969 318.546875 214.167969 318.546875 215.929688 C 318.546875 217.691406 321.191406 217.691406 321.191406 215.929688 Z M 321.191406 215.929688 \"/>\n",
       "<path style=\" stroke:none;fill-rule:nonzero;fill:rgb(100%,72.156864%,30.19608%);fill-opacity:1;\" d=\"M 324.03125 113.933594 C 324.03125 112.171875 321.386719 112.171875 321.386719 113.933594 C 321.386719 115.695312 324.03125 115.695312 324.03125 113.933594 Z M 324.03125 113.933594 \"/>\n",
       "<path style=\" stroke:none;fill-rule:nonzero;fill:rgb(100%,72.156864%,30.19608%);fill-opacity:1;\" d=\"M 300.484375 188.347656 C 300.484375 186.585938 297.839844 186.585938 297.839844 188.347656 C 297.839844 190.109375 300.484375 190.109375 300.484375 188.347656 Z M 300.484375 188.347656 \"/>\n",
       "<path style=\" stroke:none;fill-rule:nonzero;fill:rgb(100%,72.156864%,30.19608%);fill-opacity:1;\" d=\"M 311.734375 151.03125 C 311.734375 149.269531 309.089844 149.269531 309.089844 151.03125 C 309.089844 152.792969 311.734375 152.792969 311.734375 151.03125 Z M 311.734375 151.03125 \"/>\n",
       "<path style=\" stroke:none;fill-rule:nonzero;fill:rgb(100%,72.156864%,30.19608%);fill-opacity:1;\" d=\"M 319.371094 91.46875 C 319.371094 89.707031 316.726562 89.707031 316.726562 91.46875 C 316.726562 93.230469 319.371094 93.230469 319.371094 91.46875 Z M 319.371094 91.46875 \"/>\n",
       "<path style=\" stroke:none;fill-rule:nonzero;fill:rgb(100%,72.156864%,30.19608%);fill-opacity:1;\" d=\"M 321.199219 174.347656 C 321.199219 172.585938 318.554688 172.585938 318.554688 174.347656 C 318.554688 176.109375 321.199219 176.109375 321.199219 174.347656 Z M 321.199219 174.347656 \"/>\n",
       "<path style=\" stroke:none;fill-rule:nonzero;fill:rgb(100%,72.156864%,30.19608%);fill-opacity:1;\" d=\"M 298.984375 144.140625 C 298.984375 142.375 296.339844 142.375 296.339844 144.140625 C 296.339844 145.902344 298.984375 145.902344 298.984375 144.140625 Z M 298.984375 144.140625 \"/>\n",
       "<path style=\" stroke:none;fill-rule:nonzero;fill:rgb(100%,72.156864%,30.19608%);fill-opacity:1;\" d=\"M 276.03125 118.546875 C 276.03125 116.785156 273.386719 116.785156 273.386719 118.546875 C 273.386719 120.308594 276.03125 120.308594 276.03125 118.546875 Z M 276.03125 118.546875 \"/>\n",
       "<path style=\" stroke:none;fill-rule:nonzero;fill:rgb(100%,72.156864%,30.19608%);fill-opacity:1;\" d=\"M 313.140625 150.390625 C 313.140625 148.628906 310.496094 148.628906 310.496094 150.390625 C 310.496094 152.152344 313.140625 152.152344 313.140625 150.390625 Z M 313.140625 150.390625 \"/>\n",
       "<path style=\" stroke:none;fill-rule:nonzero;fill:rgb(100%,72.156864%,30.19608%);fill-opacity:1;\" d=\"M 297.226562 155.441406 C 297.226562 153.675781 294.582031 153.675781 294.582031 155.441406 C 294.582031 157.203125 297.226562 157.203125 297.226562 155.441406 Z M 297.226562 155.441406 \"/>\n",
       "<path style=\" stroke:none;fill-rule:nonzero;fill:rgb(100%,72.156864%,30.19608%);fill-opacity:1;\" d=\"M 306.226562 171.503906 C 306.226562 169.738281 303.582031 169.738281 303.582031 171.503906 C 303.582031 173.265625 306.226562 173.265625 306.226562 171.503906 Z M 306.226562 171.503906 \"/>\n",
       "<path style=\" stroke:none;fill-rule:nonzero;fill:rgb(100%,72.156864%,30.19608%);fill-opacity:1;\" d=\"M 304.132812 175.914062 C 304.132812 174.148438 301.488281 174.148438 301.488281 175.914062 C 301.488281 177.675781 304.132812 177.675781 304.132812 175.914062 Z M 304.132812 175.914062 \"/>\n",
       "<path style=\" stroke:none;fill-rule:nonzero;fill:rgb(100%,72.156864%,30.19608%);fill-opacity:1;\" d=\"M 262.808594 197.375 C 262.808594 195.609375 260.164062 195.609375 260.164062 197.375 C 260.164062 199.136719 262.808594 199.136719 262.808594 197.375 Z M 262.808594 197.375 \"/>\n",
       "<path style=\" stroke:none;fill-rule:nonzero;fill:rgb(100%,72.156864%,30.19608%);fill-opacity:1;\" d=\"M 304.898438 173.351562 C 304.898438 171.589844 302.253906 171.589844 302.253906 173.351562 C 302.253906 175.113281 304.898438 175.113281 304.898438 173.351562 Z M 304.898438 173.351562 \"/>\n",
       "<path style=\" stroke:none;fill-rule:nonzero;fill:rgb(66.666669%,64.313728%,53.333336%);fill-opacity:1;\" d=\"M 436.285156 331.277344 C 436.285156 329.515625 433.640625 329.515625 433.640625 331.277344 C 433.640625 333.039062 436.285156 333.039062 436.285156 331.277344 Z M 436.285156 331.277344 \"/>\n",
       "<path style=\" stroke:none;fill-rule:nonzero;fill:rgb(66.666669%,64.313728%,53.333336%);fill-opacity:1;\" d=\"M 385.082031 209.167969 C 385.082031 207.40625 382.441406 207.40625 382.441406 209.167969 C 382.441406 210.929688 385.082031 210.929688 385.082031 209.167969 Z M 385.082031 209.167969 \"/>\n",
       "<path style=\" stroke:none;fill-rule:nonzero;fill:rgb(66.666669%,64.313728%,53.333336%);fill-opacity:1;\" d=\"M 405.945312 239.167969 C 405.945312 237.40625 403.300781 237.40625 403.300781 239.167969 C 403.300781 240.929688 405.945312 240.929688 405.945312 239.167969 Z M 405.945312 239.167969 \"/>\n",
       "<path style=\" stroke:none;fill-rule:nonzero;fill:rgb(66.666669%,64.313728%,53.333336%);fill-opacity:1;\" d=\"M 387.796875 163.042969 C 387.796875 161.28125 385.152344 161.28125 385.152344 163.042969 C 385.152344 164.804688 387.796875 164.804688 387.796875 163.042969 Z M 387.796875 163.042969 \"/>\n",
       "<path style=\" stroke:none;fill-rule:nonzero;fill:rgb(66.666669%,64.313728%,53.333336%);fill-opacity:1;\" d=\"M 415.457031 256.792969 C 415.457031 255.027344 412.8125 255.027344 412.8125 256.792969 C 412.8125 258.554688 415.457031 258.554688 415.457031 256.792969 Z M 415.457031 256.792969 \"/>\n",
       "<path style=\" stroke:none;fill-rule:nonzero;fill:rgb(66.666669%,64.313728%,53.333336%);fill-opacity:1;\" d=\"M 428.804688 178.328125 C 428.804688 176.566406 426.160156 176.566406 426.160156 178.328125 C 426.160156 180.089844 428.804688 180.089844 428.804688 178.328125 Z M 428.804688 178.328125 \"/>\n",
       "<path style=\" stroke:none;fill-rule:nonzero;fill:rgb(66.666669%,64.313728%,53.333336%);fill-opacity:1;\" d=\"M 364.707031 178.671875 C 364.707031 176.910156 362.066406 176.910156 362.066406 178.671875 C 362.066406 180.433594 364.707031 180.433594 364.707031 178.671875 Z M 364.707031 178.671875 \"/>\n",
       "<path style=\" stroke:none;fill-rule:nonzero;fill:rgb(66.666669%,64.313728%,53.333336%);fill-opacity:1;\" d=\"M 404.40625 117.488281 C 404.40625 115.726562 401.761719 115.726562 401.761719 117.488281 C 401.761719 119.25 404.40625 119.25 404.40625 117.488281 Z M 404.40625 117.488281 \"/>\n",
       "<path style=\" stroke:none;fill-rule:nonzero;fill:rgb(66.666669%,64.313728%,53.333336%);fill-opacity:1;\" d=\"M 402.4375 117.414062 C 402.4375 115.648438 399.792969 115.648438 399.792969 117.414062 C 399.792969 119.175781 402.4375 119.175781 402.4375 117.414062 Z M 402.4375 117.414062 \"/>\n",
       "<path style=\" stroke:none;fill-rule:nonzero;fill:rgb(66.666669%,64.313728%,53.333336%);fill-opacity:1;\" d=\"M 420.695312 374.996094 C 420.695312 373.234375 418.050781 373.234375 418.050781 374.996094 C 418.050781 376.757812 420.695312 376.757812 420.695312 374.996094 Z M 420.695312 374.996094 \"/>\n",
       "<path style=\" stroke:none;fill-rule:nonzero;fill:rgb(66.666669%,64.313728%,53.333336%);fill-opacity:1;\" d=\"M 368.339844 300.792969 C 368.339844 299.027344 365.695312 299.027344 365.695312 300.792969 C 365.695312 302.554688 368.339844 302.554688 368.339844 300.792969 Z M 368.339844 300.792969 \"/>\n",
       "<path style=\" stroke:none;fill-rule:nonzero;fill:rgb(66.666669%,64.313728%,53.333336%);fill-opacity:1;\" d=\"M 385.898438 205.761719 C 385.898438 203.996094 383.253906 203.996094 383.253906 205.761719 C 383.253906 207.523438 385.898438 207.523438 385.898438 205.761719 Z M 385.898438 205.761719 \"/>\n",
       "<path style=\" stroke:none;fill-rule:nonzero;fill:rgb(66.666669%,64.313728%,53.333336%);fill-opacity:1;\" d=\"M 393.058594 273.496094 C 393.058594 271.734375 390.414062 271.734375 390.414062 273.496094 C 390.414062 275.261719 393.058594 275.261719 393.058594 273.496094 Z M 393.058594 273.496094 \"/>\n",
       "<path style=\" stroke:none;fill-rule:nonzero;fill:rgb(66.666669%,64.313728%,53.333336%);fill-opacity:1;\" d=\"M 394.007812 224.019531 C 394.007812 222.257812 391.363281 222.257812 391.363281 224.019531 C 391.363281 225.785156 394.007812 225.785156 394.007812 224.019531 Z M 394.007812 224.019531 \"/>\n",
       "<path style=\" stroke:none;fill-rule:nonzero;fill:rgb(66.666669%,64.313728%,53.333336%);fill-opacity:1;\" d=\"M 413.09375 343.640625 C 413.09375 341.878906 410.453125 341.878906 410.453125 343.640625 C 410.453125 345.40625 413.09375 345.40625 413.09375 343.640625 Z M 413.09375 343.640625 \"/>\n",
       "<path style=\" stroke:none;fill-rule:nonzero;fill:rgb(66.666669%,64.313728%,53.333336%);fill-opacity:1;\" d=\"M 396.414062 351.253906 C 396.414062 349.492188 393.773438 349.492188 393.773438 351.253906 C 393.773438 353.015625 396.414062 353.015625 396.414062 351.253906 Z M 396.414062 351.253906 \"/>\n",
       "<path style=\" stroke:none;fill-rule:nonzero;fill:rgb(66.666669%,64.313728%,53.333336%);fill-opacity:1;\" d=\"M 378.304688 189.058594 C 378.304688 187.296875 375.660156 187.296875 375.660156 189.058594 C 375.660156 190.820312 378.304688 190.820312 378.304688 189.058594 Z M 378.304688 189.058594 \"/>\n",
       "<path style=\" stroke:none;fill-rule:nonzero;fill:rgb(66.666669%,64.313728%,53.333336%);fill-opacity:1;\" d=\"M 415.230469 267.816406 C 415.230469 266.054688 412.585938 266.054688 412.585938 267.816406 C 412.585938 269.578125 415.230469 269.578125 415.230469 267.816406 Z M 415.230469 267.816406 \"/>\n",
       "<path style=\" stroke:none;fill-rule:nonzero;fill:rgb(66.666669%,64.313728%,53.333336%);fill-opacity:1;\" d=\"M 463.695312 162.832031 C 463.695312 161.070312 461.054688 161.070312 461.054688 162.832031 C 461.054688 164.59375 463.695312 164.59375 463.695312 162.832031 Z M 463.695312 162.832031 \"/>\n",
       "<path style=\" stroke:none;fill-rule:nonzero;fill:rgb(66.666669%,64.313728%,53.333336%);fill-opacity:1;\" d=\"M 367.90625 80.664062 C 367.90625 78.902344 365.261719 78.902344 365.261719 80.664062 C 365.261719 82.425781 367.90625 82.425781 367.90625 80.664062 Z M 367.90625 80.664062 \"/>\n",
       "<path style=\" stroke:none;fill-rule:nonzero;fill:rgb(66.666669%,64.313728%,53.333336%);fill-opacity:1;\" d=\"M 406.800781 323.039062 C 406.800781 321.277344 404.15625 321.277344 404.15625 323.039062 C 404.15625 324.800781 406.800781 324.800781 406.800781 323.039062 Z M 406.800781 323.039062 \"/>\n",
       "<path style=\" stroke:none;fill-rule:nonzero;fill:rgb(66.666669%,64.313728%,53.333336%);fill-opacity:1;\" d=\"M 382.601562 258.921875 C 382.601562 257.15625 379.960938 257.15625 379.960938 258.921875 C 379.960938 260.683594 382.601562 260.683594 382.601562 258.921875 Z M 382.601562 258.921875 \"/>\n",
       "<path style=\" stroke:none;fill-rule:nonzero;fill:rgb(66.666669%,64.313728%,53.333336%);fill-opacity:1;\" d=\"M 431.210938 127.367188 C 431.210938 125.605469 428.566406 125.605469 428.566406 127.367188 C 428.566406 129.128906 431.210938 129.128906 431.210938 127.367188 Z M 431.210938 127.367188 \"/>\n",
       "<path style=\" stroke:none;fill-rule:nonzero;fill:rgb(66.666669%,64.313728%,53.333336%);fill-opacity:1;\" d=\"M 364.34375 221.113281 C 364.34375 219.351562 361.699219 219.351562 361.699219 221.113281 C 361.699219 222.875 364.34375 222.875 364.34375 221.113281 Z M 364.34375 221.113281 \"/>\n",
       "<path style=\" stroke:none;fill-rule:nonzero;fill:rgb(66.666669%,64.313728%,53.333336%);fill-opacity:1;\" d=\"M 394.132812 275.773438 C 394.132812 274.007812 391.488281 274.007812 391.488281 275.773438 C 391.488281 277.535156 394.132812 277.535156 394.132812 275.773438 Z M 394.132812 275.773438 \"/>\n",
       "<path style=\" stroke:none;fill-rule:nonzero;fill:rgb(66.666669%,64.313728%,53.333336%);fill-opacity:1;\" d=\"M 384.683594 174.136719 C 384.683594 172.375 382.039062 172.375 382.039062 174.136719 C 382.039062 175.898438 384.683594 175.898438 384.683594 174.136719 Z M 384.683594 174.136719 \"/>\n",
       "<path style=\" stroke:none;fill-rule:nonzero;fill:rgb(66.666669%,64.313728%,53.333336%);fill-opacity:1;\" d=\"M 358.605469 237.957031 C 358.605469 236.195312 355.960938 236.195312 355.960938 237.957031 C 355.960938 239.722656 358.605469 239.722656 358.605469 237.957031 Z M 358.605469 237.957031 \"/>\n",
       "<path style=\" stroke:none;fill-rule:nonzero;fill:rgb(66.666669%,64.313728%,53.333336%);fill-opacity:1;\" d=\"M 358.351562 242.082031 C 358.351562 240.316406 355.707031 240.316406 355.707031 242.082031 C 355.707031 243.84375 358.351562 243.84375 358.351562 242.082031 Z M 358.351562 242.082031 \"/>\n",
       "<path style=\" stroke:none;fill-rule:nonzero;fill:rgb(66.666669%,64.313728%,53.333336%);fill-opacity:1;\" d=\"M 407.882812 232.339844 C 407.882812 230.578125 405.238281 230.578125 405.238281 232.339844 C 405.238281 234.101562 407.882812 234.101562 407.882812 232.339844 Z M 407.882812 232.339844 \"/>\n",
       "<path style=\" stroke:none;fill-rule:nonzero;fill:rgb(66.666669%,64.313728%,53.333336%);fill-opacity:1;\" d=\"M 369.691406 127.652344 C 369.691406 125.890625 367.046875 125.890625 367.046875 127.652344 C 367.046875 129.414062 369.691406 129.414062 369.691406 127.652344 Z M 369.691406 127.652344 \"/>\n",
       "<path style=\" stroke:none;fill-rule:nonzero;fill:rgb(66.666669%,64.313728%,53.333336%);fill-opacity:1;\" d=\"M 403.835938 158.355469 C 403.835938 156.59375 401.191406 156.59375 401.191406 158.355469 C 401.191406 160.121094 403.835938 160.121094 403.835938 158.355469 Z M 403.835938 158.355469 \"/>\n",
       "<path style=\" stroke:none;fill-rule:nonzero;fill:rgb(66.666669%,64.313728%,53.333336%);fill-opacity:1;\" d=\"M 387.914062 256.375 C 387.914062 254.613281 385.269531 254.613281 385.269531 256.375 C 385.269531 258.140625 387.914062 258.140625 387.914062 256.375 Z M 387.914062 256.375 \"/>\n",
       "<path style=\" stroke:none;fill-rule:nonzero;fill:rgb(66.666669%,64.313728%,53.333336%);fill-opacity:1;\" d=\"M 414.050781 257.429688 C 414.050781 255.667969 411.40625 255.667969 411.40625 257.429688 C 411.40625 259.191406 414.050781 259.191406 414.050781 257.429688 Z M 414.050781 257.429688 \"/>\n",
       "<path style=\" stroke:none;fill-rule:nonzero;fill:rgb(66.666669%,64.313728%,53.333336%);fill-opacity:1;\" d=\"M 351.324219 133.121094 C 351.324219 131.359375 348.679688 131.359375 348.679688 133.121094 C 348.679688 134.882812 351.324219 134.882812 351.324219 133.121094 Z M 351.324219 133.121094 \"/>\n",
       "<path style=\" stroke:none;fill-rule:nonzero;fill:rgb(66.666669%,64.313728%,53.333336%);fill-opacity:1;\" d=\"M 374.117188 29.488281 C 374.117188 27.726562 371.472656 27.726562 371.472656 29.488281 C 371.472656 31.25 374.117188 31.25 374.117188 29.488281 Z M 374.117188 29.488281 \"/>\n",
       "<path style=\" stroke:none;fill-rule:nonzero;fill:rgb(66.666669%,64.313728%,53.333336%);fill-opacity:1;\" d=\"M 419.097656 285.941406 C 419.097656 284.179688 416.453125 284.179688 416.453125 285.941406 C 416.453125 287.703125 419.097656 287.703125 419.097656 285.941406 Z M 419.097656 285.941406 \"/>\n",
       "<path style=\" stroke:none;fill-rule:nonzero;fill:rgb(66.666669%,64.313728%,53.333336%);fill-opacity:1;\" d=\"M 410.648438 358.714844 C 410.648438 356.953125 408.003906 356.953125 408.003906 358.714844 C 408.003906 360.476562 410.648438 360.476562 410.648438 358.714844 Z M 410.648438 358.714844 \"/>\n",
       "<path style=\" stroke:none;fill-rule:nonzero;fill:rgb(66.666669%,64.313728%,53.333336%);fill-opacity:1;\" d=\"M 376.722656 195.027344 C 376.722656 193.265625 374.078125 193.265625 374.078125 195.027344 C 374.078125 196.789062 376.722656 196.789062 376.722656 195.027344 Z M 376.722656 195.027344 \"/>\n",
       "<path style=\" stroke:none;fill-rule:nonzero;fill:rgb(66.666669%,64.313728%,53.333336%);fill-opacity:1;\" d=\"M 355.441406 249.898438 C 355.441406 248.136719 352.796875 248.136719 352.796875 249.898438 C 352.796875 251.660156 355.441406 251.660156 355.441406 249.898438 Z M 355.441406 249.898438 \"/>\n",
       "<path style=\" stroke:none;fill-rule:nonzero;fill:rgb(66.666669%,64.313728%,53.333336%);fill-opacity:1;\" d=\"M 384.816406 296.457031 C 384.816406 294.695312 382.171875 294.695312 382.171875 296.457031 C 382.171875 298.21875 384.816406 298.21875 384.816406 296.457031 Z M 384.816406 296.457031 \"/>\n",
       "<path style=\" stroke:none;fill-rule:nonzero;fill:rgb(66.666669%,64.313728%,53.333336%);fill-opacity:1;\" d=\"M 414.140625 343.863281 C 414.140625 342.097656 411.5 342.097656 411.5 343.863281 C 411.5 345.625 414.140625 345.625 414.140625 343.863281 Z M 414.140625 343.863281 \"/>\n",
       "<path style=\" stroke:none;fill-rule:nonzero;fill:rgb(66.666669%,64.313728%,53.333336%);fill-opacity:1;\" d=\"M 384.675781 379.261719 C 384.675781 377.5 382.035156 377.5 382.035156 379.261719 C 382.035156 381.023438 384.675781 381.023438 384.675781 379.261719 Z M 384.675781 379.261719 \"/>\n",
       "<path style=\" stroke:none;fill-rule:nonzero;fill:rgb(66.666669%,64.313728%,53.333336%);fill-opacity:1;\" d=\"M 385.082031 209.167969 C 385.082031 207.40625 382.441406 207.40625 382.441406 209.167969 C 382.441406 210.929688 385.082031 210.929688 385.082031 209.167969 Z M 385.082031 209.167969 \"/>\n",
       "<path style=\" stroke:none;fill-rule:nonzero;fill:rgb(66.666669%,64.313728%,53.333336%);fill-opacity:1;\" d=\"M 416.367188 298.230469 C 416.367188 296.46875 413.726562 296.46875 413.726562 298.230469 C 413.726562 299.992188 416.367188 299.992188 416.367188 298.230469 Z M 416.367188 298.230469 \"/>\n",
       "<path style=\" stroke:none;fill-rule:nonzero;fill:rgb(66.666669%,64.313728%,53.333336%);fill-opacity:1;\" d=\"M 418.808594 376.128906 C 418.808594 374.367188 416.164062 374.367188 416.164062 376.128906 C 416.164062 377.894531 418.808594 377.894531 418.808594 376.128906 Z M 418.808594 376.128906 \"/>\n",
       "<path style=\" stroke:none;fill-rule:nonzero;fill:rgb(66.666669%,64.313728%,53.333336%);fill-opacity:1;\" d=\"M 394.167969 353.246094 C 394.167969 351.484375 391.523438 351.484375 391.523438 353.246094 C 391.523438 355.007812 394.167969 355.007812 394.167969 353.246094 Z M 394.167969 353.246094 \"/>\n",
       "<path style=\" stroke:none;fill-rule:nonzero;fill:rgb(66.666669%,64.313728%,53.333336%);fill-opacity:1;\" d=\"M 380.335938 217.273438 C 380.335938 215.511719 377.691406 215.511719 377.691406 217.273438 C 377.691406 219.035156 380.335938 219.035156 380.335938 217.273438 Z M 380.335938 217.273438 \"/>\n",
       "<path style=\" stroke:none;fill-rule:nonzero;fill:rgb(66.666669%,64.313728%,53.333336%);fill-opacity:1;\" d=\"M 378.164062 271.863281 C 378.164062 270.101562 375.519531 270.101562 375.519531 271.863281 C 375.519531 273.625 378.164062 273.625 378.164062 271.863281 Z M 378.164062 271.863281 \"/>\n",
       "<path style=\" stroke:none;fill-rule:nonzero;fill:rgb(66.666669%,64.313728%,53.333336%);fill-opacity:1;\" d=\"M 397.414062 352.316406 C 397.414062 350.554688 394.769531 350.554688 394.769531 352.316406 C 394.769531 354.082031 397.414062 354.082031 397.414062 352.316406 Z M 397.414062 352.316406 \"/>\n",
       "<path style=\" stroke:none;fill-rule:nonzero;fill:rgb(66.666669%,64.313728%,53.333336%);fill-opacity:1;\" d=\"M 369.167969 214.214844 C 369.167969 212.453125 366.527344 212.453125 366.527344 214.214844 C 366.527344 215.976562 369.167969 215.976562 369.167969 214.214844 Z M 369.167969 214.214844 \"/>\n",
       "<path style=\"fill:none;stroke-width:1;stroke-linecap:butt;stroke-linejoin:miter;stroke:rgb(85.490197%,85.490197%,85.490197%);stroke-opacity:1;stroke-miterlimit:2;\" d=\"M 145.786458 529.75 L 145.786458 535.75 \" transform=\"matrix(0.75,0,0,0.75,0,0)\"/>\n",
       "<path style=\"fill:none;stroke-width:1;stroke-linecap:butt;stroke-linejoin:miter;stroke:rgb(85.490197%,85.490197%,85.490197%);stroke-opacity:1;stroke-miterlimit:2;\" d=\"M 271.223958 529.75 L 271.223958 535.75 \" transform=\"matrix(0.75,0,0,0.75,0,0)\"/>\n",
       "<path style=\"fill:none;stroke-width:1;stroke-linecap:butt;stroke-linejoin:miter;stroke:rgb(85.490197%,85.490197%,85.490197%);stroke-opacity:1;stroke-miterlimit:2;\" d=\"M 396.666667 529.75 L 396.666667 535.75 \" transform=\"matrix(0.75,0,0,0.75,0,0)\"/>\n",
       "<path style=\"fill:none;stroke-width:1;stroke-linecap:butt;stroke-linejoin:miter;stroke:rgb(85.490197%,85.490197%,85.490197%);stroke-opacity:1;stroke-miterlimit:2;\" d=\"M 522.104167 529.75 L 522.104167 535.75 \" transform=\"matrix(0.75,0,0,0.75,0,0)\"/>\n",
       "<path style=\"fill:none;stroke-width:1;stroke-linecap:butt;stroke-linejoin:miter;stroke:rgb(85.490197%,85.490197%,85.490197%);stroke-opacity:1;stroke-miterlimit:2;\" d=\"M 80.25 483.875 L 74.25 483.875 \" transform=\"matrix(0.75,0,0,0.75,0,0)\"/>\n",
       "<path style=\"fill:none;stroke-width:1;stroke-linecap:butt;stroke-linejoin:miter;stroke:rgb(85.490197%,85.490197%,85.490197%);stroke-opacity:1;stroke-miterlimit:2;\" d=\"M 80.25 318.260417 L 74.25 318.260417 \" transform=\"matrix(0.75,0,0,0.75,0,0)\"/>\n",
       "<path style=\"fill:none;stroke-width:1;stroke-linecap:butt;stroke-linejoin:miter;stroke:rgb(85.490197%,85.490197%,85.490197%);stroke-opacity:1;stroke-miterlimit:2;\" d=\"M 80.25 152.640625 L 74.25 152.640625 \" transform=\"matrix(0.75,0,0,0.75,0,0)\"/>\n",
       "<path style=\" stroke:none;fill-rule:nonzero;fill:rgb(38.431373%,73.333335%,64.705884%);fill-opacity:1;\" d=\"M 517.550781 196.953125 C 517.550781 192.722656 511.207031 192.722656 511.207031 196.953125 C 511.207031 201.183594 517.550781 201.183594 517.550781 196.953125 Z M 517.550781 196.953125 \"/>\n",
       "<path style=\" stroke:none;fill-rule:nonzero;fill:rgb(100%,72.156864%,30.19608%);fill-opacity:1;\" d=\"M 517.550781 215.546875 C 517.550781 211.316406 511.207031 211.316406 511.207031 215.546875 C 511.207031 219.777344 517.550781 219.777344 517.550781 215.546875 Z M 517.550781 215.546875 \"/>\n",
       "<path style=\" stroke:none;fill-rule:nonzero;fill:rgb(66.666669%,64.313728%,53.333336%);fill-opacity:1;\" d=\"M 517.550781 234.136719 C 517.550781 229.90625 511.207031 229.90625 511.207031 234.136719 C 511.207031 238.367188 517.550781 238.367188 517.550781 234.136719 Z M 517.550781 234.136719 \"/>\n",
       "<g style=\"fill:rgb(43.921569%,43.529412%,43.529412%);fill-opacity:1;\">\n",
       "  <use xlink:href=\"#glyph12-1-TW3cdq+G\" x=\"521.660156\" y=\"179.267555\"/>\n",
       "</g>\n",
       "<g style=\"fill:rgb(43.921569%,43.529412%,43.529412%);fill-opacity:1;\">\n",
       "  <use xlink:href=\"#glyph13-1-TW3cdq+G\" x=\"528.269485\" y=\"179.267555\"/>\n",
       "</g>\n",
       "<g style=\"fill:rgb(43.921569%,43.529412%,43.529412%);fill-opacity:1;\">\n",
       "  <use xlink:href=\"#glyph14-1-TW3cdq+G\" x=\"535.863281\" y=\"179.267555\"/>\n",
       "</g>\n",
       "<g style=\"fill:rgb(43.921569%,43.529412%,43.529412%);fill-opacity:1;\">\n",
       "  <use xlink:href=\"#glyph13-2-TW3cdq+G\" x=\"542.953079\" y=\"179.267555\"/>\n",
       "</g>\n",
       "<g style=\"fill:rgb(43.921569%,43.529412%,43.529412%);fill-opacity:1;\">\n",
       "  <use xlink:href=\"#glyph12-2-TW3cdq+G\" x=\"549.123047\" y=\"179.267555\"/>\n",
       "</g>\n",
       "<g style=\"fill:rgb(43.921569%,43.529412%,43.529412%);fill-opacity:1;\">\n",
       "  <use xlink:href=\"#glyph12-3-TW3cdq+G\" x=\"552.785156\" y=\"179.267555\"/>\n",
       "</g>\n",
       "<g style=\"fill:rgb(43.921569%,43.529412%,43.529412%);fill-opacity:1;\">\n",
       "  <use xlink:href=\"#glyph13-3-TW3cdq+G\" x=\"559.874954\" y=\"179.267555\"/>\n",
       "</g>\n",
       "<g style=\"fill:rgb(43.921569%,43.529412%,43.529412%);fill-opacity:1;\">\n",
       "  <use xlink:href=\"#glyph15-1-TW3cdq+G\" x=\"525.629837\" y=\"201.609375\"/>\n",
       "</g>\n",
       "<g style=\"fill:rgb(43.921569%,43.529412%,43.529412%);fill-opacity:1;\">\n",
       "  <use xlink:href=\"#glyph0-5-TW3cdq+G\" x=\"531.37793\" y=\"201.609375\"/>\n",
       "</g>\n",
       "<g style=\"fill:rgb(43.921569%,43.529412%,43.529412%);fill-opacity:1;\">\n",
       "  <use xlink:href=\"#glyph0-6-TW3cdq+G\" x=\"538.145508\" y=\"201.609375\"/>\n",
       "</g>\n",
       "<g style=\"fill:rgb(43.921569%,43.529412%,43.529412%);fill-opacity:1;\">\n",
       "  <use xlink:href=\"#glyph15-2-TW3cdq+G\" x=\"542.47554\" y=\"201.609375\"/>\n",
       "</g>\n",
       "<g style=\"fill:rgb(43.921569%,43.529412%,43.529412%);fill-opacity:1;\">\n",
       "  <use xlink:href=\"#glyph0-7-TW3cdq+G\" x=\"549.735352\" y=\"201.609375\"/>\n",
       "</g>\n",
       "<g style=\"fill:rgb(43.921569%,43.529412%,43.529412%);fill-opacity:1;\">\n",
       "  <use xlink:href=\"#glyph0-8-TW3cdq+G\" x=\"555.483398\" y=\"201.609375\"/>\n",
       "</g>\n",
       "<g style=\"fill:rgb(43.921569%,43.529412%,43.529412%);fill-opacity:1;\">\n",
       "  <use xlink:href=\"#glyph15-3-TW3cdq+G\" x=\"525.629837\" y=\"220.201149\"/>\n",
       "</g>\n",
       "<g style=\"fill:rgb(43.921569%,43.529412%,43.529412%);fill-opacity:1;\">\n",
       "  <use xlink:href=\"#glyph16-1-TW3cdq+G\" x=\"531.723633\" y=\"220.201149\"/>\n",
       "</g>\n",
       "<g style=\"fill:rgb(43.921569%,43.529412%,43.529412%);fill-opacity:1;\">\n",
       "  <use xlink:href=\"#glyph0-9-TW3cdq+G\" x=\"538.491211\" y=\"220.201149\"/>\n",
       "</g>\n",
       "<g style=\"fill:rgb(43.921569%,43.529412%,43.529412%);fill-opacity:1;\">\n",
       "  <use xlink:href=\"#glyph0-7-TW3cdq+G\" x=\"543.448242\" y=\"220.201149\"/>\n",
       "</g>\n",
       "<g style=\"fill:rgb(43.921569%,43.529412%,43.529412%);fill-opacity:1;\">\n",
       "  <use xlink:href=\"#glyph0-1-TW3cdq+G0\" x=\"549.196289\" y=\"220.201149\"/>\n",
       "</g>\n",
       "<g style=\"fill:rgb(43.921569%,43.529412%,43.529412%);fill-opacity:1;\">\n",
       "  <use xlink:href=\"#glyph15-4-TW3cdq+G\" x=\"552.289993\" y=\"220.201149\"/>\n",
       "</g>\n",
       "<g style=\"fill:rgb(43.921569%,43.529412%,43.529412%);fill-opacity:1;\">\n",
       "  <use xlink:href=\"#glyph16-2-TW3cdq+G\" x=\"558.049805\" y=\"220.201149\"/>\n",
       "</g>\n",
       "<g style=\"fill:rgb(43.921569%,43.529412%,43.529412%);fill-opacity:1;\">\n",
       "  <use xlink:href=\"#glyph0-1-TW3cdq+G1\" x=\"565.30957\" y=\"220.201149\"/>\n",
       "</g>\n",
       "<g style=\"fill:rgb(43.921569%,43.529412%,43.529412%);fill-opacity:1;\">\n",
       "  <use xlink:href=\"#glyph15-2-TW3cdq+G\" x=\"568.403275\" y=\"220.201149\"/>\n",
       "</g>\n",
       "<g style=\"fill:rgb(43.921569%,43.529412%,43.529412%);fill-opacity:1;\">\n",
       "  <use xlink:href=\"#glyph0-9-TW3cdq+G\" x=\"575.663086\" y=\"220.201149\"/>\n",
       "</g>\n",
       "<g style=\"fill:rgb(43.921569%,43.529412%,43.529412%);fill-opacity:1;\">\n",
       "  <use xlink:href=\"#glyph15-3-TW3cdq+G\" x=\"525.629837\" y=\"238.792969\"/>\n",
       "</g>\n",
       "<g style=\"fill:rgb(43.921569%,43.529412%,43.529412%);fill-opacity:1;\">\n",
       "  <use xlink:href=\"#glyph16-3-TW3cdq+G\" x=\"531.723633\" y=\"238.792969\"/>\n",
       "</g>\n",
       "<g style=\"fill:rgb(43.921569%,43.529412%,43.529412%);fill-opacity:1;\">\n",
       "  <use xlink:href=\"#glyph0-9-TW3cdq+G\" x=\"534.817383\" y=\"238.792969\"/>\n",
       "</g>\n",
       "<g style=\"fill:rgb(43.921569%,43.529412%,43.529412%);fill-opacity:1;\">\n",
       "  <use xlink:href=\"#glyph0-1-TW3cdq+G2\" x=\"539.774414\" y=\"238.792969\"/>\n",
       "</g>\n",
       "<g style=\"fill:rgb(43.921569%,43.529412%,43.529412%);fill-opacity:1;\">\n",
       "  <use xlink:href=\"#glyph0-1-TW3cdq+G0\" x=\"547.157227\" y=\"238.792969\"/>\n",
       "</g>\n",
       "<g style=\"fill:rgb(43.921569%,43.529412%,43.529412%);fill-opacity:1;\">\n",
       "  <use xlink:href=\"#glyph16-4-TW3cdq+G\" x=\"550.250977\" y=\"238.792969\"/>\n",
       "</g>\n",
       "<g style=\"fill:rgb(43.921569%,43.529412%,43.529412%);fill-opacity:1;\">\n",
       "  <use xlink:href=\"#glyph0-1-TW3cdq+G0\" x=\"557.668945\" y=\"238.792969\"/>\n",
       "</g>\n",
       "<g style=\"fill:rgb(43.921569%,43.529412%,43.529412%);fill-opacity:1;\">\n",
       "  <use xlink:href=\"#glyph16-5-TW3cdq+G\" x=\"560.762695\" y=\"238.792969\"/>\n",
       "</g>\n",
       "<g style=\"fill:rgb(43.921569%,43.529412%,43.529412%);fill-opacity:1;\">\n",
       "  <use xlink:href=\"#glyph0-8-TW3cdq+G\" x=\"566.522461\" y=\"238.792969\"/>\n",
       "</g>\n",
       "<path style=\"fill:none;stroke-width:1.5;stroke-linecap:butt;stroke-linejoin:miter;stroke:rgb(47.058824%,36.470589%,21.568628%);stroke-opacity:1;stroke-miterlimit:2;\" d=\"M 80.25 529 L 642.75 529 \" transform=\"matrix(0.75,0,0,0.75,0,0)\"/>\n",
       "<path style=\"fill:none;stroke-width:1.5;stroke-linecap:butt;stroke-linejoin:miter;stroke:rgb(47.058824%,36.470589%,21.568628%);stroke-opacity:1;stroke-miterlimit:2;\" d=\"M 81 529.75 L 81 15.25 \" transform=\"matrix(0.75,0,0,0.75,0,0)\"/>\n",
       "</g>\n",
       "</svg>\n"
      ]
     },
     "metadata": {},
     "output_type": "display_data"
    }
   ],
   "source": [
    "#| label: fig-fig1\n",
    "#| fig-cap: \"Principal components used to classify the iris data set.\"\n",
    "#| warning: false\n",
    "data(lda_df) *\n",
    "mapping(\n",
    "    :PC1, :PC2, color=:Species\n",
    ") *\n",
    "visual(Scatter, markersize=5) |>\n",
    "draw"
   ]
  },
  {
   "cell_type": "markdown",
   "metadata": {},
   "source": [
    "### Performance"
   ]
  },
  {
   "cell_type": "code",
   "execution_count": 53,
   "metadata": {},
   "outputs": [],
   "source": [
    "lda_ŷ = MLJ.predict(lda_mach, rows=test)\n",
    "lda_ȳ = predict_mode(lda_mach, rows=test);"
   ]
  },
  {
   "cell_type": "code",
   "execution_count": 54,
   "metadata": {},
   "outputs": [
    {
     "data": {
      "text/plain": [
       "0.639"
      ]
     },
     "metadata": {},
     "output_type": "display_data"
    }
   ],
   "source": [
    "cross_entropy(lda_ŷ, y[test]) |> mean |> r3"
   ]
  },
  {
   "cell_type": "code",
   "execution_count": 55,
   "metadata": {},
   "outputs": [
    {
     "data": {
      "text/plain": [
       "0.022"
      ]
     },
     "metadata": {},
     "output_type": "display_data"
    }
   ],
   "source": [
    "misclassification_rate(\n",
    "\tstring.(lda_ȳ), \n",
    "\tstring.(y[test])\n",
    ") |> r3"
   ]
  },
  {
   "cell_type": "code",
   "execution_count": 56,
   "metadata": {},
   "outputs": [
    {
     "data": {
      "text/plain": [
       "0.978"
      ]
     },
     "metadata": {},
     "output_type": "display_data"
    }
   ],
   "source": [
    "accuracy(\n",
    "\tstring.(lda_ȳ), \n",
    "\tstring.(y[test])\n",
    ") |> r3"
   ]
  },
  {
   "cell_type": "code",
   "execution_count": 57,
   "metadata": {},
   "outputs": [
    {
     "data": {
      "text/plain": [
       "3×3 Matrix{Int64}:\n",
       " 12   0   0\n",
       "  0  16   0\n",
       "  0   1  16"
      ]
     },
     "metadata": {},
     "output_type": "display_data"
    },
    {
     "data": {
      "text/plain": [
       "Classes:  [\"setosa\", \"versicolor\", \"virginica\"]\n",
       "Matrix:   \n",
       "Accuracy: 0.9777777777777777\n",
       "Kappa:    0.9663425579655945"
      ]
     },
     "metadata": {},
     "output_type": "display_data"
    }
   ],
   "source": [
    "DT.confusion_matrix(string.(lda_ȳ), string.(y[test]))"
   ]
  }
 ],
 "metadata": {
  "kernelspec": {
   "display_name": "Julia 1.9.4",
   "language": "julia",
   "name": "julia-1.9"
  },
  "language_info": {
   "file_extension": ".jl",
   "mimetype": "application/julia",
   "name": "julia",
   "version": "1.9.4"
  }
 },
 "nbformat": 4,
 "nbformat_minor": 2
}
