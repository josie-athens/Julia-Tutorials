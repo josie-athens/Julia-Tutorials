{
 "cells": [
  {
   "cell_type": "markdown",
   "metadata": {},
   "source": [
    "# Data Frames\n"
   ]
  },
  {
   "cell_type": "code",
   "execution_count": 1,
   "metadata": {},
   "outputs": [],
   "source": [
    "using StatsBase, DataFrames, DataFrameMacros\n",
    "using RCall, CategoricalArrays, TexTables\n",
    "using Distributions, Gadfly, Compose\n",
    "using CSV, RDatasets, MLJ\n",
    "using MLJ: schema"
   ]
  },
  {
   "cell_type": "code",
   "execution_count": 2,
   "metadata": {},
   "outputs": [],
   "source": [
    "include(\"pubh.jl\");\n",
    "@rlibrary readr"
   ]
  },
  {
   "cell_type": "markdown",
   "metadata": {},
   "source": [
    "## Data Manipulation\n",
    "\n",
    "### Generating Data Frames\n",
    "\n",
    "For small datasets, the easiest thing to do is to generate the data directly in `julia`. We will start by entering some data of our own. This particular dataset describes the levels of uric acid in the bloodstream of twenty subjects aged from 21 to 25. There were five individuals with each combination of Down's syndrome being present/absent and sex being male/female.\n",
    "\n",
    "The variable `uric` contains the values for the uric acid, the variable `downs` contains numerical values for Down’s syndrome (0 = \"No,\" 1 = \"Yes\") and the variable `sex` contains numerical values representing sex (0 = \"Male\", 1 = \"Female\")."
   ]
  },
  {
   "cell_type": "code",
   "execution_count": 3,
   "metadata": {},
   "outputs": [
    {
     "data": {
      "text/html": [
       "<div><div style = \"float: left;\"><span>5×3 DataFrame</span></div><div style = \"clear: both;\"></div></div><div class = \"data-frame\" style = \"overflow-x: scroll;\"><table class = \"data-frame\" style = \"margin-bottom: 6px;\"><thead><tr class = \"header\"><th class = \"rowNumber\" style = \"font-weight: bold; text-align: right;\">Row</th><th style = \"text-align: left;\">uric</th><th style = \"text-align: left;\">downs</th><th style = \"text-align: left;\">sex</th></tr><tr class = \"subheader headerLastRow\"><th class = \"rowNumber\" style = \"font-weight: bold; text-align: right;\"></th><th title = \"Float64\" style = \"text-align: left;\">Float64</th><th title = \"Int64\" style = \"text-align: left;\">Int64</th><th title = \"Int64\" style = \"text-align: left;\">Int64</th></tr></thead><tbody><tr><td class = \"rowNumber\" style = \"font-weight: bold; text-align: right;\">1</td><td style = \"text-align: right;\">5.84</td><td style = \"text-align: right;\">0</td><td style = \"text-align: right;\">0</td></tr><tr><td class = \"rowNumber\" style = \"font-weight: bold; text-align: right;\">2</td><td style = \"text-align: right;\">6.3</td><td style = \"text-align: right;\">0</td><td style = \"text-align: right;\">0</td></tr><tr><td class = \"rowNumber\" style = \"font-weight: bold; text-align: right;\">3</td><td style = \"text-align: right;\">6.95</td><td style = \"text-align: right;\">0</td><td style = \"text-align: right;\">0</td></tr><tr><td class = \"rowNumber\" style = \"font-weight: bold; text-align: right;\">4</td><td style = \"text-align: right;\">5.92</td><td style = \"text-align: right;\">0</td><td style = \"text-align: right;\">0</td></tr><tr><td class = \"rowNumber\" style = \"font-weight: bold; text-align: right;\">5</td><td style = \"text-align: right;\">7.94</td><td style = \"text-align: right;\">0</td><td style = \"text-align: right;\">0</td></tr></tbody></table></div>"
      ],
      "text/latex": [
       "\\begin{tabular}{r|ccc}\n",
       "\t& uric & downs & sex\\\\\n",
       "\t\\hline\n",
       "\t& Float64 & Int64 & Int64\\\\\n",
       "\t\\hline\n",
       "\t1 & 5.84 & 0 & 0 \\\\\n",
       "\t2 & 6.3 & 0 & 0 \\\\\n",
       "\t3 & 6.95 & 0 & 0 \\\\\n",
       "\t4 & 5.92 & 0 & 0 \\\\\n",
       "\t5 & 7.94 & 0 & 0 \\\\\n",
       "\\end{tabular}\n"
      ],
      "text/plain": [
       "\u001b[1m5×3 DataFrame\u001b[0m\n",
       "\u001b[1m Row \u001b[0m│\u001b[1m uric    \u001b[0m\u001b[1m downs \u001b[0m\u001b[1m sex   \u001b[0m\n",
       "     │\u001b[90m Float64 \u001b[0m\u001b[90m Int64 \u001b[0m\u001b[90m Int64 \u001b[0m\n",
       "─────┼───────────────────────\n",
       "   1 │    5.84      0      0\n",
       "   2 │    6.3       0      0\n",
       "   3 │    6.95      0      0\n",
       "   4 │    5.92      0      0\n",
       "   5 │    7.94      0      0"
      ]
     },
     "execution_count": 3,
     "metadata": {},
     "output_type": "execute_result"
    }
   ],
   "source": [
    "uric_down = DataFrame(\n",
    "  uric = [5.84, 6.3, 6.95, 5.92, 7.94, 5.5, 6.08, 5.12, 7.58, 6.78,\n",
    "  4.9, 6.95, 6.73, 5.32, 4.81, 4.94, 7.2, 5.22, 4.6, 3.88],\n",
    "  downs = repeat(repeat(0:1, inner=5), 2),\n",
    "  sex = repeat(0:1, inner=10)\n",
    ")\n",
    "\n",
    "uric_down |> head"
   ]
  },
  {
   "cell_type": "markdown",
   "metadata": {},
   "source": [
    "### Creating Factors"
   ]
  },
  {
   "cell_type": "markdown",
   "metadata": {},
   "source": [
    "::: callout-note\n",
    "First we will *transform* our categorical variables from `Int64` to `String` with `@transform!`.\n",
    "\n",
    "  - For variables with only two levels, we are using an: `if/else` clause.\n",
    "  \n",
    ":::"
   ]
  },
  {
   "cell_type": "code",
   "execution_count": 4,
   "metadata": {},
   "outputs": [
    {
     "data": {
      "text/html": [
       "<div><div style = \"float: left;\"><span>5×3 DataFrame</span></div><div style = \"clear: both;\"></div></div><div class = \"data-frame\" style = \"overflow-x: scroll;\"><table class = \"data-frame\" style = \"margin-bottom: 6px;\"><thead><tr class = \"header\"><th class = \"rowNumber\" style = \"font-weight: bold; text-align: right;\">Row</th><th style = \"text-align: left;\">uric</th><th style = \"text-align: left;\">downs</th><th style = \"text-align: left;\">sex</th></tr><tr class = \"subheader headerLastRow\"><th class = \"rowNumber\" style = \"font-weight: bold; text-align: right;\"></th><th title = \"Float64\" style = \"text-align: left;\">Float64</th><th title = \"String\" style = \"text-align: left;\">String</th><th title = \"String\" style = \"text-align: left;\">String</th></tr></thead><tbody><tr><td class = \"rowNumber\" style = \"font-weight: bold; text-align: right;\">1</td><td style = \"text-align: right;\">5.84</td><td style = \"text-align: left;\">No</td><td style = \"text-align: left;\">Male</td></tr><tr><td class = \"rowNumber\" style = \"font-weight: bold; text-align: right;\">2</td><td style = \"text-align: right;\">6.3</td><td style = \"text-align: left;\">No</td><td style = \"text-align: left;\">Male</td></tr><tr><td class = \"rowNumber\" style = \"font-weight: bold; text-align: right;\">3</td><td style = \"text-align: right;\">6.95</td><td style = \"text-align: left;\">No</td><td style = \"text-align: left;\">Male</td></tr><tr><td class = \"rowNumber\" style = \"font-weight: bold; text-align: right;\">4</td><td style = \"text-align: right;\">5.92</td><td style = \"text-align: left;\">No</td><td style = \"text-align: left;\">Male</td></tr><tr><td class = \"rowNumber\" style = \"font-weight: bold; text-align: right;\">5</td><td style = \"text-align: right;\">7.94</td><td style = \"text-align: left;\">No</td><td style = \"text-align: left;\">Male</td></tr></tbody></table></div>"
      ],
      "text/latex": [
       "\\begin{tabular}{r|ccc}\n",
       "\t& uric & downs & sex\\\\\n",
       "\t\\hline\n",
       "\t& Float64 & String & String\\\\\n",
       "\t\\hline\n",
       "\t1 & 5.84 & No & Male \\\\\n",
       "\t2 & 6.3 & No & Male \\\\\n",
       "\t3 & 6.95 & No & Male \\\\\n",
       "\t4 & 5.92 & No & Male \\\\\n",
       "\t5 & 7.94 & No & Male \\\\\n",
       "\\end{tabular}\n"
      ],
      "text/plain": [
       "\u001b[1m5×3 DataFrame\u001b[0m\n",
       "\u001b[1m Row \u001b[0m│\u001b[1m uric    \u001b[0m\u001b[1m downs  \u001b[0m\u001b[1m sex    \u001b[0m\n",
       "     │\u001b[90m Float64 \u001b[0m\u001b[90m String \u001b[0m\u001b[90m String \u001b[0m\n",
       "─────┼─────────────────────────\n",
       "   1 │    5.84  No      Male\n",
       "   2 │    6.3   No      Male\n",
       "   3 │    6.95  No      Male\n",
       "   4 │    5.92  No      Male\n",
       "   5 │    7.94  No      Male"
      ]
     },
     "execution_count": 4,
     "metadata": {},
     "output_type": "execute_result"
    }
   ],
   "source": [
    "@transform!(\n",
    "  uric_down,\n",
    "  :downs = :downs == 0 ? \"No\" : \"Yes\",\n",
    "  :sex = :sex == 0 ? \"Male\" : \"Female\"\n",
    ")\n",
    "\n",
    "uric_down |> head"
   ]
  },
  {
   "cell_type": "markdown",
   "metadata": {},
   "source": [
    "::: callout-note\n",
    "In the second step, we change the `scitype` of the variable from `String` to `Multiclass`, i.e., a categorical variable, with `coerce`.\n",
    "\n",
    ":::"
   ]
  },
  {
   "cell_type": "code",
   "execution_count": 5,
   "metadata": {},
   "outputs": [
    {
     "data": {
      "text/plain": [
       "┌───────┬───────────────┬──────────────────────────────────┐\n",
       "│\u001b[22m names \u001b[0m│\u001b[22m scitypes      \u001b[0m│\u001b[22m types                            \u001b[0m│\n",
       "├───────┼───────────────┼──────────────────────────────────┤\n",
       "│ uric  │ Continuous    │ Float64                          │\n",
       "│ downs │ Multiclass{2} │ CategoricalValue{String, UInt32} │\n",
       "│ sex   │ Multiclass{2} │ CategoricalValue{String, UInt32} │\n",
       "└───────┴───────────────┴──────────────────────────────────┘\n"
      ]
     },
     "execution_count": 5,
     "metadata": {},
     "output_type": "execute_result"
    }
   ],
   "source": [
    "coerce!(\n",
    "  uric_down,\n",
    "  :downs => Multiclass,\n",
    "  :sex => Multiclass\n",
    ")\n",
    "\n",
    "uric_down |> schema"
   ]
  },
  {
   "cell_type": "markdown",
   "metadata": {},
   "source": [
    "### Import from CSV"
   ]
  },
  {
   "cell_type": "code",
   "execution_count": 6,
   "metadata": {},
   "outputs": [
    {
     "data": {
      "text/plain": [
       "┌─────────┬──────────┬───────┐\n",
       "│\u001b[22m names   \u001b[0m│\u001b[22m scitypes \u001b[0m│\u001b[22m types \u001b[0m│\n",
       "├─────────┼──────────┼───────┤\n",
       "│ id      │ Count    │ Int64 │\n",
       "│ age0    │ Count    │ Int64 │\n",
       "│ height0 │ Count    │ Int64 │\n",
       "│ weight0 │ Count    │ Int64 │\n",
       "│ sbp0    │ Count    │ Int64 │\n",
       "│ dbp0    │ Count    │ Int64 │\n",
       "│ chol0   │ Count    │ Int64 │\n",
       "│ behpat0 │ Count    │ Int64 │\n",
       "│ ncigs0  │ Count    │ Int64 │\n",
       "│ dibpat0 │ Count    │ Int64 │\n",
       "│ chd69   │ Count    │ Int64 │\n",
       "│ typechd │ Count    │ Int64 │\n",
       "│ time169 │ Count    │ Int64 │\n",
       "│ arcus0  │ Count    │ Int64 │\n",
       "└─────────┴──────────┴───────┘\n"
      ]
     },
     "execution_count": 6,
     "metadata": {},
     "output_type": "execute_result"
    }
   ],
   "source": [
    "wcgs = DataFrame(CSV.File(\"data/wcgs.csv\"))\n",
    "wcgs |> schema"
   ]
  },
  {
   "cell_type": "markdown",
   "metadata": {},
   "source": [
    "Dimensions:"
   ]
  },
  {
   "cell_type": "code",
   "execution_count": 7,
   "metadata": {},
   "outputs": [
    {
     "data": {
      "text/plain": [
       "(3140, 14)"
      ]
     },
     "execution_count": 7,
     "metadata": {},
     "output_type": "execute_result"
    }
   ],
   "source": [
    "wcgs |> size"
   ]
  },
  {
   "cell_type": "markdown",
   "metadata": {},
   "source": [
    "Names of columns (variables):"
   ]
  },
  {
   "cell_type": "code",
   "execution_count": 8,
   "metadata": {},
   "outputs": [
    {
     "data": {
      "text/plain": [
       "14-element Vector{String}:\n",
       " \"id\"\n",
       " \"age0\"\n",
       " \"height0\"\n",
       " \"weight0\"\n",
       " \"sbp0\"\n",
       " \"dbp0\"\n",
       " \"chol0\"\n",
       " \"behpat0\"\n",
       " \"ncigs0\"\n",
       " \"dibpat0\"\n",
       " \"chd69\"\n",
       " \"typechd\"\n",
       " \"time169\"\n",
       " \"arcus0\""
      ]
     },
     "execution_count": 8,
     "metadata": {},
     "output_type": "execute_result"
    }
   ],
   "source": [
    "wcgs |> names"
   ]
  },
  {
   "cell_type": "markdown",
   "metadata": {},
   "source": [
    "### Import from `rds`"
   ]
  },
  {
   "cell_type": "code",
   "execution_count": 9,
   "metadata": {},
   "outputs": [
    {
     "data": {
      "text/html": [
       "<div><div style = \"float: left;\"><span>5×7 DataFrame</span></div><div style = \"clear: both;\"></div></div><div class = \"data-frame\" style = \"overflow-x: scroll;\"><table class = \"data-frame\" style = \"margin-bottom: 6px;\"><thead><tr class = \"header\"><th class = \"rowNumber\" style = \"font-weight: bold; text-align: right;\">Row</th><th style = \"text-align: left;\">no</th><th style = \"text-align: left;\">dl_milk</th><th style = \"text-align: left;\">sex</th><th style = \"text-align: left;\">weight</th><th style = \"text-align: left;\">ml_suppl</th><th style = \"text-align: left;\">mat_weight</th><th style = \"text-align: left;\">mat_height</th></tr><tr class = \"subheader headerLastRow\"><th class = \"rowNumber\" style = \"font-weight: bold; text-align: right;\"></th><th title = \"Int64\" style = \"text-align: left;\">Int64</th><th title = \"Float64\" style = \"text-align: left;\">Float64</th><th title = \"CategoricalValue{String, UInt32}\" style = \"text-align: left;\">Cat…</th><th title = \"Float64\" style = \"text-align: left;\">Float64</th><th title = \"Int64\" style = \"text-align: left;\">Int64</th><th title = \"Int64\" style = \"text-align: left;\">Int64</th><th title = \"Int64\" style = \"text-align: left;\">Int64</th></tr></thead><tbody><tr><td class = \"rowNumber\" style = \"font-weight: bold; text-align: right;\">1</td><td style = \"text-align: right;\">1</td><td style = \"text-align: right;\">8.42</td><td style = \"text-align: left;\">Boy</td><td style = \"text-align: right;\">5.002</td><td style = \"text-align: right;\">250</td><td style = \"text-align: right;\">65</td><td style = \"text-align: right;\">173</td></tr><tr><td class = \"rowNumber\" style = \"font-weight: bold; text-align: right;\">2</td><td style = \"text-align: right;\">4</td><td style = \"text-align: right;\">8.44</td><td style = \"text-align: left;\">Boy</td><td style = \"text-align: right;\">5.128</td><td style = \"text-align: right;\">0</td><td style = \"text-align: right;\">48</td><td style = \"text-align: right;\">158</td></tr><tr><td class = \"rowNumber\" style = \"font-weight: bold; text-align: right;\">3</td><td style = \"text-align: right;\">5</td><td style = \"text-align: right;\">8.41</td><td style = \"text-align: left;\">Boy</td><td style = \"text-align: right;\">5.445</td><td style = \"text-align: right;\">40</td><td style = \"text-align: right;\">62</td><td style = \"text-align: right;\">160</td></tr><tr><td class = \"rowNumber\" style = \"font-weight: bold; text-align: right;\">4</td><td style = \"text-align: right;\">10</td><td style = \"text-align: right;\">9.65</td><td style = \"text-align: left;\">Boy</td><td style = \"text-align: right;\">5.106</td><td style = \"text-align: right;\">60</td><td style = \"text-align: right;\">55</td><td style = \"text-align: right;\">162</td></tr><tr><td class = \"rowNumber\" style = \"font-weight: bold; text-align: right;\">5</td><td style = \"text-align: right;\">12</td><td style = \"text-align: right;\">6.44</td><td style = \"text-align: left;\">Boy</td><td style = \"text-align: right;\">5.196</td><td style = \"text-align: right;\">240</td><td style = \"text-align: right;\">58</td><td style = \"text-align: right;\">170</td></tr></tbody></table></div>"
      ],
      "text/latex": [
       "\\begin{tabular}{r|ccccccc}\n",
       "\t& no & dl\\_milk & sex & weight & ml\\_suppl & mat\\_weight & mat\\_height\\\\\n",
       "\t\\hline\n",
       "\t& Int64 & Float64 & Cat… & Float64 & Int64 & Int64 & Int64\\\\\n",
       "\t\\hline\n",
       "\t1 & 1 & 8.42 & Boy & 5.002 & 250 & 65 & 173 \\\\\n",
       "\t2 & 4 & 8.44 & Boy & 5.128 & 0 & 48 & 158 \\\\\n",
       "\t3 & 5 & 8.41 & Boy & 5.445 & 40 & 62 & 160 \\\\\n",
       "\t4 & 10 & 9.65 & Boy & 5.106 & 60 & 55 & 162 \\\\\n",
       "\t5 & 12 & 6.44 & Boy & 5.196 & 240 & 58 & 170 \\\\\n",
       "\\end{tabular}\n"
      ],
      "text/plain": [
       "\u001b[1m5×7 DataFrame\u001b[0m\n",
       "\u001b[1m Row \u001b[0m│\u001b[1m no    \u001b[0m\u001b[1m dl_milk \u001b[0m\u001b[1m sex  \u001b[0m\u001b[1m weight  \u001b[0m\u001b[1m ml_suppl \u001b[0m\u001b[1m mat_weight \u001b[0m\u001b[1m mat_height \u001b[0m\n",
       "     │\u001b[90m Int64 \u001b[0m\u001b[90m Float64 \u001b[0m\u001b[90m Cat… \u001b[0m\u001b[90m Float64 \u001b[0m\u001b[90m Int64    \u001b[0m\u001b[90m Int64      \u001b[0m\u001b[90m Int64      \u001b[0m\n",
       "─────┼─────────────────────────────────────────────────────────────────\n",
       "   1 │     1     8.42  Boy     5.002       250          65         173\n",
       "   2 │     4     8.44  Boy     5.128         0          48         158\n",
       "   3 │     5     8.41  Boy     5.445        40          62         160\n",
       "   4 │    10     9.65  Boy     5.106        60          55         162\n",
       "   5 │    12     6.44  Boy     5.196       240          58         170"
      ]
     },
     "execution_count": 9,
     "metadata": {},
     "output_type": "execute_result"
    }
   ],
   "source": [
    "kfm = read_rds(\"data/kfm.rds\") |> rcopy\n",
    "kfm |> head"
   ]
  },
  {
   "cell_type": "markdown",
   "metadata": {},
   "source": [
    "### Changing names of variables"
   ]
  },
  {
   "cell_type": "code",
   "execution_count": 10,
   "metadata": {},
   "outputs": [],
   "source": [
    "wcgs = DataFrames.rename!(\n",
    "  wcgs,\n",
    "  :age0 => :age,\n",
    "  :height0 => :height,\n",
    "  :weight0 => :weight,\n",
    "  :sbp0 => :sbp,\n",
    "  :dbp0 => :dbp,\n",
    "  :chol0 => :chol,\n",
    "  :behpat0 => :beh_pat,\n",
    "  :ncigs0 => :ncigs,\n",
    "  :dibpat0 => :dib_pat,\n",
    "  :chd69 => :chd,\n",
    "  :typechd => :type_chd,\n",
    "  :time169 => :time,\n",
    "  :arcus0 => :arcus\n",
    ");"
   ]
  },
  {
   "cell_type": "code",
   "execution_count": 11,
   "metadata": {},
   "outputs": [
    {
     "data": {
      "text/html": [
       "<div><div style = \"float: left;\"><span>5×5 DataFrame</span></div><div style = \"clear: both;\"></div></div><div class = \"data-frame\" style = \"overflow-x: scroll;\"><table class = \"data-frame\" style = \"margin-bottom: 6px;\"><thead><tr class = \"header\"><th class = \"rowNumber\" style = \"font-weight: bold; text-align: right;\">Row</th><th style = \"text-align: left;\">age</th><th style = \"text-align: left;\">height</th><th style = \"text-align: left;\">weight</th><th style = \"text-align: left;\">sbp</th><th style = \"text-align: left;\">dbp</th></tr><tr class = \"subheader headerLastRow\"><th class = \"rowNumber\" style = \"font-weight: bold; text-align: right;\"></th><th title = \"Int64\" style = \"text-align: left;\">Int64</th><th title = \"Int64\" style = \"text-align: left;\">Int64</th><th title = \"Int64\" style = \"text-align: left;\">Int64</th><th title = \"Int64\" style = \"text-align: left;\">Int64</th><th title = \"Int64\" style = \"text-align: left;\">Int64</th></tr></thead><tbody><tr><td class = \"rowNumber\" style = \"font-weight: bold; text-align: right;\">1</td><td style = \"text-align: right;\">49</td><td style = \"text-align: right;\">73</td><td style = \"text-align: right;\">150</td><td style = \"text-align: right;\">110</td><td style = \"text-align: right;\">76</td></tr><tr><td class = \"rowNumber\" style = \"font-weight: bold; text-align: right;\">2</td><td style = \"text-align: right;\">42</td><td style = \"text-align: right;\">70</td><td style = \"text-align: right;\">160</td><td style = \"text-align: right;\">154</td><td style = \"text-align: right;\">84</td></tr><tr><td class = \"rowNumber\" style = \"font-weight: bold; text-align: right;\">3</td><td style = \"text-align: right;\">42</td><td style = \"text-align: right;\">69</td><td style = \"text-align: right;\">160</td><td style = \"text-align: right;\">110</td><td style = \"text-align: right;\">78</td></tr><tr><td class = \"rowNumber\" style = \"font-weight: bold; text-align: right;\">4</td><td style = \"text-align: right;\">41</td><td style = \"text-align: right;\">68</td><td style = \"text-align: right;\">152</td><td style = \"text-align: right;\">124</td><td style = \"text-align: right;\">78</td></tr><tr><td class = \"rowNumber\" style = \"font-weight: bold; text-align: right;\">5</td><td style = \"text-align: right;\">59</td><td style = \"text-align: right;\">70</td><td style = \"text-align: right;\">150</td><td style = \"text-align: right;\">144</td><td style = \"text-align: right;\">86</td></tr></tbody></table></div>"
      ],
      "text/latex": [
       "\\begin{tabular}{r|ccccc}\n",
       "\t& age & height & weight & sbp & dbp\\\\\n",
       "\t\\hline\n",
       "\t& Int64 & Int64 & Int64 & Int64 & Int64\\\\\n",
       "\t\\hline\n",
       "\t1 & 49 & 73 & 150 & 110 & 76 \\\\\n",
       "\t2 & 42 & 70 & 160 & 154 & 84 \\\\\n",
       "\t3 & 42 & 69 & 160 & 110 & 78 \\\\\n",
       "\t4 & 41 & 68 & 152 & 124 & 78 \\\\\n",
       "\t5 & 59 & 70 & 150 & 144 & 86 \\\\\n",
       "\\end{tabular}\n"
      ],
      "text/plain": [
       "\u001b[1m5×5 DataFrame\u001b[0m\n",
       "\u001b[1m Row \u001b[0m│\u001b[1m age   \u001b[0m\u001b[1m height \u001b[0m\u001b[1m weight \u001b[0m\u001b[1m sbp   \u001b[0m\u001b[1m dbp   \u001b[0m\n",
       "     │\u001b[90m Int64 \u001b[0m\u001b[90m Int64  \u001b[0m\u001b[90m Int64  \u001b[0m\u001b[90m Int64 \u001b[0m\u001b[90m Int64 \u001b[0m\n",
       "─────┼─────────────────────────────────────\n",
       "   1 │    49      73     150    110     76\n",
       "   2 │    42      70     160    154     84\n",
       "   3 │    42      69     160    110     78\n",
       "   4 │    41      68     152    124     78\n",
       "   5 │    59      70     150    144     86"
      ]
     },
     "execution_count": 11,
     "metadata": {},
     "output_type": "execute_result"
    }
   ],
   "source": [
    "wcgs[1:5, 2:6]"
   ]
  },
  {
   "cell_type": "markdown",
   "metadata": {},
   "source": [
    "Let's define factors for the `wcgs` dataset."
   ]
  },
  {
   "cell_type": "code",
   "execution_count": 12,
   "metadata": {},
   "outputs": [],
   "source": [
    "@transform!(\n",
    "  wcgs,\n",
    "  :chd = :chd == 0 ? \"No CHD\" : \"CHD\",\n",
    "  :arcus = :arcus == 0 ? \"Absent\" : \"Present\",\n",
    "  :dib_pat = :dib_pat == 0 ? \"B\" : \"A\"\n",
    ")\n",
    "wcgs.beh_pat = recode(\n",
    "  wcgs.beh_pat, \n",
    "  1 => \"A1\", 2 => \"A2\",\n",
    "  3 => \"B1\", 4 => \"B2\"\n",
    ");\n",
    "wcgs.type_chd = recode(\n",
    "  wcgs.type_chd, \n",
    "  0 => \"No CHD\", 1 => \"MI or SD\",\n",
    "  2 => \"Angina\", 3 => \"Silent MI\"\n",
    ");"
   ]
  },
  {
   "cell_type": "code",
   "execution_count": 13,
   "metadata": {},
   "outputs": [],
   "source": [
    "coerce!(\n",
    "  wcgs,\n",
    "  :chd => Multiclass,\n",
    "  :arcus => Multiclass,\n",
    "  :beh_pat => Multiclass,\n",
    "  :dib_pat => Multiclass,\n",
    "  :type_chd => Multiclass\n",
    ");"
   ]
  },
  {
   "cell_type": "code",
   "execution_count": 14,
   "metadata": {},
   "outputs": [
    {
     "data": {
      "text/plain": [
       "┌──────────┬───────────────┬──────────────────────────────────┐\n",
       "│\u001b[22m names    \u001b[0m│\u001b[22m scitypes      \u001b[0m│\u001b[22m types                            \u001b[0m│\n",
       "├──────────┼───────────────┼──────────────────────────────────┤\n",
       "│ chd      │ Multiclass{2} │ CategoricalValue{String, UInt32} │\n",
       "│ arcus    │ Multiclass{2} │ CategoricalValue{String, UInt32} │\n",
       "│ beh_pat  │ Multiclass{4} │ CategoricalValue{String, UInt32} │\n",
       "│ dib_pat  │ Multiclass{2} │ CategoricalValue{String, UInt32} │\n",
       "│ type_chd │ Multiclass{4} │ CategoricalValue{String, UInt32} │\n",
       "└──────────┴───────────────┴──────────────────────────────────┘\n"
      ]
     },
     "execution_count": 14,
     "metadata": {},
     "output_type": "execute_result"
    }
   ],
   "source": [
    "@select(wcgs, :chd, :arcus, :beh_pat, :dib_pat, :type_chd) |>\n",
    "schema"
   ]
  },
  {
   "cell_type": "code",
   "execution_count": 15,
   "metadata": {},
   "outputs": [
    {
     "data": {
      "text/plain": [
       "2-element Vector{String}:\n",
       " \"CHD\"\n",
       " \"No CHD\""
      ]
     },
     "execution_count": 15,
     "metadata": {},
     "output_type": "execute_result"
    }
   ],
   "source": [
    "levels(wcgs.chd)"
   ]
  },
  {
   "cell_type": "markdown",
   "metadata": {},
   "source": [
    "### Transforming to a binary variable\n",
    "\n",
    "One of our variables is a count and stores the number of smoked cigarettes/day. We can define a new variable `:smoker` in which, everyone who smokes one or more cigarette/day will be a smoker. One of the easiest ways to create binary variables is to use a conditional statement."
   ]
  },
  {
   "cell_type": "code",
   "execution_count": 16,
   "metadata": {},
   "outputs": [
    {
     "data": {
      "text/plain": [
       "    |        |       smoker        |       \n",
       "    |        | Non-Smoker | Smoker | Total \n",
       "-------------------------------------------\n",
       "chd |    CHD |         97 |    158 |   255 \n",
       "    | No CHD |       1549 |   1336 |  2885 \n",
       "-------------------------------------------\n",
       "    |  Total |       1646 |   1494 |  3140 \n"
      ]
     },
     "execution_count": 16,
     "metadata": {},
     "output_type": "execute_result"
    }
   ],
   "source": [
    "@transform!(\n",
    "  wcgs,\n",
    "  :smoker = :ncigs == 0 ? \"Non-Smoker\" : \"Smoker\"\n",
    ")\n",
    "coerce!(wcgs, :smoker => Multiclass)\n",
    "tabulate(wcgs, :chd, :smoker)"
   ]
  },
  {
   "cell_type": "markdown",
   "metadata": {},
   "source": [
    "### Simple numeric transformations\n",
    "\n",
    "We also, prefer units in the metric system. We will convert from inches to centimetres and from pounds to kg."
   ]
  },
  {
   "cell_type": "code",
   "execution_count": 17,
   "metadata": {},
   "outputs": [],
   "source": [
    "@transform!(\n",
    "  wcgs,\n",
    "  :height = :height * 2.54,\n",
    "  :weight = :weight * 0.4536\n",
    ");"
   ]
  },
  {
   "cell_type": "markdown",
   "metadata": {},
   "source": [
    "### Centring\n",
    "\n",
    "We can centre a variable by removings its mean. Let’s centre `:height` in `wcgs` as an example."
   ]
  },
  {
   "cell_type": "code",
   "execution_count": 18,
   "metadata": {},
   "outputs": [
    {
     "data": {
      "text/html": [
       "<div><div style = \"float: left;\"><span>2×6 DataFrame</span></div><div style = \"clear: both;\"></div></div><div class = \"data-frame\" style = \"overflow-x: scroll;\"><table class = \"data-frame\" style = \"margin-bottom: 6px;\"><thead><tr class = \"header\"><th class = \"rowNumber\" style = \"font-weight: bold; text-align: right;\">Row</th><th style = \"text-align: left;\">Variable</th><th style = \"text-align: left;\">n</th><th style = \"text-align: left;\">Median</th><th style = \"text-align: left;\">Mean</th><th style = \"text-align: left;\">SD</th><th style = \"text-align: left;\">CV</th></tr><tr class = \"subheader headerLastRow\"><th class = \"rowNumber\" style = \"font-weight: bold; text-align: right;\"></th><th title = \"Symbol\" style = \"text-align: left;\">Symbol</th><th title = \"Int64\" style = \"text-align: left;\">Int64</th><th title = \"Float64\" style = \"text-align: left;\">Float64</th><th title = \"Float64\" style = \"text-align: left;\">Float64</th><th title = \"Float64\" style = \"text-align: left;\">Float64</th><th title = \"Float64\" style = \"text-align: left;\">Float64</th></tr></thead><tbody><tr><td class = \"rowNumber\" style = \"font-weight: bold; text-align: right;\">1</td><td style = \"text-align: left;\">height</td><td style = \"text-align: right;\">3140</td><td style = \"text-align: right;\">177.8</td><td style = \"text-align: right;\">177.24</td><td style = \"text-align: right;\">6.404</td><td style = \"text-align: right;\">0.036</td></tr><tr><td class = \"rowNumber\" style = \"font-weight: bold; text-align: right;\">2</td><td style = \"text-align: left;\">height_cent</td><td style = \"text-align: right;\">3140</td><td style = \"text-align: right;\">0.56</td><td style = \"text-align: right;\">0.0</td><td style = \"text-align: right;\">6.404</td><td style = \"text-align: right;\">5.20042e13</td></tr></tbody></table></div>"
      ],
      "text/latex": [
       "\\begin{tabular}{r|cccccc}\n",
       "\t& Variable & n & Median & Mean & SD & CV\\\\\n",
       "\t\\hline\n",
       "\t& Symbol & Int64 & Float64 & Float64 & Float64 & Float64\\\\\n",
       "\t\\hline\n",
       "\t1 & height & 3140 & 177.8 & 177.24 & 6.404 & 0.036 \\\\\n",
       "\t2 & height\\_cent & 3140 & 0.56 & 0.0 & 6.404 & 5.20042e13 \\\\\n",
       "\\end{tabular}\n"
      ],
      "text/plain": [
       "\u001b[1m2×6 DataFrame\u001b[0m\n",
       "\u001b[1m Row \u001b[0m│\u001b[1m Variable    \u001b[0m\u001b[1m n     \u001b[0m\u001b[1m Median  \u001b[0m\u001b[1m Mean    \u001b[0m\u001b[1m SD      \u001b[0m\u001b[1m CV         \u001b[0m\n",
       "     │\u001b[90m Symbol      \u001b[0m\u001b[90m Int64 \u001b[0m\u001b[90m Float64 \u001b[0m\u001b[90m Float64 \u001b[0m\u001b[90m Float64 \u001b[0m\u001b[90m Float64    \u001b[0m\n",
       "─────┼───────────────────────────────────────────────────────────\n",
       "   1 │ height        3140   177.8    177.24    6.404  0.036\n",
       "   2 │ height_cent   3140     0.56     0.0     6.404  5.20042e13"
      ]
     },
     "execution_count": 18,
     "metadata": {},
     "output_type": "execute_result"
    }
   ],
   "source": [
    "estat(\n",
    "\t@select(\n",
    "\t\t@transform(wcgs, :height_cent = @bycol :height .- mean(:height)),\n",
    "\t\t:height, :height_cent\n",
    "\t)\n",
    ")"
   ]
  },
  {
   "cell_type": "markdown",
   "metadata": {},
   "source": [
    "## Indexing and subsets\n",
    "\n",
    "Let’s said that we are only interested in subjects who are smokers. If that is the case, we can create a new data frame using the `subset` function from `DataFrameMacros`."
   ]
  },
  {
   "cell_type": "code",
   "execution_count": 19,
   "metadata": {},
   "outputs": [
    {
     "data": {
      "text/html": [
       "<div><div style = \"float: left;\"><span>5×5 DataFrame</span></div><div style = \"clear: both;\"></div></div><div class = \"data-frame\" style = \"overflow-x: scroll;\"><table class = \"data-frame\" style = \"margin-bottom: 6px;\"><thead><tr class = \"header\"><th class = \"rowNumber\" style = \"font-weight: bold; text-align: right;\">Row</th><th style = \"text-align: left;\">age</th><th style = \"text-align: left;\">height</th><th style = \"text-align: left;\">weight</th><th style = \"text-align: left;\">sbp</th><th style = \"text-align: left;\">dbp</th></tr><tr class = \"subheader headerLastRow\"><th class = \"rowNumber\" style = \"font-weight: bold; text-align: right;\"></th><th title = \"Int64\" style = \"text-align: left;\">Int64</th><th title = \"Float64\" style = \"text-align: left;\">Float64</th><th title = \"Float64\" style = \"text-align: left;\">Float64</th><th title = \"Int64\" style = \"text-align: left;\">Int64</th><th title = \"Int64\" style = \"text-align: left;\">Int64</th></tr></thead><tbody><tr><td class = \"rowNumber\" style = \"font-weight: bold; text-align: right;\">1</td><td style = \"text-align: right;\">49</td><td style = \"text-align: right;\">185.42</td><td style = \"text-align: right;\">68.04</td><td style = \"text-align: right;\">110</td><td style = \"text-align: right;\">76</td></tr><tr><td class = \"rowNumber\" style = \"font-weight: bold; text-align: right;\">2</td><td style = \"text-align: right;\">42</td><td style = \"text-align: right;\">177.8</td><td style = \"text-align: right;\">72.576</td><td style = \"text-align: right;\">154</td><td style = \"text-align: right;\">84</td></tr><tr><td class = \"rowNumber\" style = \"font-weight: bold; text-align: right;\">3</td><td style = \"text-align: right;\">41</td><td style = \"text-align: right;\">172.72</td><td style = \"text-align: right;\">68.9472</td><td style = \"text-align: right;\">124</td><td style = \"text-align: right;\">78</td></tr><tr><td class = \"rowNumber\" style = \"font-weight: bold; text-align: right;\">4</td><td style = \"text-align: right;\">59</td><td style = \"text-align: right;\">177.8</td><td style = \"text-align: right;\">68.04</td><td style = \"text-align: right;\">144</td><td style = \"text-align: right;\">86</td></tr><tr><td class = \"rowNumber\" style = \"font-weight: bold; text-align: right;\">5</td><td style = \"text-align: right;\">43</td><td style = \"text-align: right;\">182.88</td><td style = \"text-align: right;\">86.184</td><td style = \"text-align: right;\">146</td><td style = \"text-align: right;\">76</td></tr></tbody></table></div>"
      ],
      "text/latex": [
       "\\begin{tabular}{r|ccccc}\n",
       "\t& age & height & weight & sbp & dbp\\\\\n",
       "\t\\hline\n",
       "\t& Int64 & Float64 & Float64 & Int64 & Int64\\\\\n",
       "\t\\hline\n",
       "\t1 & 49 & 185.42 & 68.04 & 110 & 76 \\\\\n",
       "\t2 & 42 & 177.8 & 72.576 & 154 & 84 \\\\\n",
       "\t3 & 41 & 172.72 & 68.9472 & 124 & 78 \\\\\n",
       "\t4 & 59 & 177.8 & 68.04 & 144 & 86 \\\\\n",
       "\t5 & 43 & 182.88 & 86.184 & 146 & 76 \\\\\n",
       "\\end{tabular}\n"
      ],
      "text/plain": [
       "\u001b[1m5×5 DataFrame\u001b[0m\n",
       "\u001b[1m Row \u001b[0m│\u001b[1m age   \u001b[0m\u001b[1m height  \u001b[0m\u001b[1m weight  \u001b[0m\u001b[1m sbp   \u001b[0m\u001b[1m dbp   \u001b[0m\n",
       "     │\u001b[90m Int64 \u001b[0m\u001b[90m Float64 \u001b[0m\u001b[90m Float64 \u001b[0m\u001b[90m Int64 \u001b[0m\u001b[90m Int64 \u001b[0m\n",
       "─────┼───────────────────────────────────────\n",
       "   1 │    49   185.42  68.04      110     76\n",
       "   2 │    42   177.8   72.576     154     84\n",
       "   3 │    41   172.72  68.9472    124     78\n",
       "   4 │    59   177.8   68.04      144     86\n",
       "   5 │    43   182.88  86.184     146     76"
      ]
     },
     "execution_count": 19,
     "metadata": {},
     "output_type": "execute_result"
    }
   ],
   "source": [
    "smokers = @subset(wcgs, :smoker == \"Smoker\")\n",
    "smokers[1:5, 2:6]"
   ]
  },
  {
   "cell_type": "markdown",
   "metadata": {},
   "source": [
    "Let's check for the number of observations:"
   ]
  },
  {
   "cell_type": "code",
   "execution_count": 20,
   "metadata": {},
   "outputs": [
    {
     "data": {
      "text/plain": [
       "1494"
      ]
     },
     "execution_count": 20,
     "metadata": {},
     "output_type": "execute_result"
    }
   ],
   "source": [
    "smokers |> nrow"
   ]
  },
  {
   "cell_type": "markdown",
   "metadata": {},
   "source": [
    "We can access one of those columns easily using `.colname`, which returns a vector that we can access like any Julia vector:"
   ]
  },
  {
   "cell_type": "code",
   "execution_count": 21,
   "metadata": {},
   "outputs": [
    {
     "data": {
      "text/plain": [
       "5-element CategoricalArray{String,1,UInt32}:\n",
       " \"No CHD\"\n",
       " \"No CHD\"\n",
       " \"No CHD\"\n",
       " \"No CHD\"\n",
       " \"CHD\""
      ]
     },
     "execution_count": 21,
     "metadata": {},
     "output_type": "execute_result"
    }
   ],
   "source": [
    "wcgs.chd[1:5]"
   ]
  },
  {
   "cell_type": "code",
   "execution_count": 22,
   "metadata": {},
   "outputs": [
    {
     "data": {
      "text/html": [
       "<div><div style = \"float: left;\"><span>5×2 DataFrame</span></div><div style = \"clear: both;\"></div></div><div class = \"data-frame\" style = \"overflow-x: scroll;\"><table class = \"data-frame\" style = \"margin-bottom: 6px;\"><thead><tr class = \"header\"><th class = \"rowNumber\" style = \"font-weight: bold; text-align: right;\">Row</th><th style = \"text-align: left;\">ncigs</th><th style = \"text-align: left;\">smoker</th></tr><tr class = \"subheader headerLastRow\"><th class = \"rowNumber\" style = \"font-weight: bold; text-align: right;\"></th><th title = \"Int64\" style = \"text-align: left;\">Int64</th><th title = \"CategoricalValue{String, UInt32}\" style = \"text-align: left;\">Cat…</th></tr></thead><tbody><tr><td class = \"rowNumber\" style = \"font-weight: bold; text-align: right;\">1</td><td style = \"text-align: right;\">25</td><td style = \"text-align: left;\">Smoker</td></tr><tr><td class = \"rowNumber\" style = \"font-weight: bold; text-align: right;\">2</td><td style = \"text-align: right;\">20</td><td style = \"text-align: left;\">Smoker</td></tr><tr><td class = \"rowNumber\" style = \"font-weight: bold; text-align: right;\">3</td><td style = \"text-align: right;\">0</td><td style = \"text-align: left;\">Non-Smoker</td></tr><tr><td class = \"rowNumber\" style = \"font-weight: bold; text-align: right;\">4</td><td style = \"text-align: right;\">20</td><td style = \"text-align: left;\">Smoker</td></tr><tr><td class = \"rowNumber\" style = \"font-weight: bold; text-align: right;\">5</td><td style = \"text-align: right;\">20</td><td style = \"text-align: left;\">Smoker</td></tr></tbody></table></div>"
      ],
      "text/latex": [
       "\\begin{tabular}{r|cc}\n",
       "\t& ncigs & smoker\\\\\n",
       "\t\\hline\n",
       "\t& Int64 & Cat…\\\\\n",
       "\t\\hline\n",
       "\t1 & 25 & Smoker \\\\\n",
       "\t2 & 20 & Smoker \\\\\n",
       "\t3 & 0 & Non-Smoker \\\\\n",
       "\t4 & 20 & Smoker \\\\\n",
       "\t5 & 20 & Smoker \\\\\n",
       "\\end{tabular}\n"
      ],
      "text/plain": [
       "\u001b[1m5×2 DataFrame\u001b[0m\n",
       "\u001b[1m Row \u001b[0m│\u001b[1m ncigs \u001b[0m\u001b[1m smoker     \u001b[0m\n",
       "     │\u001b[90m Int64 \u001b[0m\u001b[90m Cat…       \u001b[0m\n",
       "─────┼───────────────────\n",
       "   1 │    25  Smoker\n",
       "   2 │    20  Smoker\n",
       "   3 │     0  Non-Smoker\n",
       "   4 │    20  Smoker\n",
       "   5 │    20  Smoker"
      ]
     },
     "execution_count": 22,
     "metadata": {},
     "output_type": "execute_result"
    }
   ],
   "source": [
    "@select(wcgs, :ncigs, :smoker) |> head"
   ]
  },
  {
   "cell_type": "markdown",
   "metadata": {},
   "source": [
    ":::{.callout-tip}\n",
    "For negative selection, we use `Not`.\n",
    ":::"
   ]
  },
  {
   "cell_type": "code",
   "execution_count": 23,
   "metadata": {},
   "outputs": [
    {
     "data": {
      "text/plain": [
       "(1494, 11)"
      ]
     },
     "execution_count": 23,
     "metadata": {},
     "output_type": "execute_result"
    }
   ],
   "source": [
    "@select(smokers, {Not([:id, :type_chd, :ncigs, :beh_pat])}) |> size"
   ]
  },
  {
   "cell_type": "markdown",
   "metadata": {},
   "source": [
    ":::{.callout-note}\n",
    "In the case of negative indexing, a list of variables is given in vector format; the equivalent to `c`, the concatenate function in `R`.\n",
    "\n",
    ":::\n",
    "\n",
    ":::{.callout-important}\n",
    "`DataFrameMacros` uses the `{}` expression to include several columns. This is also needed for negative indexing when using `@select`.\n",
    "\n",
    ":::"
   ]
  },
  {
   "cell_type": "code",
   "execution_count": 24,
   "metadata": {},
   "outputs": [
    {
     "data": {
      "text/html": [
       "<div><div style = \"float: left;\"><span>5×6 DataFrame</span></div><div style = \"clear: both;\"></div></div><div class = \"data-frame\" style = \"overflow-x: scroll;\"><table class = \"data-frame\" style = \"margin-bottom: 6px;\"><thead><tr class = \"header\"><th class = \"rowNumber\" style = \"font-weight: bold; text-align: right;\">Row</th><th style = \"text-align: left;\">dl_milk</th><th style = \"text-align: left;\">sex</th><th style = \"text-align: left;\">weight</th><th style = \"text-align: left;\">ml_suppl</th><th style = \"text-align: left;\">mat_weight</th><th style = \"text-align: left;\">mat_height</th></tr><tr class = \"subheader headerLastRow\"><th class = \"rowNumber\" style = \"font-weight: bold; text-align: right;\"></th><th title = \"Float64\" style = \"text-align: left;\">Float64</th><th title = \"CategoricalValue{String, UInt32}\" style = \"text-align: left;\">Cat…</th><th title = \"Float64\" style = \"text-align: left;\">Float64</th><th title = \"Int64\" style = \"text-align: left;\">Int64</th><th title = \"Int64\" style = \"text-align: left;\">Int64</th><th title = \"Int64\" style = \"text-align: left;\">Int64</th></tr></thead><tbody><tr><td class = \"rowNumber\" style = \"font-weight: bold; text-align: right;\">1</td><td style = \"text-align: right;\">8.42</td><td style = \"text-align: left;\">Boy</td><td style = \"text-align: right;\">5.002</td><td style = \"text-align: right;\">250</td><td style = \"text-align: right;\">65</td><td style = \"text-align: right;\">173</td></tr><tr><td class = \"rowNumber\" style = \"font-weight: bold; text-align: right;\">2</td><td style = \"text-align: right;\">8.44</td><td style = \"text-align: left;\">Boy</td><td style = \"text-align: right;\">5.128</td><td style = \"text-align: right;\">0</td><td style = \"text-align: right;\">48</td><td style = \"text-align: right;\">158</td></tr><tr><td class = \"rowNumber\" style = \"font-weight: bold; text-align: right;\">3</td><td style = \"text-align: right;\">8.41</td><td style = \"text-align: left;\">Boy</td><td style = \"text-align: right;\">5.445</td><td style = \"text-align: right;\">40</td><td style = \"text-align: right;\">62</td><td style = \"text-align: right;\">160</td></tr><tr><td class = \"rowNumber\" style = \"font-weight: bold; text-align: right;\">4</td><td style = \"text-align: right;\">9.65</td><td style = \"text-align: left;\">Boy</td><td style = \"text-align: right;\">5.106</td><td style = \"text-align: right;\">60</td><td style = \"text-align: right;\">55</td><td style = \"text-align: right;\">162</td></tr><tr><td class = \"rowNumber\" style = \"font-weight: bold; text-align: right;\">5</td><td style = \"text-align: right;\">6.44</td><td style = \"text-align: left;\">Boy</td><td style = \"text-align: right;\">5.196</td><td style = \"text-align: right;\">240</td><td style = \"text-align: right;\">58</td><td style = \"text-align: right;\">170</td></tr></tbody></table></div>"
      ],
      "text/latex": [
       "\\begin{tabular}{r|cccccc}\n",
       "\t& dl\\_milk & sex & weight & ml\\_suppl & mat\\_weight & mat\\_height\\\\\n",
       "\t\\hline\n",
       "\t& Float64 & Cat… & Float64 & Int64 & Int64 & Int64\\\\\n",
       "\t\\hline\n",
       "\t1 & 8.42 & Boy & 5.002 & 250 & 65 & 173 \\\\\n",
       "\t2 & 8.44 & Boy & 5.128 & 0 & 48 & 158 \\\\\n",
       "\t3 & 8.41 & Boy & 5.445 & 40 & 62 & 160 \\\\\n",
       "\t4 & 9.65 & Boy & 5.106 & 60 & 55 & 162 \\\\\n",
       "\t5 & 6.44 & Boy & 5.196 & 240 & 58 & 170 \\\\\n",
       "\\end{tabular}\n"
      ],
      "text/plain": [
       "\u001b[1m5×6 DataFrame\u001b[0m\n",
       "\u001b[1m Row \u001b[0m│\u001b[1m dl_milk \u001b[0m\u001b[1m sex  \u001b[0m\u001b[1m weight  \u001b[0m\u001b[1m ml_suppl \u001b[0m\u001b[1m mat_weight \u001b[0m\u001b[1m mat_height \u001b[0m\n",
       "     │\u001b[90m Float64 \u001b[0m\u001b[90m Cat… \u001b[0m\u001b[90m Float64 \u001b[0m\u001b[90m Int64    \u001b[0m\u001b[90m Int64      \u001b[0m\u001b[90m Int64      \u001b[0m\n",
       "─────┼──────────────────────────────────────────────────────────\n",
       "   1 │    8.42  Boy     5.002       250          65         173\n",
       "   2 │    8.44  Boy     5.128         0          48         158\n",
       "   3 │    8.41  Boy     5.445        40          62         160\n",
       "   4 │    9.65  Boy     5.106        60          55         162\n",
       "   5 │    6.44  Boy     5.196       240          58         170"
      ]
     },
     "execution_count": 24,
     "metadata": {},
     "output_type": "execute_result"
    }
   ],
   "source": [
    "@select(kfm, {Not(:no)}) |> head"
   ]
  },
  {
   "cell_type": "code",
   "execution_count": 25,
   "metadata": {},
   "outputs": [
    {
     "data": {
      "text/html": [
       "<div><div style = \"float: left;\"><span>5×10 DataFrame</span></div><div style = \"clear: both;\"></div></div><div class = \"data-frame\" style = \"overflow-x: scroll;\"><table class = \"data-frame\" style = \"margin-bottom: 6px;\"><thead><tr class = \"header\"><th class = \"rowNumber\" style = \"font-weight: bold; text-align: right;\">Row</th><th style = \"text-align: left;\">age</th><th style = \"text-align: left;\">height</th><th style = \"text-align: left;\">weight</th><th style = \"text-align: left;\">sbp</th><th style = \"text-align: left;\">dbp</th><th style = \"text-align: left;\">chol</th><th style = \"text-align: left;\">dib_pat</th><th style = \"text-align: left;\">chd</th><th style = \"text-align: left;\">time</th><th style = \"text-align: left;\">arcus</th></tr><tr class = \"subheader headerLastRow\"><th class = \"rowNumber\" style = \"font-weight: bold; text-align: right;\"></th><th title = \"Int64\" style = \"text-align: left;\">Int64</th><th title = \"Float64\" style = \"text-align: left;\">Float64</th><th title = \"Float64\" style = \"text-align: left;\">Float64</th><th title = \"Int64\" style = \"text-align: left;\">Int64</th><th title = \"Int64\" style = \"text-align: left;\">Int64</th><th title = \"Int64\" style = \"text-align: left;\">Int64</th><th title = \"CategoricalValue{String, UInt32}\" style = \"text-align: left;\">Cat…</th><th title = \"CategoricalValue{String, UInt32}\" style = \"text-align: left;\">Cat…</th><th title = \"Int64\" style = \"text-align: left;\">Int64</th><th title = \"CategoricalValue{String, UInt32}\" style = \"text-align: left;\">Cat…</th></tr></thead><tbody><tr><td class = \"rowNumber\" style = \"font-weight: bold; text-align: right;\">1</td><td style = \"text-align: right;\">49</td><td style = \"text-align: right;\">185.42</td><td style = \"text-align: right;\">68.04</td><td style = \"text-align: right;\">110</td><td style = \"text-align: right;\">76</td><td style = \"text-align: right;\">225</td><td style = \"text-align: left;\">A</td><td style = \"text-align: left;\">No CHD</td><td style = \"text-align: right;\">1664</td><td style = \"text-align: left;\">Absent</td></tr><tr><td class = \"rowNumber\" style = \"font-weight: bold; text-align: right;\">2</td><td style = \"text-align: right;\">42</td><td style = \"text-align: right;\">177.8</td><td style = \"text-align: right;\">72.576</td><td style = \"text-align: right;\">154</td><td style = \"text-align: right;\">84</td><td style = \"text-align: right;\">177</td><td style = \"text-align: left;\">A</td><td style = \"text-align: left;\">No CHD</td><td style = \"text-align: right;\">3071</td><td style = \"text-align: left;\">Present</td></tr><tr><td class = \"rowNumber\" style = \"font-weight: bold; text-align: right;\">3</td><td style = \"text-align: right;\">41</td><td style = \"text-align: right;\">172.72</td><td style = \"text-align: right;\">68.9472</td><td style = \"text-align: right;\">124</td><td style = \"text-align: right;\">78</td><td style = \"text-align: right;\">132</td><td style = \"text-align: left;\">B</td><td style = \"text-align: left;\">No CHD</td><td style = \"text-align: right;\">3064</td><td style = \"text-align: left;\">Absent</td></tr><tr><td class = \"rowNumber\" style = \"font-weight: bold; text-align: right;\">4</td><td style = \"text-align: right;\">59</td><td style = \"text-align: right;\">177.8</td><td style = \"text-align: right;\">68.04</td><td style = \"text-align: right;\">144</td><td style = \"text-align: right;\">86</td><td style = \"text-align: right;\">255</td><td style = \"text-align: left;\">B</td><td style = \"text-align: left;\">CHD</td><td style = \"text-align: right;\">1885</td><td style = \"text-align: left;\">Present</td></tr><tr><td class = \"rowNumber\" style = \"font-weight: bold; text-align: right;\">5</td><td style = \"text-align: right;\">43</td><td style = \"text-align: right;\">182.88</td><td style = \"text-align: right;\">86.184</td><td style = \"text-align: right;\">146</td><td style = \"text-align: right;\">76</td><td style = \"text-align: right;\">149</td><td style = \"text-align: left;\">B</td><td style = \"text-align: left;\">No CHD</td><td style = \"text-align: right;\">3064</td><td style = \"text-align: left;\">Absent</td></tr></tbody></table></div>"
      ],
      "text/latex": [
       "\\begin{tabular}{r|cccccccccc}\n",
       "\t& age & height & weight & sbp & dbp & chol & dib\\_pat & chd & time & arcus\\\\\n",
       "\t\\hline\n",
       "\t& Int64 & Float64 & Float64 & Int64 & Int64 & Int64 & Cat… & Cat… & Int64 & Cat…\\\\\n",
       "\t\\hline\n",
       "\t1 & 49 & 185.42 & 68.04 & 110 & 76 & 225 & A & No CHD & 1664 & Absent \\\\\n",
       "\t2 & 42 & 177.8 & 72.576 & 154 & 84 & 177 & A & No CHD & 3071 & Present \\\\\n",
       "\t3 & 41 & 172.72 & 68.9472 & 124 & 78 & 132 & B & No CHD & 3064 & Absent \\\\\n",
       "\t4 & 59 & 177.8 & 68.04 & 144 & 86 & 255 & B & CHD & 1885 & Present \\\\\n",
       "\t5 & 43 & 182.88 & 86.184 & 146 & 76 & 149 & B & No CHD & 3064 & Absent \\\\\n",
       "\\end{tabular}\n"
      ],
      "text/plain": [
       "\u001b[1m5×10 DataFrame\u001b[0m\n",
       "\u001b[1m Row \u001b[0m│\u001b[1m age   \u001b[0m\u001b[1m height  \u001b[0m\u001b[1m weight  \u001b[0m\u001b[1m sbp   \u001b[0m\u001b[1m dbp   \u001b[0m\u001b[1m chol  \u001b[0m\u001b[1m dib_pat \u001b[0m\u001b[1m chd    \u001b[0m\u001b[1m time  \u001b[0m\u001b[1m a\u001b[0m ⋯\n",
       "     │\u001b[90m Int64 \u001b[0m\u001b[90m Float64 \u001b[0m\u001b[90m Float64 \u001b[0m\u001b[90m Int64 \u001b[0m\u001b[90m Int64 \u001b[0m\u001b[90m Int64 \u001b[0m\u001b[90m Cat…    \u001b[0m\u001b[90m Cat…   \u001b[0m\u001b[90m Int64 \u001b[0m\u001b[90m C\u001b[0m ⋯\n",
       "─────┼──────────────────────────────────────────────────────────────────────────\n",
       "   1 │    49   185.42  68.04      110     76    225  A        No CHD   1664  A ⋯\n",
       "   2 │    42   177.8   72.576     154     84    177  A        No CHD   3071  P\n",
       "   3 │    41   172.72  68.9472    124     78    132  B        No CHD   3064  A\n",
       "   4 │    59   177.8   68.04      144     86    255  B        CHD      1885  P\n",
       "   5 │    43   182.88  86.184     146     76    149  B        No CHD   3064  A ⋯\n",
       "\u001b[36m                                                                1 column omitted\u001b[0m"
      ]
     },
     "execution_count": 25,
     "metadata": {},
     "output_type": "execute_result"
    }
   ],
   "source": [
    "@select(smokers, {Not(:id, :type_chd, :ncigs, :beh_pat, :smoker)}) |>\n",
    "head"
   ]
  },
  {
   "cell_type": "markdown",
   "metadata": {},
   "source": [
    "::: callout-tip\n",
    "## Example\n",
    "\n",
    "Suppose we want to know the number of smokers who weight 100 kg or more.\n",
    ":::"
   ]
  },
  {
   "cell_type": "code",
   "execution_count": 26,
   "metadata": {},
   "outputs": [
    {
     "data": {
      "text/plain": [
       "20"
      ]
     },
     "execution_count": 26,
     "metadata": {},
     "output_type": "execute_result"
    }
   ],
   "source": [
    "@subset(smokers, :weight >= 100) |>\n",
    "nrow"
   ]
  },
  {
   "cell_type": "markdown",
   "metadata": {},
   "source": [
    "::: callout-note\n",
    "For obtaining the same result, but from the original dataset, we would need to use two conditionals. We use the syntax `&&` for **AND** and the syntax `||` for **OR** We can also use `,` for **AND**.\n",
    ":::"
   ]
  },
  {
   "cell_type": "code",
   "execution_count": 27,
   "metadata": {},
   "outputs": [
    {
     "data": {
      "text/plain": [
       "20"
      ]
     },
     "execution_count": 27,
     "metadata": {},
     "output_type": "execute_result"
    }
   ],
   "source": [
    "@subset(wcgs, :smoker == \"Smoker\", :weight >= 100) |> nrow"
   ]
  },
  {
   "cell_type": "markdown",
   "metadata": {},
   "source": [
    "::: callout-caution\n",
    "## Exercise\n",
    "\n",
    "Determine the number of smokers who have behavioural pattern `A2` and had either angina or silent myocardial infarction. You will need to write the OR conditionals between parenthesis.\n",
    ":::"
   ]
  },
  {
   "cell_type": "code",
   "execution_count": 28,
   "metadata": {},
   "outputs": [
    {
     "data": {
      "text/plain": [
       "38"
      ]
     },
     "execution_count": 28,
     "metadata": {},
     "output_type": "execute_result"
    }
   ],
   "source": [
    "#| code-fold: true\n",
    "@subset(smokers, :beh_pat == \"A2\", (:type_chd == \"Angina\" || :type_chd == \"Silent MI\")) |>\n",
    "nrow"
   ]
  },
  {
   "cell_type": "markdown",
   "metadata": {},
   "source": [
    "::: callout-tip\n",
    "It's also possible to answer the previous question using `in`, as shown bellow.\n",
    ":::"
   ]
  },
  {
   "cell_type": "code",
   "execution_count": 29,
   "metadata": {},
   "outputs": [
    {
     "data": {
      "text/plain": [
       "38"
      ]
     },
     "execution_count": 29,
     "metadata": {},
     "output_type": "execute_result"
    }
   ],
   "source": [
    "@subset(smokers, :beh_pat == \"A2\", :type_chd in (\"Angina\", \"Silent MI\")) |> nrow"
   ]
  },
  {
   "cell_type": "markdown",
   "metadata": {},
   "source": [
    "::: callout-tip\n",
    "## Example\n",
    "\n",
    "Let’s say we want to know all the variable values associated with the subject who has the maximum weight in the `wcgs` dataset. With `findmax` we get both the value and the observation number.\n",
    ":::"
   ]
  },
  {
   "cell_type": "code",
   "execution_count": 30,
   "metadata": {},
   "outputs": [
    {
     "data": {
      "text/plain": [
       "(145.152, 1090)"
      ]
     },
     "execution_count": 30,
     "metadata": {},
     "output_type": "execute_result"
    }
   ],
   "source": [
    "wcgs.weight |> findmax"
   ]
  },
  {
   "cell_type": "code",
   "execution_count": 31,
   "metadata": {},
   "outputs": [
    {
     "data": {
      "text/html": [
       "<div><div style = \"float: left;\"><span>DataFrameRow (15 columns)</span></div><div style = \"clear: both;\"></div></div><div class = \"data-frame\" style = \"overflow-x: scroll;\"><table class = \"data-frame\" style = \"margin-bottom: 6px;\"><thead><tr class = \"header\"><th class = \"rowLabel\" style = \"font-weight: bold; text-align: right;\">Row</th><th style = \"text-align: left;\">id</th><th style = \"text-align: left;\">age</th><th style = \"text-align: left;\">height</th><th style = \"text-align: left;\">weight</th><th style = \"text-align: left;\">sbp</th><th style = \"text-align: left;\">dbp</th><th style = \"text-align: left;\">chol</th><th style = \"text-align: left;\">beh_pat</th><th style = \"text-align: left;\">ncigs</th><th style = \"text-align: left;\">dib_pat</th><th style = \"text-align: left;\">chd</th><th style = \"text-align: left;\">type_chd</th><th style = \"text-align: left;\">time</th><th style = \"text-align: left;\">arcus</th><th style = \"text-align: left;\">smoker</th></tr><tr class = \"subheader headerLastRow\"><th class = \"rowLabel\" style = \"font-weight: bold; text-align: right;\"></th><th title = \"Int64\" style = \"text-align: left;\">Int64</th><th title = \"Int64\" style = \"text-align: left;\">Int64</th><th title = \"Float64\" style = \"text-align: left;\">Float64</th><th title = \"Float64\" style = \"text-align: left;\">Float64</th><th title = \"Int64\" style = \"text-align: left;\">Int64</th><th title = \"Int64\" style = \"text-align: left;\">Int64</th><th title = \"Int64\" style = \"text-align: left;\">Int64</th><th title = \"CategoricalValue{String, UInt32}\" style = \"text-align: left;\">Cat…</th><th title = \"Int64\" style = \"text-align: left;\">Int64</th><th title = \"CategoricalValue{String, UInt32}\" style = \"text-align: left;\">Cat…</th><th title = \"CategoricalValue{String, UInt32}\" style = \"text-align: left;\">Cat…</th><th title = \"CategoricalValue{String, UInt32}\" style = \"text-align: left;\">Cat…</th><th title = \"Int64\" style = \"text-align: left;\">Int64</th><th title = \"CategoricalValue{String, UInt32}\" style = \"text-align: left;\">Cat…</th><th title = \"CategoricalValue{String, UInt32}\" style = \"text-align: left;\">Cat…</th></tr></thead><tbody><tr><td class = \"rowLabel\" style = \"font-weight: bold; text-align: right;\">1090</td><td style = \"text-align: right;\">10078</td><td style = \"text-align: right;\">43</td><td style = \"text-align: right;\">193.04</td><td style = \"text-align: right;\">145.152</td><td style = \"text-align: right;\">166</td><td style = \"text-align: right;\">102</td><td style = \"text-align: right;\">188</td><td style = \"text-align: left;\">B1</td><td style = \"text-align: right;\">0</td><td style = \"text-align: left;\">B</td><td style = \"text-align: left;\">CHD</td><td style = \"text-align: left;\">Angina</td><td style = \"text-align: right;\">1795</td><td style = \"text-align: left;\">Absent</td><td style = \"text-align: left;\">Non-Smoker</td></tr></tbody></table></div>"
      ],
      "text/latex": [
       "\\begin{tabular}{r|cccccccccccc}\n",
       "\t& id & age & height & weight & sbp & dbp & chol & beh\\_pat & ncigs & dib\\_pat & chd & \\\\\n",
       "\t\\hline\n",
       "\t& Int64 & Int64 & Float64 & Float64 & Int64 & Int64 & Int64 & Cat… & Int64 & Cat… & Cat… & \\\\\n",
       "\t\\hline\n",
       "\t1090 & 10078 & 43 & 193.04 & 145.152 & 166 & 102 & 188 & B1 & 0 & B & CHD & $\\dots$ \\\\\n",
       "\\end{tabular}\n"
      ],
      "text/plain": [
       "\u001b[1mDataFrameRow\u001b[0m\n",
       "\u001b[1m  Row \u001b[0m│\u001b[1m id    \u001b[0m\u001b[1m age   \u001b[0m\u001b[1m height  \u001b[0m\u001b[1m weight  \u001b[0m\u001b[1m sbp   \u001b[0m\u001b[1m dbp   \u001b[0m\u001b[1m chol  \u001b[0m\u001b[1m beh_pat \u001b[0m\u001b[1m ncigs \u001b[0m\u001b[1m d\u001b[0m ⋯\n",
       "      │\u001b[90m Int64 \u001b[0m\u001b[90m Int64 \u001b[0m\u001b[90m Float64 \u001b[0m\u001b[90m Float64 \u001b[0m\u001b[90m Int64 \u001b[0m\u001b[90m Int64 \u001b[0m\u001b[90m Int64 \u001b[0m\u001b[90m Cat…    \u001b[0m\u001b[90m Int64 \u001b[0m\u001b[90m C\u001b[0m ⋯\n",
       "──────┼─────────────────────────────────────────────────────────────────────────\n",
       " 1090 │ 10078     43   193.04  145.152    166    102    188  B1           0  B ⋯\n",
       "\u001b[36m                                                               6 columns omitted\u001b[0m"
      ]
     },
     "execution_count": 31,
     "metadata": {},
     "output_type": "execute_result"
    }
   ],
   "source": [
    "wcgs[1090, :]"
   ]
  },
  {
   "cell_type": "code",
   "execution_count": 32,
   "metadata": {},
   "outputs": [
    {
     "data": {
      "text/html": [
       "<div><div style = \"float: left;\"><span>DataFrameRow (15 columns)</span></div><div style = \"clear: both;\"></div></div><div class = \"data-frame\" style = \"overflow-x: scroll;\"><table class = \"data-frame\" style = \"margin-bottom: 6px;\"><thead><tr class = \"header\"><th class = \"rowLabel\" style = \"font-weight: bold; text-align: right;\">Row</th><th style = \"text-align: left;\">id</th><th style = \"text-align: left;\">age</th><th style = \"text-align: left;\">height</th><th style = \"text-align: left;\">weight</th><th style = \"text-align: left;\">sbp</th><th style = \"text-align: left;\">dbp</th><th style = \"text-align: left;\">chol</th><th style = \"text-align: left;\">beh_pat</th><th style = \"text-align: left;\">ncigs</th><th style = \"text-align: left;\">dib_pat</th><th style = \"text-align: left;\">chd</th><th style = \"text-align: left;\">type_chd</th><th style = \"text-align: left;\">time</th><th style = \"text-align: left;\">arcus</th><th style = \"text-align: left;\">smoker</th></tr><tr class = \"subheader headerLastRow\"><th class = \"rowLabel\" style = \"font-weight: bold; text-align: right;\"></th><th title = \"Int64\" style = \"text-align: left;\">Int64</th><th title = \"Int64\" style = \"text-align: left;\">Int64</th><th title = \"Float64\" style = \"text-align: left;\">Float64</th><th title = \"Float64\" style = \"text-align: left;\">Float64</th><th title = \"Int64\" style = \"text-align: left;\">Int64</th><th title = \"Int64\" style = \"text-align: left;\">Int64</th><th title = \"Int64\" style = \"text-align: left;\">Int64</th><th title = \"CategoricalValue{String, UInt32}\" style = \"text-align: left;\">Cat…</th><th title = \"Int64\" style = \"text-align: left;\">Int64</th><th title = \"CategoricalValue{String, UInt32}\" style = \"text-align: left;\">Cat…</th><th title = \"CategoricalValue{String, UInt32}\" style = \"text-align: left;\">Cat…</th><th title = \"CategoricalValue{String, UInt32}\" style = \"text-align: left;\">Cat…</th><th title = \"Int64\" style = \"text-align: left;\">Int64</th><th title = \"CategoricalValue{String, UInt32}\" style = \"text-align: left;\">Cat…</th><th title = \"CategoricalValue{String, UInt32}\" style = \"text-align: left;\">Cat…</th></tr></thead><tbody><tr><td class = \"rowLabel\" style = \"font-weight: bold; text-align: right;\">1090</td><td style = \"text-align: right;\">10078</td><td style = \"text-align: right;\">43</td><td style = \"text-align: right;\">193.04</td><td style = \"text-align: right;\">145.152</td><td style = \"text-align: right;\">166</td><td style = \"text-align: right;\">102</td><td style = \"text-align: right;\">188</td><td style = \"text-align: left;\">B1</td><td style = \"text-align: right;\">0</td><td style = \"text-align: left;\">B</td><td style = \"text-align: left;\">CHD</td><td style = \"text-align: left;\">Angina</td><td style = \"text-align: right;\">1795</td><td style = \"text-align: left;\">Absent</td><td style = \"text-align: left;\">Non-Smoker</td></tr></tbody></table></div>"
      ],
      "text/latex": [
       "\\begin{tabular}{r|cccccccccccc}\n",
       "\t& id & age & height & weight & sbp & dbp & chol & beh\\_pat & ncigs & dib\\_pat & chd & \\\\\n",
       "\t\\hline\n",
       "\t& Int64 & Int64 & Float64 & Float64 & Int64 & Int64 & Int64 & Cat… & Int64 & Cat… & Cat… & \\\\\n",
       "\t\\hline\n",
       "\t1090 & 10078 & 43 & 193.04 & 145.152 & 166 & 102 & 188 & B1 & 0 & B & CHD & $\\dots$ \\\\\n",
       "\\end{tabular}\n"
      ],
      "text/plain": [
       "\u001b[1mDataFrameRow\u001b[0m\n",
       "\u001b[1m  Row \u001b[0m│\u001b[1m id    \u001b[0m\u001b[1m age   \u001b[0m\u001b[1m height  \u001b[0m\u001b[1m weight  \u001b[0m\u001b[1m sbp   \u001b[0m\u001b[1m dbp   \u001b[0m\u001b[1m chol  \u001b[0m\u001b[1m beh_pat \u001b[0m\u001b[1m ncigs \u001b[0m\u001b[1m d\u001b[0m ⋯\n",
       "      │\u001b[90m Int64 \u001b[0m\u001b[90m Int64 \u001b[0m\u001b[90m Float64 \u001b[0m\u001b[90m Float64 \u001b[0m\u001b[90m Int64 \u001b[0m\u001b[90m Int64 \u001b[0m\u001b[90m Int64 \u001b[0m\u001b[90m Cat…    \u001b[0m\u001b[90m Int64 \u001b[0m\u001b[90m C\u001b[0m ⋯\n",
       "──────┼─────────────────────────────────────────────────────────────────────────\n",
       " 1090 │ 10078     43   193.04  145.152    166    102    188  B1           0  B ⋯\n",
       "\u001b[36m                                                               6 columns omitted\u001b[0m"
      ]
     },
     "execution_count": 32,
     "metadata": {},
     "output_type": "execute_result"
    }
   ],
   "source": [
    "wcgs[findmax(wcgs.weight)[2], :]"
   ]
  },
  {
   "cell_type": "markdown",
   "metadata": {},
   "source": [
    "## Matrices and Missing Values\n",
    "\n",
    "### Converting the data\n",
    "\n",
    "If we want to get the content of the dataframe as one big matrix, use `Matrix`:"
   ]
  },
  {
   "cell_type": "code",
   "execution_count": 33,
   "metadata": {},
   "outputs": [],
   "source": [
    "kfm_mat = Matrix(\n",
    "  @select(kfm, {Not(1, 3, 5)})\n",
    ");"
   ]
  },
  {
   "cell_type": "code",
   "execution_count": 34,
   "metadata": {},
   "outputs": [
    {
     "name": "stdout",
     "output_type": "stream",
     "text": [
      "size(kfm) = (50, 7)\n",
      "size(kfm_mat) = (50, 4)\n"
     ]
    }
   ],
   "source": [
    "@show(size(kfm));\n",
    "@show(size(kfm_mat));"
   ]
  },
  {
   "cell_type": "code",
   "execution_count": 35,
   "metadata": {},
   "outputs": [
    {
     "data": {
      "text/plain": [
       "5×4 Matrix{Float64}:\n",
       " 8.42  5.002  65.0  173.0\n",
       " 8.44  5.128  48.0  158.0\n",
       " 8.41  5.445  62.0  160.0\n",
       " 9.65  5.106  55.0  162.0\n",
       " 6.44  5.196  58.0  170.0"
      ]
     },
     "execution_count": 35,
     "metadata": {},
     "output_type": "execute_result"
    }
   ],
   "source": [
    "kfm_mat[1:5, :]"
   ]
  },
  {
   "cell_type": "markdown",
   "metadata": {},
   "source": [
    "### Missing values"
   ]
  },
  {
   "cell_type": "code",
   "execution_count": 36,
   "metadata": {},
   "outputs": [
    {
     "data": {
      "text/plain": [
       "┌──────────┬─────────────────────────┬─────────────────────────┐\n",
       "│\u001b[22m names    \u001b[0m│\u001b[22m scitypes                \u001b[0m│\u001b[22m types                   \u001b[0m│\n",
       "├──────────┼─────────────────────────┼─────────────────────────┤\n",
       "│ ID       │ Textual                 │ String15                │\n",
       "│ Type     │ Count                   │ Int64                   │\n",
       "│ Gender   │ Count                   │ Int64                   │\n",
       "│ Age      │ Union{Missing, Count}   │ Union{Missing, Int64}   │\n",
       "│ AAO      │ Union{Missing, Count}   │ Union{Missing, Int64}   │\n",
       "│ AAD      │ Union{Missing, Count}   │ Union{Missing, Int64}   │\n",
       "│ UPDRS    │ Union{Missing, Count}   │ Union{Missing, Int64}   │\n",
       "│ MAOAI2   │ Textual                 │ String7                 │\n",
       "│ AI2Code  │ Textual                 │ String7                 │\n",
       "│ MAOBI2   │ Textual                 │ String7                 │\n",
       "│ BI2Code  │ Textual                 │ String3                 │\n",
       "│ GTBEX3   │ Textual                 │ String7                 │\n",
       "│ BEX3Code │ Textual                 │ String3                 │\n",
       "│ MAOAVNTR │ Union{Missing, Textual} │ Union{Missing, String7} │\n",
       "│ VNTRCode │ Union{Missing, Textual} │ Union{Missing, String7} │\n",
       "│ VNTRCod2 │ Union{Missing, Textual} │ Union{Missing, String3} │\n",
       "│ MAOA31   │ Union{Missing, Textual} │ Union{Missing, String7} │\n",
       "│ MAO31COD │ Union{Missing, Textual} │ Union{Missing, String3} │\n",
       "│ MAO31CO2 │ Union{Missing, Textual} │ Union{Missing, String3} │\n",
       "└──────────┴─────────────────────────┴─────────────────────────┘\n"
      ]
     },
     "execution_count": 36,
     "metadata": {},
     "output_type": "execute_result"
    }
   ],
   "source": [
    "mao = dataset(\"gap\", \"mao\")\n",
    "mao |> schema"
   ]
  },
  {
   "cell_type": "code",
   "execution_count": 37,
   "metadata": {},
   "outputs": [
    {
     "data": {
      "text/html": [
       "<div><div style = \"float: left;\"><span>7×5 DataFrame</span></div><div style = \"clear: both;\"></div></div><div class = \"data-frame\" style = \"overflow-x: scroll;\"><table class = \"data-frame\" style = \"margin-bottom: 6px;\"><thead><tr class = \"header\"><th class = \"rowNumber\" style = \"font-weight: bold; text-align: right;\">Row</th><th style = \"text-align: left;\">Type</th><th style = \"text-align: left;\">Gender</th><th style = \"text-align: left;\">Age</th><th style = \"text-align: left;\">AAO</th><th style = \"text-align: left;\">AAD</th></tr><tr class = \"subheader headerLastRow\"><th class = \"rowNumber\" style = \"font-weight: bold; text-align: right;\"></th><th title = \"Int64\" style = \"text-align: left;\">Int64</th><th title = \"Int64\" style = \"text-align: left;\">Int64</th><th title = \"Union{Missing, Int64}\" style = \"text-align: left;\">Int64?</th><th title = \"Union{Missing, Int64}\" style = \"text-align: left;\">Int64?</th><th title = \"Union{Missing, Int64}\" style = \"text-align: left;\">Int64?</th></tr></thead><tbody><tr><td class = \"rowNumber\" style = \"font-weight: bold; text-align: right;\">1</td><td style = \"text-align: right;\">0</td><td style = \"text-align: right;\">0</td><td style = \"text-align: right;\">69</td><td style = \"font-style: italic; text-align: right;\">missing</td><td style = \"font-style: italic; text-align: right;\">missing</td></tr><tr><td class = \"rowNumber\" style = \"font-weight: bold; text-align: right;\">2</td><td style = \"text-align: right;\">0</td><td style = \"text-align: right;\">0</td><td style = \"font-style: italic; text-align: right;\">missing</td><td style = \"font-style: italic; text-align: right;\">missing</td><td style = \"font-style: italic; text-align: right;\">missing</td></tr><tr><td class = \"rowNumber\" style = \"font-weight: bold; text-align: right;\">3</td><td style = \"text-align: right;\">0</td><td style = \"text-align: right;\">0</td><td style = \"font-style: italic; text-align: right;\">missing</td><td style = \"font-style: italic; text-align: right;\">missing</td><td style = \"font-style: italic; text-align: right;\">missing</td></tr><tr><td class = \"rowNumber\" style = \"font-weight: bold; text-align: right;\">4</td><td style = \"text-align: right;\">0</td><td style = \"text-align: right;\">0</td><td style = \"font-style: italic; text-align: right;\">missing</td><td style = \"font-style: italic; text-align: right;\">missing</td><td style = \"font-style: italic; text-align: right;\">missing</td></tr><tr><td class = \"rowNumber\" style = \"font-weight: bold; text-align: right;\">5</td><td style = \"text-align: right;\">0</td><td style = \"text-align: right;\">1</td><td style = \"font-style: italic; text-align: right;\">missing</td><td style = \"font-style: italic; text-align: right;\">missing</td><td style = \"font-style: italic; text-align: right;\">missing</td></tr><tr><td class = \"rowNumber\" style = \"font-weight: bold; text-align: right;\">6</td><td style = \"text-align: right;\">0</td><td style = \"text-align: right;\">1</td><td style = \"font-style: italic; text-align: right;\">missing</td><td style = \"font-style: italic; text-align: right;\">missing</td><td style = \"font-style: italic; text-align: right;\">missing</td></tr><tr><td class = \"rowNumber\" style = \"font-weight: bold; text-align: right;\">7</td><td style = \"text-align: right;\">0</td><td style = \"text-align: right;\">1</td><td style = \"font-style: italic; text-align: right;\">missing</td><td style = \"font-style: italic; text-align: right;\">missing</td><td style = \"font-style: italic; text-align: right;\">missing</td></tr></tbody></table></div>"
      ],
      "text/latex": [
       "\\begin{tabular}{r|ccccc}\n",
       "\t& Type & Gender & Age & AAO & AAD\\\\\n",
       "\t\\hline\n",
       "\t& Int64 & Int64 & Int64? & Int64? & Int64?\\\\\n",
       "\t\\hline\n",
       "\t1 & 0 & 0 & 69 & \\emph{missing} & \\emph{missing} \\\\\n",
       "\t2 & 0 & 0 & \\emph{missing} & \\emph{missing} & \\emph{missing} \\\\\n",
       "\t3 & 0 & 0 & \\emph{missing} & \\emph{missing} & \\emph{missing} \\\\\n",
       "\t4 & 0 & 0 & \\emph{missing} & \\emph{missing} & \\emph{missing} \\\\\n",
       "\t5 & 0 & 1 & \\emph{missing} & \\emph{missing} & \\emph{missing} \\\\\n",
       "\t6 & 0 & 1 & \\emph{missing} & \\emph{missing} & \\emph{missing} \\\\\n",
       "\t7 & 0 & 1 & \\emph{missing} & \\emph{missing} & \\emph{missing} \\\\\n",
       "\\end{tabular}\n"
      ],
      "text/plain": [
       "\u001b[1m7×5 DataFrame\u001b[0m\n",
       "\u001b[1m Row \u001b[0m│\u001b[1m Type  \u001b[0m\u001b[1m Gender \u001b[0m\u001b[1m Age     \u001b[0m\u001b[1m AAO     \u001b[0m\u001b[1m AAD     \u001b[0m\n",
       "     │\u001b[90m Int64 \u001b[0m\u001b[90m Int64  \u001b[0m\u001b[90m Int64?  \u001b[0m\u001b[90m Int64?  \u001b[0m\u001b[90m Int64?  \u001b[0m\n",
       "─────┼──────────────────────────────────────────\n",
       "   1 │     0       0       69 \u001b[90m missing \u001b[0m\u001b[90m missing \u001b[0m\n",
       "   2 │     0       0 \u001b[90m missing \u001b[0m\u001b[90m missing \u001b[0m\u001b[90m missing \u001b[0m\n",
       "   3 │     0       0 \u001b[90m missing \u001b[0m\u001b[90m missing \u001b[0m\u001b[90m missing \u001b[0m\n",
       "   4 │     0       0 \u001b[90m missing \u001b[0m\u001b[90m missing \u001b[0m\u001b[90m missing \u001b[0m\n",
       "   5 │     0       1 \u001b[90m missing \u001b[0m\u001b[90m missing \u001b[0m\u001b[90m missing \u001b[0m\n",
       "   6 │     0       1 \u001b[90m missing \u001b[0m\u001b[90m missing \u001b[0m\u001b[90m missing \u001b[0m\n",
       "   7 │     0       1 \u001b[90m missing \u001b[0m\u001b[90m missing \u001b[0m\u001b[90m missing \u001b[0m"
      ]
     },
     "execution_count": 37,
     "metadata": {},
     "output_type": "execute_result"
    }
   ],
   "source": [
    "mao[1:7, 2:6]"
   ]
  },
  {
   "cell_type": "code",
   "execution_count": 38,
   "metadata": {},
   "outputs": [
    {
     "data": {
      "text/html": [
       "<div><div style = \"float: left;\"><span>19×2 DataFrame</span></div><div style = \"clear: both;\"></div></div><div class = \"data-frame\" style = \"overflow-x: scroll;\"><table class = \"data-frame\" style = \"margin-bottom: 6px;\"><thead><tr class = \"header\"><th class = \"rowNumber\" style = \"font-weight: bold; text-align: right;\">Row</th><th style = \"text-align: left;\">variable</th><th style = \"text-align: left;\">nmissing</th></tr><tr class = \"subheader headerLastRow\"><th class = \"rowNumber\" style = \"font-weight: bold; text-align: right;\"></th><th title = \"Symbol\" style = \"text-align: left;\">Symbol</th><th title = \"Int64\" style = \"text-align: left;\">Int64</th></tr></thead><tbody><tr><td class = \"rowNumber\" style = \"font-weight: bold; text-align: right;\">1</td><td style = \"text-align: left;\">ID</td><td style = \"text-align: right;\">0</td></tr><tr><td class = \"rowNumber\" style = \"font-weight: bold; text-align: right;\">2</td><td style = \"text-align: left;\">Type</td><td style = \"text-align: right;\">0</td></tr><tr><td class = \"rowNumber\" style = \"font-weight: bold; text-align: right;\">3</td><td style = \"text-align: left;\">Gender</td><td style = \"text-align: right;\">0</td></tr><tr><td class = \"rowNumber\" style = \"font-weight: bold; text-align: right;\">4</td><td style = \"text-align: left;\">Age</td><td style = \"text-align: right;\">188</td></tr><tr><td class = \"rowNumber\" style = \"font-weight: bold; text-align: right;\">5</td><td style = \"text-align: left;\">AAO</td><td style = \"text-align: right;\">296</td></tr><tr><td class = \"rowNumber\" style = \"font-weight: bold; text-align: right;\">6</td><td style = \"text-align: left;\">AAD</td><td style = \"text-align: right;\">295</td></tr><tr><td class = \"rowNumber\" style = \"font-weight: bold; text-align: right;\">7</td><td style = \"text-align: left;\">UPDRS</td><td style = \"text-align: right;\">301</td></tr><tr><td class = \"rowNumber\" style = \"font-weight: bold; text-align: right;\">8</td><td style = \"text-align: left;\">MAOAI2</td><td style = \"text-align: right;\">0</td></tr><tr><td class = \"rowNumber\" style = \"font-weight: bold; text-align: right;\">9</td><td style = \"text-align: left;\">AI2Code</td><td style = \"text-align: right;\">0</td></tr><tr><td class = \"rowNumber\" style = \"font-weight: bold; text-align: right;\">10</td><td style = \"text-align: left;\">MAOBI2</td><td style = \"text-align: right;\">0</td></tr><tr><td class = \"rowNumber\" style = \"font-weight: bold; text-align: right;\">11</td><td style = \"text-align: left;\">BI2Code</td><td style = \"text-align: right;\">0</td></tr><tr><td class = \"rowNumber\" style = \"font-weight: bold; text-align: right;\">12</td><td style = \"text-align: left;\">GTBEX3</td><td style = \"text-align: right;\">0</td></tr><tr><td class = \"rowNumber\" style = \"font-weight: bold; text-align: right;\">13</td><td style = \"text-align: left;\">BEX3Code</td><td style = \"text-align: right;\">0</td></tr><tr><td class = \"rowNumber\" style = \"font-weight: bold; text-align: right;\">14</td><td style = \"text-align: left;\">MAOAVNTR</td><td style = \"text-align: right;\">46</td></tr><tr><td class = \"rowNumber\" style = \"font-weight: bold; text-align: right;\">15</td><td style = \"text-align: left;\">VNTRCode</td><td style = \"text-align: right;\">46</td></tr><tr><td class = \"rowNumber\" style = \"font-weight: bold; text-align: right;\">16</td><td style = \"text-align: left;\">VNTRCod2</td><td style = \"text-align: right;\">46</td></tr><tr><td class = \"rowNumber\" style = \"font-weight: bold; text-align: right;\">17</td><td style = \"text-align: left;\">MAOA31</td><td style = \"text-align: right;\">36</td></tr><tr><td class = \"rowNumber\" style = \"font-weight: bold; text-align: right;\">18</td><td style = \"text-align: left;\">MAO31COD</td><td style = \"text-align: right;\">36</td></tr><tr><td class = \"rowNumber\" style = \"font-weight: bold; text-align: right;\">19</td><td style = \"text-align: left;\">MAO31CO2</td><td style = \"text-align: right;\">36</td></tr></tbody></table></div>"
      ],
      "text/latex": [
       "\\begin{tabular}{r|cc}\n",
       "\t& variable & nmissing\\\\\n",
       "\t\\hline\n",
       "\t& Symbol & Int64\\\\\n",
       "\t\\hline\n",
       "\t1 & ID & 0 \\\\\n",
       "\t2 & Type & 0 \\\\\n",
       "\t3 & Gender & 0 \\\\\n",
       "\t4 & Age & 188 \\\\\n",
       "\t5 & AAO & 296 \\\\\n",
       "\t6 & AAD & 295 \\\\\n",
       "\t7 & UPDRS & 301 \\\\\n",
       "\t8 & MAOAI2 & 0 \\\\\n",
       "\t9 & AI2Code & 0 \\\\\n",
       "\t10 & MAOBI2 & 0 \\\\\n",
       "\t11 & BI2Code & 0 \\\\\n",
       "\t12 & GTBEX3 & 0 \\\\\n",
       "\t13 & BEX3Code & 0 \\\\\n",
       "\t14 & MAOAVNTR & 46 \\\\\n",
       "\t15 & VNTRCode & 46 \\\\\n",
       "\t16 & VNTRCod2 & 46 \\\\\n",
       "\t17 & MAOA31 & 36 \\\\\n",
       "\t18 & MAO31COD & 36 \\\\\n",
       "\t19 & MAO31CO2 & 36 \\\\\n",
       "\\end{tabular}\n"
      ],
      "text/plain": [
       "\u001b[1m19×2 DataFrame\u001b[0m\n",
       "\u001b[1m Row \u001b[0m│\u001b[1m variable \u001b[0m\u001b[1m nmissing \u001b[0m\n",
       "     │\u001b[90m Symbol   \u001b[0m\u001b[90m Int64    \u001b[0m\n",
       "─────┼────────────────────\n",
       "   1 │ ID               0\n",
       "   2 │ Type             0\n",
       "   3 │ Gender           0\n",
       "   4 │ Age            188\n",
       "   5 │ AAO            296\n",
       "   6 │ AAD            295\n",
       "   7 │ UPDRS          301\n",
       "   8 │ MAOAI2           0\n",
       "   9 │ AI2Code          0\n",
       "  10 │ MAOBI2           0\n",
       "  11 │ BI2Code          0\n",
       "  12 │ GTBEX3           0\n",
       "  13 │ BEX3Code         0\n",
       "  14 │ MAOAVNTR        46\n",
       "  15 │ VNTRCode        46\n",
       "  16 │ VNTRCod2        46\n",
       "  17 │ MAOA31          36\n",
       "  18 │ MAO31COD        36\n",
       "  19 │ MAO31CO2        36"
      ]
     },
     "execution_count": 38,
     "metadata": {},
     "output_type": "execute_result"
    }
   ],
   "source": [
    "describe(mao, :nmissing)"
   ]
  },
  {
   "cell_type": "markdown",
   "metadata": {},
   "source": [
    "Lots of missing values $\\ldots$ If we wanted to compute simple functions on columns, they may just return missing:"
   ]
  },
  {
   "cell_type": "code",
   "execution_count": 39,
   "metadata": {},
   "outputs": [
    {
     "data": {
      "text/plain": [
       "missing"
      ]
     },
     "execution_count": 39,
     "metadata": {},
     "output_type": "execute_result"
    }
   ],
   "source": [
    "std(mao.Age)"
   ]
  },
  {
   "cell_type": "markdown",
   "metadata": {},
   "source": [
    "Some functions remove missing values under a `@chain` pipe:"
   ]
  },
  {
   "cell_type": "code",
   "execution_count": 40,
   "metadata": {},
   "outputs": [
    {
     "data": {
      "text/html": [
       "<div><div style = \"float: left;\"><span>1×7 DataFrame</span></div><div style = \"clear: both;\"></div></div><div class = \"data-frame\" style = \"overflow-x: scroll;\"><table class = \"data-frame\" style = \"margin-bottom: 6px;\"><thead><tr class = \"header\"><th class = \"rowNumber\" style = \"font-weight: bold; text-align: right;\">Row</th><th style = \"text-align: left;\">variable</th><th style = \"text-align: left;\">min</th><th style = \"text-align: left;\">max</th><th style = \"text-align: left;\">mean</th><th style = \"text-align: left;\">median</th><th style = \"text-align: left;\">std</th><th style = \"text-align: left;\">cv</th></tr><tr class = \"subheader headerLastRow\"><th class = \"rowNumber\" style = \"font-weight: bold; text-align: right;\"></th><th title = \"Symbol\" style = \"text-align: left;\">Symbol</th><th title = \"Int64\" style = \"text-align: left;\">Int64</th><th title = \"Int64\" style = \"text-align: left;\">Int64</th><th title = \"Float64\" style = \"text-align: left;\">Float64</th><th title = \"Float64\" style = \"text-align: left;\">Float64</th><th title = \"Float64\" style = \"text-align: left;\">Float64</th><th title = \"Float64\" style = \"text-align: left;\">Float64</th></tr></thead><tbody><tr><td class = \"rowNumber\" style = \"font-weight: bold; text-align: right;\">1</td><td style = \"text-align: left;\">Age</td><td style = \"text-align: right;\">26</td><td style = \"text-align: right;\">91</td><td style = \"text-align: right;\">73.5395</td><td style = \"text-align: right;\">77.0</td><td style = \"text-align: right;\">11.5517</td><td style = \"text-align: right;\">0.157082</td></tr></tbody></table></div>"
      ],
      "text/latex": [
       "\\begin{tabular}{r|ccccccc}\n",
       "\t& variable & min & max & mean & median & std & cv\\\\\n",
       "\t\\hline\n",
       "\t& Symbol & Int64 & Int64 & Float64 & Float64 & Float64 & Float64\\\\\n",
       "\t\\hline\n",
       "\t1 & Age & 26 & 91 & 73.5395 & 77.0 & 11.5517 & 0.157082 \\\\\n",
       "\\end{tabular}\n"
      ],
      "text/plain": [
       "\u001b[1m1×7 DataFrame\u001b[0m\n",
       "\u001b[1m Row \u001b[0m│\u001b[1m variable \u001b[0m\u001b[1m min   \u001b[0m\u001b[1m max   \u001b[0m\u001b[1m mean    \u001b[0m\u001b[1m median  \u001b[0m\u001b[1m std     \u001b[0m\u001b[1m cv       \u001b[0m\n",
       "     │\u001b[90m Symbol   \u001b[0m\u001b[90m Int64 \u001b[0m\u001b[90m Int64 \u001b[0m\u001b[90m Float64 \u001b[0m\u001b[90m Float64 \u001b[0m\u001b[90m Float64 \u001b[0m\u001b[90m Float64  \u001b[0m\n",
       "─────┼─────────────────────────────────────────────────────────────\n",
       "   1 │ Age          26     91  73.5395     77.0  11.5517  0.157082"
      ]
     },
     "execution_count": 40,
     "metadata": {},
     "output_type": "execute_result"
    }
   ],
   "source": [
    "describe(\n",
    "  @select(mao, :Age),\n",
    "  :min, :max, :mean, :median, :std, rel_dis => :cv\n",
    ")"
   ]
  },
  {
   "cell_type": "markdown",
   "metadata": {},
   "source": [
    "We can use `skipmissing`, or `dropmissing` to counter this easily:"
   ]
  },
  {
   "cell_type": "code",
   "execution_count": 41,
   "metadata": {},
   "outputs": [
    {
     "data": {
      "text/plain": [
       "11.552"
      ]
     },
     "execution_count": 41,
     "metadata": {},
     "output_type": "execute_result"
    }
   ],
   "source": [
    "std(skipmissing(mao.Age)) |> r3"
   ]
  },
  {
   "cell_type": "markdown",
   "metadata": {},
   "source": [
    "## Group Manipulations\n",
    "\n",
    "### Split-Apply-Combine"
   ]
  },
  {
   "cell_type": "code",
   "execution_count": 42,
   "metadata": {},
   "outputs": [
    {
     "data": {
      "text/plain": [
       "┌──────────────┬───────────────┬──────────────────────────────────┐\n",
       "│\u001b[22m names        \u001b[0m│\u001b[22m scitypes      \u001b[0m│\u001b[22m types                            \u001b[0m│\n",
       "├──────────────┼───────────────┼──────────────────────────────────┤\n",
       "│ Sepal_Length │ Continuous    │ Float64                          │\n",
       "│ Sepal_Width  │ Continuous    │ Float64                          │\n",
       "│ Petal_Length │ Continuous    │ Float64                          │\n",
       "│ Petal_Width  │ Continuous    │ Float64                          │\n",
       "│ Species      │ Multiclass{3} │ CategoricalValue{String, UInt32} │\n",
       "└──────────────┴───────────────┴──────────────────────────────────┘\n"
      ]
     },
     "execution_count": 42,
     "metadata": {},
     "output_type": "execute_result"
    }
   ],
   "source": [
    "iris = rcopy(R\"datasets::iris\")\n",
    "iris |> schema"
   ]
  },
  {
   "cell_type": "markdown",
   "metadata": {},
   "source": [
    "The `groupby` function allows to form sub-dataframes corresponding to groups of rows. This can be very convenient to run specific analyses for specific groups without copying the data.\n",
    "\n",
    "The basic usage is `groupby(df, cols)` where `cols` specifies one or several columns to use for the grouping.\n",
    "\n",
    "Consider a simple example: in `iris` there is a `Species` column with 3 species:"
   ]
  },
  {
   "cell_type": "code",
   "execution_count": 43,
   "metadata": {},
   "outputs": [
    {
     "data": {
      "text/html": [
       "<div><div style = \"float: left;\"><span>3×1 DataFrame</span></div><div style = \"clear: both;\"></div></div><div class = \"data-frame\" style = \"overflow-x: scroll;\"><table class = \"data-frame\" style = \"margin-bottom: 6px;\"><thead><tr class = \"header\"><th class = \"rowNumber\" style = \"font-weight: bold; text-align: right;\">Row</th><th style = \"text-align: left;\">Species</th></tr><tr class = \"subheader headerLastRow\"><th class = \"rowNumber\" style = \"font-weight: bold; text-align: right;\"></th><th title = \"CategoricalValue{String, UInt32}\" style = \"text-align: left;\">Cat…</th></tr></thead><tbody><tr><td class = \"rowNumber\" style = \"font-weight: bold; text-align: right;\">1</td><td style = \"text-align: left;\">setosa</td></tr><tr><td class = \"rowNumber\" style = \"font-weight: bold; text-align: right;\">2</td><td style = \"text-align: left;\">versicolor</td></tr><tr><td class = \"rowNumber\" style = \"font-weight: bold; text-align: right;\">3</td><td style = \"text-align: left;\">virginica</td></tr></tbody></table></div>"
      ],
      "text/latex": [
       "\\begin{tabular}{r|c}\n",
       "\t& Species\\\\\n",
       "\t\\hline\n",
       "\t& Cat…\\\\\n",
       "\t\\hline\n",
       "\t1 & setosa \\\\\n",
       "\t2 & versicolor \\\\\n",
       "\t3 & virginica \\\\\n",
       "\\end{tabular}\n"
      ],
      "text/plain": [
       "\u001b[1m3×1 DataFrame\u001b[0m\n",
       "\u001b[1m Row \u001b[0m│\u001b[1m Species    \u001b[0m\n",
       "     │\u001b[90m Cat…       \u001b[0m\n",
       "─────┼────────────\n",
       "   1 │ setosa\n",
       "   2 │ versicolor\n",
       "   3 │ virginica"
      ]
     },
     "execution_count": 43,
     "metadata": {},
     "output_type": "execute_result"
    }
   ],
   "source": [
    "@select(iris, :Species) |> unique"
   ]
  },
  {
   "cell_type": "markdown",
   "metadata": {},
   "source": [
    "We can construct views for each of these:"
   ]
  },
  {
   "cell_type": "code",
   "execution_count": 44,
   "metadata": {},
   "outputs": [],
   "source": [
    "gdf = @groupby(iris, :Species);"
   ]
  },
  {
   "cell_type": "code",
   "execution_count": 45,
   "metadata": {},
   "outputs": [
    {
     "data": {
      "text/html": [
       "<div><div style = \"float: left;\"><span>5×5 DataFrame</span></div><div style = \"clear: both;\"></div></div><div class = \"data-frame\" style = \"overflow-x: scroll;\"><table class = \"data-frame\" style = \"margin-bottom: 6px;\"><thead><tr class = \"header\"><th class = \"rowNumber\" style = \"font-weight: bold; text-align: right;\">Row</th><th style = \"text-align: left;\">variable</th><th style = \"text-align: left;\">mean</th><th style = \"text-align: left;\">median</th><th style = \"text-align: left;\">std</th><th style = \"text-align: left;\">cv</th></tr><tr class = \"subheader headerLastRow\"><th class = \"rowNumber\" style = \"font-weight: bold; text-align: right;\"></th><th title = \"Symbol\" style = \"text-align: left;\">Symbol</th><th title = \"Union{Nothing, Float64}\" style = \"text-align: left;\">Union…</th><th title = \"Union{Nothing, Float64}\" style = \"text-align: left;\">Union…</th><th title = \"Union{Nothing, Float64}\" style = \"text-align: left;\">Union…</th><th title = \"Union{Nothing, Float64}\" style = \"text-align: left;\">Union…</th></tr></thead><tbody><tr><td class = \"rowNumber\" style = \"font-weight: bold; text-align: right;\">1</td><td style = \"text-align: left;\">Sepal_Length</td><td style = \"text-align: left;\">5.006</td><td style = \"text-align: left;\">5.0</td><td style = \"text-align: left;\">0.35249</td><td style = \"text-align: left;\">0.0704134</td></tr><tr><td class = \"rowNumber\" style = \"font-weight: bold; text-align: right;\">2</td><td style = \"text-align: left;\">Sepal_Width</td><td style = \"text-align: left;\">3.428</td><td style = \"text-align: left;\">3.4</td><td style = \"text-align: left;\">0.379064</td><td style = \"text-align: left;\">0.110579</td></tr><tr><td class = \"rowNumber\" style = \"font-weight: bold; text-align: right;\">3</td><td style = \"text-align: left;\">Petal_Length</td><td style = \"text-align: left;\">1.462</td><td style = \"text-align: left;\">1.5</td><td style = \"text-align: left;\">0.173664</td><td style = \"text-align: left;\">0.118785</td></tr><tr><td class = \"rowNumber\" style = \"font-weight: bold; text-align: right;\">4</td><td style = \"text-align: left;\">Petal_Width</td><td style = \"text-align: left;\">0.246</td><td style = \"text-align: left;\">0.2</td><td style = \"text-align: left;\">0.105386</td><td style = \"text-align: left;\">0.428397</td></tr><tr><td class = \"rowNumber\" style = \"font-weight: bold; text-align: right;\">5</td><td style = \"text-align: left;\">Species</td><td style = \"font-style: italic; text-align: left;\"></td><td style = \"font-style: italic; text-align: left;\"></td><td style = \"font-style: italic; text-align: left;\"></td><td style = \"font-style: italic; text-align: left;\"></td></tr></tbody></table></div>"
      ],
      "text/latex": [
       "\\begin{tabular}{r|ccccc}\n",
       "\t& variable & mean & median & std & cv\\\\\n",
       "\t\\hline\n",
       "\t& Symbol & Union… & Union… & Union… & Union…\\\\\n",
       "\t\\hline\n",
       "\t1 & Sepal\\_Length & 5.006 & 5.0 & 0.35249 & 0.0704134 \\\\\n",
       "\t2 & Sepal\\_Width & 3.428 & 3.4 & 0.379064 & 0.110579 \\\\\n",
       "\t3 & Petal\\_Length & 1.462 & 1.5 & 0.173664 & 0.118785 \\\\\n",
       "\t4 & Petal\\_Width & 0.246 & 0.2 & 0.105386 & 0.428397 \\\\\n",
       "\t5 & Species &  &  &  &  \\\\\n",
       "\\end{tabular}\n"
      ],
      "text/plain": [
       "\u001b[1m5×5 DataFrame\u001b[0m\n",
       "\u001b[1m Row \u001b[0m│\u001b[1m variable     \u001b[0m\u001b[1m mean   \u001b[0m\u001b[1m median \u001b[0m\u001b[1m std      \u001b[0m\u001b[1m cv        \u001b[0m\n",
       "     │\u001b[90m Symbol       \u001b[0m\u001b[90m Union… \u001b[0m\u001b[90m Union… \u001b[0m\u001b[90m Union…   \u001b[0m\u001b[90m Union…    \u001b[0m\n",
       "─────┼───────────────────────────────────────────────────\n",
       "   1 │ Sepal_Length  5.006   5.0     0.35249   0.0704134\n",
       "   2 │ Sepal_Width   3.428   3.4     0.379064  0.110579\n",
       "   3 │ Petal_Length  1.462   1.5     0.173664  0.118785\n",
       "   4 │ Petal_Width   0.246   0.2     0.105386  0.428397\n",
       "   5 │ Species      \u001b[90m        \u001b[0m\u001b[90m        \u001b[0m\u001b[90m          \u001b[0m\u001b[90m           \u001b[0m"
      ]
     },
     "execution_count": 45,
     "metadata": {},
     "output_type": "execute_result"
    }
   ],
   "source": [
    "subdf_setosa = gdf[1]\n",
    "describe(subdf_setosa, :mean, :median, :std, rel_dis => :cv)"
   ]
  },
  {
   "cell_type": "markdown",
   "metadata": {},
   "source": [
    "Or using pipes, without the need of creating subsets:"
   ]
  },
  {
   "cell_type": "code",
   "execution_count": 46,
   "metadata": {},
   "outputs": [
    {
     "data": {
      "text/html": [
       "<div><div style = \"float: left;\"><span>4×6 DataFrame</span></div><div style = \"clear: both;\"></div></div><div class = \"data-frame\" style = \"overflow-x: scroll;\"><table class = \"data-frame\" style = \"margin-bottom: 6px;\"><thead><tr class = \"header\"><th class = \"rowNumber\" style = \"font-weight: bold; text-align: right;\">Row</th><th style = \"text-align: left;\">Variable</th><th style = \"text-align: left;\">n</th><th style = \"text-align: left;\">Median</th><th style = \"text-align: left;\">Mean</th><th style = \"text-align: left;\">SD</th><th style = \"text-align: left;\">CV</th></tr><tr class = \"subheader headerLastRow\"><th class = \"rowNumber\" style = \"font-weight: bold; text-align: right;\"></th><th title = \"Symbol\" style = \"text-align: left;\">Symbol</th><th title = \"Int64\" style = \"text-align: left;\">Int64</th><th title = \"Float64\" style = \"text-align: left;\">Float64</th><th title = \"Float64\" style = \"text-align: left;\">Float64</th><th title = \"Float64\" style = \"text-align: left;\">Float64</th><th title = \"Float64\" style = \"text-align: left;\">Float64</th></tr></thead><tbody><tr><td class = \"rowNumber\" style = \"font-weight: bold; text-align: right;\">1</td><td style = \"text-align: left;\">Sepal_Length</td><td style = \"text-align: right;\">50</td><td style = \"text-align: right;\">5.0</td><td style = \"text-align: right;\">5.006</td><td style = \"text-align: right;\">0.352</td><td style = \"text-align: right;\">0.07</td></tr><tr><td class = \"rowNumber\" style = \"font-weight: bold; text-align: right;\">2</td><td style = \"text-align: left;\">Sepal_Width</td><td style = \"text-align: right;\">50</td><td style = \"text-align: right;\">3.4</td><td style = \"text-align: right;\">3.428</td><td style = \"text-align: right;\">0.379</td><td style = \"text-align: right;\">0.111</td></tr><tr><td class = \"rowNumber\" style = \"font-weight: bold; text-align: right;\">3</td><td style = \"text-align: left;\">Petal_Length</td><td style = \"text-align: right;\">50</td><td style = \"text-align: right;\">1.5</td><td style = \"text-align: right;\">1.462</td><td style = \"text-align: right;\">0.174</td><td style = \"text-align: right;\">0.119</td></tr><tr><td class = \"rowNumber\" style = \"font-weight: bold; text-align: right;\">4</td><td style = \"text-align: left;\">Petal_Width</td><td style = \"text-align: right;\">50</td><td style = \"text-align: right;\">0.2</td><td style = \"text-align: right;\">0.246</td><td style = \"text-align: right;\">0.105</td><td style = \"text-align: right;\">0.428</td></tr></tbody></table></div>"
      ],
      "text/latex": [
       "\\begin{tabular}{r|cccccc}\n",
       "\t& Variable & n & Median & Mean & SD & CV\\\\\n",
       "\t\\hline\n",
       "\t& Symbol & Int64 & Float64 & Float64 & Float64 & Float64\\\\\n",
       "\t\\hline\n",
       "\t1 & Sepal\\_Length & 50 & 5.0 & 5.006 & 0.352 & 0.07 \\\\\n",
       "\t2 & Sepal\\_Width & 50 & 3.4 & 3.428 & 0.379 & 0.111 \\\\\n",
       "\t3 & Petal\\_Length & 50 & 1.5 & 1.462 & 0.174 & 0.119 \\\\\n",
       "\t4 & Petal\\_Width & 50 & 0.2 & 0.246 & 0.105 & 0.428 \\\\\n",
       "\\end{tabular}\n"
      ],
      "text/plain": [
       "\u001b[1m4×6 DataFrame\u001b[0m\n",
       "\u001b[1m Row \u001b[0m│\u001b[1m Variable     \u001b[0m\u001b[1m n     \u001b[0m\u001b[1m Median  \u001b[0m\u001b[1m Mean    \u001b[0m\u001b[1m SD      \u001b[0m\u001b[1m CV      \u001b[0m\n",
       "     │\u001b[90m Symbol       \u001b[0m\u001b[90m Int64 \u001b[0m\u001b[90m Float64 \u001b[0m\u001b[90m Float64 \u001b[0m\u001b[90m Float64 \u001b[0m\u001b[90m Float64 \u001b[0m\n",
       "─────┼─────────────────────────────────────────────────────────\n",
       "   1 │ Sepal_Length     50      5.0    5.006    0.352    0.07\n",
       "   2 │ Sepal_Width      50      3.4    3.428    0.379    0.111\n",
       "   3 │ Petal_Length     50      1.5    1.462    0.174    0.119\n",
       "   4 │ Petal_Width      50      0.2    0.246    0.105    0.428"
      ]
     },
     "execution_count": 46,
     "metadata": {},
     "output_type": "execute_result"
    }
   ],
   "source": [
    "estat(\n",
    "  @select(\n",
    "    @subset(iris, :Species .== \"setosa\"),\n",
    "    {Not(:Species)}\n",
    "  )\n",
    ")"
   ]
  },
  {
   "cell_type": "markdown",
   "metadata": {},
   "source": [
    ":::{.callout-tip}\n",
    "We can make transformations during the selection process, even to multiple columns if we use the `@select` macro.\n",
    ":::\n",
    "\n",
    "Let's change the scale, for all continuous variables, as an example."
   ]
  },
  {
   "cell_type": "code",
   "execution_count": 47,
   "metadata": {},
   "outputs": [
    {
     "data": {
      "text/html": [
       "<div><div style = \"float: left;\"><span>4×6 DataFrame</span></div><div style = \"clear: both;\"></div></div><div class = \"data-frame\" style = \"overflow-x: scroll;\"><table class = \"data-frame\" style = \"margin-bottom: 6px;\"><thead><tr class = \"header\"><th class = \"rowNumber\" style = \"font-weight: bold; text-align: right;\">Row</th><th style = \"text-align: left;\">Variable</th><th style = \"text-align: left;\">n</th><th style = \"text-align: left;\">Median</th><th style = \"text-align: left;\">Mean</th><th style = \"text-align: left;\">SD</th><th style = \"text-align: left;\">CV</th></tr><tr class = \"subheader headerLastRow\"><th class = \"rowNumber\" style = \"font-weight: bold; text-align: right;\"></th><th title = \"Symbol\" style = \"text-align: left;\">Symbol</th><th title = \"Int64\" style = \"text-align: left;\">Int64</th><th title = \"Float64\" style = \"text-align: left;\">Float64</th><th title = \"Float64\" style = \"text-align: left;\">Float64</th><th title = \"Float64\" style = \"text-align: left;\">Float64</th><th title = \"Float64\" style = \"text-align: left;\">Float64</th></tr></thead><tbody><tr><td class = \"rowNumber\" style = \"font-weight: bold; text-align: right;\">1</td><td style = \"text-align: left;\">Sepal_Length_function</td><td style = \"text-align: right;\">50</td><td style = \"text-align: right;\">50.0</td><td style = \"text-align: right;\">50.06</td><td style = \"text-align: right;\">3.525</td><td style = \"text-align: right;\">0.07</td></tr><tr><td class = \"rowNumber\" style = \"font-weight: bold; text-align: right;\">2</td><td style = \"text-align: left;\">Sepal_Width_function</td><td style = \"text-align: right;\">50</td><td style = \"text-align: right;\">34.0</td><td style = \"text-align: right;\">34.28</td><td style = \"text-align: right;\">3.791</td><td style = \"text-align: right;\">0.111</td></tr><tr><td class = \"rowNumber\" style = \"font-weight: bold; text-align: right;\">3</td><td style = \"text-align: left;\">Petal_Length_function</td><td style = \"text-align: right;\">50</td><td style = \"text-align: right;\">15.0</td><td style = \"text-align: right;\">14.62</td><td style = \"text-align: right;\">1.737</td><td style = \"text-align: right;\">0.119</td></tr><tr><td class = \"rowNumber\" style = \"font-weight: bold; text-align: right;\">4</td><td style = \"text-align: left;\">Petal_Width_function</td><td style = \"text-align: right;\">50</td><td style = \"text-align: right;\">2.0</td><td style = \"text-align: right;\">2.46</td><td style = \"text-align: right;\">1.054</td><td style = \"text-align: right;\">0.428</td></tr></tbody></table></div>"
      ],
      "text/latex": [
       "\\begin{tabular}{r|cccccc}\n",
       "\t& Variable & n & Median & Mean & SD & CV\\\\\n",
       "\t\\hline\n",
       "\t& Symbol & Int64 & Float64 & Float64 & Float64 & Float64\\\\\n",
       "\t\\hline\n",
       "\t1 & Sepal\\_Length\\_function & 50 & 50.0 & 50.06 & 3.525 & 0.07 \\\\\n",
       "\t2 & Sepal\\_Width\\_function & 50 & 34.0 & 34.28 & 3.791 & 0.111 \\\\\n",
       "\t3 & Petal\\_Length\\_function & 50 & 15.0 & 14.62 & 1.737 & 0.119 \\\\\n",
       "\t4 & Petal\\_Width\\_function & 50 & 2.0 & 2.46 & 1.054 & 0.428 \\\\\n",
       "\\end{tabular}\n"
      ],
      "text/plain": [
       "\u001b[1m4×6 DataFrame\u001b[0m\n",
       "\u001b[1m Row \u001b[0m│\u001b[1m Variable              \u001b[0m\u001b[1m n     \u001b[0m\u001b[1m Median  \u001b[0m\u001b[1m Mean    \u001b[0m\u001b[1m SD      \u001b[0m\u001b[1m CV      \u001b[0m\n",
       "     │\u001b[90m Symbol                \u001b[0m\u001b[90m Int64 \u001b[0m\u001b[90m Float64 \u001b[0m\u001b[90m Float64 \u001b[0m\u001b[90m Float64 \u001b[0m\u001b[90m Float64 \u001b[0m\n",
       "─────┼──────────────────────────────────────────────────────────────────\n",
       "   1 │ Sepal_Length_function     50     50.0    50.06    3.525    0.07\n",
       "   2 │ Sepal_Width_function      50     34.0    34.28    3.791    0.111\n",
       "   3 │ Petal_Length_function     50     15.0    14.62    1.737    0.119\n",
       "   4 │ Petal_Width_function      50      2.0     2.46    1.054    0.428"
      ]
     },
     "execution_count": 47,
     "metadata": {},
     "output_type": "execute_result"
    }
   ],
   "source": [
    "estat(\n",
    "  @select(\n",
    "    @subset(iris, :Species .== \"setosa\"),\n",
    "    {1:4} * 10\n",
    "  )\n",
    ")"
   ]
  },
  {
   "cell_type": "markdown",
   "metadata": {},
   "source": [
    "We can use `combine` and `groupby` to estimate the 95% CIs of blood cholesterol from subjects in the `wcgs` data set. In this example, the function `cis` reports the expected value (mean) in the column `outcome`."
   ]
  },
  {
   "cell_type": "code",
   "execution_count": 48,
   "metadata": {},
   "outputs": [
    {
     "data": {
      "text/html": [
       "<div><div style = \"float: left;\"><span>8×5 DataFrame</span></div><div style = \"clear: both;\"></div></div><div class = \"data-frame\" style = \"overflow-x: scroll;\"><table class = \"data-frame\" style = \"margin-bottom: 6px;\"><thead><tr class = \"header\"><th class = \"rowNumber\" style = \"font-weight: bold; text-align: right;\">Row</th><th style = \"text-align: left;\">chd</th><th style = \"text-align: left;\">beh_pat</th><th style = \"text-align: left;\">outcome</th><th style = \"text-align: left;\">lower</th><th style = \"text-align: left;\">upper</th></tr><tr class = \"subheader headerLastRow\"><th class = \"rowNumber\" style = \"font-weight: bold; text-align: right;\"></th><th title = \"CategoricalValue{String, UInt32}\" style = \"text-align: left;\">Cat…</th><th title = \"CategoricalValue{String, UInt32}\" style = \"text-align: left;\">Cat…</th><th title = \"Float64\" style = \"text-align: left;\">Float64</th><th title = \"Float64\" style = \"text-align: left;\">Float64</th><th title = \"Float64\" style = \"text-align: left;\">Float64</th></tr></thead><tbody><tr><td class = \"rowNumber\" style = \"font-weight: bold; text-align: right;\">1</td><td style = \"text-align: left;\">CHD</td><td style = \"text-align: left;\">A1</td><td style = \"text-align: right;\">249.8</td><td style = \"text-align: right;\">235.805</td><td style = \"text-align: right;\">263.795</td></tr><tr><td class = \"rowNumber\" style = \"font-weight: bold; text-align: right;\">2</td><td style = \"text-align: left;\">CHD</td><td style = \"text-align: left;\">A2</td><td style = \"text-align: right;\">248.701</td><td style = \"text-align: right;\">239.974</td><td style = \"text-align: right;\">257.428</td></tr><tr><td class = \"rowNumber\" style = \"font-weight: bold; text-align: right;\">3</td><td style = \"text-align: left;\">CHD</td><td style = \"text-align: left;\">B1</td><td style = \"text-align: right;\">250.55</td><td style = \"text-align: right;\">239.221</td><td style = \"text-align: right;\">261.879</td></tr><tr><td class = \"rowNumber\" style = \"font-weight: bold; text-align: right;\">4</td><td style = \"text-align: left;\">CHD</td><td style = \"text-align: left;\">B2</td><td style = \"text-align: right;\">258.056</td><td style = \"text-align: right;\">237.296</td><td style = \"text-align: right;\">278.815</td></tr><tr><td class = \"rowNumber\" style = \"font-weight: bold; text-align: right;\">5</td><td style = \"text-align: left;\">No CHD</td><td style = \"text-align: left;\">A1</td><td style = \"text-align: right;\">230.318</td><td style = \"text-align: right;\">224.964</td><td style = \"text-align: right;\">235.672</td></tr><tr><td class = \"rowNumber\" style = \"font-weight: bold; text-align: right;\">6</td><td style = \"text-align: left;\">No CHD</td><td style = \"text-align: left;\">A2</td><td style = \"text-align: right;\">225.466</td><td style = \"text-align: right;\">223.02</td><td style = \"text-align: right;\">227.912</td></tr><tr><td class = \"rowNumber\" style = \"font-weight: bold; text-align: right;\">7</td><td style = \"text-align: left;\">No CHD</td><td style = \"text-align: left;\">B1</td><td style = \"text-align: right;\">222.887</td><td style = \"text-align: right;\">220.464</td><td style = \"text-align: right;\">225.31</td></tr><tr><td class = \"rowNumber\" style = \"font-weight: bold; text-align: right;\">8</td><td style = \"text-align: left;\">No CHD</td><td style = \"text-align: left;\">B2</td><td style = \"text-align: right;\">220.488</td><td style = \"text-align: right;\">216.023</td><td style = \"text-align: right;\">224.953</td></tr></tbody></table></div>"
      ],
      "text/latex": [
       "\\begin{tabular}{r|ccccc}\n",
       "\t& chd & beh\\_pat & outcome & lower & upper\\\\\n",
       "\t\\hline\n",
       "\t& Cat… & Cat… & Float64 & Float64 & Float64\\\\\n",
       "\t\\hline\n",
       "\t1 & CHD & A1 & 249.8 & 235.805 & 263.795 \\\\\n",
       "\t2 & CHD & A2 & 248.701 & 239.974 & 257.428 \\\\\n",
       "\t3 & CHD & B1 & 250.55 & 239.221 & 261.879 \\\\\n",
       "\t4 & CHD & B2 & 258.056 & 237.296 & 278.815 \\\\\n",
       "\t5 & No CHD & A1 & 230.318 & 224.964 & 235.672 \\\\\n",
       "\t6 & No CHD & A2 & 225.466 & 223.02 & 227.912 \\\\\n",
       "\t7 & No CHD & B1 & 222.887 & 220.464 & 225.31 \\\\\n",
       "\t8 & No CHD & B2 & 220.488 & 216.023 & 224.953 \\\\\n",
       "\\end{tabular}\n"
      ],
      "text/plain": [
       "\u001b[1m8×5 DataFrame\u001b[0m\n",
       "\u001b[1m Row \u001b[0m│\u001b[1m chd    \u001b[0m\u001b[1m beh_pat \u001b[0m\u001b[1m outcome \u001b[0m\u001b[1m lower   \u001b[0m\u001b[1m upper   \u001b[0m\n",
       "     │\u001b[90m Cat…   \u001b[0m\u001b[90m Cat…    \u001b[0m\u001b[90m Float64 \u001b[0m\u001b[90m Float64 \u001b[0m\u001b[90m Float64 \u001b[0m\n",
       "─────┼────────────────────────────────────────────\n",
       "   1 │ CHD     A1       249.8    235.805  263.795\n",
       "   2 │ CHD     A2       248.701  239.974  257.428\n",
       "   3 │ CHD     B1       250.55   239.221  261.879\n",
       "   4 │ CHD     B2       258.056  237.296  278.815\n",
       "   5 │ No CHD  A1       230.318  224.964  235.672\n",
       "   6 │ No CHD  A2       225.466  223.02   227.912\n",
       "   7 │ No CHD  B1       222.887  220.464  225.31\n",
       "   8 │ No CHD  B2       220.488  216.023  224.953"
      ]
     },
     "execution_count": 48,
     "metadata": {},
     "output_type": "execute_result"
    }
   ],
   "source": [
    "combine(groupby(wcgs |> dropmissing, [:chd, :beh_pat]), :chol => cis => AsTable)"
   ]
  }
 ],
 "metadata": {
  "kernelspec": {
   "display_name": "Julia 1.10.0",
   "language": "julia",
   "name": "julia-1.10"
  },
  "language_info": {
   "file_extension": ".jl",
   "mimetype": "application/julia",
   "name": "julia",
   "version": "1.10.0"
  },
  "toc": {
   "base_numbering": 1,
   "nav_menu": {},
   "number_sections": true,
   "sideBar": true,
   "skip_h1_title": false,
   "title_cell": "Table of Contents",
   "title_sidebar": "Contents",
   "toc_cell": false,
   "toc_position": {},
   "toc_section_display": true,
   "toc_window_display": false
  },
  "varInspector": {
   "cols": {
    "lenName": 16,
    "lenType": 16,
    "lenVar": 40
   },
   "kernels_config": {
    "python": {
     "delete_cmd_postfix": "",
     "delete_cmd_prefix": "del ",
     "library": "var_list.py",
     "varRefreshCmd": "print(var_dic_list())"
    },
    "r": {
     "delete_cmd_postfix": ") ",
     "delete_cmd_prefix": "rm(",
     "library": "var_list.r",
     "varRefreshCmd": "cat(var_dic_list()) "
    }
   },
   "types_to_exclude": [
    "module",
    "function",
    "builtin_function_or_method",
    "instance",
    "_Feature"
   ],
   "window_display": false
  }
 },
 "nbformat": 4,
 "nbformat_minor": 4
}
