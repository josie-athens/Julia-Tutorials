{
 "cells": [
  {
   "cell_type": "markdown",
   "metadata": {},
   "source": [
    "# Descriptive Statistics"
   ]
  },
  {
   "cell_type": "code",
   "execution_count": 1,
   "metadata": {},
   "outputs": [],
   "source": [
    "using StatsBase, DataFrames, DataFrameMacros\n",
    "using RCall, CategoricalArrays, TexTables\n",
    "using Distributions, Gadfly, Compose\n",
    "using MLJ: schema"
   ]
  },
  {
   "cell_type": "code",
   "execution_count": 2,
   "metadata": {},
   "outputs": [],
   "source": [
    "include(\"pubh.jl\");\n",
    "@rlibrary readr\n",
    "@rimport pubh"
   ]
  },
  {
   "cell_type": "code",
   "execution_count": 3,
   "metadata": {
    "collapsed": true,
    "jupyter": {
     "outputs_hidden": true
    },
    "scrolled": true
   },
   "outputs": [
    {
     "name": "stderr",
     "output_type": "stream",
     "text": [
      "\u001b[33m\u001b[1m┌ \u001b[22m\u001b[39m\u001b[33m\u001b[1mWarning: \u001b[22m\u001b[39mRCall.jl: Loading required package: emmeans\n",
      "\u001b[33m\u001b[1m│ \u001b[22m\u001b[39mLoading required package: ggformula\n",
      "\u001b[33m\u001b[1m│ \u001b[22m\u001b[39mLoading required package: ggplot2\n",
      "\u001b[33m\u001b[1m│ \u001b[22m\u001b[39mLoading required package: scales\n",
      "\u001b[33m\u001b[1m│ \u001b[22m\u001b[39mLoading required package: ggridges\n",
      "\u001b[33m\u001b[1m│ \u001b[22m\u001b[39m\n",
      "\u001b[33m\u001b[1m│ \u001b[22m\u001b[39mNew to ggformula?  Try the tutorials: \n",
      "\u001b[33m\u001b[1m│ \u001b[22m\u001b[39m\tlearnr::run_tutorial(\"introduction\", package = \"ggformula\")\n",
      "\u001b[33m\u001b[1m│ \u001b[22m\u001b[39m\tlearnr::run_tutorial(\"refining\", package = \"ggformula\")\n",
      "\u001b[33m\u001b[1m│ \u001b[22m\u001b[39mLoading required package: gtsummary\n",
      "\u001b[33m\u001b[1m│ \u001b[22m\u001b[39mLoading required package: huxtable\n",
      "\u001b[33m\u001b[1m│ \u001b[22m\u001b[39m\n",
      "\u001b[33m\u001b[1m│ \u001b[22m\u001b[39mAttaching package: ‘huxtable’\n",
      "\u001b[33m\u001b[1m│ \u001b[22m\u001b[39m\n",
      "\u001b[33m\u001b[1m│ \u001b[22m\u001b[39mThe following object is masked from ‘package:gtsummary’:\n",
      "\u001b[33m\u001b[1m│ \u001b[22m\u001b[39m\n",
      "\u001b[33m\u001b[1m│ \u001b[22m\u001b[39m    as_flextable\n",
      "\u001b[33m\u001b[1m│ \u001b[22m\u001b[39m\n",
      "\u001b[33m\u001b[1m│ \u001b[22m\u001b[39mThe following object is masked from ‘package:scales’:\n",
      "\u001b[33m\u001b[1m│ \u001b[22m\u001b[39m\n",
      "\u001b[33m\u001b[1m│ \u001b[22m\u001b[39m    number_format\n",
      "\u001b[33m\u001b[1m│ \u001b[22m\u001b[39m\n",
      "\u001b[33m\u001b[1m│ \u001b[22m\u001b[39mThe following object is masked from ‘package:ggplot2’:\n",
      "\u001b[33m\u001b[1m│ \u001b[22m\u001b[39m\n",
      "\u001b[33m\u001b[1m│ \u001b[22m\u001b[39m    theme_grey\n",
      "\u001b[33m\u001b[1m│ \u001b[22m\u001b[39m\n",
      "\u001b[33m\u001b[1m│ \u001b[22m\u001b[39mLoading required package: magrittr\n",
      "\u001b[33m\u001b[1m└ \u001b[22m\u001b[39m\u001b[90m@ RCall ~/.julia/packages/RCall/dDAVd/src/io.jl:172\u001b[39m\n",
      "\u001b[33m\u001b[1m┌ \u001b[22m\u001b[39m\u001b[33m\u001b[1mWarning: \u001b[22m\u001b[39mRCall.jl: \n",
      "\u001b[33m\u001b[1m│ \u001b[22m\u001b[39mAttaching package: ‘sjlabelled’\n",
      "\u001b[33m\u001b[1m│ \u001b[22m\u001b[39m\n",
      "\u001b[33m\u001b[1m│ \u001b[22m\u001b[39mThe following object is masked from ‘package:huxtable’:\n",
      "\u001b[33m\u001b[1m│ \u001b[22m\u001b[39m\n",
      "\u001b[33m\u001b[1m│ \u001b[22m\u001b[39m    set_label\n",
      "\u001b[33m\u001b[1m│ \u001b[22m\u001b[39m\n",
      "\u001b[33m\u001b[1m│ \u001b[22m\u001b[39mThe following object is masked from ‘package:ggplot2’:\n",
      "\u001b[33m\u001b[1m│ \u001b[22m\u001b[39m\n",
      "\u001b[33m\u001b[1m│ \u001b[22m\u001b[39m    as_label\n",
      "\u001b[33m\u001b[1m│ \u001b[22m\u001b[39m\n",
      "\u001b[33m\u001b[1m└ \u001b[22m\u001b[39m\u001b[90m@ RCall ~/.julia/packages/RCall/dDAVd/src/io.jl:172\u001b[39m\n",
      "\u001b[33m\u001b[1m┌ \u001b[22m\u001b[39m\u001b[33m\u001b[1mWarning: \u001b[22m\u001b[39mRCall.jl: \n",
      "\u001b[33m\u001b[1m│ \u001b[22m\u001b[39mAttaching package: ‘readr’\n",
      "\u001b[33m\u001b[1m│ \u001b[22m\u001b[39m\n",
      "\u001b[33m\u001b[1m│ \u001b[22m\u001b[39mThe following object is masked from ‘package:scales’:\n",
      "\u001b[33m\u001b[1m│ \u001b[22m\u001b[39m\n",
      "\u001b[33m\u001b[1m│ \u001b[22m\u001b[39m    col_factor\n",
      "\u001b[33m\u001b[1m│ \u001b[22m\u001b[39m\n",
      "\u001b[33m\u001b[1m└ \u001b[22m\u001b[39m\u001b[90m@ RCall ~/.julia/packages/RCall/dDAVd/src/io.jl:172\u001b[39m\n"
     ]
    }
   ],
   "source": [
    "#| output: false\n",
    "R\"\"\"\n",
    "library(pubh)\n",
    "library(sjlabelled)\n",
    "library(readr)\n",
    "\"\"\";"
   ]
  },
  {
   "cell_type": "markdown",
   "metadata": {},
   "source": [
    "## Introduction\n",
    "\n",
    "For understanding descriptive statistics, first we should be able to distinguish between:\n",
    "\n",
    "1.  Big and small datasets. For our tutorials, we will consider a large data set if the number of observations is greater or equal than 100. We will define a small dataset if the number of observations is less or equal than 30.\n",
    "2.  Numerical and categorical variables.\n",
    "3.  Continuous and discrete variables.\n",
    "4.  Continuous variables with a Normal distribution (or close enough) and those not normally distributed.\n",
    "\n",
    "::: callout-note\n",
    "We will use two datasets, `wcgs` as an example of a large dataset and `kfm` as an example of a small dataset.\n",
    "\n",
    ":::"
   ]
  },
  {
   "cell_type": "code",
   "execution_count": 4,
   "metadata": {},
   "outputs": [
    {
     "data": {
      "text/plain": [
       "┌──────────┬───────────────────────────────┬────────────────────────────────────\n",
       "│\u001b[22m names    \u001b[0m│\u001b[22m scitypes                      \u001b[0m│\u001b[22m types                            \u001b[0m ⋯\n",
       "├──────────┼───────────────────────────────┼────────────────────────────────────\n",
       "│ id       │ Count                         │ Int64                             ⋯\n",
       "│ age      │ Count                         │ Int64                             ⋯\n",
       "│ height   │ Continuous                    │ Float64                           ⋯\n",
       "│ weight   │ Continuous                    │ Float64                           ⋯\n",
       "│ sbp      │ Count                         │ Int64                             ⋯\n",
       "│ dbp      │ Count                         │ Int64                             ⋯\n",
       "│ chol     │ Union{Missing, Count}         │ Union{Missing, Int64}             ⋯\n",
       "│ beh_pat  │ Multiclass{4}                 │ CategoricalValue{String, UInt32}  ⋯\n",
       "│ ncigs    │ Count                         │ Int64                             ⋯\n",
       "│ dib_pat  │ Multiclass{2}                 │ CategoricalValue{String, UInt32}  ⋯\n",
       "│ chd      │ Multiclass{2}                 │ CategoricalValue{String, UInt32}  ⋯\n",
       "│ type_chd │ Multiclass{4}                 │ CategoricalValue{String, UInt32}  ⋯\n",
       "│ time     │ Count                         │ Int64                             ⋯\n",
       "│ arcus    │ Union{Missing, Multiclass{2}} │ Union{Missing, CategoricalValue{S ⋯\n",
       "│ smoker   │ Multiclass{2}                 │ CategoricalValue{String, UInt32}  ⋯\n",
       "└──────────┴───────────────────────────────┴────────────────────────────────────\n",
       "\u001b[36m                                                                1 column omitted\u001b[0m\n"
      ]
     },
     "execution_count": 4,
     "metadata": {},
     "output_type": "execute_result"
    }
   ],
   "source": [
    "wcgs = read_rds(\"data/wcgs.rds\") |> rcopy;\n",
    "wcgs |> schema"
   ]
  },
  {
   "cell_type": "code",
   "execution_count": 5,
   "metadata": {},
   "outputs": [
    {
     "data": {
      "text/plain": [
       "┌────────────┬───────────────┬──────────────────────────────────┐\n",
       "│\u001b[22m names      \u001b[0m│\u001b[22m scitypes      \u001b[0m│\u001b[22m types                            \u001b[0m│\n",
       "├────────────┼───────────────┼──────────────────────────────────┤\n",
       "│ no         │ Count         │ Int64                            │\n",
       "│ dl_milk    │ Continuous    │ Float64                          │\n",
       "│ sex        │ Multiclass{2} │ CategoricalValue{String, UInt32} │\n",
       "│ weight     │ Continuous    │ Float64                          │\n",
       "│ ml_suppl   │ Count         │ Int64                            │\n",
       "│ mat_weight │ Count         │ Int64                            │\n",
       "│ mat_height │ Count         │ Int64                            │\n",
       "└────────────┴───────────────┴──────────────────────────────────┘\n"
      ]
     },
     "execution_count": 5,
     "metadata": {},
     "output_type": "execute_result"
    }
   ],
   "source": [
    "kfm = read_rds(\"data/kfm.rds\") |> rcopy;\n",
    "kfm |> schema"
   ]
  },
  {
   "cell_type": "markdown",
   "metadata": {},
   "source": [
    "## Categorical variables\n",
    "\n",
    "For categorical variables (including ordinal variables), we want to know and report the number of observations on each category. We can use `tabulate`."
   ]
  },
  {
   "cell_type": "code",
   "execution_count": 6,
   "metadata": {},
   "outputs": [
    {
     "data": {
      "text/plain": [
       "        | Freq. | Percent |  Cum.   \n",
       "------------------------------------\n",
       " Absent |  2211 |  70.101 |  70.101 \n",
       "Present |   941 |  29.835 |  99.937 \n",
       "missing |     2 |   0.063 | 100.000 \n",
       "------------------------------------\n",
       "  Total |  3154 | 100.000 |         \n"
      ]
     },
     "execution_count": 6,
     "metadata": {},
     "output_type": "execute_result"
    }
   ],
   "source": [
    "tabulate(wcgs, :arcus)"
   ]
  },
  {
   "cell_type": "markdown",
   "metadata": {},
   "source": [
    "### Contingency Tables\n",
    "\n",
    "In epidemiology, it is frequent to have two by two (2 $\\times$ 2) tables. In those cases, the outcome is binary (e.g., disease: present/absent) and the exposure is binary too. Sometimes, it is also desirable to have $n \\times$ 2 tables in which we are comparing more than two groups about a particular binary outcome. For these tutorials, we will display the exposure of interest in the columns so the percentages for each categorical variable represent prevalences."
   ]
  },
  {
   "cell_type": "code",
   "execution_count": 7,
   "metadata": {},
   "outputs": [
    {
     "data": {
      "text/plain": [
       "    |        |   dib_pat   |       \n",
       "    |        |  A   |  B   | Total \n",
       "-----------------------------------\n",
       "chd | No CHD | 1411 | 1486 |  2897 \n",
       "    |    CHD |  178 |   79 |   257 \n",
       "-----------------------------------\n",
       "    |  Total | 1589 | 1565 |  3154 \n"
      ]
     },
     "execution_count": 7,
     "metadata": {},
     "output_type": "execute_result"
    }
   ],
   "source": [
    "tabulate(wcgs, :chd, :dib_pat)"
   ]
  },
  {
   "cell_type": "markdown",
   "metadata": {},
   "source": [
    "With `cross_table` from `R`, we can show both frequency and proportion."
   ]
  },
  {
   "cell_type": "code",
   "execution_count": 8,
   "metadata": {
    "tab-cap": "Distribution of coronary heart disease events (CHD) by behaviour pattern."
   },
   "outputs": [
    {
     "name": "stdout",
     "output_type": "stream",
     "text": [
      "RObject{VecSxp}\n",
      "                            ─────                                  \n",
      "                   A, N = 1,589   B, N = 1,565       Overall, N =  \n",
      "                                                            3,154  \n",
      "        ───────────────────────────────────────────────────────────\n",
      "          chd                                                      \n",
      "          No CHD    1,411 (89%)    1,486 (95%)        2,897 (92%)  \n",
      "          CHD         178 (11%)      79 (5.0%)         257 (8.1%)  \n",
      "\n",
      "Column names: label, stat_1, stat_2, stat_0\n"
     ]
    }
   ],
   "source": [
    "pubh.cross_tbl(\n",
    "  @select(wcgs, :chd, :dib_pat),\n",
    "  by = \"dib_pat\"\n",
    ") |> print"
   ]
  },
  {
   "cell_type": "markdown",
   "metadata": {},
   "source": [
    "::: callout-note\n",
    "When the code is run directly in `R` and the data frame is labelled, then `cross_tbl` takes advantage of those labels.\n",
    ":::"
   ]
  },
  {
   "cell_type": "code",
   "execution_count": 9,
   "metadata": {},
   "outputs": [
    {
     "name": "stdout",
     "output_type": "stream",
     "text": [
      "<table class=\"huxtable\" data-quarto-disable-processing=\"true\" style=\"border-collapse: collapse; border: 0px; margin-bottom: 2em; margin-top: 2em; ; margin-left: auto; margin-right: auto;  \">\n",
      "<col><col><col><col><tr>\n",
      "<th style=\"vertical-align: top; text-align: center; white-space: normal; border-style: solid solid solid solid; border-width: 0.4pt 0pt 0pt 0pt;    padding: 3pt 6pt 3pt 6pt; font-weight: bold; font-size: 10pt;\"></th><th colspan=\"2\" style=\"vertical-align: top; text-align: center; white-space: normal; border-style: solid solid solid solid; border-width: 0.4pt 0pt 0pt 0pt;    padding: 3pt 6pt 3pt 6pt; font-weight: bold; font-size: 10pt;\"><p><strong>Dichotomous behaviour</strong></p>\n",
      "</th><th style=\"vertical-align: top; text-align: center; white-space: normal; border-style: solid solid solid solid; border-width: 0.4pt 0pt 0pt 0pt;    padding: 3pt 6pt 3pt 6pt; font-weight: bold; font-size: 10pt;\"></th></tr>\n",
      "<tr>\n",
      "<th style=\"vertical-align: top; text-align: left; white-space: normal; border-style: solid solid solid solid; border-width: 0pt 0pt 0.4pt 0pt;    padding: 3pt 6pt 3pt 6pt; font-weight: bold; font-size: 10pt;\"></th><th style=\"vertical-align: top; text-align: right; white-space: normal; border-style: solid solid solid solid; border-width: 0pt 0pt 0.4pt 0pt;    padding: 3pt 6pt 3pt 6pt; font-weight: bold; font-size: 10pt;\"><p><strong>A</strong>, N = 1,589</p>\n",
      "</th><th style=\"vertical-align: top; text-align: right; white-space: normal; border-style: solid solid solid solid; border-width: 0pt 0pt 0.4pt 0pt;    padding: 3pt 6pt 3pt 6pt; font-weight: bold; font-size: 10pt;\"><p><strong>B</strong>, N = 1,565</p>\n",
      "</th><th style=\"vertical-align: top; text-align: right; white-space: normal; border-style: solid solid solid solid; border-width: 0pt 0pt 0.4pt 0pt;    padding: 3pt 6pt 3pt 6pt; font-weight: bold; font-size: 10pt;\"><p><strong>Overall</strong>, N = 3,154</p>\n",
      "</th></tr>\n",
      "<tr>\n",
      "<td style=\"vertical-align: top; text-align: left; white-space: normal; border-style: solid solid solid solid; border-width: 0.4pt 0pt 0pt 0pt;    padding: 3pt 6pt 3pt 6pt; font-weight: bold; font-size: 10pt;\">Coronary Heart Disease</td><td style=\"vertical-align: top; text-align: right; white-space: normal; border-style: solid solid solid solid; border-width: 0.4pt 0pt 0pt 0pt;    padding: 3pt 6pt 3pt 6pt; font-weight: normal; font-size: 10pt;\"></td><td style=\"vertical-align: top; text-align: right; white-space: normal; border-style: solid solid solid solid; border-width: 0.4pt 0pt 0pt 0pt;    padding: 3pt 6pt 3pt 6pt; font-weight: normal; font-size: 10pt;\"></td><td style=\"vertical-align: top; text-align: right; white-space: normal; border-style: solid solid solid solid; border-width: 0.4pt 0pt 0pt 0pt;    padding: 3pt 6pt 3pt 6pt; font-weight: normal; font-size: 10pt;\"></td></tr>\n",
      "<tr>\n",
      "<td style=\"vertical-align: top; text-align: left; white-space: normal; border-style: solid solid solid solid; border-width: 0pt 0pt 0pt 0pt;    padding: 3pt 6pt 3pt 15pt; font-weight: normal; font-size: 10pt;\">CHD</td><td style=\"vertical-align: top; text-align: right; white-space: normal; border-style: solid solid solid solid; border-width: 0pt 0pt 0pt 0pt;    padding: 3pt 6pt 3pt 6pt; font-weight: normal; font-size: 10pt;\">178 (11%)</td><td style=\"vertical-align: top; text-align: right; white-space: normal; border-style: solid solid solid solid; border-width: 0pt 0pt 0pt 0pt;    padding: 3pt 6pt 3pt 6pt; font-weight: normal; font-size: 10pt;\">79 (5.0%)</td><td style=\"vertical-align: top; text-align: right; white-space: normal; border-style: solid solid solid solid; border-width: 0pt 0pt 0pt 0pt;    padding: 3pt 6pt 3pt 6pt; font-weight: normal; font-size: 10pt;\">257 (8.1%)</td></tr>\n",
      "<tr>\n",
      "<td style=\"vertical-align: top; text-align: left; white-space: normal; border-style: solid solid solid solid; border-width: 0pt 0pt 0.8pt 0pt;    padding: 3pt 6pt 3pt 15pt; font-weight: normal; font-size: 10pt;\">No CHD</td><td style=\"vertical-align: top; text-align: right; white-space: normal; border-style: solid solid solid solid; border-width: 0pt 0pt 0.8pt 0pt;    padding: 3pt 6pt 3pt 6pt; font-weight: normal; font-size: 10pt;\">1,411 (89%)</td><td style=\"vertical-align: top; text-align: right; white-space: normal; border-style: solid solid solid solid; border-width: 0pt 0pt 0.8pt 0pt;    padding: 3pt 6pt 3pt 6pt; font-weight: normal; font-size: 10pt;\">1,486 (95%)</td><td style=\"vertical-align: top; text-align: right; white-space: normal; border-style: solid solid solid solid; border-width: 0pt 0pt 0.8pt 0pt;    padding: 3pt 6pt 3pt 6pt; font-weight: normal; font-size: 10pt;\">2,897 (92%)</td></tr>\n",
      "<tr>\n",
      "<td colspan=\"4\" style=\"vertical-align: top; text-align: left; white-space: normal; border-style: solid solid solid solid; border-width: 0.8pt 0pt 0pt 0pt;    padding: 6pt 6pt 6pt 6pt; font-weight: normal; font-size: 9pt;\">Data from the WCGS.</td></tr>\n",
      "</table>\n"
     ]
    }
   ],
   "source": [
    "#| label: tbl-tbl1\n",
    "#| output: asis\n",
    "#| code-fold: true\n",
    "#| tbl-cap: Distribution of coronary heart disease events (CHD) by behaviour pattern.\n",
    "R\"\"\"\n",
    "wcgs = read_rds(\"data/wcgs.rds\")\n",
    "wcgs |>\n",
    "  mutate(\n",
    "    chd = relevel(chd, ref = \"CHD\"),\n",
    "  ) |>\n",
    "  copy_labels(wcgs) |>\n",
    "  select(dib_pat, chd) |> \n",
    "  cross_tbl(by = \"dib_pat\") |> \n",
    "  set_font_size(10) %>% theme_pubh(2) |> \n",
    "  add_footnote(\"Data from the WCGS.\", font_size = 9) |>\n",
    "  print_html()\n",
    "\"\"\";"
   ]
  },
  {
   "cell_type": "markdown",
   "metadata": {},
   "source": [
    ":::{.callout-note}\n",
    "## Notes for R code\n",
    "\n",
    "- First we assign labels to variables, so we can take advantage of them in tables and plots.\n",
    "- We changed the reference for our outcome as it is standard to report first cases/treatment and then controls.\n",
    "- With `mutate` we are generating new variables, which happen to have the same names as the old variables, thus we replace them. By doing that, as they are new, they are no longer labelled. To preserve the labels, we use `copy_labels`.\n",
    "- As we did not assign the changes to a new data frame, the changes we made were not stored and their impact would be only in the code we provided. Why is this important? Because if we perform inferential statistics, we want for controls to still be the reference.\n",
    "- Within the code chunk, I used the *Quarto* option: `#| output: asis`, so the html output can be interpreted.\n",
    ":::\n",
    "\n",
    ":::{.callout-tip}\n",
    "## Exercise\n",
    "\n",
    "Generate a table for the relationship between behavioural pattern (`beh_pat`) and the presence of CHD (`chd`) from the `wcgs` dataset. Remember to display the exposure of interest in columns, so percentages represent prevalence.\n",
    ":::"
   ]
  },
  {
   "cell_type": "code",
   "execution_count": 10,
   "metadata": {},
   "outputs": [
    {
     "name": "stdout",
     "output_type": "stream",
     "text": [
      "<table class=\"huxtable\" data-quarto-disable-processing=\"true\" style=\"border-collapse: collapse; border: 0px; margin-bottom: 2em; margin-top: 2em; ; margin-left: auto; margin-right: auto;  \">\n",
      "<col><col><col><col><col><col><tr>\n",
      "<th style=\"vertical-align: top; text-align: center; white-space: normal; border-style: solid solid solid solid; border-width: 0.4pt 0pt 0pt 0pt;    padding: 3pt 6pt 3pt 6pt; font-weight: bold; font-size: 10pt;\"></th><th colspan=\"4\" style=\"vertical-align: top; text-align: center; white-space: normal; border-style: solid solid solid solid; border-width: 0.4pt 0pt 0pt 0pt;    padding: 3pt 6pt 3pt 6pt; font-weight: bold; font-size: 10pt;\"><p><strong>Behaviour pattern</strong></p>\n",
      "</th><th style=\"vertical-align: top; text-align: center; white-space: normal; border-style: solid solid solid solid; border-width: 0.4pt 0pt 0pt 0pt;    padding: 3pt 6pt 3pt 6pt; font-weight: bold; font-size: 10pt;\"></th></tr>\n",
      "<tr>\n",
      "<th style=\"vertical-align: top; text-align: left; white-space: normal; border-style: solid solid solid solid; border-width: 0pt 0pt 0.4pt 0pt;    padding: 3pt 6pt 3pt 6pt; font-weight: bold; font-size: 10pt;\"></th><th style=\"vertical-align: top; text-align: right; white-space: normal; border-style: solid solid solid solid; border-width: 0pt 0pt 0.4pt 0pt;    padding: 3pt 6pt 3pt 6pt; font-weight: bold; font-size: 10pt;\"><p><strong>A1</strong>, N = 264</p>\n",
      "</th><th style=\"vertical-align: top; text-align: right; white-space: normal; border-style: solid solid solid solid; border-width: 0pt 0pt 0.4pt 0pt;    padding: 3pt 6pt 3pt 6pt; font-weight: bold; font-size: 10pt;\"><p><strong>A2</strong>, N = 1,325</p>\n",
      "</th><th style=\"vertical-align: top; text-align: right; white-space: normal; border-style: solid solid solid solid; border-width: 0pt 0pt 0.4pt 0pt;    padding: 3pt 6pt 3pt 6pt; font-weight: bold; font-size: 10pt;\"><p><strong>B3</strong>, N = 1,216</p>\n",
      "</th><th style=\"vertical-align: top; text-align: right; white-space: normal; border-style: solid solid solid solid; border-width: 0pt 0pt 0.4pt 0pt;    padding: 3pt 6pt 3pt 6pt; font-weight: bold; font-size: 10pt;\"><p><strong>B4</strong>, N = 349</p>\n",
      "</th><th style=\"vertical-align: top; text-align: right; white-space: normal; border-style: solid solid solid solid; border-width: 0pt 0pt 0.4pt 0pt;    padding: 3pt 6pt 3pt 6pt; font-weight: bold; font-size: 10pt;\"><p><strong>Overall</strong>, N = 3,154</p>\n",
      "</th></tr>\n",
      "<tr>\n",
      "<td style=\"vertical-align: top; text-align: left; white-space: normal; border-style: solid solid solid solid; border-width: 0.4pt 0pt 0pt 0pt;    padding: 3pt 6pt 3pt 6pt; font-weight: bold; font-size: 10pt;\">Coronary Heart Disease</td><td style=\"vertical-align: top; text-align: right; white-space: normal; border-style: solid solid solid solid; border-width: 0.4pt 0pt 0pt 0pt;    padding: 3pt 6pt 3pt 6pt; font-weight: normal; font-size: 10pt;\"></td><td style=\"vertical-align: top; text-align: right; white-space: normal; border-style: solid solid solid solid; border-width: 0.4pt 0pt 0pt 0pt;    padding: 3pt 6pt 3pt 6pt; font-weight: normal; font-size: 10pt;\"></td><td style=\"vertical-align: top; text-align: right; white-space: normal; border-style: solid solid solid solid; border-width: 0.4pt 0pt 0pt 0pt;    padding: 3pt 6pt 3pt 6pt; font-weight: normal; font-size: 10pt;\"></td><td style=\"vertical-align: top; text-align: right; white-space: normal; border-style: solid solid solid solid; border-width: 0.4pt 0pt 0pt 0pt;    padding: 3pt 6pt 3pt 6pt; font-weight: normal; font-size: 10pt;\"></td><td style=\"vertical-align: top; text-align: right; white-space: normal; border-style: solid solid solid solid; border-width: 0.4pt 0pt 0pt 0pt;    padding: 3pt 6pt 3pt 6pt; font-weight: normal; font-size: 10pt;\"></td></tr>\n",
      "<tr>\n",
      "<td style=\"vertical-align: top; text-align: left; white-space: normal; border-style: solid solid solid solid; border-width: 0pt 0pt 0pt 0pt;    padding: 3pt 6pt 3pt 15pt; font-weight: normal; font-size: 10pt;\">CHD</td><td style=\"vertical-align: top; text-align: right; white-space: normal; border-style: solid solid solid solid; border-width: 0pt 0pt 0pt 0pt;    padding: 3pt 6pt 3pt 6pt; font-weight: normal; font-size: 10pt;\">30 (11%)</td><td style=\"vertical-align: top; text-align: right; white-space: normal; border-style: solid solid solid solid; border-width: 0pt 0pt 0pt 0pt;    padding: 3pt 6pt 3pt 6pt; font-weight: normal; font-size: 10pt;\">148 (11%)</td><td style=\"vertical-align: top; text-align: right; white-space: normal; border-style: solid solid solid solid; border-width: 0pt 0pt 0pt 0pt;    padding: 3pt 6pt 3pt 6pt; font-weight: normal; font-size: 10pt;\">61 (5.0%)</td><td style=\"vertical-align: top; text-align: right; white-space: normal; border-style: solid solid solid solid; border-width: 0pt 0pt 0pt 0pt;    padding: 3pt 6pt 3pt 6pt; font-weight: normal; font-size: 10pt;\">18 (5.2%)</td><td style=\"vertical-align: top; text-align: right; white-space: normal; border-style: solid solid solid solid; border-width: 0pt 0pt 0pt 0pt;    padding: 3pt 6pt 3pt 6pt; font-weight: normal; font-size: 10pt;\">257 (8.1%)</td></tr>\n",
      "<tr>\n",
      "<td style=\"vertical-align: top; text-align: left; white-space: normal; border-style: solid solid solid solid; border-width: 0pt 0pt 0.8pt 0pt;    padding: 3pt 6pt 3pt 15pt; font-weight: normal; font-size: 10pt;\">No CHD</td><td style=\"vertical-align: top; text-align: right; white-space: normal; border-style: solid solid solid solid; border-width: 0pt 0pt 0.8pt 0pt;    padding: 3pt 6pt 3pt 6pt; font-weight: normal; font-size: 10pt;\">234 (89%)</td><td style=\"vertical-align: top; text-align: right; white-space: normal; border-style: solid solid solid solid; border-width: 0pt 0pt 0.8pt 0pt;    padding: 3pt 6pt 3pt 6pt; font-weight: normal; font-size: 10pt;\">1,177 (89%)</td><td style=\"vertical-align: top; text-align: right; white-space: normal; border-style: solid solid solid solid; border-width: 0pt 0pt 0.8pt 0pt;    padding: 3pt 6pt 3pt 6pt; font-weight: normal; font-size: 10pt;\">1,155 (95%)</td><td style=\"vertical-align: top; text-align: right; white-space: normal; border-style: solid solid solid solid; border-width: 0pt 0pt 0.8pt 0pt;    padding: 3pt 6pt 3pt 6pt; font-weight: normal; font-size: 10pt;\">331 (95%)</td><td style=\"vertical-align: top; text-align: right; white-space: normal; border-style: solid solid solid solid; border-width: 0pt 0pt 0.8pt 0pt;    padding: 3pt 6pt 3pt 6pt; font-weight: normal; font-size: 10pt;\">2,897 (92%)</td></tr>\n",
      "<tr>\n",
      "<td colspan=\"6\" style=\"vertical-align: top; text-align: left; white-space: normal; border-style: solid solid solid solid; border-width: 0.8pt 0pt 0pt 0pt;    padding: 6pt 6pt 6pt 6pt; font-weight: normal; font-size: 9pt;\">Data from the WCGS.</td></tr>\n",
      "</table>\n"
     ]
    }
   ],
   "source": [
    "#| output: asis\n",
    "#| code-fold: true\n",
    "#| label: tbl-tbl2\n",
    "#| tbl-cap: Distribution of behavioural pattern by coronary heart disease (CHD) event.\n",
    "R\"\"\"\n",
    "wcgs |>\n",
    "  mutate(\n",
    "    chd = relevel(chd, ref = \"CHD\")\n",
    "  ) |>\n",
    "  copy_labels(wcgs) |>\n",
    "  select(beh_pat, chd) |> \n",
    "  cross_tbl(by = \"beh_pat\") |>\n",
    "  set_font_size(10) %>% theme_pubh(2) |> \n",
    "  add_footnote(\"Data from the WCGS.\", font_size = 9) |>\n",
    "  print_html()\n",
    "\"\"\" |> rcopy"
   ]
  },
  {
   "cell_type": "markdown",
   "metadata": {},
   "source": [
    "::: callout-warning\n",
    "## Question\n",
    "\n",
    "What is your main observation from the distribution of cases?\n",
    ":::\n",
    "\n",
    "::: callout-note\n",
    "## Answer\n",
    "\n",
    "The prevalence of CHD in males in the **A** groups (\\~ 11%) is about the double than the prevalence in males in the **B** groups (\\~ 5%). The prevalence of CHD in the population is 8.1%.\n",
    ":::\n",
    "\n",
    "### Double stratification\n",
    "\n",
    "There are cases when we want to present distribution of categorical variables by a exposure of interest and stratified by another categorical variable (e.g. confounder) of interest.\n",
    "\n",
    "The following code shows how to generate those kind of tables."
   ]
  },
  {
   "cell_type": "code",
   "execution_count": 11,
   "metadata": {},
   "outputs": [
    {
     "name": "stdout",
     "output_type": "stream",
     "text": [
      "<table class=\"huxtable\" data-quarto-disable-processing=\"true\" style=\"border-collapse: collapse; border: 0px; margin-bottom: 2em; margin-top: 2em; ; margin-left: auto; margin-right: auto;  \">\n",
      "<col><col><col><col><col><tr>\n",
      "<th style=\"vertical-align: top; text-align: center; white-space: normal; border-style: solid solid solid solid; border-width: 0.4pt 0pt 0pt 0pt;    padding: 3pt 6pt 3pt 6pt; font-weight: bold; font-size: 10pt;\"></th><th colspan=\"2\" style=\"vertical-align: top; text-align: center; white-space: normal; border-style: solid solid solid solid; border-width: 0.4pt 0pt 0pt 0pt;    padding: 3pt 6pt 3pt 6pt; font-weight: bold; font-size: 10pt;\"><p><strong>Smoker</strong></p>\n",
      "</th><th colspan=\"2\" style=\"vertical-align: top; text-align: center; white-space: normal; border-style: solid solid solid solid; border-width: 0.4pt 0pt 0pt 0pt;    padding: 3pt 6pt 3pt 6pt; font-weight: bold; font-size: 10pt;\"><p><strong>Non-Smoker</strong></p>\n",
      "</th></tr>\n",
      "<tr>\n",
      "<th style=\"vertical-align: top; text-align: left; white-space: normal; border-style: solid solid solid solid; border-width: 0pt 0pt 0.4pt 0pt;    padding: 3pt 6pt 3pt 6pt; font-weight: bold; font-size: 10pt;\"><p><strong>Variable</strong></p>\n",
      "</th><th style=\"vertical-align: top; text-align: right; white-space: normal; border-style: solid solid solid solid; border-width: 0pt 0pt 0.4pt 0pt;    padding: 3pt 6pt 3pt 6pt; font-weight: bold; font-size: 10pt;\"><p><strong>A</strong>, N = 805</p>\n",
      "</th><th style=\"vertical-align: top; text-align: right; white-space: normal; border-style: solid solid solid solid; border-width: 0pt 0pt 0.4pt 0pt;    padding: 3pt 6pt 3pt 6pt; font-weight: bold; font-size: 10pt;\"><p><strong>B</strong>, N = 697</p>\n",
      "</th><th style=\"vertical-align: top; text-align: right; white-space: normal; border-style: solid solid solid solid; border-width: 0pt 0pt 0.4pt 0pt;    padding: 3pt 6pt 3pt 6pt; font-weight: bold; font-size: 10pt;\"><p><strong>A</strong>, N = 784</p>\n",
      "</th><th style=\"vertical-align: top; text-align: right; white-space: normal; border-style: solid solid solid solid; border-width: 0pt 0pt 0.4pt 0pt;    padding: 3pt 6pt 3pt 6pt; font-weight: bold; font-size: 10pt;\"><p><strong>B</strong>, N = 868</p>\n",
      "</th></tr>\n",
      "<tr>\n",
      "<td style=\"vertical-align: top; text-align: left; white-space: normal; border-style: solid solid solid solid; border-width: 0.4pt 0pt 0pt 0pt;    padding: 3pt 6pt 3pt 6pt; font-weight: normal; font-size: 10pt;\">Coronary Heart Disease</td><td style=\"vertical-align: top; text-align: right; white-space: normal; border-style: solid solid solid solid; border-width: 0.4pt 0pt 0pt 0pt;    padding: 3pt 6pt 3pt 6pt; font-weight: normal; font-size: 10pt;\"></td><td style=\"vertical-align: top; text-align: right; white-space: normal; border-style: solid solid solid solid; border-width: 0.4pt 0pt 0pt 0pt;    padding: 3pt 6pt 3pt 6pt; font-weight: normal; font-size: 10pt;\"></td><td style=\"vertical-align: top; text-align: right; white-space: normal; border-style: solid solid solid solid; border-width: 0.4pt 0pt 0pt 0pt;    padding: 3pt 6pt 3pt 6pt; font-weight: normal; font-size: 10pt;\"></td><td style=\"vertical-align: top; text-align: right; white-space: normal; border-style: solid solid solid solid; border-width: 0.4pt 0pt 0pt 0pt;    padding: 3pt 6pt 3pt 6pt; font-weight: normal; font-size: 10pt;\"></td></tr>\n",
      "<tr>\n",
      "<td style=\"vertical-align: top; text-align: left; white-space: normal; border-style: solid solid solid solid; border-width: 0pt 0pt 0pt 0pt;    padding: 3pt 6pt 3pt 15pt; font-weight: normal; font-size: 10pt;\">CHD</td><td style=\"vertical-align: top; text-align: right; white-space: normal; border-style: solid solid solid solid; border-width: 0pt 0pt 0pt 0pt;    padding: 3pt 6pt 3pt 6pt; font-weight: normal; font-size: 10pt;\">108 (13%)</td><td style=\"vertical-align: top; text-align: right; white-space: normal; border-style: solid solid solid solid; border-width: 0pt 0pt 0pt 0pt;    padding: 3pt 6pt 3pt 6pt; font-weight: normal; font-size: 10pt;\">51 (7.3%)</td><td style=\"vertical-align: top; text-align: right; white-space: normal; border-style: solid solid solid solid; border-width: 0pt 0pt 0pt 0pt;    padding: 3pt 6pt 3pt 6pt; font-weight: normal; font-size: 10pt;\">70 (8.9%)</td><td style=\"vertical-align: top; text-align: right; white-space: normal; border-style: solid solid solid solid; border-width: 0pt 0pt 0pt 0pt;    padding: 3pt 6pt 3pt 6pt; font-weight: normal; font-size: 10pt;\">28 (3.2%)</td></tr>\n",
      "<tr>\n",
      "<td style=\"vertical-align: top; text-align: left; white-space: normal; border-style: solid solid solid solid; border-width: 0pt 0pt 0.8pt 0pt;    padding: 3pt 6pt 3pt 15pt; font-weight: normal; font-size: 10pt;\">No CHD</td><td style=\"vertical-align: top; text-align: right; white-space: normal; border-style: solid solid solid solid; border-width: 0pt 0pt 0.8pt 0pt;    padding: 3pt 6pt 3pt 6pt; font-weight: normal; font-size: 10pt;\">697 (87%)</td><td style=\"vertical-align: top; text-align: right; white-space: normal; border-style: solid solid solid solid; border-width: 0pt 0pt 0.8pt 0pt;    padding: 3pt 6pt 3pt 6pt; font-weight: normal; font-size: 10pt;\">646 (93%)</td><td style=\"vertical-align: top; text-align: right; white-space: normal; border-style: solid solid solid solid; border-width: 0pt 0pt 0.8pt 0pt;    padding: 3pt 6pt 3pt 6pt; font-weight: normal; font-size: 10pt;\">714 (91%)</td><td style=\"vertical-align: top; text-align: right; white-space: normal; border-style: solid solid solid solid; border-width: 0pt 0pt 0.8pt 0pt;    padding: 3pt 6pt 3pt 6pt; font-weight: normal; font-size: 10pt;\">840 (97%)</td></tr>\n",
      "<tr>\n",
      "<td colspan=\"5\" style=\"vertical-align: top; text-align: left; white-space: normal; border-style: solid solid solid solid; border-width: 0.8pt 0pt 0pt 0pt;    padding: 6pt 6pt 6pt 6pt; font-weight: normal; font-size: 9pt;\">Data from the WCGS.</td></tr>\n",
      "</table>\n"
     ]
    }
   ],
   "source": [
    "#| code-fold: true\n",
    "#| output: asis\n",
    "#| label: tbl-tbl3\n",
    "#| tbl-cap: Distribution of coronary heart disease events (CHD) by behaviour pattern and smoking status.\n",
    "R\"\"\"\n",
    "wcgs |> \n",
    "  select(chd, smoker, dib_pat) |> \n",
    "  mutate(\n",
    "    chd = relevel(chd, ref = \"CHD\"),\n",
    "    smoker = relevel(smoker, ref = \"Smoker\")\n",
    "  ) |>\n",
    "  copy_labels(wcgs) |>\n",
    "  tbl_strata(\n",
    "    strata = smoker,\n",
    "    .tbl_fun = ~ .x |>\n",
    "      tbl_summary(by = dib_pat, missing = \"no\")\n",
    "  ) |> \n",
    "  cosm_sum() |> set_font_size(10) |> \n",
    "  theme_pubh(2) |> \n",
    "  set_align(1, everywhere, \"center\") |> \n",
    "  add_footnote(\"Data from the WCGS.\", font_size = 9) |>\n",
    "  print_html()\n",
    "\"\"\" |> rcopy"
   ]
  },
  {
   "cell_type": "markdown",
   "metadata": {},
   "source": [
    ":::{.callout-note}\n",
    "## Notes for R code\n",
    "\n",
    "- We construct the table with `tbl_strata` from `gtsummary`.\n",
    "- `tbl_summary` is the function behind `cross_tbl`.\n",
    "- The argument `missing = \"no\"` is used to not shown missing values.\n",
    "- With `cosm_sum` we add cosmetics to the table and converts it to a *huxtable*.\n",
    ":::\n",
    "\n",
    "## Continuous variables\n",
    "\n",
    "`StatsBase` offers a convenient `describe` function which you can use on a data frame to get an overview of the data:"
   ]
  },
  {
   "cell_type": "code",
   "execution_count": 12,
   "metadata": {},
   "outputs": [
    {
     "data": {
      "text/html": [
       "<div><div style = \"float: left;\"><span>5×6 DataFrame</span></div><div style = \"clear: both;\"></div></div><div class = \"data-frame\" style = \"overflow-x: scroll;\"><table class = \"data-frame\" style = \"margin-bottom: 6px;\"><thead><tr class = \"header\"><th class = \"rowNumber\" style = \"font-weight: bold; text-align: right;\">Row</th><th style = \"text-align: left;\">variable</th><th style = \"text-align: left;\">min</th><th style = \"text-align: left;\">max</th><th style = \"text-align: left;\">mean</th><th style = \"text-align: left;\">median</th><th style = \"text-align: left;\">std</th></tr><tr class = \"subheader headerLastRow\"><th class = \"rowNumber\" style = \"font-weight: bold; text-align: right;\"></th><th title = \"Symbol\" style = \"text-align: left;\">Symbol</th><th title = \"Real\" style = \"text-align: left;\">Real</th><th title = \"Real\" style = \"text-align: left;\">Real</th><th title = \"Float64\" style = \"text-align: left;\">Float64</th><th title = \"Float64\" style = \"text-align: left;\">Float64</th><th title = \"Float64\" style = \"text-align: left;\">Float64</th></tr></thead><tbody><tr><td class = \"rowNumber\" style = \"font-weight: bold; text-align: right;\">1</td><td style = \"text-align: left;\">dl_milk</td><td style = \"text-align: right;\">4.44</td><td style = \"text-align: right;\">10.43</td><td style = \"text-align: right;\">7.5044</td><td style = \"text-align: right;\">7.66</td><td style = \"text-align: right;\">1.51151</td></tr><tr><td class = \"rowNumber\" style = \"font-weight: bold; text-align: right;\">2</td><td style = \"text-align: left;\">weight</td><td style = \"text-align: right;\">4.12</td><td style = \"text-align: right;\">6.578</td><td style = \"text-align: right;\">5.31874</td><td style = \"text-align: right;\">5.352</td><td style = \"text-align: right;\">0.548303</td></tr><tr><td class = \"rowNumber\" style = \"font-weight: bold; text-align: right;\">3</td><td style = \"text-align: left;\">ml_suppl</td><td style = \"text-align: right;\">0</td><td style = \"text-align: right;\">590</td><td style = \"text-align: right;\">96.0</td><td style = \"text-align: right;\">57.5</td><td style = \"text-align: right;\">130.22</td></tr><tr><td class = \"rowNumber\" style = \"font-weight: bold; text-align: right;\">4</td><td style = \"text-align: left;\">mat_weight</td><td style = \"text-align: right;\">47</td><td style = \"text-align: right;\">80</td><td style = \"text-align: right;\">59.96</td><td style = \"text-align: right;\">58.0</td><td style = \"text-align: right;\">8.38113</td></tr><tr><td class = \"rowNumber\" style = \"font-weight: bold; text-align: right;\">5</td><td style = \"text-align: left;\">mat_height</td><td style = \"text-align: right;\">153</td><td style = \"text-align: right;\">185</td><td style = \"text-align: right;\">167.44</td><td style = \"text-align: right;\">167.0</td><td style = \"text-align: right;\">6.51892</td></tr></tbody></table></div>"
      ],
      "text/latex": [
       "\\begin{tabular}{r|cccccc}\n",
       "\t& variable & min & max & mean & median & std\\\\\n",
       "\t\\hline\n",
       "\t& Symbol & Real & Real & Float64 & Float64 & Float64\\\\\n",
       "\t\\hline\n",
       "\t1 & dl\\_milk & 4.44 & 10.43 & 7.5044 & 7.66 & 1.51151 \\\\\n",
       "\t2 & weight & 4.12 & 6.578 & 5.31874 & 5.352 & 0.548303 \\\\\n",
       "\t3 & ml\\_suppl & 0 & 590 & 96.0 & 57.5 & 130.22 \\\\\n",
       "\t4 & mat\\_weight & 47 & 80 & 59.96 & 58.0 & 8.38113 \\\\\n",
       "\t5 & mat\\_height & 153 & 185 & 167.44 & 167.0 & 6.51892 \\\\\n",
       "\\end{tabular}\n"
      ],
      "text/plain": [
       "\u001b[1m5×6 DataFrame\u001b[0m\n",
       "\u001b[1m Row \u001b[0m│\u001b[1m variable   \u001b[0m\u001b[1m min    \u001b[0m\u001b[1m max     \u001b[0m\u001b[1m mean      \u001b[0m\u001b[1m median  \u001b[0m\u001b[1m std        \u001b[0m\n",
       "     │\u001b[90m Symbol     \u001b[0m\u001b[90m Real   \u001b[0m\u001b[90m Real    \u001b[0m\u001b[90m Float64   \u001b[0m\u001b[90m Float64 \u001b[0m\u001b[90m Float64    \u001b[0m\n",
       "─────┼─────────────────────────────────────────────────────────────\n",
       "   1 │ dl_milk       4.44   10.43     7.5044     7.66     1.51151\n",
       "   2 │ weight        4.12    6.578    5.31874    5.352    0.548303\n",
       "   3 │ ml_suppl      0     590       96.0       57.5    130.22\n",
       "   4 │ mat_weight   47      80       59.96      58.0      8.38113\n",
       "   5 │ mat_height  153     185      167.44     167.0      6.51892"
      ]
     },
     "execution_count": 12,
     "metadata": {},
     "output_type": "execute_result"
    }
   ],
   "source": [
    "describe(\n",
    "  @select(kfm, {Not(1, 3)}),\n",
    "  :min, :max, :mean, :median, :std\n",
    ")"
   ]
  },
  {
   "cell_type": "markdown",
   "metadata": {},
   "source": [
    ":::{.callout-tip}\n",
    "We can pass a number of symbols to the describe function to indicate which statistics to compute for each feature:\n",
    "\n",
    "- `mean`, `std`, `min`, `max`, `median`, `first`, `last` are all fairly self explanatory\n",
    "- `q25`, `q75` are respectively for the 25th and 75th percentile,\n",
    "- `eltype`, `nunique`, `nmissing` can also be used\n",
    "- Other functions, e.g., `rel_dis` from the `pubh.jl` script that we loaded at the start of the tutorial.\n",
    "- Function `estat` from `pubh.jl` reports number of non-missing values, mean, median, standard deviation and relative dispersion.\n",
    ":::\n",
    "\n",
    "We can also use summarize."
   ]
  },
  {
   "cell_type": "code",
   "execution_count": 13,
   "metadata": {},
   "outputs": [
    {
     "name": "stdout",
     "output_type": "stream",
     "text": [
      "           | Obs |  Mean   | Std. Dev. |  Min  |  Max   \n",
      "--------------------------------------------------------\n",
      "   dl_milk |  50 |   7.504 |     1.512 | 4.440 | 10.430 \n",
      "    weight |  50 |   5.319 |     0.548 | 4.120 |  6.578 \n",
      "  ml_suppl |  50 |  96.000 |   130.220 |     0 |    590 \n",
      "mat_weight |  50 |  59.960 |     8.381 |    47 |     80 \n",
      "mat_height |  50 | 167.440 |     6.519 |   153 |    185 \n"
     ]
    }
   ],
   "source": [
    "summarize(@select(kfm, {Not(1, 3)})) |>\n",
    "to_ascii |>\n",
    "print"
   ]
  },
  {
   "cell_type": "markdown",
   "metadata": {},
   "source": [
    "And with more detailed summaries:"
   ]
  },
  {
   "cell_type": "code",
   "execution_count": 14,
   "metadata": {},
   "outputs": [
    {
     "data": {
      "text/plain": [
       "           | Obs |  Mean   | Std. Dev. |  Min  |   p10   |   p25   |   p50   |   p75   |   p90   |  Max   \n",
       "----------------------------------------------------------------------------------------------------------\n",
       "   dl_milk |  50 |   7.504 |     1.512 | 4.440 |   5.156 |   6.555 |   7.660 |   8.428 |   9.632 | 10.430 \n",
       "    weight |  50 |   5.319 |     0.548 | 4.120 |   4.633 |   4.977 |   5.352 |   5.637 |   6.030 |  6.578 \n",
       "  ml_suppl |  50 |  96.000 |   130.220 |     0 |   0.000 |  16.250 |  57.500 | 103.750 | 241.000 |    590 \n",
       "mat_weight |  50 |  59.960 |     8.381 |    47 |  49.000 |  55.000 |  58.000 |  64.500 |  73.100 |     80 \n",
       "mat_height |  50 | 167.440 |     6.519 |   153 | 159.900 | 162.000 | 167.000 | 172.000 | 175.000 |    185 \n"
      ]
     },
     "execution_count": 14,
     "metadata": {},
     "output_type": "execute_result"
    }
   ],
   "source": [
    "summarize(@select(kfm, {Not(1, 3)}), detail=true)"
   ]
  },
  {
   "cell_type": "code",
   "execution_count": 15,
   "metadata": {},
   "outputs": [],
   "source": [
    "labs = [\n",
    "  \"Breast milk intake (dl/day)\",\n",
    "  \"Weight (kg)\",\n",
    "  \"Maternal Weight (kg)\",\n",
    "  \"Maternal Height (m)\"\n",
    "];"
   ]
  },
  {
   "cell_type": "code",
   "execution_count": 16,
   "metadata": {},
   "outputs": [
    {
     "data": {
      "text/html": [
       "<div><div style = \"float: left;\"><span>4×6 DataFrame</span></div><div style = \"clear: both;\"></div></div><div class = \"data-frame\" style = \"overflow-x: scroll;\"><table class = \"data-frame\" style = \"margin-bottom: 6px;\"><thead><tr class = \"header\"><th class = \"rowNumber\" style = \"font-weight: bold; text-align: right;\">Row</th><th style = \"text-align: left;\">Variable</th><th style = \"text-align: left;\">n</th><th style = \"text-align: left;\">Median</th><th style = \"text-align: left;\">Mean</th><th style = \"text-align: left;\">SD</th><th style = \"text-align: left;\">CV</th></tr><tr class = \"subheader headerLastRow\"><th class = \"rowNumber\" style = \"font-weight: bold; text-align: right;\"></th><th title = \"String\" style = \"text-align: left;\">String</th><th title = \"Int64\" style = \"text-align: left;\">Int64</th><th title = \"Float64\" style = \"text-align: left;\">Float64</th><th title = \"Float64\" style = \"text-align: left;\">Float64</th><th title = \"Float64\" style = \"text-align: left;\">Float64</th><th title = \"Float64\" style = \"text-align: left;\">Float64</th></tr></thead><tbody><tr><td class = \"rowNumber\" style = \"font-weight: bold; text-align: right;\">1</td><td style = \"text-align: left;\">Breast milk intake (dl/day)</td><td style = \"text-align: right;\">50</td><td style = \"text-align: right;\">7.66</td><td style = \"text-align: right;\">7.504</td><td style = \"text-align: right;\">1.512</td><td style = \"text-align: right;\">0.201</td></tr><tr><td class = \"rowNumber\" style = \"font-weight: bold; text-align: right;\">2</td><td style = \"text-align: left;\">Weight (kg)</td><td style = \"text-align: right;\">50</td><td style = \"text-align: right;\">5.352</td><td style = \"text-align: right;\">5.319</td><td style = \"text-align: right;\">0.548</td><td style = \"text-align: right;\">0.103</td></tr><tr><td class = \"rowNumber\" style = \"font-weight: bold; text-align: right;\">3</td><td style = \"text-align: left;\">Maternal Weight (kg)</td><td style = \"text-align: right;\">50</td><td style = \"text-align: right;\">58.0</td><td style = \"text-align: right;\">59.96</td><td style = \"text-align: right;\">8.381</td><td style = \"text-align: right;\">0.14</td></tr><tr><td class = \"rowNumber\" style = \"font-weight: bold; text-align: right;\">4</td><td style = \"text-align: left;\">Maternal Height (m)</td><td style = \"text-align: right;\">50</td><td style = \"text-align: right;\">167.0</td><td style = \"text-align: right;\">167.44</td><td style = \"text-align: right;\">6.519</td><td style = \"text-align: right;\">0.039</td></tr></tbody></table></div>"
      ],
      "text/latex": [
       "\\begin{tabular}{r|cccccc}\n",
       "\t& Variable & n & Median & Mean & SD & CV\\\\\n",
       "\t\\hline\n",
       "\t& String & Int64 & Float64 & Float64 & Float64 & Float64\\\\\n",
       "\t\\hline\n",
       "\t1 & Breast milk intake (dl/day) & 50 & 7.66 & 7.504 & 1.512 & 0.201 \\\\\n",
       "\t2 & Weight (kg) & 50 & 5.352 & 5.319 & 0.548 & 0.103 \\\\\n",
       "\t3 & Maternal Weight (kg) & 50 & 58.0 & 59.96 & 8.381 & 0.14 \\\\\n",
       "\t4 & Maternal Height (m) & 50 & 167.0 & 167.44 & 6.519 & 0.039 \\\\\n",
       "\\end{tabular}\n"
      ],
      "text/plain": [
       "\u001b[1m4×6 DataFrame\u001b[0m\n",
       "\u001b[1m Row \u001b[0m│\u001b[1m Variable                    \u001b[0m\u001b[1m n     \u001b[0m\u001b[1m Median  \u001b[0m\u001b[1m Mean    \u001b[0m\u001b[1m SD      \u001b[0m\u001b[1m CV      \u001b[0m\n",
       "     │\u001b[90m String                      \u001b[0m\u001b[90m Int64 \u001b[0m\u001b[90m Float64 \u001b[0m\u001b[90m Float64 \u001b[0m\u001b[90m Float64 \u001b[0m\u001b[90m Float64 \u001b[0m\n",
       "─────┼────────────────────────────────────────────────────────────────────────\n",
       "   1 │ Breast milk intake (dl/day)     50    7.66     7.504    1.512    0.201\n",
       "   2 │ Weight (kg)                     50    5.352    5.319    0.548    0.103\n",
       "   3 │ Maternal Weight (kg)            50   58.0     59.96     8.381    0.14\n",
       "   4 │ Maternal Height (m)             50  167.0    167.44     6.519    0.039"
      ]
     },
     "execution_count": 16,
     "metadata": {},
     "output_type": "execute_result"
    }
   ],
   "source": [
    "estat(\n",
    "  @select(kfm, {Not(1, 3, 5)}),\n",
    "  labs\n",
    ")"
   ]
  },
  {
   "cell_type": "markdown",
   "metadata": {},
   "source": [
    ":::{.callout-caution}\n",
    "For `Not` we define columns by number. If we want to use names, the names of the columns go inside square brackets.\n",
    ":::\n",
    "\n",
    "### Stratification\n",
    "\n",
    "Descriptive statistics of `kfm` stratified by sex:"
   ]
  },
  {
   "cell_type": "code",
   "execution_count": 17,
   "metadata": {},
   "outputs": [
    {
     "data": {
      "text/plain": [
       "     |            | Obs |  Mean   | Std. Dev. |  Min  |  Max   \n",
       "---------------------------------------------------------------\n",
       " Boy |    dl_milk |  25 |   7.952 |     1.492 | 4.910 | 10.430 \n",
       "     |     weight |  25 |   5.438 |     0.570 | 4.360 |  6.578 \n",
       "     |   ml_suppl |  25 | 105.200 |   143.530 |     0 |    555 \n",
       "     | mat_weight |  25 |  60.400 |     8.062 |    48 |     78 \n",
       "---------------------------------------------------------------\n",
       "Girl |    dl_milk |  25 |   7.056 |     1.422 | 4.440 | 10.030 \n",
       "     |     weight |  25 |   5.199 |     0.509 | 4.120 |  6.100 \n",
       "     |   ml_suppl |  25 |  86.800 |   117.658 |     0 |    590 \n",
       "     | mat_weight |  25 |  59.520 |     8.832 |    47 |     80 \n"
      ]
     },
     "execution_count": 17,
     "metadata": {},
     "output_type": "execute_result"
    }
   ],
   "source": [
    "summarize_by(@select(kfm, {2:6}), :sex)"
   ]
  },
  {
   "cell_type": "code",
   "execution_count": 18,
   "metadata": {},
   "outputs": [
    {
     "ename": "LoadError",
     "evalue": "LoadError: UndefVarError: `@formula` not defined\nin expression starting at In[18]:1",
     "output_type": "error",
     "traceback": [
      "LoadError: UndefVarError: `@formula` not defined\nin expression starting at In[18]:1",
      ""
     ]
    }
   ],
   "source": [
    "pubh.estat(@formula(weight ~ sex), data=kfm) |> \n",
    "rcopy"
   ]
  },
  {
   "cell_type": "markdown",
   "metadata": {},
   "source": [
    "::: callout-tip\n",
    "We can call `R` to use function `cros_tbl` from package `pubh`.\n",
    ":::"
   ]
  },
  {
   "cell_type": "code",
   "execution_count": 19,
   "metadata": {},
   "outputs": [
    {
     "name": "stdout",
     "output_type": "stream",
     "text": [
      "<table class=\"huxtable\" data-quarto-disable-processing=\"true\" style=\"border-collapse: collapse; border: 0px; margin-bottom: 2em; margin-top: 2em; ; margin-left: auto; margin-right: auto;  \">\n",
      "<col><col><col><col><tr>\n",
      "<th style=\"vertical-align: top; text-align: center; white-space: normal; border-style: solid solid solid solid; border-width: 0.4pt 0pt 0pt 0pt;    padding: 3pt 6pt 3pt 6pt; font-weight: bold; font-size: 10pt;\"></th><th colspan=\"2\" style=\"vertical-align: top; text-align: center; white-space: normal; border-style: solid solid solid solid; border-width: 0.4pt 0pt 0pt 0pt;    padding: 3pt 6pt 3pt 6pt; font-weight: bold; font-size: 10pt;\"><p><strong>Sex</strong></p>\n",
      "</th><th style=\"vertical-align: top; text-align: center; white-space: normal; border-style: solid solid solid solid; border-width: 0.4pt 0pt 0pt 0pt;    padding: 3pt 6pt 3pt 6pt; font-weight: bold; font-size: 10pt;\"></th></tr>\n",
      "<tr>\n",
      "<th style=\"vertical-align: top; text-align: left; white-space: normal; border-style: solid solid solid solid; border-width: 0pt 0pt 0.4pt 0pt;    padding: 3pt 6pt 3pt 6pt; font-weight: bold; font-size: 10pt;\"></th><th style=\"vertical-align: top; text-align: right; white-space: normal; border-style: solid solid solid solid; border-width: 0pt 0pt 0.4pt 0pt;    padding: 3pt 6pt 3pt 6pt; font-weight: bold; font-size: 10pt;\"><p><strong>Boy</strong>, N = 25</p>\n",
      "</th><th style=\"vertical-align: top; text-align: right; white-space: normal; border-style: solid solid solid solid; border-width: 0pt 0pt 0.4pt 0pt;    padding: 3pt 6pt 3pt 6pt; font-weight: bold; font-size: 10pt;\"><p><strong>Girl</strong>, N = 25</p>\n",
      "</th><th style=\"vertical-align: top; text-align: right; white-space: normal; border-style: solid solid solid solid; border-width: 0pt 0pt 0.4pt 0pt;    padding: 3pt 6pt 3pt 6pt; font-weight: bold; font-size: 10pt;\"><p><strong>Overall</strong>, N = 50</p>\n",
      "</th></tr>\n",
      "<tr>\n",
      "<td style=\"vertical-align: top; text-align: left; white-space: normal; border-style: solid solid solid solid; border-width: 0.4pt 0pt 0pt 0pt;    padding: 3pt 6pt 3pt 6pt; font-weight: bold; font-size: 10pt;\">Breast-milk intake (dl/day)</td><td style=\"vertical-align: top; text-align: right; white-space: normal; border-style: solid solid solid solid; border-width: 0.4pt 0pt 0pt 0pt;    padding: 3pt 6pt 3pt 6pt; font-weight: normal; font-size: 10pt;\">7.95 (1.49)</td><td style=\"vertical-align: top; text-align: right; white-space: normal; border-style: solid solid solid solid; border-width: 0.4pt 0pt 0pt 0pt;    padding: 3pt 6pt 3pt 6pt; font-weight: normal; font-size: 10pt;\">7.06 (1.42)</td><td style=\"vertical-align: top; text-align: right; white-space: normal; border-style: solid solid solid solid; border-width: 0.4pt 0pt 0pt 0pt;    padding: 3pt 6pt 3pt 6pt; font-weight: normal; font-size: 10pt;\">7.50 (1.51)</td></tr>\n",
      "<tr>\n",
      "<td style=\"vertical-align: top; text-align: left; white-space: normal; border-style: solid solid solid solid; border-width: 0pt 0pt 0pt 0pt;    padding: 3pt 6pt 3pt 6pt; font-weight: bold; font-size: 10pt;\">Child weight (kg)</td><td style=\"vertical-align: top; text-align: right; white-space: normal; border-style: solid solid solid solid; border-width: 0pt 0pt 0pt 0pt;    padding: 3pt 6pt 3pt 6pt; font-weight: normal; font-size: 10pt;\">5.44 (0.57)</td><td style=\"vertical-align: top; text-align: right; white-space: normal; border-style: solid solid solid solid; border-width: 0pt 0pt 0pt 0pt;    padding: 3pt 6pt 3pt 6pt; font-weight: normal; font-size: 10pt;\">5.20 (0.51)</td><td style=\"vertical-align: top; text-align: right; white-space: normal; border-style: solid solid solid solid; border-width: 0pt 0pt 0pt 0pt;    padding: 3pt 6pt 3pt 6pt; font-weight: normal; font-size: 10pt;\">5.32 (0.55)</td></tr>\n",
      "<tr>\n",
      "<td style=\"vertical-align: top; text-align: left; white-space: normal; border-style: solid solid solid solid; border-width: 0pt 0pt 0pt 0pt;    padding: 3pt 6pt 3pt 6pt; font-weight: bold; font-size: 10pt;\">Milk substitute (ml/day)</td><td style=\"vertical-align: top; text-align: right; white-space: normal; border-style: solid solid solid solid; border-width: 0pt 0pt 0pt 0pt;    padding: 3pt 6pt 3pt 6pt; font-weight: normal; font-size: 10pt;\">105 (144)</td><td style=\"vertical-align: top; text-align: right; white-space: normal; border-style: solid solid solid solid; border-width: 0pt 0pt 0pt 0pt;    padding: 3pt 6pt 3pt 6pt; font-weight: normal; font-size: 10pt;\">87 (118)</td><td style=\"vertical-align: top; text-align: right; white-space: normal; border-style: solid solid solid solid; border-width: 0pt 0pt 0pt 0pt;    padding: 3pt 6pt 3pt 6pt; font-weight: normal; font-size: 10pt;\">96 (130)</td></tr>\n",
      "<tr>\n",
      "<td style=\"vertical-align: top; text-align: left; white-space: normal; border-style: solid solid solid solid; border-width: 0pt 0pt 0pt 0pt;    padding: 3pt 6pt 3pt 6pt; font-weight: bold; font-size: 10pt;\">Maternal weight (kg)</td><td style=\"vertical-align: top; text-align: right; white-space: normal; border-style: solid solid solid solid; border-width: 0pt 0pt 0pt 0pt;    padding: 3pt 6pt 3pt 6pt; font-weight: normal; font-size: 10pt;\">60 (8)</td><td style=\"vertical-align: top; text-align: right; white-space: normal; border-style: solid solid solid solid; border-width: 0pt 0pt 0pt 0pt;    padding: 3pt 6pt 3pt 6pt; font-weight: normal; font-size: 10pt;\">60 (9)</td><td style=\"vertical-align: top; text-align: right; white-space: normal; border-style: solid solid solid solid; border-width: 0pt 0pt 0pt 0pt;    padding: 3pt 6pt 3pt 6pt; font-weight: normal; font-size: 10pt;\">60 (8)</td></tr>\n",
      "<tr>\n",
      "<td style=\"vertical-align: top; text-align: left; white-space: normal; border-style: solid solid solid solid; border-width: 0pt 0pt 0.8pt 0pt;    padding: 3pt 6pt 3pt 6pt; font-weight: bold; font-size: 10pt;\">Maternal height (cm)</td><td style=\"vertical-align: top; text-align: right; white-space: normal; border-style: solid solid solid solid; border-width: 0pt 0pt 0.8pt 0pt;    padding: 3pt 6pt 3pt 6pt; font-weight: normal; font-size: 10pt;\">168 (7)</td><td style=\"vertical-align: top; text-align: right; white-space: normal; border-style: solid solid solid solid; border-width: 0pt 0pt 0.8pt 0pt;    padding: 3pt 6pt 3pt 6pt; font-weight: normal; font-size: 10pt;\">167 (5)</td><td style=\"vertical-align: top; text-align: right; white-space: normal; border-style: solid solid solid solid; border-width: 0pt 0pt 0.8pt 0pt;    padding: 3pt 6pt 3pt 6pt; font-weight: normal; font-size: 10pt;\">167 (7)</td></tr>\n",
      "<tr>\n",
      "<td colspan=\"4\" style=\"vertical-align: top; text-align: left; white-space: normal; border-style: solid solid solid solid; border-width: 0.8pt 0pt 0pt 0pt;    padding: 6pt 6pt 6pt 6pt; font-weight: normal; font-size: 9pt;\">Mean (sd); n (%)</td></tr>\n",
      "</table>\n"
     ]
    }
   ],
   "source": [
    "#| code-fold: true\n",
    "#| output: asis\n",
    "#| label: tbl-tbl4\n",
    "#| tbl-cap: Descriptive statistics of the `kfm` dataset by sex.\n",
    "R\"\"\"\n",
    "kfm = read_rds(\"data/kfm.rds\")\n",
    "kfm |>\n",
    "  select(-1) |>\n",
    "  cross_tbl(by = \"sex\", method=1)  |>\n",
    "  set_font_size(10) |> theme_pubh(2) |>\n",
    "  add_footnote(\"Mean (sd); n (%)\", font_size = 9) |>\n",
    "  print_html()\n",
    "\"\"\" |> rcopy"
   ]
  },
  {
   "cell_type": "markdown",
   "metadata": {},
   "source": [
    ":::{.callout-note}\n",
    "Package `pubh` takes advantage of labels for tables of descriptive statistics, table of regression coefficients and plots.\n",
    ":::"
   ]
  },
  {
   "cell_type": "code",
   "execution_count": 20,
   "metadata": {},
   "outputs": [
    {
     "name": "stdout",
     "output_type": "stream",
     "text": [
      "<table class=\"huxtable\" data-quarto-disable-processing=\"true\" style=\"border-collapse: collapse; border: 0px; margin-bottom: 2em; margin-top: 2em; ; margin-left: auto; margin-right: auto;  \">\n",
      "<col><col><col><col><tr>\n",
      "<th style=\"vertical-align: top; text-align: center; white-space: normal; border-style: solid solid solid solid; border-width: 0.4pt 0pt 0pt 0pt;    padding: 3pt 6pt 3pt 6pt; font-weight: bold; font-size: 10pt;\"></th><th colspan=\"2\" style=\"vertical-align: top; text-align: center; white-space: normal; border-style: solid solid solid solid; border-width: 0.4pt 0pt 0pt 0pt;    padding: 3pt 6pt 3pt 6pt; font-weight: bold; font-size: 10pt;\"><p><strong>Dichotomous behaviour</strong></p>\n",
      "</th><th style=\"vertical-align: top; text-align: center; white-space: normal; border-style: solid solid solid solid; border-width: 0.4pt 0pt 0pt 0pt;    padding: 3pt 6pt 3pt 6pt; font-weight: bold; font-size: 10pt;\"></th></tr>\n",
      "<tr>\n",
      "<th style=\"vertical-align: top; text-align: left; white-space: normal; border-style: solid solid solid solid; border-width: 0pt 0pt 0.4pt 0pt;    padding: 3pt 6pt 3pt 6pt; font-weight: bold; font-size: 10pt;\"></th><th style=\"vertical-align: top; text-align: right; white-space: normal; border-style: solid solid solid solid; border-width: 0pt 0pt 0.4pt 0pt;    padding: 3pt 6pt 3pt 6pt; font-weight: bold; font-size: 10pt;\"><p><strong>A</strong>, N = 1,589</p>\n",
      "</th><th style=\"vertical-align: top; text-align: right; white-space: normal; border-style: solid solid solid solid; border-width: 0pt 0pt 0.4pt 0pt;    padding: 3pt 6pt 3pt 6pt; font-weight: bold; font-size: 10pt;\"><p><strong>B</strong>, N = 1,565</p>\n",
      "</th><th style=\"vertical-align: top; text-align: right; white-space: normal; border-style: solid solid solid solid; border-width: 0pt 0pt 0.4pt 0pt;    padding: 3pt 6pt 3pt 6pt; font-weight: bold; font-size: 10pt;\"><p><strong>Overall</strong>, N = 3,154</p>\n",
      "</th></tr>\n",
      "<tr>\n",
      "<td style=\"vertical-align: top; text-align: left; white-space: normal; border-style: solid solid solid solid; border-width: 0.4pt 0pt 0pt 0pt;    padding: 3pt 6pt 3pt 6pt; font-weight: bold; font-size: 10pt;\">Age (years)</td><td style=\"vertical-align: top; text-align: right; white-space: normal; border-style: solid solid solid solid; border-width: 0.4pt 0pt 0pt 0pt;    padding: 3pt 6pt 3pt 6pt; font-weight: normal; font-size: 10pt;\">46 (42, 51)</td><td style=\"vertical-align: top; text-align: right; white-space: normal; border-style: solid solid solid solid; border-width: 0.4pt 0pt 0pt 0pt;    padding: 3pt 6pt 3pt 6pt; font-weight: normal; font-size: 10pt;\">45 (41, 49)</td><td style=\"vertical-align: top; text-align: right; white-space: normal; border-style: solid solid solid solid; border-width: 0.4pt 0pt 0pt 0pt;    padding: 3pt 6pt 3pt 6pt; font-weight: normal; font-size: 10pt;\">45 (42, 50)</td></tr>\n",
      "<tr>\n",
      "<td style=\"vertical-align: top; text-align: left; white-space: normal; border-style: solid solid solid solid; border-width: 0pt 0pt 0pt 0pt;    padding: 3pt 6pt 3pt 6pt; font-weight: bold; font-size: 10pt;\">Height (cm)</td><td style=\"vertical-align: top; text-align: right; white-space: normal; border-style: solid solid solid solid; border-width: 0pt 0pt 0pt 0pt;    padding: 3pt 6pt 3pt 6pt; font-weight: normal; font-size: 10pt;\">178 (173, 183)</td><td style=\"vertical-align: top; text-align: right; white-space: normal; border-style: solid solid solid solid; border-width: 0pt 0pt 0pt 0pt;    padding: 3pt 6pt 3pt 6pt; font-weight: normal; font-size: 10pt;\">178 (173, 180)</td><td style=\"vertical-align: top; text-align: right; white-space: normal; border-style: solid solid solid solid; border-width: 0pt 0pt 0pt 0pt;    padding: 3pt 6pt 3pt 6pt; font-weight: normal; font-size: 10pt;\">178 (173, 183)</td></tr>\n",
      "<tr>\n",
      "<td style=\"vertical-align: top; text-align: left; white-space: normal; border-style: solid solid solid solid; border-width: 0pt 0pt 0pt 0pt;    padding: 3pt 6pt 3pt 6pt; font-weight: bold; font-size: 10pt;\">Weight (kg)</td><td style=\"vertical-align: top; text-align: right; white-space: normal; border-style: solid solid solid solid; border-width: 0pt 0pt 0pt 0pt;    padding: 3pt 6pt 3pt 6pt; font-weight: normal; font-size: 10pt;\">77 (72, 83)</td><td style=\"vertical-align: top; text-align: right; white-space: normal; border-style: solid solid solid solid; border-width: 0pt 0pt 0pt 0pt;    padding: 3pt 6pt 3pt 6pt; font-weight: normal; font-size: 10pt;\">76 (70, 82)</td><td style=\"vertical-align: top; text-align: right; white-space: normal; border-style: solid solid solid solid; border-width: 0pt 0pt 0pt 0pt;    padding: 3pt 6pt 3pt 6pt; font-weight: normal; font-size: 10pt;\">77 (70, 83)</td></tr>\n",
      "<tr>\n",
      "<td style=\"vertical-align: top; text-align: left; white-space: normal; border-style: solid solid solid solid; border-width: 0pt 0pt 0pt 0pt;    padding: 3pt 6pt 3pt 6pt; font-weight: bold; font-size: 10pt;\">SBP (mm Hg)</td><td style=\"vertical-align: top; text-align: right; white-space: normal; border-style: solid solid solid solid; border-width: 0pt 0pt 0pt 0pt;    padding: 3pt 6pt 3pt 6pt; font-weight: normal; font-size: 10pt;\">128 (120, 138)</td><td style=\"vertical-align: top; text-align: right; white-space: normal; border-style: solid solid solid solid; border-width: 0pt 0pt 0pt 0pt;    padding: 3pt 6pt 3pt 6pt; font-weight: normal; font-size: 10pt;\">124 (118, 136)</td><td style=\"vertical-align: top; text-align: right; white-space: normal; border-style: solid solid solid solid; border-width: 0pt 0pt 0pt 0pt;    padding: 3pt 6pt 3pt 6pt; font-weight: normal; font-size: 10pt;\">126 (120, 136)</td></tr>\n",
      "<tr>\n",
      "<td style=\"vertical-align: top; text-align: left; white-space: normal; border-style: solid solid solid solid; border-width: 0pt 0pt 0pt 0pt;    padding: 3pt 6pt 3pt 6pt; font-weight: bold; font-size: 10pt;\">DBP (mm Hg)</td><td style=\"vertical-align: top; text-align: right; white-space: normal; border-style: solid solid solid solid; border-width: 0pt 0pt 0pt 0pt;    padding: 3pt 6pt 3pt 6pt; font-weight: normal; font-size: 10pt;\">80 (76, 88)</td><td style=\"vertical-align: top; text-align: right; white-space: normal; border-style: solid solid solid solid; border-width: 0pt 0pt 0pt 0pt;    padding: 3pt 6pt 3pt 6pt; font-weight: normal; font-size: 10pt;\">80 (76, 86)</td><td style=\"vertical-align: top; text-align: right; white-space: normal; border-style: solid solid solid solid; border-width: 0pt 0pt 0pt 0pt;    padding: 3pt 6pt 3pt 6pt; font-weight: normal; font-size: 10pt;\">80 (76, 86)</td></tr>\n",
      "<tr>\n",
      "<td style=\"vertical-align: top; text-align: left; white-space: normal; border-style: solid solid solid solid; border-width: 0pt 0pt 0pt 0pt;    padding: 3pt 6pt 3pt 6pt; font-weight: bold; font-size: 10pt;\">Cholesterol (mg/dl)</td><td style=\"vertical-align: top; text-align: right; white-space: normal; border-style: solid solid solid solid; border-width: 0pt 0pt 0pt 0pt;    padding: 3pt 6pt 3pt 6pt; font-weight: normal; font-size: 10pt;\">226 (200, 256)</td><td style=\"vertical-align: top; text-align: right; white-space: normal; border-style: solid solid solid solid; border-width: 0pt 0pt 0pt 0pt;    padding: 3pt 6pt 3pt 6pt; font-weight: normal; font-size: 10pt;\">221 (195, 251)</td><td style=\"vertical-align: top; text-align: right; white-space: normal; border-style: solid solid solid solid; border-width: 0pt 0pt 0pt 0pt;    padding: 3pt 6pt 3pt 6pt; font-weight: normal; font-size: 10pt;\">223 (197, 253)</td></tr>\n",
      "<tr>\n",
      "<td style=\"vertical-align: top; text-align: left; white-space: normal; border-style: solid solid solid solid; border-width: 0pt 0pt 0pt 0pt;    padding: 3pt 6pt 3pt 15pt; font-weight: normal; font-size: 10pt;\">Unknown</td><td style=\"vertical-align: top; text-align: right; white-space: normal; border-style: solid solid solid solid; border-width: 0pt 0pt 0pt 0pt;    padding: 3pt 6pt 3pt 6pt; font-weight: normal; font-size: 10pt;\">5</td><td style=\"vertical-align: top; text-align: right; white-space: normal; border-style: solid solid solid solid; border-width: 0pt 0pt 0pt 0pt;    padding: 3pt 6pt 3pt 6pt; font-weight: normal; font-size: 10pt;\">7</td><td style=\"vertical-align: top; text-align: right; white-space: normal; border-style: solid solid solid solid; border-width: 0pt 0pt 0pt 0pt;    padding: 3pt 6pt 3pt 6pt; font-weight: normal; font-size: 10pt;\">12</td></tr>\n",
      "<tr>\n",
      "<td style=\"vertical-align: top; text-align: left; white-space: normal; border-style: solid solid solid solid; border-width: 0pt 0pt 0pt 0pt;    padding: 3pt 6pt 3pt 6pt; font-weight: bold; font-size: 10pt;\">Coronary Heart Disease</td><td style=\"vertical-align: top; text-align: right; white-space: normal; border-style: solid solid solid solid; border-width: 0pt 0pt 0pt 0pt;    padding: 3pt 6pt 3pt 6pt; font-weight: normal; font-size: 10pt;\"></td><td style=\"vertical-align: top; text-align: right; white-space: normal; border-style: solid solid solid solid; border-width: 0pt 0pt 0pt 0pt;    padding: 3pt 6pt 3pt 6pt; font-weight: normal; font-size: 10pt;\"></td><td style=\"vertical-align: top; text-align: right; white-space: normal; border-style: solid solid solid solid; border-width: 0pt 0pt 0pt 0pt;    padding: 3pt 6pt 3pt 6pt; font-weight: normal; font-size: 10pt;\"></td></tr>\n",
      "<tr>\n",
      "<td style=\"vertical-align: top; text-align: left; white-space: normal; border-style: solid solid solid solid; border-width: 0pt 0pt 0pt 0pt;    padding: 3pt 6pt 3pt 15pt; font-weight: normal; font-size: 10pt;\">CHD</td><td style=\"vertical-align: top; text-align: right; white-space: normal; border-style: solid solid solid solid; border-width: 0pt 0pt 0pt 0pt;    padding: 3pt 6pt 3pt 6pt; font-weight: normal; font-size: 10pt;\">178 (11%)</td><td style=\"vertical-align: top; text-align: right; white-space: normal; border-style: solid solid solid solid; border-width: 0pt 0pt 0pt 0pt;    padding: 3pt 6pt 3pt 6pt; font-weight: normal; font-size: 10pt;\">79 (5.0%)</td><td style=\"vertical-align: top; text-align: right; white-space: normal; border-style: solid solid solid solid; border-width: 0pt 0pt 0pt 0pt;    padding: 3pt 6pt 3pt 6pt; font-weight: normal; font-size: 10pt;\">257 (8.1%)</td></tr>\n",
      "<tr>\n",
      "<td style=\"vertical-align: top; text-align: left; white-space: normal; border-style: solid solid solid solid; border-width: 0pt 0pt 0pt 0pt;    padding: 3pt 6pt 3pt 15pt; font-weight: normal; font-size: 10pt;\">No CHD</td><td style=\"vertical-align: top; text-align: right; white-space: normal; border-style: solid solid solid solid; border-width: 0pt 0pt 0pt 0pt;    padding: 3pt 6pt 3pt 6pt; font-weight: normal; font-size: 10pt;\">1,411 (89%)</td><td style=\"vertical-align: top; text-align: right; white-space: normal; border-style: solid solid solid solid; border-width: 0pt 0pt 0pt 0pt;    padding: 3pt 6pt 3pt 6pt; font-weight: normal; font-size: 10pt;\">1,486 (95%)</td><td style=\"vertical-align: top; text-align: right; white-space: normal; border-style: solid solid solid solid; border-width: 0pt 0pt 0pt 0pt;    padding: 3pt 6pt 3pt 6pt; font-weight: normal; font-size: 10pt;\">2,897 (92%)</td></tr>\n",
      "<tr>\n",
      "<td style=\"vertical-align: top; text-align: left; white-space: normal; border-style: solid solid solid solid; border-width: 0pt 0pt 0pt 0pt;    padding: 3pt 6pt 3pt 6pt; font-weight: bold; font-size: 10pt;\">Type of CHD</td><td style=\"vertical-align: top; text-align: right; white-space: normal; border-style: solid solid solid solid; border-width: 0pt 0pt 0pt 0pt;    padding: 3pt 6pt 3pt 6pt; font-weight: normal; font-size: 10pt;\"></td><td style=\"vertical-align: top; text-align: right; white-space: normal; border-style: solid solid solid solid; border-width: 0pt 0pt 0pt 0pt;    padding: 3pt 6pt 3pt 6pt; font-weight: normal; font-size: 10pt;\"></td><td style=\"vertical-align: top; text-align: right; white-space: normal; border-style: solid solid solid solid; border-width: 0pt 0pt 0pt 0pt;    padding: 3pt 6pt 3pt 6pt; font-weight: normal; font-size: 10pt;\"></td></tr>\n",
      "<tr>\n",
      "<td style=\"vertical-align: top; text-align: left; white-space: normal; border-style: solid solid solid solid; border-width: 0pt 0pt 0pt 0pt;    padding: 3pt 6pt 3pt 15pt; font-weight: normal; font-size: 10pt;\">No CHD</td><td style=\"vertical-align: top; text-align: right; white-space: normal; border-style: solid solid solid solid; border-width: 0pt 0pt 0pt 0pt;    padding: 3pt 6pt 3pt 6pt; font-weight: normal; font-size: 10pt;\">1,411 (89%)</td><td style=\"vertical-align: top; text-align: right; white-space: normal; border-style: solid solid solid solid; border-width: 0pt 0pt 0pt 0pt;    padding: 3pt 6pt 3pt 6pt; font-weight: normal; font-size: 10pt;\">1,486 (95%)</td><td style=\"vertical-align: top; text-align: right; white-space: normal; border-style: solid solid solid solid; border-width: 0pt 0pt 0pt 0pt;    padding: 3pt 6pt 3pt 6pt; font-weight: normal; font-size: 10pt;\">2,897 (92%)</td></tr>\n",
      "<tr>\n",
      "<td style=\"vertical-align: top; text-align: left; white-space: normal; border-style: solid solid solid solid; border-width: 0pt 0pt 0pt 0pt;    padding: 3pt 6pt 3pt 15pt; font-weight: normal; font-size: 10pt;\">MI or SD</td><td style=\"vertical-align: top; text-align: right; white-space: normal; border-style: solid solid solid solid; border-width: 0pt 0pt 0pt 0pt;    padding: 3pt 6pt 3pt 6pt; font-weight: normal; font-size: 10pt;\">93 (5.9%)</td><td style=\"vertical-align: top; text-align: right; white-space: normal; border-style: solid solid solid solid; border-width: 0pt 0pt 0pt 0pt;    padding: 3pt 6pt 3pt 6pt; font-weight: normal; font-size: 10pt;\">42 (2.7%)</td><td style=\"vertical-align: top; text-align: right; white-space: normal; border-style: solid solid solid solid; border-width: 0pt 0pt 0pt 0pt;    padding: 3pt 6pt 3pt 6pt; font-weight: normal; font-size: 10pt;\">135 (4.3%)</td></tr>\n",
      "<tr>\n",
      "<td style=\"vertical-align: top; text-align: left; white-space: normal; border-style: solid solid solid solid; border-width: 0pt 0pt 0pt 0pt;    padding: 3pt 6pt 3pt 15pt; font-weight: normal; font-size: 10pt;\">Angina</td><td style=\"vertical-align: top; text-align: right; white-space: normal; border-style: solid solid solid solid; border-width: 0pt 0pt 0pt 0pt;    padding: 3pt 6pt 3pt 6pt; font-weight: normal; font-size: 10pt;\">48 (3.0%)</td><td style=\"vertical-align: top; text-align: right; white-space: normal; border-style: solid solid solid solid; border-width: 0pt 0pt 0pt 0pt;    padding: 3pt 6pt 3pt 6pt; font-weight: normal; font-size: 10pt;\">23 (1.5%)</td><td style=\"vertical-align: top; text-align: right; white-space: normal; border-style: solid solid solid solid; border-width: 0pt 0pt 0pt 0pt;    padding: 3pt 6pt 3pt 6pt; font-weight: normal; font-size: 10pt;\">71 (2.3%)</td></tr>\n",
      "<tr>\n",
      "<td style=\"vertical-align: top; text-align: left; white-space: normal; border-style: solid solid solid solid; border-width: 0pt 0pt 0pt 0pt;    padding: 3pt 6pt 3pt 15pt; font-weight: normal; font-size: 10pt;\">Silent MI</td><td style=\"vertical-align: top; text-align: right; white-space: normal; border-style: solid solid solid solid; border-width: 0pt 0pt 0pt 0pt;    padding: 3pt 6pt 3pt 6pt; font-weight: normal; font-size: 10pt;\">37 (2.3%)</td><td style=\"vertical-align: top; text-align: right; white-space: normal; border-style: solid solid solid solid; border-width: 0pt 0pt 0pt 0pt;    padding: 3pt 6pt 3pt 6pt; font-weight: normal; font-size: 10pt;\">14 (0.9%)</td><td style=\"vertical-align: top; text-align: right; white-space: normal; border-style: solid solid solid solid; border-width: 0pt 0pt 0pt 0pt;    padding: 3pt 6pt 3pt 6pt; font-weight: normal; font-size: 10pt;\">51 (1.6%)</td></tr>\n",
      "<tr>\n",
      "<td style=\"vertical-align: top; text-align: left; white-space: normal; border-style: solid solid solid solid; border-width: 0pt 0pt 0pt 0pt;    padding: 3pt 6pt 3pt 6pt; font-weight: bold; font-size: 10pt;\">Corneal arcus</td><td style=\"vertical-align: top; text-align: right; white-space: normal; border-style: solid solid solid solid; border-width: 0pt 0pt 0pt 0pt;    padding: 3pt 6pt 3pt 6pt; font-weight: normal; font-size: 10pt;\"></td><td style=\"vertical-align: top; text-align: right; white-space: normal; border-style: solid solid solid solid; border-width: 0pt 0pt 0pt 0pt;    padding: 3pt 6pt 3pt 6pt; font-weight: normal; font-size: 10pt;\"></td><td style=\"vertical-align: top; text-align: right; white-space: normal; border-style: solid solid solid solid; border-width: 0pt 0pt 0pt 0pt;    padding: 3pt 6pt 3pt 6pt; font-weight: normal; font-size: 10pt;\"></td></tr>\n",
      "<tr>\n",
      "<td style=\"vertical-align: top; text-align: left; white-space: normal; border-style: solid solid solid solid; border-width: 0pt 0pt 0pt 0pt;    padding: 3pt 6pt 3pt 15pt; font-weight: normal; font-size: 10pt;\">Present</td><td style=\"vertical-align: top; text-align: right; white-space: normal; border-style: solid solid solid solid; border-width: 0pt 0pt 0pt 0pt;    padding: 3pt 6pt 3pt 6pt; font-weight: normal; font-size: 10pt;\">506 (32%)</td><td style=\"vertical-align: top; text-align: right; white-space: normal; border-style: solid solid solid solid; border-width: 0pt 0pt 0pt 0pt;    padding: 3pt 6pt 3pt 6pt; font-weight: normal; font-size: 10pt;\">435 (28%)</td><td style=\"vertical-align: top; text-align: right; white-space: normal; border-style: solid solid solid solid; border-width: 0pt 0pt 0pt 0pt;    padding: 3pt 6pt 3pt 6pt; font-weight: normal; font-size: 10pt;\">941 (30%)</td></tr>\n",
      "<tr>\n",
      "<td style=\"vertical-align: top; text-align: left; white-space: normal; border-style: solid solid solid solid; border-width: 0pt 0pt 0pt 0pt;    padding: 3pt 6pt 3pt 15pt; font-weight: normal; font-size: 10pt;\">Absent</td><td style=\"vertical-align: top; text-align: right; white-space: normal; border-style: solid solid solid solid; border-width: 0pt 0pt 0pt 0pt;    padding: 3pt 6pt 3pt 6pt; font-weight: normal; font-size: 10pt;\">1,082 (68%)</td><td style=\"vertical-align: top; text-align: right; white-space: normal; border-style: solid solid solid solid; border-width: 0pt 0pt 0pt 0pt;    padding: 3pt 6pt 3pt 6pt; font-weight: normal; font-size: 10pt;\">1,129 (72%)</td><td style=\"vertical-align: top; text-align: right; white-space: normal; border-style: solid solid solid solid; border-width: 0pt 0pt 0pt 0pt;    padding: 3pt 6pt 3pt 6pt; font-weight: normal; font-size: 10pt;\">2,211 (70%)</td></tr>\n",
      "<tr>\n",
      "<td style=\"vertical-align: top; text-align: left; white-space: normal; border-style: solid solid solid solid; border-width: 0pt 0pt 0pt 0pt;    padding: 3pt 6pt 3pt 15pt; font-weight: normal; font-size: 10pt;\">Unknown</td><td style=\"vertical-align: top; text-align: right; white-space: normal; border-style: solid solid solid solid; border-width: 0pt 0pt 0pt 0pt;    padding: 3pt 6pt 3pt 6pt; font-weight: normal; font-size: 10pt;\">1</td><td style=\"vertical-align: top; text-align: right; white-space: normal; border-style: solid solid solid solid; border-width: 0pt 0pt 0pt 0pt;    padding: 3pt 6pt 3pt 6pt; font-weight: normal; font-size: 10pt;\">1</td><td style=\"vertical-align: top; text-align: right; white-space: normal; border-style: solid solid solid solid; border-width: 0pt 0pt 0pt 0pt;    padding: 3pt 6pt 3pt 6pt; font-weight: normal; font-size: 10pt;\">2</td></tr>\n",
      "<tr>\n",
      "<td style=\"vertical-align: top; text-align: left; white-space: normal; border-style: solid solid solid solid; border-width: 0pt 0pt 0pt 0pt;    padding: 3pt 6pt 3pt 6pt; font-weight: bold; font-size: 10pt;\">Smoking status</td><td style=\"vertical-align: top; text-align: right; white-space: normal; border-style: solid solid solid solid; border-width: 0pt 0pt 0pt 0pt;    padding: 3pt 6pt 3pt 6pt; font-weight: normal; font-size: 10pt;\"></td><td style=\"vertical-align: top; text-align: right; white-space: normal; border-style: solid solid solid solid; border-width: 0pt 0pt 0pt 0pt;    padding: 3pt 6pt 3pt 6pt; font-weight: normal; font-size: 10pt;\"></td><td style=\"vertical-align: top; text-align: right; white-space: normal; border-style: solid solid solid solid; border-width: 0pt 0pt 0pt 0pt;    padding: 3pt 6pt 3pt 6pt; font-weight: normal; font-size: 10pt;\"></td></tr>\n",
      "<tr>\n",
      "<td style=\"vertical-align: top; text-align: left; white-space: normal; border-style: solid solid solid solid; border-width: 0pt 0pt 0pt 0pt;    padding: 3pt 6pt 3pt 15pt; font-weight: normal; font-size: 10pt;\">Smoker</td><td style=\"vertical-align: top; text-align: right; white-space: normal; border-style: solid solid solid solid; border-width: 0pt 0pt 0pt 0pt;    padding: 3pt 6pt 3pt 6pt; font-weight: normal; font-size: 10pt;\">805 (51%)</td><td style=\"vertical-align: top; text-align: right; white-space: normal; border-style: solid solid solid solid; border-width: 0pt 0pt 0pt 0pt;    padding: 3pt 6pt 3pt 6pt; font-weight: normal; font-size: 10pt;\">697 (45%)</td><td style=\"vertical-align: top; text-align: right; white-space: normal; border-style: solid solid solid solid; border-width: 0pt 0pt 0pt 0pt;    padding: 3pt 6pt 3pt 6pt; font-weight: normal; font-size: 10pt;\">1,502 (48%)</td></tr>\n",
      "<tr>\n",
      "<td style=\"vertical-align: top; text-align: left; white-space: normal; border-style: solid solid solid solid; border-width: 0pt 0pt 0.8pt 0pt;    padding: 3pt 6pt 3pt 15pt; font-weight: normal; font-size: 10pt;\">Non-Smoker</td><td style=\"vertical-align: top; text-align: right; white-space: normal; border-style: solid solid solid solid; border-width: 0pt 0pt 0.8pt 0pt;    padding: 3pt 6pt 3pt 6pt; font-weight: normal; font-size: 10pt;\">784 (49%)</td><td style=\"vertical-align: top; text-align: right; white-space: normal; border-style: solid solid solid solid; border-width: 0pt 0pt 0.8pt 0pt;    padding: 3pt 6pt 3pt 6pt; font-weight: normal; font-size: 10pt;\">868 (55%)</td><td style=\"vertical-align: top; text-align: right; white-space: normal; border-style: solid solid solid solid; border-width: 0pt 0pt 0.8pt 0pt;    padding: 3pt 6pt 3pt 6pt; font-weight: normal; font-size: 10pt;\">1,652 (52%)</td></tr>\n",
      "<tr>\n",
      "<td colspan=\"4\" style=\"vertical-align: top; text-align: left; white-space: normal; border-style: solid solid solid solid; border-width: 0.8pt 0pt 0pt 0pt;    padding: 6pt 6pt 6pt 6pt; font-weight: normal; font-size: 9pt;\">n (%); Median (IQR)</td></tr>\n",
      "</table>\n"
     ]
    }
   ],
   "source": [
    "#| code-fold: true\n",
    "#| output: asis\n",
    "#| label: tbl-tbl5\n",
    "#| tbl-cap: Descriptive statistics of the WCGS dataset by behaviour pattern.\n",
    "R\"\"\"\n",
    "wcgs = read_rds(\"data/wcgs.rds\")\n",
    "wcgs |>\n",
    "  select(-c(id, beh_pat, ncigs, time)) |>\n",
    "  mutate(\n",
    "    chd = relevel(chd, ref = \"CHD\"),\n",
    "    arcus = relevel(arcus, ref = \"Present\"),\n",
    "    smoker = relevel(smoker, ref = \"Smoker\")\n",
    "  ) |>\n",
    "  copy_labels(wcgs) |>\n",
    "  cross_tbl(by = \"dib_pat\") |> \n",
    "  theme_pubh(2) |>\n",
    "  set_font_size(10) |>\n",
    "  add_footnote(\"n (%); Median (IQR)\", font_size = 9) |>\n",
    "  print_html()\n",
    "\"\"\" |> rcopy"
   ]
  }
 ],
 "metadata": {
  "kernelspec": {
   "display_name": "Julia 1.10.0",
   "language": "julia",
   "name": "julia-1.10"
  },
  "language_info": {
   "file_extension": ".jl",
   "mimetype": "application/julia",
   "name": "julia",
   "version": "1.10.0"
  }
 },
 "nbformat": 4,
 "nbformat_minor": 4
}
