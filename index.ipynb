{
  "cells": [
    {
      "cell_type": "markdown",
      "metadata": {},
      "source": [
        "# Preface {.unnumbered}\n",
        "\n",
        "My dad once dropped some wisdom on me about leaving a legacy. He said there were three key things I should do:\n",
        "\n",
        "1. Plant a seed and watch it grow into a beautiful tree.\n",
        "2. Get creative and do something awesome, like writing a book (or anything else you're passionate about).\n",
        "3. Have some kiddos of your own.\n",
        "\n",
        "When I was a wee little one, I planted a peach seed. Believe it or not, that peach tree is still standing strong in my parents' backyard.\n",
        "\n",
        "Oh, and guess what? I ended up having two amazing kids of my own!\n",
        "\n",
        "And as for the book, this one ticks off that second point on my dad's legacy list."
      ]
    },
    {
      "cell_type": "markdown",
      "metadata": {},
      "source": [
        "I use the following `callouts` from *Quarto* for my notes:"
      ]
    },
    {
      "cell_type": "markdown",
      "metadata": {},
      "source": [
        "Block | `callout`\n",
        "---|---\n",
        "Answer | *note*\n",
        "Example | *tip*\n",
        "Exercise | *caution*\n",
        "Interpretation | *important*\n",
        "Question | *warning*\n"
      ]
    }
  ],
  "metadata": {
    "kernelspec": {
      "display_name": "Python 3 (ipykernel)",
      "language": "python",
      "name": "python3"
    }
  },
  "nbformat": 4,
  "nbformat_minor": 4
}
